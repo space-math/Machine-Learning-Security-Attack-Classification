{
  "cells": [
    {
      "cell_type": "markdown",
      "source": [
        "# Load CICIDS2017 Dataset"
      ],
      "metadata": {
        "id": "kxifdc9Nz5sR"
      },
      "id": "kxifdc9Nz5sR"
    },
    {
      "cell_type": "code",
      "execution_count": null,
      "id": "Dm0mJIzyKhTO",
      "metadata": {
        "colab": {
          "base_uri": "https://localhost:8080/"
        },
        "id": "Dm0mJIzyKhTO",
        "outputId": "72707d5e-3099-400d-bd49-0c83b9f56bb1"
      },
      "outputs": [
        {
          "output_type": "stream",
          "name": "stdout",
          "text": [
            "Mounted at /content/drive\n"
          ]
        }
      ],
      "source": [
        "from google.colab import drive\n",
        "drive.mount('/content/drive')"
      ]
    },
    {
      "cell_type": "code",
      "source": [
        "import pandas as pd\n",
        "\n",
        "def load_ids_data():\n",
        "    return pd.read_csv(\"/content/drive/MyDrive/Friday-WorkingHours-Afternoon-DDos.pcap_ISCX.csv\")\n",
        "\n",
        "ids = load_ids_data()\n",
        "ids.head()"
      ],
      "metadata": {
        "id": "kUZXAJq30F2g",
        "colab": {
          "base_uri": "https://localhost:8080/",
          "height": 464
        },
        "outputId": "2699397d-6692-4f60-ed74-b86ba88a345f"
      },
      "id": "kUZXAJq30F2g",
      "execution_count": null,
      "outputs": [
        {
          "output_type": "execute_result",
          "data": {
            "text/plain": [
              "                                   Flow ID       Source IP   Source Port  \\\n",
              "0  192.168.10.5-104.16.207.165-54865-443-6  104.16.207.165           443   \n",
              "1    192.168.10.5-104.16.28.216-55054-80-6   104.16.28.216            80   \n",
              "2    192.168.10.5-104.16.28.216-55055-80-6   104.16.28.216            80   \n",
              "3  192.168.10.16-104.17.241.25-46236-443-6   104.17.241.25           443   \n",
              "4  192.168.10.5-104.19.196.102-54863-443-6  104.19.196.102           443   \n",
              "\n",
              "   Destination IP   Destination Port   Protocol        Timestamp  \\\n",
              "0    192.168.10.5              54865          6  07/07/2017 3:30   \n",
              "1    192.168.10.5              55054          6  07/07/2017 3:30   \n",
              "2    192.168.10.5              55055          6  07/07/2017 3:30   \n",
              "3   192.168.10.16              46236          6  07/07/2017 3:30   \n",
              "4    192.168.10.5              54863          6  07/07/2017 3:30   \n",
              "\n",
              "    Flow Duration   Total Fwd Packets   Total Backward Packets  ...  \\\n",
              "0               3                   2                        0  ...   \n",
              "1             109                   1                        1  ...   \n",
              "2              52                   1                        1  ...   \n",
              "3              34                   1                        1  ...   \n",
              "4               3                   2                        0  ...   \n",
              "\n",
              "    min_seg_size_forward  Active Mean   Active Std   Active Max   Active Min  \\\n",
              "0                     20          0.0          0.0          0.0          0.0   \n",
              "1                     20          0.0          0.0          0.0          0.0   \n",
              "2                     20          0.0          0.0          0.0          0.0   \n",
              "3                     20          0.0          0.0          0.0          0.0   \n",
              "4                     20          0.0          0.0          0.0          0.0   \n",
              "\n",
              "   Idle Mean   Idle Std   Idle Max   Idle Min   Label  \n",
              "0        0.0        0.0        0.0        0.0  BENIGN  \n",
              "1        0.0        0.0        0.0        0.0  BENIGN  \n",
              "2        0.0        0.0        0.0        0.0  BENIGN  \n",
              "3        0.0        0.0        0.0        0.0  BENIGN  \n",
              "4        0.0        0.0        0.0        0.0  BENIGN  \n",
              "\n",
              "[5 rows x 85 columns]"
            ],
            "text/html": [
              "\n",
              "  <div id=\"df-070fb550-9ec6-4a09-8602-0758acd85189\" class=\"colab-df-container\">\n",
              "    <div>\n",
              "<style scoped>\n",
              "    .dataframe tbody tr th:only-of-type {\n",
              "        vertical-align: middle;\n",
              "    }\n",
              "\n",
              "    .dataframe tbody tr th {\n",
              "        vertical-align: top;\n",
              "    }\n",
              "\n",
              "    .dataframe thead th {\n",
              "        text-align: right;\n",
              "    }\n",
              "</style>\n",
              "<table border=\"1\" class=\"dataframe\">\n",
              "  <thead>\n",
              "    <tr style=\"text-align: right;\">\n",
              "      <th></th>\n",
              "      <th>Flow ID</th>\n",
              "      <th>Source IP</th>\n",
              "      <th>Source Port</th>\n",
              "      <th>Destination IP</th>\n",
              "      <th>Destination Port</th>\n",
              "      <th>Protocol</th>\n",
              "      <th>Timestamp</th>\n",
              "      <th>Flow Duration</th>\n",
              "      <th>Total Fwd Packets</th>\n",
              "      <th>Total Backward Packets</th>\n",
              "      <th>...</th>\n",
              "      <th>min_seg_size_forward</th>\n",
              "      <th>Active Mean</th>\n",
              "      <th>Active Std</th>\n",
              "      <th>Active Max</th>\n",
              "      <th>Active Min</th>\n",
              "      <th>Idle Mean</th>\n",
              "      <th>Idle Std</th>\n",
              "      <th>Idle Max</th>\n",
              "      <th>Idle Min</th>\n",
              "      <th>Label</th>\n",
              "    </tr>\n",
              "  </thead>\n",
              "  <tbody>\n",
              "    <tr>\n",
              "      <th>0</th>\n",
              "      <td>192.168.10.5-104.16.207.165-54865-443-6</td>\n",
              "      <td>104.16.207.165</td>\n",
              "      <td>443</td>\n",
              "      <td>192.168.10.5</td>\n",
              "      <td>54865</td>\n",
              "      <td>6</td>\n",
              "      <td>07/07/2017 3:30</td>\n",
              "      <td>3</td>\n",
              "      <td>2</td>\n",
              "      <td>0</td>\n",
              "      <td>...</td>\n",
              "      <td>20</td>\n",
              "      <td>0.0</td>\n",
              "      <td>0.0</td>\n",
              "      <td>0.0</td>\n",
              "      <td>0.0</td>\n",
              "      <td>0.0</td>\n",
              "      <td>0.0</td>\n",
              "      <td>0.0</td>\n",
              "      <td>0.0</td>\n",
              "      <td>BENIGN</td>\n",
              "    </tr>\n",
              "    <tr>\n",
              "      <th>1</th>\n",
              "      <td>192.168.10.5-104.16.28.216-55054-80-6</td>\n",
              "      <td>104.16.28.216</td>\n",
              "      <td>80</td>\n",
              "      <td>192.168.10.5</td>\n",
              "      <td>55054</td>\n",
              "      <td>6</td>\n",
              "      <td>07/07/2017 3:30</td>\n",
              "      <td>109</td>\n",
              "      <td>1</td>\n",
              "      <td>1</td>\n",
              "      <td>...</td>\n",
              "      <td>20</td>\n",
              "      <td>0.0</td>\n",
              "      <td>0.0</td>\n",
              "      <td>0.0</td>\n",
              "      <td>0.0</td>\n",
              "      <td>0.0</td>\n",
              "      <td>0.0</td>\n",
              "      <td>0.0</td>\n",
              "      <td>0.0</td>\n",
              "      <td>BENIGN</td>\n",
              "    </tr>\n",
              "    <tr>\n",
              "      <th>2</th>\n",
              "      <td>192.168.10.5-104.16.28.216-55055-80-6</td>\n",
              "      <td>104.16.28.216</td>\n",
              "      <td>80</td>\n",
              "      <td>192.168.10.5</td>\n",
              "      <td>55055</td>\n",
              "      <td>6</td>\n",
              "      <td>07/07/2017 3:30</td>\n",
              "      <td>52</td>\n",
              "      <td>1</td>\n",
              "      <td>1</td>\n",
              "      <td>...</td>\n",
              "      <td>20</td>\n",
              "      <td>0.0</td>\n",
              "      <td>0.0</td>\n",
              "      <td>0.0</td>\n",
              "      <td>0.0</td>\n",
              "      <td>0.0</td>\n",
              "      <td>0.0</td>\n",
              "      <td>0.0</td>\n",
              "      <td>0.0</td>\n",
              "      <td>BENIGN</td>\n",
              "    </tr>\n",
              "    <tr>\n",
              "      <th>3</th>\n",
              "      <td>192.168.10.16-104.17.241.25-46236-443-6</td>\n",
              "      <td>104.17.241.25</td>\n",
              "      <td>443</td>\n",
              "      <td>192.168.10.16</td>\n",
              "      <td>46236</td>\n",
              "      <td>6</td>\n",
              "      <td>07/07/2017 3:30</td>\n",
              "      <td>34</td>\n",
              "      <td>1</td>\n",
              "      <td>1</td>\n",
              "      <td>...</td>\n",
              "      <td>20</td>\n",
              "      <td>0.0</td>\n",
              "      <td>0.0</td>\n",
              "      <td>0.0</td>\n",
              "      <td>0.0</td>\n",
              "      <td>0.0</td>\n",
              "      <td>0.0</td>\n",
              "      <td>0.0</td>\n",
              "      <td>0.0</td>\n",
              "      <td>BENIGN</td>\n",
              "    </tr>\n",
              "    <tr>\n",
              "      <th>4</th>\n",
              "      <td>192.168.10.5-104.19.196.102-54863-443-6</td>\n",
              "      <td>104.19.196.102</td>\n",
              "      <td>443</td>\n",
              "      <td>192.168.10.5</td>\n",
              "      <td>54863</td>\n",
              "      <td>6</td>\n",
              "      <td>07/07/2017 3:30</td>\n",
              "      <td>3</td>\n",
              "      <td>2</td>\n",
              "      <td>0</td>\n",
              "      <td>...</td>\n",
              "      <td>20</td>\n",
              "      <td>0.0</td>\n",
              "      <td>0.0</td>\n",
              "      <td>0.0</td>\n",
              "      <td>0.0</td>\n",
              "      <td>0.0</td>\n",
              "      <td>0.0</td>\n",
              "      <td>0.0</td>\n",
              "      <td>0.0</td>\n",
              "      <td>BENIGN</td>\n",
              "    </tr>\n",
              "  </tbody>\n",
              "</table>\n",
              "<p>5 rows × 85 columns</p>\n",
              "</div>\n",
              "    <div class=\"colab-df-buttons\">\n",
              "\n",
              "  <div class=\"colab-df-container\">\n",
              "    <button class=\"colab-df-convert\" onclick=\"convertToInteractive('df-070fb550-9ec6-4a09-8602-0758acd85189')\"\n",
              "            title=\"Convert this dataframe to an interactive table.\"\n",
              "            style=\"display:none;\">\n",
              "\n",
              "  <svg xmlns=\"http://www.w3.org/2000/svg\" height=\"24px\" viewBox=\"0 -960 960 960\">\n",
              "    <path d=\"M120-120v-720h720v720H120Zm60-500h600v-160H180v160Zm220 220h160v-160H400v160Zm0 220h160v-160H400v160ZM180-400h160v-160H180v160Zm440 0h160v-160H620v160ZM180-180h160v-160H180v160Zm440 0h160v-160H620v160Z\"/>\n",
              "  </svg>\n",
              "    </button>\n",
              "\n",
              "  <style>\n",
              "    .colab-df-container {\n",
              "      display:flex;\n",
              "      gap: 12px;\n",
              "    }\n",
              "\n",
              "    .colab-df-convert {\n",
              "      background-color: #E8F0FE;\n",
              "      border: none;\n",
              "      border-radius: 50%;\n",
              "      cursor: pointer;\n",
              "      display: none;\n",
              "      fill: #1967D2;\n",
              "      height: 32px;\n",
              "      padding: 0 0 0 0;\n",
              "      width: 32px;\n",
              "    }\n",
              "\n",
              "    .colab-df-convert:hover {\n",
              "      background-color: #E2EBFA;\n",
              "      box-shadow: 0px 1px 2px rgba(60, 64, 67, 0.3), 0px 1px 3px 1px rgba(60, 64, 67, 0.15);\n",
              "      fill: #174EA6;\n",
              "    }\n",
              "\n",
              "    .colab-df-buttons div {\n",
              "      margin-bottom: 4px;\n",
              "    }\n",
              "\n",
              "    [theme=dark] .colab-df-convert {\n",
              "      background-color: #3B4455;\n",
              "      fill: #D2E3FC;\n",
              "    }\n",
              "\n",
              "    [theme=dark] .colab-df-convert:hover {\n",
              "      background-color: #434B5C;\n",
              "      box-shadow: 0px 1px 3px 1px rgba(0, 0, 0, 0.15);\n",
              "      filter: drop-shadow(0px 1px 2px rgba(0, 0, 0, 0.3));\n",
              "      fill: #FFFFFF;\n",
              "    }\n",
              "  </style>\n",
              "\n",
              "    <script>\n",
              "      const buttonEl =\n",
              "        document.querySelector('#df-070fb550-9ec6-4a09-8602-0758acd85189 button.colab-df-convert');\n",
              "      buttonEl.style.display =\n",
              "        google.colab.kernel.accessAllowed ? 'block' : 'none';\n",
              "\n",
              "      async function convertToInteractive(key) {\n",
              "        const element = document.querySelector('#df-070fb550-9ec6-4a09-8602-0758acd85189');\n",
              "        const dataTable =\n",
              "          await google.colab.kernel.invokeFunction('convertToInteractive',\n",
              "                                                    [key], {});\n",
              "        if (!dataTable) return;\n",
              "\n",
              "        const docLinkHtml = 'Like what you see? Visit the ' +\n",
              "          '<a target=\"_blank\" href=https://colab.research.google.com/notebooks/data_table.ipynb>data table notebook</a>'\n",
              "          + ' to learn more about interactive tables.';\n",
              "        element.innerHTML = '';\n",
              "        dataTable['output_type'] = 'display_data';\n",
              "        await google.colab.output.renderOutput(dataTable, element);\n",
              "        const docLink = document.createElement('div');\n",
              "        docLink.innerHTML = docLinkHtml;\n",
              "        element.appendChild(docLink);\n",
              "      }\n",
              "    </script>\n",
              "  </div>\n",
              "\n",
              "\n",
              "<div id=\"df-b5c18437-40c3-4dc5-b6be-5452ec57d423\">\n",
              "  <button class=\"colab-df-quickchart\" onclick=\"quickchart('df-b5c18437-40c3-4dc5-b6be-5452ec57d423')\"\n",
              "            title=\"Suggest charts\"\n",
              "            style=\"display:none;\">\n",
              "\n",
              "<svg xmlns=\"http://www.w3.org/2000/svg\" height=\"24px\"viewBox=\"0 0 24 24\"\n",
              "     width=\"24px\">\n",
              "    <g>\n",
              "        <path d=\"M19 3H5c-1.1 0-2 .9-2 2v14c0 1.1.9 2 2 2h14c1.1 0 2-.9 2-2V5c0-1.1-.9-2-2-2zM9 17H7v-7h2v7zm4 0h-2V7h2v10zm4 0h-2v-4h2v4z\"/>\n",
              "    </g>\n",
              "</svg>\n",
              "  </button>\n",
              "\n",
              "<style>\n",
              "  .colab-df-quickchart {\n",
              "      --bg-color: #E8F0FE;\n",
              "      --fill-color: #1967D2;\n",
              "      --hover-bg-color: #E2EBFA;\n",
              "      --hover-fill-color: #174EA6;\n",
              "      --disabled-fill-color: #AAA;\n",
              "      --disabled-bg-color: #DDD;\n",
              "  }\n",
              "\n",
              "  [theme=dark] .colab-df-quickchart {\n",
              "      --bg-color: #3B4455;\n",
              "      --fill-color: #D2E3FC;\n",
              "      --hover-bg-color: #434B5C;\n",
              "      --hover-fill-color: #FFFFFF;\n",
              "      --disabled-bg-color: #3B4455;\n",
              "      --disabled-fill-color: #666;\n",
              "  }\n",
              "\n",
              "  .colab-df-quickchart {\n",
              "    background-color: var(--bg-color);\n",
              "    border: none;\n",
              "    border-radius: 50%;\n",
              "    cursor: pointer;\n",
              "    display: none;\n",
              "    fill: var(--fill-color);\n",
              "    height: 32px;\n",
              "    padding: 0;\n",
              "    width: 32px;\n",
              "  }\n",
              "\n",
              "  .colab-df-quickchart:hover {\n",
              "    background-color: var(--hover-bg-color);\n",
              "    box-shadow: 0 1px 2px rgba(60, 64, 67, 0.3), 0 1px 3px 1px rgba(60, 64, 67, 0.15);\n",
              "    fill: var(--button-hover-fill-color);\n",
              "  }\n",
              "\n",
              "  .colab-df-quickchart-complete:disabled,\n",
              "  .colab-df-quickchart-complete:disabled:hover {\n",
              "    background-color: var(--disabled-bg-color);\n",
              "    fill: var(--disabled-fill-color);\n",
              "    box-shadow: none;\n",
              "  }\n",
              "\n",
              "  .colab-df-spinner {\n",
              "    border: 2px solid var(--fill-color);\n",
              "    border-color: transparent;\n",
              "    border-bottom-color: var(--fill-color);\n",
              "    animation:\n",
              "      spin 1s steps(1) infinite;\n",
              "  }\n",
              "\n",
              "  @keyframes spin {\n",
              "    0% {\n",
              "      border-color: transparent;\n",
              "      border-bottom-color: var(--fill-color);\n",
              "      border-left-color: var(--fill-color);\n",
              "    }\n",
              "    20% {\n",
              "      border-color: transparent;\n",
              "      border-left-color: var(--fill-color);\n",
              "      border-top-color: var(--fill-color);\n",
              "    }\n",
              "    30% {\n",
              "      border-color: transparent;\n",
              "      border-left-color: var(--fill-color);\n",
              "      border-top-color: var(--fill-color);\n",
              "      border-right-color: var(--fill-color);\n",
              "    }\n",
              "    40% {\n",
              "      border-color: transparent;\n",
              "      border-right-color: var(--fill-color);\n",
              "      border-top-color: var(--fill-color);\n",
              "    }\n",
              "    60% {\n",
              "      border-color: transparent;\n",
              "      border-right-color: var(--fill-color);\n",
              "    }\n",
              "    80% {\n",
              "      border-color: transparent;\n",
              "      border-right-color: var(--fill-color);\n",
              "      border-bottom-color: var(--fill-color);\n",
              "    }\n",
              "    90% {\n",
              "      border-color: transparent;\n",
              "      border-bottom-color: var(--fill-color);\n",
              "    }\n",
              "  }\n",
              "</style>\n",
              "\n",
              "  <script>\n",
              "    async function quickchart(key) {\n",
              "      const quickchartButtonEl =\n",
              "        document.querySelector('#' + key + ' button');\n",
              "      quickchartButtonEl.disabled = true;  // To prevent multiple clicks.\n",
              "      quickchartButtonEl.classList.add('colab-df-spinner');\n",
              "      try {\n",
              "        const charts = await google.colab.kernel.invokeFunction(\n",
              "            'suggestCharts', [key], {});\n",
              "      } catch (error) {\n",
              "        console.error('Error during call to suggestCharts:', error);\n",
              "      }\n",
              "      quickchartButtonEl.classList.remove('colab-df-spinner');\n",
              "      quickchartButtonEl.classList.add('colab-df-quickchart-complete');\n",
              "    }\n",
              "    (() => {\n",
              "      let quickchartButtonEl =\n",
              "        document.querySelector('#df-b5c18437-40c3-4dc5-b6be-5452ec57d423 button');\n",
              "      quickchartButtonEl.style.display =\n",
              "        google.colab.kernel.accessAllowed ? 'block' : 'none';\n",
              "    })();\n",
              "  </script>\n",
              "</div>\n",
              "\n",
              "    </div>\n",
              "  </div>\n"
            ],
            "application/vnd.google.colaboratory.intrinsic+json": {
              "type": "dataframe",
              "variable_name": "ids"
            }
          },
          "metadata": {},
          "execution_count": 2
        }
      ]
    },
    {
      "cell_type": "markdown",
      "id": "9dda1cb1",
      "metadata": {
        "id": "9dda1cb1"
      },
      "source": [
        "## Data Pre-Processing"
      ]
    },
    {
      "cell_type": "markdown",
      "id": "d7b4fafd",
      "metadata": {
        "id": "d7b4fafd"
      },
      "source": [
        "## Step 1: Remove Infinity and Null values\n",
        "- Manually changes infinity to 1234567 and NaN to -1234567 in excel because ids.replace() did not work effectively.\n",
        "- Used the code below to filter out the rows with infinity and null values"
      ]
    },
    {
      "cell_type": "code",
      "execution_count": null,
      "id": "353c63a5-0e6e-4062-9efc-00146a41952c",
      "metadata": {
        "colab": {
          "base_uri": "https://localhost:8080/"
        },
        "id": "353c63a5-0e6e-4062-9efc-00146a41952c",
        "outputId": "0837e36f-239f-456a-c665-6db5a850e2eb"
      },
      "outputs": [
        {
          "output_type": "stream",
          "name": "stdout",
          "text": [
            "                                          Flow ID       Source IP  \\\n",
            "65         185.86.137.17-192.168.10.5-443-55043-6   185.86.137.17   \n",
            "1767     149.174.66.134-192.168.10.16-443-60018-6  149.174.66.134   \n",
            "1890      172.217.12.142-192.168.10.14-80-57855-6   192.168.10.14   \n",
            "3375        192.168.10.5-54.76.211.99-55251-443-6    192.168.10.5   \n",
            "6796       192.168.10.16-198.54.12.145-36812-80-6   198.54.12.145   \n",
            "...                                           ...             ...   \n",
            "749120     151.101.22.2-192.168.10.25-443-63344-6   192.168.10.25   \n",
            "749769      192.168.10.17-27.0.237.143-47037-80-6    27.0.237.143   \n",
            "751304  151.101.208.166-192.168.10.12-443-38764-6   192.168.10.12   \n",
            "751978     192.168.10.14-52.24.31.137-51539-443-6    52.24.31.137   \n",
            "753251   192.168.10.12-23.194.141.179-44576-443-6   192.168.10.12   \n",
            "\n",
            "         Source Port   Destination IP   Destination Port   Protocol  \\\n",
            "65               443     192.168.10.5              55043          6   \n",
            "1767             443    192.168.10.16              60018          6   \n",
            "1890           57855   172.217.12.142                 80          6   \n",
            "3375           55251     54.76.211.99                443          6   \n",
            "6796              80    192.168.10.16              36812          6   \n",
            "...              ...              ...                ...        ...   \n",
            "749120         63344     151.101.22.2                443          6   \n",
            "749769            80    192.168.10.17              47037          6   \n",
            "751304         38764  151.101.208.166                443          6   \n",
            "751978           443    192.168.10.14              51539          6   \n",
            "753251         44576   23.194.141.179                443          6   \n",
            "\n",
            "               Timestamp   Flow Duration   Total Fwd Packets  \\\n",
            "65       07/07/2017 3:30               0                   2   \n",
            "1767     07/07/2017 3:31               0                   2   \n",
            "1890     07/07/2017 3:31               0                   1   \n",
            "3375     07/07/2017 3:31               0                   1   \n",
            "6796     07/07/2017 3:35               0                   2   \n",
            "...                  ...             ...                 ...   \n",
            "749120   03/07/2017 4:34               0                   2   \n",
            "749769   03/07/2017 4:27               0                   1   \n",
            "751304  03/07/2017 10:18               0                   2   \n",
            "751978   03/07/2017 9:43               0                   1   \n",
            "753251   03/07/2017 1:53               0                   2   \n",
            "\n",
            "         Total Backward Packets  ...   min_seg_size_forward  Active Mean  \\\n",
            "65                            0  ...                     20          0.0   \n",
            "1767                          0  ...                     20          0.0   \n",
            "1890                          1  ...                     20          0.0   \n",
            "3375                          1  ...                     20          0.0   \n",
            "6796                          0  ...                     32          0.0   \n",
            "...                         ...  ...                    ...          ...   \n",
            "749120                        0  ...                     20          0.0   \n",
            "749769                        1  ...                     32          0.0   \n",
            "751304                        0  ...                     20          0.0   \n",
            "751978                        1  ...                     20          0.0   \n",
            "753251                        0  ...                     20          0.0   \n",
            "\n",
            "         Active Std   Active Max   Active Min  Idle Mean   Idle Std  \\\n",
            "65              0.0          0.0          0.0        0.0        0.0   \n",
            "1767            0.0          0.0          0.0        0.0        0.0   \n",
            "1890            0.0          0.0          0.0        0.0        0.0   \n",
            "3375            0.0          0.0          0.0        0.0        0.0   \n",
            "6796            0.0          0.0          0.0        0.0        0.0   \n",
            "...             ...          ...          ...        ...        ...   \n",
            "749120          0.0          0.0          0.0        0.0        0.0   \n",
            "749769          0.0          0.0          0.0        0.0        0.0   \n",
            "751304          0.0          0.0          0.0        0.0        0.0   \n",
            "751978          0.0          0.0          0.0        0.0        0.0   \n",
            "753251          0.0          0.0          0.0        0.0        0.0   \n",
            "\n",
            "         Idle Max   Idle Min   Label  \n",
            "65            0.0        0.0  BENIGN  \n",
            "1767          0.0        0.0  BENIGN  \n",
            "1890          0.0        0.0  BENIGN  \n",
            "3375          0.0        0.0  BENIGN  \n",
            "6796          0.0        0.0  BENIGN  \n",
            "...           ...        ...     ...  \n",
            "749120        0.0        0.0  BENIGN  \n",
            "749769        0.0        0.0  BENIGN  \n",
            "751304        0.0        0.0  BENIGN  \n",
            "751978        0.0        0.0  BENIGN  \n",
            "753251        0.0        0.0  BENIGN  \n",
            "\n",
            "[471 rows x 85 columns]\n",
            "192.168.10.25-192.168.10.50-53581-37575-6\n",
            "192.168.10.50\n",
            "37575\n",
            "192.168.10.25\n",
            "53581\n",
            "6\n",
            "07/07/2017 3:46\n",
            "0\n",
            "1\n",
            "1\n",
            "0\n",
            "0.0\n",
            "0\n",
            "0\n",
            "0.0\n",
            "0.0\n",
            "0\n",
            "0\n",
            "0.0\n",
            "0.0\n",
            "-1234567.0\n",
            "1234567.0\n",
            "0.0\n",
            "0.0\n",
            "0.0\n",
            "0.0\n",
            "0.0\n",
            "0.0\n",
            "0.0\n",
            "0.0\n",
            "0.0\n",
            "0.0\n",
            "0.0\n",
            "0.0\n",
            "0.0\n",
            "0.0\n",
            "0\n",
            "0\n",
            "0\n",
            "0\n",
            "44\n",
            "32\n",
            "0.0\n",
            "0.0\n",
            "0\n",
            "0\n",
            "0.0\n",
            "0.0\n",
            "0.0\n",
            "0\n",
            "0\n",
            "0\n",
            "0\n",
            "1\n",
            "0\n",
            "0\n",
            "0\n",
            "1\n",
            "0.0\n",
            "0.0\n",
            "0.0\n",
            "44\n",
            "0\n",
            "0\n",
            "0\n",
            "0\n",
            "0\n",
            "0\n",
            "1\n",
            "0\n",
            "1\n",
            "0\n",
            "408\n",
            "65535\n",
            "0\n",
            "44\n",
            "0.0\n",
            "0.0\n",
            "0.0\n",
            "0.0\n",
            "0.0\n",
            "0.0\n",
            "0.0\n",
            "0.0\n",
            "BENIGN\n"
          ]
        }
      ],
      "source": [
        "# replacing infinity to np.inf\n",
        "\n",
        "import numpy as np\n",
        "\n",
        "#ids.replace('Infinity', 1234567, inplace=True)\n",
        "\n",
        "#ids.replace('NaN', -1234567, inplace=True)\n",
        "\n",
        "print(ids[ids.isin([1234567, -1234567]).any(axis=1)])\n",
        "for i in ids.iloc[14739]:\n",
        "    print(i)\n",
        "ids = ids[~ids.isin([1234567, -1234567]).any(axis=1)]\n",
        "\n",
        "\n"
      ]
    },
    {
      "cell_type": "markdown",
      "id": "a4df0256",
      "metadata": {
        "id": "a4df0256"
      },
      "source": [
        "## Validation of previous step\n",
        "- Checking if null-valued rows exist in the dataset\n",
        "- incomplete_rows represent rows that have atleast one null value\n",
        "- Expected value of incomplete_rows is 0."
      ]
    },
    {
      "cell_type": "code",
      "execution_count": null,
      "id": "4d9df1ee-c30e-4bf4-91a8-b6067cc809f9",
      "metadata": {
        "colab": {
          "base_uri": "https://localhost:8080/",
          "height": 133
        },
        "id": "4d9df1ee-c30e-4bf4-91a8-b6067cc809f9",
        "outputId": "cbfeb312-e640-40bb-a762-884991670069"
      },
      "outputs": [
        {
          "output_type": "execute_result",
          "data": {
            "text/plain": [
              "Empty DataFrame\n",
              "Columns: [Flow ID,  Source IP,  Source Port,  Destination IP,  Destination Port,  Protocol,  Timestamp,  Flow Duration,  Total Fwd Packets,  Total Backward Packets, Total Length of Fwd Packets,  Total Length of Bwd Packets,  Fwd Packet Length Max,  Fwd Packet Length Min,  Fwd Packet Length Mean,  Fwd Packet Length Std, Bwd Packet Length Max,  Bwd Packet Length Min,  Bwd Packet Length Mean,  Bwd Packet Length Std, Flow Bytes/s,  Flow Packets/s,  Flow IAT Mean,  Flow IAT Std,  Flow IAT Max,  Flow IAT Min, Fwd IAT Total,  Fwd IAT Mean,  Fwd IAT Std,  Fwd IAT Max,  Fwd IAT Min, Bwd IAT Total,  Bwd IAT Mean,  Bwd IAT Std,  Bwd IAT Max,  Bwd IAT Min, Fwd PSH Flags,  Bwd PSH Flags,  Fwd URG Flags,  Bwd URG Flags,  Fwd Header Length,  Bwd Header Length, Fwd Packets/s,  Bwd Packets/s,  Min Packet Length,  Max Packet Length,  Packet Length Mean,  Packet Length Std,  Packet Length Variance, FIN Flag Count,  SYN Flag Count,  RST Flag Count,  PSH Flag Count,  ACK Flag Count,  URG Flag Count,  CWE Flag Count,  ECE Flag Count,  Down/Up Ratio,  Average Packet Size,  Avg Fwd Segment Size,  Avg Bwd Segment Size,  Fwd Header Length.1, Fwd Avg Bytes/Bulk,  Fwd Avg Packets/Bulk,  Fwd Avg Bulk Rate,  Bwd Avg Bytes/Bulk,  Bwd Avg Packets/Bulk, Bwd Avg Bulk Rate, Subflow Fwd Packets,  Subflow Fwd Bytes,  Subflow Bwd Packets,  Subflow Bwd Bytes, Init_Win_bytes_forward,  Init_Win_bytes_backward,  act_data_pkt_fwd,  min_seg_size_forward, Active Mean,  Active Std,  Active Max,  Active Min, Idle Mean,  Idle Std,  Idle Max,  Idle Min,  Label]\n",
              "Index: []\n",
              "\n",
              "[0 rows x 85 columns]"
            ],
            "text/html": [
              "\n",
              "  <div id=\"df-94cad3ca-4cbe-4783-8349-bc5cda46454d\" class=\"colab-df-container\">\n",
              "    <div>\n",
              "<style scoped>\n",
              "    .dataframe tbody tr th:only-of-type {\n",
              "        vertical-align: middle;\n",
              "    }\n",
              "\n",
              "    .dataframe tbody tr th {\n",
              "        vertical-align: top;\n",
              "    }\n",
              "\n",
              "    .dataframe thead th {\n",
              "        text-align: right;\n",
              "    }\n",
              "</style>\n",
              "<table border=\"1\" class=\"dataframe\">\n",
              "  <thead>\n",
              "    <tr style=\"text-align: right;\">\n",
              "      <th></th>\n",
              "      <th>Flow ID</th>\n",
              "      <th>Source IP</th>\n",
              "      <th>Source Port</th>\n",
              "      <th>Destination IP</th>\n",
              "      <th>Destination Port</th>\n",
              "      <th>Protocol</th>\n",
              "      <th>Timestamp</th>\n",
              "      <th>Flow Duration</th>\n",
              "      <th>Total Fwd Packets</th>\n",
              "      <th>Total Backward Packets</th>\n",
              "      <th>...</th>\n",
              "      <th>min_seg_size_forward</th>\n",
              "      <th>Active Mean</th>\n",
              "      <th>Active Std</th>\n",
              "      <th>Active Max</th>\n",
              "      <th>Active Min</th>\n",
              "      <th>Idle Mean</th>\n",
              "      <th>Idle Std</th>\n",
              "      <th>Idle Max</th>\n",
              "      <th>Idle Min</th>\n",
              "      <th>Label</th>\n",
              "    </tr>\n",
              "  </thead>\n",
              "  <tbody>\n",
              "  </tbody>\n",
              "</table>\n",
              "<p>0 rows × 85 columns</p>\n",
              "</div>\n",
              "    <div class=\"colab-df-buttons\">\n",
              "\n",
              "  <div class=\"colab-df-container\">\n",
              "    <button class=\"colab-df-convert\" onclick=\"convertToInteractive('df-94cad3ca-4cbe-4783-8349-bc5cda46454d')\"\n",
              "            title=\"Convert this dataframe to an interactive table.\"\n",
              "            style=\"display:none;\">\n",
              "\n",
              "  <svg xmlns=\"http://www.w3.org/2000/svg\" height=\"24px\" viewBox=\"0 -960 960 960\">\n",
              "    <path d=\"M120-120v-720h720v720H120Zm60-500h600v-160H180v160Zm220 220h160v-160H400v160Zm0 220h160v-160H400v160ZM180-400h160v-160H180v160Zm440 0h160v-160H620v160ZM180-180h160v-160H180v160Zm440 0h160v-160H620v160Z\"/>\n",
              "  </svg>\n",
              "    </button>\n",
              "\n",
              "  <style>\n",
              "    .colab-df-container {\n",
              "      display:flex;\n",
              "      gap: 12px;\n",
              "    }\n",
              "\n",
              "    .colab-df-convert {\n",
              "      background-color: #E8F0FE;\n",
              "      border: none;\n",
              "      border-radius: 50%;\n",
              "      cursor: pointer;\n",
              "      display: none;\n",
              "      fill: #1967D2;\n",
              "      height: 32px;\n",
              "      padding: 0 0 0 0;\n",
              "      width: 32px;\n",
              "    }\n",
              "\n",
              "    .colab-df-convert:hover {\n",
              "      background-color: #E2EBFA;\n",
              "      box-shadow: 0px 1px 2px rgba(60, 64, 67, 0.3), 0px 1px 3px 1px rgba(60, 64, 67, 0.15);\n",
              "      fill: #174EA6;\n",
              "    }\n",
              "\n",
              "    .colab-df-buttons div {\n",
              "      margin-bottom: 4px;\n",
              "    }\n",
              "\n",
              "    [theme=dark] .colab-df-convert {\n",
              "      background-color: #3B4455;\n",
              "      fill: #D2E3FC;\n",
              "    }\n",
              "\n",
              "    [theme=dark] .colab-df-convert:hover {\n",
              "      background-color: #434B5C;\n",
              "      box-shadow: 0px 1px 3px 1px rgba(0, 0, 0, 0.15);\n",
              "      filter: drop-shadow(0px 1px 2px rgba(0, 0, 0, 0.3));\n",
              "      fill: #FFFFFF;\n",
              "    }\n",
              "  </style>\n",
              "\n",
              "    <script>\n",
              "      const buttonEl =\n",
              "        document.querySelector('#df-94cad3ca-4cbe-4783-8349-bc5cda46454d button.colab-df-convert');\n",
              "      buttonEl.style.display =\n",
              "        google.colab.kernel.accessAllowed ? 'block' : 'none';\n",
              "\n",
              "      async function convertToInteractive(key) {\n",
              "        const element = document.querySelector('#df-94cad3ca-4cbe-4783-8349-bc5cda46454d');\n",
              "        const dataTable =\n",
              "          await google.colab.kernel.invokeFunction('convertToInteractive',\n",
              "                                                    [key], {});\n",
              "        if (!dataTable) return;\n",
              "\n",
              "        const docLinkHtml = 'Like what you see? Visit the ' +\n",
              "          '<a target=\"_blank\" href=https://colab.research.google.com/notebooks/data_table.ipynb>data table notebook</a>'\n",
              "          + ' to learn more about interactive tables.';\n",
              "        element.innerHTML = '';\n",
              "        dataTable['output_type'] = 'display_data';\n",
              "        await google.colab.output.renderOutput(dataTable, element);\n",
              "        const docLink = document.createElement('div');\n",
              "        docLink.innerHTML = docLinkHtml;\n",
              "        element.appendChild(docLink);\n",
              "      }\n",
              "    </script>\n",
              "  </div>\n",
              "\n",
              "\n",
              "  <div id=\"id_bc530066-2cab-4fce-b4a8-1e33c11a739f\">\n",
              "    <style>\n",
              "      .colab-df-generate {\n",
              "        background-color: #E8F0FE;\n",
              "        border: none;\n",
              "        border-radius: 50%;\n",
              "        cursor: pointer;\n",
              "        display: none;\n",
              "        fill: #1967D2;\n",
              "        height: 32px;\n",
              "        padding: 0 0 0 0;\n",
              "        width: 32px;\n",
              "      }\n",
              "\n",
              "      .colab-df-generate:hover {\n",
              "        background-color: #E2EBFA;\n",
              "        box-shadow: 0px 1px 2px rgba(60, 64, 67, 0.3), 0px 1px 3px 1px rgba(60, 64, 67, 0.15);\n",
              "        fill: #174EA6;\n",
              "      }\n",
              "\n",
              "      [theme=dark] .colab-df-generate {\n",
              "        background-color: #3B4455;\n",
              "        fill: #D2E3FC;\n",
              "      }\n",
              "\n",
              "      [theme=dark] .colab-df-generate:hover {\n",
              "        background-color: #434B5C;\n",
              "        box-shadow: 0px 1px 3px 1px rgba(0, 0, 0, 0.15);\n",
              "        filter: drop-shadow(0px 1px 2px rgba(0, 0, 0, 0.3));\n",
              "        fill: #FFFFFF;\n",
              "      }\n",
              "    </style>\n",
              "    <button class=\"colab-df-generate\" onclick=\"generateWithVariable('incomplete_rows')\"\n",
              "            title=\"Generate code using this dataframe.\"\n",
              "            style=\"display:none;\">\n",
              "\n",
              "  <svg xmlns=\"http://www.w3.org/2000/svg\" height=\"24px\"viewBox=\"0 0 24 24\"\n",
              "       width=\"24px\">\n",
              "    <path d=\"M7,19H8.4L18.45,9,17,7.55,7,17.6ZM5,21V16.75L18.45,3.32a2,2,0,0,1,2.83,0l1.4,1.43a1.91,1.91,0,0,1,.58,1.4,1.91,1.91,0,0,1-.58,1.4L9.25,21ZM18.45,9,17,7.55Zm-12,3A5.31,5.31,0,0,0,4.9,8.1,5.31,5.31,0,0,0,1,6.5,5.31,5.31,0,0,0,4.9,4.9,5.31,5.31,0,0,0,6.5,1,5.31,5.31,0,0,0,8.1,4.9,5.31,5.31,0,0,0,12,6.5,5.46,5.46,0,0,0,6.5,12Z\"/>\n",
              "  </svg>\n",
              "    </button>\n",
              "    <script>\n",
              "      (() => {\n",
              "      const buttonEl =\n",
              "        document.querySelector('#id_bc530066-2cab-4fce-b4a8-1e33c11a739f button.colab-df-generate');\n",
              "      buttonEl.style.display =\n",
              "        google.colab.kernel.accessAllowed ? 'block' : 'none';\n",
              "\n",
              "      buttonEl.onclick = () => {\n",
              "        google.colab.notebook.generateWithVariable('incomplete_rows');\n",
              "      }\n",
              "      })();\n",
              "    </script>\n",
              "  </div>\n",
              "\n",
              "    </div>\n",
              "  </div>\n"
            ],
            "application/vnd.google.colaboratory.intrinsic+json": {
              "type": "dataframe",
              "variable_name": "incomplete_rows"
            }
          },
          "metadata": {},
          "execution_count": 4
        }
      ],
      "source": [
        "# Finding the missing valued rows.\n",
        "incomplete_rows = ids[ids.isnull().any(axis=1)]\n",
        "\n",
        "incomplete_rows\n"
      ]
    },
    {
      "cell_type": "code",
      "execution_count": null,
      "id": "afdcafc3-7449-4177-91f1-b9f56da70929",
      "metadata": {
        "colab": {
          "base_uri": "https://localhost:8080/"
        },
        "id": "afdcafc3-7449-4177-91f1-b9f56da70929",
        "outputId": "003fad50-2d08-4591-fe96-6f50db091668"
      },
      "outputs": [
        {
          "output_type": "stream",
          "name": "stdout",
          "text": [
            "Index(['Flow ID', ' Source IP', ' Source Port', ' Destination IP',\n",
            "       ' Destination Port', ' Protocol', ' Timestamp', ' Flow Duration',\n",
            "       ' Total Fwd Packets', ' Total Backward Packets',\n",
            "       'Total Length of Fwd Packets', ' Total Length of Bwd Packets',\n",
            "       ' Fwd Packet Length Max', ' Fwd Packet Length Min',\n",
            "       ' Fwd Packet Length Mean', ' Fwd Packet Length Std',\n",
            "       'Bwd Packet Length Max', ' Bwd Packet Length Min',\n",
            "       ' Bwd Packet Length Mean', ' Bwd Packet Length Std', 'Flow Bytes/s',\n",
            "       ' Flow Packets/s', ' Flow IAT Mean', ' Flow IAT Std', ' Flow IAT Max',\n",
            "       ' Flow IAT Min', 'Fwd IAT Total', ' Fwd IAT Mean', ' Fwd IAT Std',\n",
            "       ' Fwd IAT Max', ' Fwd IAT Min', 'Bwd IAT Total', ' Bwd IAT Mean',\n",
            "       ' Bwd IAT Std', ' Bwd IAT Max', ' Bwd IAT Min', 'Fwd PSH Flags',\n",
            "       ' Bwd PSH Flags', ' Fwd URG Flags', ' Bwd URG Flags',\n",
            "       ' Fwd Header Length', ' Bwd Header Length', 'Fwd Packets/s',\n",
            "       ' Bwd Packets/s', ' Min Packet Length', ' Max Packet Length',\n",
            "       ' Packet Length Mean', ' Packet Length Std', ' Packet Length Variance',\n",
            "       'FIN Flag Count', ' SYN Flag Count', ' RST Flag Count',\n",
            "       ' PSH Flag Count', ' ACK Flag Count', ' URG Flag Count',\n",
            "       ' CWE Flag Count', ' ECE Flag Count', ' Down/Up Ratio',\n",
            "       ' Average Packet Size', ' Avg Fwd Segment Size',\n",
            "       ' Avg Bwd Segment Size', ' Fwd Header Length.1', 'Fwd Avg Bytes/Bulk',\n",
            "       ' Fwd Avg Packets/Bulk', ' Fwd Avg Bulk Rate', ' Bwd Avg Bytes/Bulk',\n",
            "       ' Bwd Avg Packets/Bulk', 'Bwd Avg Bulk Rate', 'Subflow Fwd Packets',\n",
            "       ' Subflow Fwd Bytes', ' Subflow Bwd Packets', ' Subflow Bwd Bytes',\n",
            "       'Init_Win_bytes_forward', ' Init_Win_bytes_backward',\n",
            "       ' act_data_pkt_fwd', ' min_seg_size_forward', 'Active Mean',\n",
            "       ' Active Std', ' Active Max', ' Active Min', 'Idle Mean', ' Idle Std',\n",
            "       ' Idle Max', ' Idle Min', ' Label'],\n",
            "      dtype='object')\n",
            "new_value1 0.9111172971077129\n",
            "new_value2 0.9992434923882703\n",
            "new_value3 0.976986776850108\n",
            "new_value4 0.4794905787989933\n",
            "new_value5 0.7854593177799378\n",
            "new_value6 0.32489652521795814\n"
          ]
        }
      ],
      "source": [
        "\n",
        "print(ids.columns)\n",
        "# Finding the cramer v value for categorical correlation with the output label.\n",
        "from scipy.stats.contingency import association\n",
        "\n",
        "flow_pred = {'flow_id_feature': ids['Flow ID'],\n",
        "'classification_feature': ids[' Label']\n",
        "}\n",
        "\n",
        "flow_pred_source_ip = {'Source_IP': ids[' Source IP'],\n",
        "'classification_feature': ids[' Label']\n",
        "}\n",
        "\n",
        "flow_pred_3 = {'Destination_IP': ids[' Destination IP'],\n",
        "'classification_feature': ids[' Label']\n",
        "}\n",
        "\n",
        "flow_pred_4 = {'Source_Port': ids[' Source Port'],\n",
        "'classification_feature': ids[' Label']\n",
        "}\n",
        "\n",
        "flow_pred_5 = {'Destination_Port': ids[' Destination Port'],\n",
        "'classification_feature': ids[' Label']\n",
        "}\n",
        "\n",
        "flow_pred_6 = {'Protocol': ids[' Protocol'],\n",
        "'classification_feature': ids[' Label']\n",
        "}\n",
        "\n",
        "#l = association(pd.DataFrame(flow_pred).to_numpy(), method = \"cramer\")\n",
        "\n",
        "\n",
        "\n",
        "frame = pd.DataFrame(flow_pred)\n",
        "\n",
        "\n",
        "\n",
        "frame2 = pd.DataFrame(flow_pred_source_ip)\n",
        "\n",
        "frame3 = pd.DataFrame(flow_pred_3)\n",
        "frame4 = pd.DataFrame(flow_pred_4)\n",
        "frame5 = pd.DataFrame(flow_pred_5)\n",
        "frame6 = pd.DataFrame(flow_pred_6)\n",
        "\n",
        "\n",
        "contingency_table = pd.crosstab(frame['flow_id_feature'], frame['classification_feature'])\n",
        "\n",
        "contingency_table2 = pd.crosstab(frame2['Source_IP'], frame2['classification_feature'])\n",
        "\n",
        "contingency_table3 = pd.crosstab(frame3['Destination_IP'], frame2['classification_feature'])\n",
        "contingency_table4 = pd.crosstab(frame4['Source_Port'], frame2['classification_feature'])\n",
        "contingency_table5 = pd.crosstab(frame5['Destination_Port'], frame2['classification_feature'])\n",
        "contingency_table6 = pd.crosstab(frame6['Protocol'], frame2['classification_feature'])\n",
        "\n",
        "all_values = contingency_table.values\n",
        "\n",
        "all_values2 = contingency_table2.values\n",
        "\n",
        "all_values3 = contingency_table3.values\n",
        "all_values4 = contingency_table4.values\n",
        "all_values5 = contingency_table5.values\n",
        "all_values6 = contingency_table6.values\n",
        "\n",
        "\n",
        "new_value = association(all_values, method = \"cramer\")\n",
        "\n",
        "new_value2 = association(all_values2, method = \"cramer\")\n",
        "\n",
        "new_value3 = association(all_values3, method = \"cramer\")\n",
        "new_value4 = association(all_values4, method = \"cramer\")\n",
        "new_value5 = association(all_values5, method = \"cramer\")\n",
        "new_value6 = association(all_values6, method = \"cramer\")\n",
        "\n",
        "\n",
        "print(\"new_value1\", new_value)\n",
        "print(\"new_value2\", new_value2)\n",
        "\n",
        "print(\"new_value3\", new_value3)\n",
        "print(\"new_value4\", new_value4)\n",
        "print(\"new_value5\", new_value5)\n",
        "print(\"new_value6\", new_value6)\n",
        "\n",
        "#add for destination ip\n",
        "\n",
        "\n"
      ]
    },
    {
      "cell_type": "markdown",
      "id": "9438aedc",
      "metadata": {
        "id": "9438aedc"
      },
      "source": [
        "## Step 2: Drop Columns that will not be very useful in predicting the output Label.\n",
        "- Remove columns named `Flow ID`, `Source IP`, `Destination IP`, `Timestamp`\n",
        "- Used the code below to filter out the rows with infinity and null values"
      ]
    },
    {
      "cell_type": "code",
      "execution_count": null,
      "id": "64f10093-cfd4-4275-ab42-12da390f2aa9",
      "metadata": {
        "colab": {
          "base_uri": "https://localhost:8080/"
        },
        "id": "64f10093-cfd4-4275-ab42-12da390f2aa9",
        "outputId": "393457bf-a64b-4195-e974-444406d8608c"
      },
      "outputs": [
        {
          "output_type": "stream",
          "name": "stdout",
          "text": [
            "Index(['Flow ID', ' Source IP', ' Source Port', ' Destination IP',\n",
            "       ' Destination Port', ' Protocol', ' Timestamp', ' Flow Duration',\n",
            "       ' Total Fwd Packets', ' Total Backward Packets',\n",
            "       'Total Length of Fwd Packets', ' Total Length of Bwd Packets',\n",
            "       ' Fwd Packet Length Max', ' Fwd Packet Length Min',\n",
            "       ' Fwd Packet Length Mean', ' Fwd Packet Length Std',\n",
            "       'Bwd Packet Length Max', ' Bwd Packet Length Min',\n",
            "       ' Bwd Packet Length Mean', ' Bwd Packet Length Std', 'Flow Bytes/s',\n",
            "       ' Flow Packets/s', ' Flow IAT Mean', ' Flow IAT Std', ' Flow IAT Max',\n",
            "       ' Flow IAT Min', 'Fwd IAT Total', ' Fwd IAT Mean', ' Fwd IAT Std',\n",
            "       ' Fwd IAT Max', ' Fwd IAT Min', 'Bwd IAT Total', ' Bwd IAT Mean',\n",
            "       ' Bwd IAT Std', ' Bwd IAT Max', ' Bwd IAT Min', 'Fwd PSH Flags',\n",
            "       ' Bwd PSH Flags', ' Fwd URG Flags', ' Bwd URG Flags',\n",
            "       ' Fwd Header Length', ' Bwd Header Length', 'Fwd Packets/s',\n",
            "       ' Bwd Packets/s', ' Min Packet Length', ' Max Packet Length',\n",
            "       ' Packet Length Mean', ' Packet Length Std', ' Packet Length Variance',\n",
            "       'FIN Flag Count', ' SYN Flag Count', ' RST Flag Count',\n",
            "       ' PSH Flag Count', ' ACK Flag Count', ' URG Flag Count',\n",
            "       ' CWE Flag Count', ' ECE Flag Count', ' Down/Up Ratio',\n",
            "       ' Average Packet Size', ' Avg Fwd Segment Size',\n",
            "       ' Avg Bwd Segment Size', ' Fwd Header Length.1', 'Fwd Avg Bytes/Bulk',\n",
            "       ' Fwd Avg Packets/Bulk', ' Fwd Avg Bulk Rate', ' Bwd Avg Bytes/Bulk',\n",
            "       ' Bwd Avg Packets/Bulk', 'Bwd Avg Bulk Rate', 'Subflow Fwd Packets',\n",
            "       ' Subflow Fwd Bytes', ' Subflow Bwd Packets', ' Subflow Bwd Bytes',\n",
            "       'Init_Win_bytes_forward', ' Init_Win_bytes_backward',\n",
            "       ' act_data_pkt_fwd', ' min_seg_size_forward', 'Active Mean',\n",
            "       ' Active Std', ' Active Max', ' Active Min', 'Idle Mean', ' Idle Std',\n",
            "       ' Idle Max', ' Idle Min', ' Label'],\n",
            "      dtype='object')\n"
          ]
        }
      ],
      "source": [
        "new_data = ids\n",
        "print(new_data.columns)\n",
        "\n",
        "new_data.drop(\"Flow ID\", axis=1, inplace=True)\n",
        "\n",
        "new_data.drop(\" Source IP\", axis=1, inplace=True)\n",
        "\n",
        "new_data.drop(\" Destination IP\", axis=1, inplace=True)\n",
        "\n",
        "new_data.drop(\" Timestamp\", axis=1, inplace=True)\n",
        "\n"
      ]
    },
    {
      "cell_type": "markdown",
      "id": "eeae0cb6",
      "metadata": {
        "id": "eeae0cb6"
      },
      "source": [
        "## Step 3: Changing Categorical output label to numbers.\n",
        "- Replacing a `BENIGN` label with a 0.\n",
        "- Replacing a `DDoS` label with a 1."
      ]
    },
    {
      "cell_type": "code",
      "execution_count": null,
      "id": "d57ceccf-6920-4362-8f10-837634441026",
      "metadata": {
        "id": "d57ceccf-6920-4362-8f10-837634441026",
        "colab": {
          "base_uri": "https://localhost:8080/"
        },
        "outputId": "9074ee4b-16a7-4a66-ae43-2d4af04900d7"
      },
      "outputs": [
        {
          "output_type": "stream",
          "name": "stderr",
          "text": [
            "<ipython-input-7-db1c9bf08ea2>:2: FutureWarning: Downcasting behavior in `replace` is deprecated and will be removed in a future version. To retain the old behavior, explicitly call `result.infer_objects(copy=False)`. To opt-in to the future behavior, set `pd.set_option('future.no_silent_downcasting', True)`\n",
            "  new_data.replace('DDoS', 1, inplace=True)\n"
          ]
        }
      ],
      "source": [
        "\n",
        "new_data.replace('BENIGN', 0, inplace=True)\n",
        "new_data.replace('DDoS', 1, inplace=True)"
      ]
    },
    {
      "cell_type": "markdown",
      "id": "a736f383",
      "metadata": {
        "id": "a736f383"
      },
      "source": [
        "## Step 4: Performing Scaling using Standard Scaler (##Citation)\n",
        "- Scaling all the numerical rows with the help of the standard scaler. (CITATION)\n"
      ]
    },
    {
      "cell_type": "code",
      "execution_count": null,
      "id": "7c057f57-b2bf-49bd-825a-17982f5c1670",
      "metadata": {
        "id": "7c057f57-b2bf-49bd-825a-17982f5c1670",
        "outputId": "db18f77e-37d9-45a5-ef80-342a4198d15d",
        "colab": {
          "base_uri": "https://localhost:8080/"
        }
      },
      "outputs": [
        {
          "output_type": "stream",
          "name": "stdout",
          "text": [
            "-1.635521094338953    Source Port\n",
            "2.1392766095626037    Destination Port\n",
            "-0.7172239042026048    Protocol\n",
            "-0.4084330739684499    Flow Duration\n",
            "-0.009025051790975272    Total Fwd Packets\n",
            "-0.00961218744480784    Total Backward Packets\n",
            "-0.11648837200903685   Total Length of Fwd Packets\n",
            "-0.006398585806875391    Total Length of Bwd Packets\n",
            "-0.2631624758589712    Fwd Packet Length Max\n",
            "-0.17544629845203358    Fwd Packet Length Min\n",
            "-0.2707549025124376    Fwd Packet Length Mean\n",
            "-0.22797425704894098    Fwd Packet Length Std\n",
            "-0.4629620686954722   Bwd Packet Length Max\n",
            "-0.5708655972208654    Bwd Packet Length Min\n",
            "-0.5199022128952837    Bwd Packet Length Mean\n",
            "-0.4190426883762597    Bwd Packet Length Std\n",
            "0.11921012033641289   Flow Bytes/s\n",
            "2.959623126973493    Flow Packets/s\n",
            "-0.26954885886273267    Flow IAT Mean\n",
            "-0.3518284874256312    Flow IAT Std\n",
            "-0.3679768720499291    Flow IAT Max\n",
            "-0.06536224505734568    Flow IAT Min\n",
            "-0.3945526176470602   Fwd IAT Total\n",
            "-0.24453660986805287    Fwd IAT Mean\n",
            "-0.32626321202592773    Fwd IAT Std\n",
            "-0.3499293475608649    Fwd IAT Max\n",
            "-0.12576540743048892    Fwd IAT Min\n",
            "-0.3201735989496705   Bwd IAT Total\n",
            "-0.18281971099618705    Bwd IAT Mean\n",
            "-0.24608188941898226    Bwd IAT Std\n",
            "-0.2670142860846294    Bwd IAT Max\n",
            "-0.1143356527450632    Bwd IAT Min\n",
            "-0.2408136133795063   Fwd PSH Flags\n",
            "0.0    Bwd PSH Flags\n",
            "0.0    Fwd URG Flags\n",
            "0.0    Bwd URG Flags\n",
            "0.0030666214765984    Fwd Header Length\n",
            "0.004060371685776328    Bwd Header Length\n",
            "3.0679126054741364   Fwd Packets/s\n",
            "-0.14876387972993357    Bwd Packets/s\n",
            "-0.4385862067964335    Min Packet Length\n",
            "-0.5005613878338576    Max Packet Length\n",
            "-0.573563114826059    Packet Length Mean\n",
            "-0.49768914879339776    Packet Length Std\n",
            "-0.34374512989122974    Packet Length Variance\n",
            "-0.13075298217268352   FIN Flag Count\n",
            "-0.2408136133795063    SYN Flag Count\n",
            "-0.01145031344028354    RST Flag Count\n",
            "-0.6227315277994467    PSH Flag Count\n",
            "1.317989161438399    ACK Flag Count\n",
            "-0.3799272792312412    URG Flag Count\n",
            "0.0    CWE Flag Count\n",
            "-0.011508005624315415    ECE Flag Count\n",
            "-0.8100207407856188    Down/Up Ratio\n",
            "-0.5756948295129464    Average Packet Size\n",
            "-0.2707549025124352    Avg Fwd Segment Size\n",
            "-0.5199022128952977    Avg Bwd Segment Size\n",
            "0.0030666214765984    Fwd Header Length.1\n",
            "0.0   Fwd Avg Bytes/Bulk\n",
            "0.0    Fwd Avg Packets/Bulk\n",
            "0.0    Fwd Avg Bulk Rate\n",
            "0.0    Bwd Avg Bytes/Bulk\n",
            "0.0    Bwd Avg Packets/Bulk\n",
            "0.0   Bwd Avg Bulk Rate\n",
            "-0.009025051790975272   Subflow Fwd Packets\n",
            "-0.11648837200903685    Subflow Fwd Bytes\n",
            "-0.00961218744480784    Subflow Bwd Packets\n",
            "-0.006398585806875391    Subflow Bwd Bytes\n",
            "-0.4753643338379114   Init_Win_bytes_forward\n",
            "-0.26152188860955494    Init_Win_bytes_backward\n",
            "-0.007275080573789659    act_data_pkt_fwd\n",
            "0.0055082703091974316    min_seg_size_forward\n",
            "-0.15655411313782294   Active Mean\n",
            "-0.09706995098239744    Active Std\n",
            "-0.165427633389692    Active Max\n",
            "-0.13922054234829592    Active Min\n",
            "-0.33530393898869   Idle Mean\n",
            "-0.16566679163281667    Idle Std\n",
            "-0.33646404631041404    Idle Max\n",
            "-0.3007702186382108    Idle Min\n"
          ]
        }
      ],
      "source": [
        "from sklearn.preprocessing import StandardScaler\n",
        "\n",
        "standard_scaler_scaling = StandardScaler()\n",
        "output_label = new_data[' Label']\n",
        "new_data.drop(' Label', axis=1, inplace=True)\n",
        "scaled_data = standard_scaler_scaling.fit_transform(new_data)\n",
        "\n",
        "for i in range(len(scaled_data[0])):\n",
        "    print(scaled_data[0][i], \" \", new_data.columns[i])\n",
        "\n"
      ]
    },
    {
      "cell_type": "code",
      "execution_count": null,
      "id": "b4c969b0-6eae-49ec-9300-71103173506b",
      "metadata": {
        "colab": {
          "base_uri": "https://localhost:8080/"
        },
        "id": "b4c969b0-6eae-49ec-9300-71103173506b",
        "outputId": "9ad2b194-918e-436d-b7f7-e651c3b711ad"
      },
      "outputs": [
        {
          "output_type": "stream",
          "name": "stdout",
          "text": [
            "         Source Port   Destination Port   Protocol   Flow Duration  \\\n",
            "0          -1.635521           2.139277  -0.717224       -0.408433   \n",
            "1          -1.650637           2.148310  -0.717224       -0.408430   \n",
            "2          -1.650637           2.148358  -0.717224       -0.408431   \n",
            "3          -1.635521           1.726845  -0.717224       -0.408432   \n",
            "4          -1.635521           2.139181  -0.717224       -0.408433   \n",
            "...              ...                ...        ...             ...   \n",
            "755187     -1.513180          -0.461877  -0.717224       -0.407803   \n",
            "755188      0.910581          -0.480517   1.391697       -0.406389   \n",
            "755189      0.503081          -0.480517   1.391697       -0.408428   \n",
            "755190      0.759090          -0.480517   1.391697       -0.408428   \n",
            "755191     -1.635521           2.021460  -0.717224       -0.408433   \n",
            "\n",
            "         Total Fwd Packets   Total Backward Packets  \\\n",
            "0                -0.009025                -0.009612   \n",
            "1                -0.010363                -0.008595   \n",
            "2                -0.010363                -0.008595   \n",
            "3                -0.010363                -0.008595   \n",
            "4                -0.009025                -0.009612   \n",
            "...                    ...                      ...   \n",
            "755187           -0.010363                -0.008595   \n",
            "755188           -0.009025                -0.007577   \n",
            "755189           -0.009025                -0.007577   \n",
            "755190           -0.009025                -0.007577   \n",
            "755191           -0.010363                -0.008595   \n",
            "\n",
            "        Total Length of Fwd Packets   Total Length of Bwd Packets  \\\n",
            "0                         -0.116488                     -0.006399   \n",
            "1                         -0.117576                     -0.006396   \n",
            "2                         -0.117576                     -0.006396   \n",
            "3                         -0.117576                     -0.006396   \n",
            "4                         -0.116488                     -0.006399   \n",
            "...                             ...                           ...   \n",
            "755187                    -0.117576                     -0.006396   \n",
            "755188                    -0.104158                     -0.006329   \n",
            "755189                    -0.107059                     -0.006356   \n",
            "755190                    -0.104158                     -0.006334   \n",
            "755191                    -0.118664                     -0.006399   \n",
            "\n",
            "         Fwd Packet Length Max   Fwd Packet Length Min  ...  \\\n",
            "0                    -0.263162               -0.175446  ...   \n",
            "1                    -0.263162               -0.175446  ...   \n",
            "2                    -0.263162               -0.175446  ...   \n",
            "3                    -0.263162               -0.175446  ...   \n",
            "4                    -0.263162               -0.175446  ...   \n",
            "...                        ...                     ...  ...   \n",
            "755187               -0.263162               -0.175446  ...   \n",
            "755188               -0.232194                0.184771  ...   \n",
            "755189               -0.239481                0.100014  ...   \n",
            "755190               -0.232194                0.184771  ...   \n",
            "755191               -0.268627               -0.239014  ...   \n",
            "\n",
            "         min_seg_size_forward  Active Mean   Active Std   Active Max  \\\n",
            "0                    0.005508    -0.156554     -0.09707    -0.165428   \n",
            "1                    0.005508    -0.156554     -0.09707    -0.165428   \n",
            "2                    0.005508    -0.156554     -0.09707    -0.165428   \n",
            "3                    0.005508    -0.156554     -0.09707    -0.165428   \n",
            "4                    0.005508    -0.156554     -0.09707    -0.165428   \n",
            "...                       ...          ...          ...          ...   \n",
            "755187               0.005508    -0.156554     -0.09707    -0.165428   \n",
            "755188               0.005534    -0.156554     -0.09707    -0.165428   \n",
            "755189               0.005534    -0.156554     -0.09707    -0.165428   \n",
            "755190               0.005508    -0.156554     -0.09707    -0.165428   \n",
            "755191               0.005534    -0.156554     -0.09707    -0.165428   \n",
            "\n",
            "         Active Min  Idle Mean   Idle Std   Idle Max   Idle Min  Label  \n",
            "0         -0.139221  -0.335304  -0.165667  -0.336464   -0.30077    0.0  \n",
            "1         -0.139221  -0.335304  -0.165667  -0.336464   -0.30077    0.0  \n",
            "2         -0.139221  -0.335304  -0.165667  -0.336464   -0.30077    0.0  \n",
            "3         -0.139221  -0.335304  -0.165667  -0.336464   -0.30077    0.0  \n",
            "4         -0.139221  -0.335304  -0.165667  -0.336464   -0.30077    0.0  \n",
            "...             ...        ...        ...        ...        ...    ...  \n",
            "755187    -0.139221  -0.335304  -0.165667  -0.336464   -0.30077    0.0  \n",
            "755188    -0.139221  -0.335304  -0.165667  -0.336464   -0.30077    0.0  \n",
            "755189    -0.139221  -0.335304  -0.165667  -0.336464   -0.30077    0.0  \n",
            "755190    -0.139221  -0.335304  -0.165667  -0.336464   -0.30077    0.0  \n",
            "755191    -0.139221  -0.335304  -0.165667  -0.336464   -0.30077    0.0  \n",
            "\n",
            "[755192 rows x 81 columns]\n"
          ]
        }
      ],
      "source": [
        "data_scaled_frame = pd.DataFrame(scaled_data, columns = new_data.columns)\n",
        "\n",
        "\n",
        "data_scaled_frame = data_scaled_frame.assign(Label = output_label)\n",
        "\n",
        "print(data_scaled_frame)"
      ]
    },
    {
      "cell_type": "code",
      "source": [
        "values = data_scaled_frame['Label'].value_counts()\n",
        "import matplotlib.pyplot as plt\n",
        "plt.figure(figsize=(3,3))\n",
        "plt.pie(values, labels = ['Benign', 'Attack'], autopct='%3.3f%%')\n",
        "plt.axis('equal')\n",
        "plt.title('CICIDS2017')\n",
        "plt.show()"
      ],
      "metadata": {
        "colab": {
          "base_uri": "https://localhost:8080/",
          "height": 290
        },
        "id": "JptISWyS0Brb",
        "outputId": "e1b80f75-a00b-4994-a828-5a7700b45b0f"
      },
      "id": "JptISWyS0Brb",
      "execution_count": null,
      "outputs": [
        {
          "output_type": "display_data",
          "data": {
            "text/plain": [
              "<Figure size 300x300 with 1 Axes>"
            ],
            "image/png": "[encoded data removed]"
          },
          "metadata": {}
        }
      ]
    },
    {
      "cell_type": "code",
      "execution_count": null,
      "id": "a10b5b3d-2347-4d40-a22f-a60a0dfbbce1",
      "metadata": {
        "id": "a10b5b3d-2347-4d40-a22f-a60a0dfbbce1",
        "outputId": "b902c873-b737-4ed4-ace6-3ac8d6394a6b",
        "colab": {
          "base_uri": "https://localhost:8080/"
        }
      },
      "outputs": [
        {
          "output_type": "execute_result",
          "data": {
            "text/plain": [
              "(626696, 81)"
            ]
          },
          "metadata": {},
          "execution_count": 11
        }
      ],
      "source": [
        "data_scaled_frame[data_scaled_frame['Label'] == 0].shape"
      ]
    },
    {
      "cell_type": "code",
      "execution_count": null,
      "id": "18f75b09-3dc7-4991-88de-0fe531a3b4cd",
      "metadata": {
        "id": "18f75b09-3dc7-4991-88de-0fe531a3b4cd",
        "outputId": "fb7b872a-c6c6-4d36-e07f-cb3c46426a60",
        "colab": {
          "base_uri": "https://localhost:8080/"
        }
      },
      "outputs": [
        {
          "output_type": "execute_result",
          "data": {
            "text/plain": [
              "(128025, 81)"
            ]
          },
          "metadata": {},
          "execution_count": 12
        }
      ],
      "source": [
        "data_scaled_frame[data_scaled_frame['Label'] == 1].shape"
      ]
    },
    {
      "cell_type": "markdown",
      "source": [
        "#Feature Selection Algorithm"
      ],
      "metadata": {
        "id": "XQrlVmfD0TqI"
      },
      "id": "XQrlVmfD0TqI"
    },
    {
      "cell_type": "markdown",
      "source": [
        "## Stage 1 Correlation Values and their log base 10 values found\n",
        "  - Find the pearson correlation between each feature and the output label and store it in a list named `pearson_values`\n",
        "  - Find the Spearman correlation between each feature and the output label and store it in a list named `s_values`\n",
        "  - Find the Kendall Tau correlation between each feature and the output label and store it in a list named `k_values`"
      ],
      "metadata": {
        "id": "Z5FusLVU0aT3"
      },
      "id": "Z5FusLVU0aT3"
    },
    {
      "cell_type": "code",
      "execution_count": null,
      "id": "1eacfa0c-9321-41f9-8636-387fba6a522b",
      "metadata": {
        "id": "1eacfa0c-9321-41f9-8636-387fba6a522b"
      },
      "outputs": [],
      "source": [
        "import math\n",
        "incomplete_rows = new_data[new_data.isnull().any(axis=1)]\n",
        "\n",
        "#print(incomplete_rows)\n",
        "\n",
        "\n",
        "correlation_matrix_ids = data_scaled_frame.corr() # correaltion of different features with the median_house_value\n",
        "nan_features = []\n",
        "linear_features = []\n",
        "non_linear_features = []\n",
        "\n",
        "sample_dataframe = data_scaled_frame.copy(deep=True)\n",
        "\n",
        "l = correlation_matrix_ids[\"Label\"].sort_values(ascending=False)\n",
        "pearson_values = []\n",
        "for _, score in l.items():\n",
        "    if (score!=1 and score>0):\n",
        "      pearson_values.append(math.log10(score))\n",
        "    elif score < 0:\n",
        "      pearson_values.append(score)"
      ]
    },
    {
      "cell_type": "code",
      "source": [
        "from scipy.stats import spearmanr, kendalltau\n",
        "\n",
        "spearman_values = data_scaled_frame.corr(method='spearman')[\"Label\"].sort_values(ascending=False)\n",
        "kendall_values = data_scaled_frame.corr(method='kendall')[\"Label\"].sort_values(ascending=False)"
      ],
      "metadata": {
        "id": "-PQbM2ekS1z7"
      },
      "id": "-PQbM2ekS1z7",
      "execution_count": null,
      "outputs": []
    },
    {
      "cell_type": "code",
      "execution_count": null,
      "id": "eedfee7a-25b9-4b8b-880e-d9fddb977e7e",
      "metadata": {
        "id": "eedfee7a-25b9-4b8b-880e-d9fddb977e7e"
      },
      "outputs": [],
      "source": [
        "s_values = []\n",
        "k_values = []\n",
        "\n",
        "for name,score in spearman_values.items():\n",
        "    if (score!=1 and score>0):\n",
        "      s_values.append(math.log10(score))\n",
        "    elif score < 0:\n",
        "        s_values.append(score)\n",
        "\n",
        "for name,score in kendall_values.items():\n",
        "    if (score!=1 and score>0):\n",
        "      k_values.append(math.log10(score))\n",
        "    elif score < 0:\n",
        "      k_values.append(score)\n",
        "\n",
        "col_headings = ['Pearson', 'Spearman', 'Kendall']\n",
        "combined_lists = [pearson_values, s_values, k_values]"
      ]
    },
    {
      "cell_type": "markdown",
      "source": [
        "## Stage 2 - Composition of Correlation Functions\n",
        "  - The three types of correlation coefficients values found will be used to create a new dataframe, with 3 columns: Pearson, Spearman, and Kendall.\n",
        "  - Now, the shape of this dataframe is `number_of_features * 3`.\n",
        "  - Now, 3 values are found: Pearson correlation between Spearman and Kendall columns, Spearman correlation between Pearson and Kendall columns, and Kendall correlation between Pearson and Spearman columns."
      ],
      "metadata": {
        "id": "yYkJXxRY0lDE"
      },
      "id": "yYkJXxRY0lDE"
    },
    {
      "cell_type": "code",
      "source": [
        "frame_final = pd.DataFrame(combined_lists).T\n",
        "frame_final.columns = col_headings\n",
        "\n",
        "correlation_matrix_ids = frame_final.corr() # correaltion of different features with the median_house_value\n",
        "l = correlation_matrix_ids[\"Kendall\"].sort_values(ascending=False)\n",
        "spearman_values_second = frame_final.corr(method='spearman')[\"Kendall\"].sort_values(ascending=False)\n",
        "kendall_values_second = frame_final.corr(method='kendall')[\"Pearson\"].sort_values(ascending=False)\n",
        "\n",
        "final_values = []\n",
        "\n",
        "count = 0\n",
        "for _, score1 in l.items():\n",
        "    if count == 0:\n",
        "        final_values.append(score1)\n",
        "    count+=1\n",
        "\n",
        "count = 0\n",
        "\n",
        "for _, score2 in spearman_values_second.items():\n",
        "    if count == 0:\n",
        "        final_values.append(score2)\n",
        "    count+=1\n",
        "count = 0\n",
        "\n",
        "for _, score3 in kendall_values_second.items():\n",
        "    if count == 1:\n",
        "        final_values.append(score3)\n",
        "    count+=1\n",
        "\n",
        "threshold1 = sum(final_values)/len(final_values)"
      ],
      "metadata": {
        "id": "Eb91BTU5VUL9"
      },
      "id": "Eb91BTU5VUL9",
      "execution_count": null,
      "outputs": []
    },
    {
      "cell_type": "code",
      "source": [
        "threshold1 = min(threshold1, min(final_values))"
      ],
      "metadata": {
        "id": "F-Xeek8LjQDA"
      },
      "id": "F-Xeek8LjQDA",
      "execution_count": null,
      "outputs": []
    },
    {
      "cell_type": "code",
      "source": [
        "threshold1 = min(threshold1, 1-threshold1)"
      ],
      "metadata": {
        "id": "jks89Tw6jQa9"
      },
      "id": "jks89Tw6jQa9",
      "execution_count": null,
      "outputs": []
    },
    {
      "cell_type": "code",
      "execution_count": null,
      "id": "a9a2e16f-3839-42e7-ae51-818b6479f4e7",
      "metadata": {
        "id": "a9a2e16f-3839-42e7-ae51-818b6479f4e7",
        "outputId": "4a2228d9-ba22-4df4-e7f1-67a74b5a6f38",
        "colab": {
          "base_uri": "https://localhost:8080/"
        }
      },
      "outputs": [
        {
          "output_type": "execute_result",
          "data": {
            "text/plain": [
              "0.2860107928601079"
            ]
          },
          "metadata": {},
          "execution_count": 19
        }
      ],
      "source": [
        "threshold1"
      ]
    },
    {
      "cell_type": "markdown",
      "source": [
        "## Stage 3: Loading the dataset again to perform Mutual Information Gain on it."
      ],
      "metadata": {
        "id": "ZPLAhuhi0p5e"
      },
      "id": "ZPLAhuhi0p5e"
    },
    {
      "cell_type": "code",
      "execution_count": null,
      "id": "886c9b2d-2b8c-4380-b776-82b9d27620ff",
      "metadata": {
        "id": "886c9b2d-2b8c-4380-b776-82b9d27620ff"
      },
      "outputs": [],
      "source": [
        "\n",
        "final_dataset = load_ids_data()\n",
        "\n",
        "\n",
        "\n",
        "final_dataset = final_dataset[~final_dataset.isin([1234567]).any(axis=1)]\n"
      ]
    },
    {
      "cell_type": "code",
      "execution_count": null,
      "id": "0b0ef340-824c-40f2-bf56-772f1bc10369",
      "metadata": {
        "id": "0b0ef340-824c-40f2-bf56-772f1bc10369"
      },
      "outputs": [],
      "source": [
        "categorical_columns = ['Flow ID', ' Source IP', ' Destination IP', ' Source Port', ' Destination Port', ' Protocol']\n",
        "\n"
      ]
    },
    {
      "cell_type": "code",
      "execution_count": null,
      "id": "0eeb6c96-3111-4843-9e0c-cd2726dd65b5",
      "metadata": {
        "id": "0eeb6c96-3111-4843-9e0c-cd2726dd65b5",
        "outputId": "abb3b0aa-ffff-4833-bfe9-99fcd49b5541",
        "colab": {
          "base_uri": "https://localhost:8080/"
        }
      },
      "outputs": [
        {
          "output_type": "execute_result",
          "data": {
            "text/plain": [
              "(755192, 85)"
            ]
          },
          "metadata": {},
          "execution_count": 22
        }
      ],
      "source": [
        "final_dataset.shape\n"
      ]
    },
    {
      "cell_type": "code",
      "execution_count": null,
      "id": "578157d5-0152-43ad-a400-aa90f13199b8",
      "metadata": {
        "id": "578157d5-0152-43ad-a400-aa90f13199b8"
      },
      "outputs": [],
      "source": [
        "final_dataset.drop(\" Timestamp\", axis=1, inplace=True)\n",
        "final_dataset.drop(\"Flow ID\", axis=1, inplace=True)\n",
        "final_dataset.drop(\" Source IP\", axis=1, inplace=True)\n",
        "final_dataset.drop(\" Destination IP\", axis=1, inplace=True)"
      ]
    },
    {
      "cell_type": "code",
      "execution_count": null,
      "id": "6e366535-d698-4298-9708-7b629b766e94",
      "metadata": {
        "id": "6e366535-d698-4298-9708-7b629b766e94"
      },
      "outputs": [],
      "source": [
        "final_clean = final_dataset.dropna(axis=1)"
      ]
    },
    {
      "cell_type": "code",
      "execution_count": null,
      "id": "d63227a4-fdae-44e0-b538-db496aef3418",
      "metadata": {
        "id": "d63227a4-fdae-44e0-b538-db496aef3418",
        "outputId": "832d5c75-c853-407e-8d9b-3d0a1add9bef",
        "colab": {
          "base_uri": "https://localhost:8080/"
        }
      },
      "outputs": [
        {
          "output_type": "stream",
          "name": "stderr",
          "text": [
            "<ipython-input-25-36dfece7bbed>:2: FutureWarning: Downcasting behavior in `replace` is deprecated and will be removed in a future version. To retain the old behavior, explicitly call `result.infer_objects(copy=False)`. To opt-in to the future behavior, set `pd.set_option('future.no_silent_downcasting', True)`\n",
            "  final_clean.replace('DDoS', 1, inplace=True)\n"
          ]
        }
      ],
      "source": [
        "final_clean.replace('BENIGN', 0, inplace=True)\n",
        "final_clean.replace('DDoS', 1, inplace=True)"
      ]
    },
    {
      "cell_type": "code",
      "execution_count": null,
      "id": "81efb327-3f10-4726-8c8b-7362ac38abb1",
      "metadata": {
        "id": "81efb327-3f10-4726-8c8b-7362ac38abb1"
      },
      "outputs": [],
      "source": [
        "from sklearn.feature_selection import mutual_info_classif\n",
        "\n",
        "info_gain = mutual_info_classif(final_clean, final_clean[' Label'])\n",
        "\n",
        "\n",
        "\n"
      ]
    },
    {
      "cell_type": "code",
      "execution_count": null,
      "id": "8aa7d91b-6b6e-4c41-b4b9-e95827d21f60",
      "metadata": {
        "id": "8aa7d91b-6b6e-4c41-b4b9-e95827d21f60"
      },
      "outputs": [],
      "source": []
    },
    {
      "cell_type": "code",
      "execution_count": null,
      "id": "6907fbec-5743-4ac2-8f41-b5240a23c574",
      "metadata": {
        "id": "6907fbec-5743-4ac2-8f41-b5240a23c574",
        "outputId": "5b486e19-2981-4c85-9c53-2dae736d0393",
        "colab": {
          "base_uri": "https://localhost:8080/"
        }
      },
      "outputs": [
        {
          "output_type": "stream",
          "name": "stdout",
          "text": [
            "0.1715087292126784\n"
          ]
        }
      ],
      "source": [
        "print(sum(info_gain)/(len(info_gain)))"
      ]
    },
    {
      "cell_type": "code",
      "execution_count": null,
      "id": "7222214e-0a94-4c69-8f6b-cc772dc50e94",
      "metadata": {
        "id": "7222214e-0a94-4c69-8f6b-cc772dc50e94"
      },
      "outputs": [],
      "source": [
        "scores = pd.DataFrame({'feature':final_clean.columns, 'score':info_gain})\n",
        "\n",
        "scores = scores.sort_values(by = 'score', ascending=False)"
      ]
    },
    {
      "cell_type": "code",
      "execution_count": null,
      "id": "4bb9e8ba-660f-4d68-9945-7916eb63212d",
      "metadata": {
        "id": "4bb9e8ba-660f-4d68-9945-7916eb63212d",
        "outputId": "f385ca1c-6b9f-45ec-e9a1-77e8a7ae6ad9",
        "colab": {
          "base_uri": "https://localhost:8080/"
        }
      },
      "outputs": [
        {
          "output_type": "stream",
          "name": "stdout",
          "text": [
            "0.17150872921267843\n"
          ]
        }
      ],
      "source": [
        "print(sum(list(scores['score']))/len(list(scores['score'])))"
      ]
    },
    {
      "cell_type": "code",
      "execution_count": null,
      "id": "f68f4a28-ebdd-4ded-bbbc-41e7a949c3ce",
      "metadata": {
        "id": "f68f4a28-ebdd-4ded-bbbc-41e7a949c3ce",
        "outputId": "f42849b8-dbbd-4698-d519-eae9ca79e29a",
        "colab": {
          "base_uri": "https://localhost:8080/"
        }
      },
      "outputs": [
        {
          "output_type": "stream",
          "name": "stdout",
          "text": [
            "[' Label', ' Subflow Fwd Bytes', 'Total Length of Fwd Packets', ' Average Packet Size', ' Fwd Packet Length Mean', ' Avg Fwd Segment Size', ' Fwd Packet Length Max', ' Fwd Header Length.1', ' Fwd Header Length', ' Avg Bwd Segment Size', ' Bwd Packet Length Mean', ' Packet Length Mean', ' Total Length of Bwd Packets', ' Subflow Bwd Bytes', 'Fwd IAT Total', 'Init_Win_bytes_forward', ' Fwd IAT Max', 'Bwd Packet Length Max', ' Destination Port', ' Packet Length Std', ' Packet Length Variance', ' Fwd IAT Mean', ' Max Packet Length', ' Bwd Header Length', ' Fwd IAT Std', ' Fwd Packet Length Std', ' Bwd Packet Length Std', ' Init_Win_bytes_backward', ' Total Fwd Packets', 'Subflow Fwd Packets', ' Flow IAT Max', ' act_data_pkt_fwd', ' Flow Duration', ' Flow IAT Std', ' Subflow Bwd Packets', ' Total Backward Packets', 'Fwd Packets/s', 'Flow Bytes/s', ' Bwd Packets/s', ' Flow Packets/s', ' Bwd IAT Max', ' Flow IAT Mean', 'Bwd IAT Total', ' Bwd IAT Mean', ' Protocol', ' Bwd IAT Std', ' Active Min', ' Down/Up Ratio', 'Active Mean', ' Active Max', ' Bwd Packet Length Min', ' Bwd IAT Min', ' min_seg_size_forward', ' Idle Max', ' Fwd Packet Length Min', ' Min Packet Length', ' Fwd IAT Min', 'Idle Mean', ' Source Port', ' Idle Min', ' Flow IAT Min', ' ACK Flag Count', ' PSH Flag Count', ' URG Flag Count', ' Idle Std', 'Fwd PSH Flags', ' SYN Flag Count', ' Active Std', 'FIN Flag Count', ' RST Flag Count', ' Bwd URG Flags', ' Bwd PSH Flags', ' Bwd Avg Bytes/Bulk', ' ECE Flag Count', 'Bwd Avg Bulk Rate', ' Fwd Avg Bulk Rate', ' CWE Flag Count', ' Fwd URG Flags', ' Bwd Avg Packets/Bulk', ' Fwd Avg Packets/Bulk', 'Fwd Avg Bytes/Bulk']\n"
          ]
        }
      ],
      "source": [
        "print(list(scores['feature']))"
      ]
    },
    {
      "cell_type": "markdown",
      "source": [
        "## Selecting only the features above the threshold value `threshold1`"
      ],
      "metadata": {
        "id": "BJmHUYW50yla"
      },
      "id": "BJmHUYW50yla"
    },
    {
      "cell_type": "code",
      "execution_count": null,
      "id": "081fbc96-9d46-4b41-956f-a06480e1b1d1",
      "metadata": {
        "id": "081fbc96-9d46-4b41-956f-a06480e1b1d1",
        "outputId": "ba02b0fe-4057-4ab1-a995-5581197726ed",
        "colab": {
          "base_uri": "https://localhost:8080/"
        }
      },
      "outputs": [
        {
          "output_type": "stream",
          "name": "stdout",
          "text": [
            "[' Subflow Fwd Bytes', 'Total Length of Fwd Packets', ' Average Packet Size', ' Fwd Packet Length Mean', ' Avg Fwd Segment Size', ' Fwd Packet Length Max', ' Fwd Header Length.1', ' Fwd Header Length', ' Avg Bwd Segment Size', ' Bwd Packet Length Mean', ' Packet Length Mean', ' Total Length of Bwd Packets', ' Subflow Bwd Bytes', 'Fwd IAT Total', 'Init_Win_bytes_forward', ' Fwd IAT Max', 'Bwd Packet Length Max', ' Destination Port']\n",
            "18\n"
          ]
        }
      ],
      "source": [
        "final_info_gain = []\n",
        "for i in range(len(list(scores['feature']))):\n",
        "    if i!=0:\n",
        "        if list(scores['score'])[i] > threshold1:\n",
        "            final_info_gain.append(list(scores['feature'])[i])\n",
        "print(final_info_gain)\n",
        "print(len(final_info_gain))"
      ]
    },
    {
      "cell_type": "code",
      "execution_count": null,
      "id": "975f49f6-a899-4d1a-8d24-9d4752d2adb6",
      "metadata": {
        "id": "975f49f6-a899-4d1a-8d24-9d4752d2adb6"
      },
      "outputs": [],
      "source": [
        "sub = final_info_gain"
      ]
    },
    {
      "cell_type": "code",
      "execution_count": null,
      "id": "24ed0d9f-9746-4923-9e87-ec659a934c59",
      "metadata": {
        "id": "24ed0d9f-9746-4923-9e87-ec659a934c59",
        "outputId": "4f988ac6-7025-4ec7-a482-7095652093a7",
        "colab": {
          "base_uri": "https://localhost:8080/"
        }
      },
      "outputs": [
        {
          "output_type": "stream",
          "name": "stdout",
          "text": [
            " Subflow Fwd Bytes   0.4696376594331605\n",
            "Total Length of Fwd Packets   0.41597622169009396\n",
            " Average Packet Size   0.4159389227414081\n",
            " Fwd Packet Length Mean   0.4121932193098643\n",
            " Avg Fwd Segment Size   0.3371967699870635\n",
            " Fwd Packet Length Max   0.33713550250857205\n",
            " Fwd Header Length.1   0.333636956143363\n",
            " Fwd Header Length   0.32232587238912513\n",
            " Avg Bwd Segment Size   0.3223182680389567\n",
            " Bwd Packet Length Mean   0.3143355213415302\n",
            " Packet Length Mean   0.3140536754723269\n",
            " Total Length of Bwd Packets   0.3139921256672913\n",
            " Subflow Bwd Bytes   0.31318634375702925\n",
            "Fwd IAT Total   0.312861272900989\n",
            "Init_Win_bytes_forward   0.30778788383094624\n",
            " Fwd IAT Max   0.30642393696245196\n",
            "Bwd Packet Length Max   0.3045483844656818\n",
            " Destination Port   0.29987460780222586\n"
          ]
        }
      ],
      "source": [
        "\n",
        "for i in range(len(sub)):\n",
        "    feat = sub[i]\n",
        "    list(scores['feature']).index(sub[i])\n",
        "    print(sub[i], \" \", list(scores['score'])[i])\n",
        "#print(final_info_gain)\n",
        "#print(len(final_info_gain))"
      ]
    },
    {
      "cell_type": "markdown",
      "source": [
        "# Training Models"
      ],
      "metadata": {
        "id": "FPDZVYki0322"
      },
      "id": "FPDZVYki0322"
    },
    {
      "cell_type": "code",
      "execution_count": null,
      "id": "9491f4a2-e33f-4bd2-8240-1c06b0f4b7a7",
      "metadata": {
        "id": "9491f4a2-e33f-4bd2-8240-1c06b0f4b7a7"
      },
      "outputs": [],
      "source": [
        "X_Selected = final_dataset[sub]\n"
      ]
    },
    {
      "cell_type": "code",
      "execution_count": null,
      "id": "d3469179-2db1-4f10-8edf-719aa9fc1b01",
      "metadata": {
        "id": "d3469179-2db1-4f10-8edf-719aa9fc1b01",
        "outputId": "fe1fb9df-a293-48c5-e57b-ed5756b26ba9",
        "colab": {
          "base_uri": "https://localhost:8080/",
          "height": 496
        }
      },
      "outputs": [
        {
          "output_type": "execute_result",
          "data": {
            "text/plain": [
              "         Subflow Fwd Bytes  Total Length of Fwd Packets   Average Packet Size  \\\n",
              "0                       12                           12                   9.0   \n",
              "1                        6                            6                   9.0   \n",
              "2                        6                            6                   9.0   \n",
              "3                        6                            6                   9.0   \n",
              "4                       12                           12                   9.0   \n",
              "...                    ...                          ...                   ...   \n",
              "755658                   6                            6                   9.0   \n",
              "755659                  80                           80                  69.0   \n",
              "755660                  64                           64                  48.0   \n",
              "755661                  80                           80                  66.0   \n",
              "755662                   0                            0                   0.0   \n",
              "\n",
              "         Fwd Packet Length Mean   Avg Fwd Segment Size  \\\n",
              "0                           6.0                    6.0   \n",
              "1                           6.0                    6.0   \n",
              "2                           6.0                    6.0   \n",
              "3                           6.0                    6.0   \n",
              "4                           6.0                    6.0   \n",
              "...                         ...                    ...   \n",
              "755658                      6.0                    6.0   \n",
              "755659                     40.0                   40.0   \n",
              "755660                     32.0                   32.0   \n",
              "755661                     40.0                   40.0   \n",
              "755662                      0.0                    0.0   \n",
              "\n",
              "         Fwd Packet Length Max   Fwd Header Length.1   Fwd Header Length  \\\n",
              "0                            6                    40                  40   \n",
              "1                            6                    20                  20   \n",
              "2                            6                    20                  20   \n",
              "3                            6                    20                  20   \n",
              "4                            6                    40                  40   \n",
              "...                        ...                   ...                 ...   \n",
              "755658                       6                    20                  20   \n",
              "755659                      40                    64                  64   \n",
              "755660                      32                    64                  64   \n",
              "755661                      40                    40                  40   \n",
              "755662                       0                    32                  32   \n",
              "\n",
              "         Avg Bwd Segment Size   Bwd Packet Length Mean   Packet Length Mean  \\\n",
              "0                         0.0                      0.0                  6.0   \n",
              "1                         6.0                      6.0                  6.0   \n",
              "2                         6.0                      6.0                  6.0   \n",
              "3                         6.0                      6.0                  6.0   \n",
              "4                         0.0                      0.0                  6.0   \n",
              "...                       ...                      ...                  ...   \n",
              "755658                    6.0                      6.0                  6.0   \n",
              "755659                   78.0                     78.0                 55.2   \n",
              "755660                   48.0                     48.0                 38.4   \n",
              "755661                   72.0                     72.0                 52.8   \n",
              "755662                    0.0                      0.0                  0.0   \n",
              "\n",
              "         Total Length of Bwd Packets   Subflow Bwd Bytes  Fwd IAT Total  \\\n",
              "0                                0.0                   0            3.0   \n",
              "1                                6.0                   6            0.0   \n",
              "2                                6.0                   6            0.0   \n",
              "3                                6.0                   6            0.0   \n",
              "4                                0.0                   0            3.0   \n",
              "...                              ...                 ...            ...   \n",
              "755658                           6.0                   6            0.0   \n",
              "755659                         156.0                 156            3.0   \n",
              "755660                          96.0                  96            3.0   \n",
              "755661                         144.0                 144            3.0   \n",
              "755662                           0.0                   0            0.0   \n",
              "\n",
              "        Init_Win_bytes_forward   Fwd IAT Max  Bwd Packet Length Max  \\\n",
              "0                           33           3.0                      0   \n",
              "1                           29           0.0                      6   \n",
              "2                           29           0.0                      6   \n",
              "3                           31           0.0                      6   \n",
              "4                           32           3.0                      0   \n",
              "...                        ...           ...                    ...   \n",
              "755658                       0           0.0                      6   \n",
              "755659                      -1           3.0                     78   \n",
              "755660                      -1           3.0                     48   \n",
              "755661                      -1           3.0                     72   \n",
              "755662                     357           0.0                      0   \n",
              "\n",
              "         Destination Port  \n",
              "0                   54865  \n",
              "1                   55054  \n",
              "2                   55055  \n",
              "3                   46236  \n",
              "4                   54863  \n",
              "...                   ...  \n",
              "755658                443  \n",
              "755659                 53  \n",
              "755660                 53  \n",
              "755661                 53  \n",
              "755662              52400  \n",
              "\n",
              "[755192 rows x 18 columns]"
            ],
            "text/html": [
              "\n",
              "  <div id=\"df-9cd0a9a3-e785-4332-9a3b-221801eecfff\" class=\"colab-df-container\">\n",
              "    <div>\n",
              "<style scoped>\n",
              "    .dataframe tbody tr th:only-of-type {\n",
              "        vertical-align: middle;\n",
              "    }\n",
              "\n",
              "    .dataframe tbody tr th {\n",
              "        vertical-align: top;\n",
              "    }\n",
              "\n",
              "    .dataframe thead th {\n",
              "        text-align: right;\n",
              "    }\n",
              "</style>\n",
              "<table border=\"1\" class=\"dataframe\">\n",
              "  <thead>\n",
              "    <tr style=\"text-align: right;\">\n",
              "      <th></th>\n",
              "      <th>Subflow Fwd Bytes</th>\n",
              "      <th>Total Length of Fwd Packets</th>\n",
              "      <th>Average Packet Size</th>\n",
              "      <th>Fwd Packet Length Mean</th>\n",
              "      <th>Avg Fwd Segment Size</th>\n",
              "      <th>Fwd Packet Length Max</th>\n",
              "      <th>Fwd Header Length.1</th>\n",
              "      <th>Fwd Header Length</th>\n",
              "      <th>Avg Bwd Segment Size</th>\n",
              "      <th>Bwd Packet Length Mean</th>\n",
              "      <th>Packet Length Mean</th>\n",
              "      <th>Total Length of Bwd Packets</th>\n",
              "      <th>Subflow Bwd Bytes</th>\n",
              "      <th>Fwd IAT Total</th>\n",
              "      <th>Init_Win_bytes_forward</th>\n",
              "      <th>Fwd IAT Max</th>\n",
              "      <th>Bwd Packet Length Max</th>\n",
              "      <th>Destination Port</th>\n",
              "    </tr>\n",
              "  </thead>\n",
              "  <tbody>\n",
              "    <tr>\n",
              "      <th>0</th>\n",
              "      <td>12</td>\n",
              "      <td>12</td>\n",
              "      <td>9.0</td>\n",
              "      <td>6.0</td>\n",
              "      <td>6.0</td>\n",
              "      <td>6</td>\n",
              "      <td>40</td>\n",
              "      <td>40</td>\n",
              "      <td>0.0</td>\n",
              "      <td>0.0</td>\n",
              "      <td>6.0</td>\n",
              "      <td>0.0</td>\n",
              "      <td>0</td>\n",
              "      <td>3.0</td>\n",
              "      <td>33</td>\n",
              "      <td>3.0</td>\n",
              "      <td>0</td>\n",
              "      <td>54865</td>\n",
              "    </tr>\n",
              "    <tr>\n",
              "      <th>1</th>\n",
              "      <td>6</td>\n",
              "      <td>6</td>\n",
              "      <td>9.0</td>\n",
              "      <td>6.0</td>\n",
              "      <td>6.0</td>\n",
              "      <td>6</td>\n",
              "      <td>20</td>\n",
              "      <td>20</td>\n",
              "      <td>6.0</td>\n",
              "      <td>6.0</td>\n",
              "      <td>6.0</td>\n",
              "      <td>6.0</td>\n",
              "      <td>6</td>\n",
              "      <td>0.0</td>\n",
              "      <td>29</td>\n",
              "      <td>0.0</td>\n",
              "      <td>6</td>\n",
              "      <td>55054</td>\n",
              "    </tr>\n",
              "    <tr>\n",
              "      <th>2</th>\n",
              "      <td>6</td>\n",
              "      <td>6</td>\n",
              "      <td>9.0</td>\n",
              "      <td>6.0</td>\n",
              "      <td>6.0</td>\n",
              "      <td>6</td>\n",
              "      <td>20</td>\n",
              "      <td>20</td>\n",
              "      <td>6.0</td>\n",
              "      <td>6.0</td>\n",
              "      <td>6.0</td>\n",
              "      <td>6.0</td>\n",
              "      <td>6</td>\n",
              "      <td>0.0</td>\n",
              "      <td>29</td>\n",
              "      <td>0.0</td>\n",
              "      <td>6</td>\n",
              "      <td>55055</td>\n",
              "    </tr>\n",
              "    <tr>\n",
              "      <th>3</th>\n",
              "      <td>6</td>\n",
              "      <td>6</td>\n",
              "      <td>9.0</td>\n",
              "      <td>6.0</td>\n",
              "      <td>6.0</td>\n",
              "      <td>6</td>\n",
              "      <td>20</td>\n",
              "      <td>20</td>\n",
              "      <td>6.0</td>\n",
              "      <td>6.0</td>\n",
              "      <td>6.0</td>\n",
              "      <td>6.0</td>\n",
              "      <td>6</td>\n",
              "      <td>0.0</td>\n",
              "      <td>31</td>\n",
              "      <td>0.0</td>\n",
              "      <td>6</td>\n",
              "      <td>46236</td>\n",
              "    </tr>\n",
              "    <tr>\n",
              "      <th>4</th>\n",
              "      <td>12</td>\n",
              "      <td>12</td>\n",
              "      <td>9.0</td>\n",
              "      <td>6.0</td>\n",
              "      <td>6.0</td>\n",
              "      <td>6</td>\n",
              "      <td>40</td>\n",
              "      <td>40</td>\n",
              "      <td>0.0</td>\n",
              "      <td>0.0</td>\n",
              "      <td>6.0</td>\n",
              "      <td>0.0</td>\n",
              "      <td>0</td>\n",
              "      <td>3.0</td>\n",
              "      <td>32</td>\n",
              "      <td>3.0</td>\n",
              "      <td>0</td>\n",
              "      <td>54863</td>\n",
              "    </tr>\n",
              "    <tr>\n",
              "      <th>...</th>\n",
              "      <td>...</td>\n",
              "      <td>...</td>\n",
              "      <td>...</td>\n",
              "      <td>...</td>\n",
              "      <td>...</td>\n",
              "      <td>...</td>\n",
              "      <td>...</td>\n",
              "      <td>...</td>\n",
              "      <td>...</td>\n",
              "      <td>...</td>\n",
              "      <td>...</td>\n",
              "      <td>...</td>\n",
              "      <td>...</td>\n",
              "      <td>...</td>\n",
              "      <td>...</td>\n",
              "      <td>...</td>\n",
              "      <td>...</td>\n",
              "      <td>...</td>\n",
              "    </tr>\n",
              "    <tr>\n",
              "      <th>755658</th>\n",
              "      <td>6</td>\n",
              "      <td>6</td>\n",
              "      <td>9.0</td>\n",
              "      <td>6.0</td>\n",
              "      <td>6.0</td>\n",
              "      <td>6</td>\n",
              "      <td>20</td>\n",
              "      <td>20</td>\n",
              "      <td>6.0</td>\n",
              "      <td>6.0</td>\n",
              "      <td>6.0</td>\n",
              "      <td>6.0</td>\n",
              "      <td>6</td>\n",
              "      <td>0.0</td>\n",
              "      <td>0</td>\n",
              "      <td>0.0</td>\n",
              "      <td>6</td>\n",
              "      <td>443</td>\n",
              "    </tr>\n",
              "    <tr>\n",
              "      <th>755659</th>\n",
              "      <td>80</td>\n",
              "      <td>80</td>\n",
              "      <td>69.0</td>\n",
              "      <td>40.0</td>\n",
              "      <td>40.0</td>\n",
              "      <td>40</td>\n",
              "      <td>64</td>\n",
              "      <td>64</td>\n",
              "      <td>78.0</td>\n",
              "      <td>78.0</td>\n",
              "      <td>55.2</td>\n",
              "      <td>156.0</td>\n",
              "      <td>156</td>\n",
              "      <td>3.0</td>\n",
              "      <td>-1</td>\n",
              "      <td>3.0</td>\n",
              "      <td>78</td>\n",
              "      <td>53</td>\n",
              "    </tr>\n",
              "    <tr>\n",
              "      <th>755660</th>\n",
              "      <td>64</td>\n",
              "      <td>64</td>\n",
              "      <td>48.0</td>\n",
              "      <td>32.0</td>\n",
              "      <td>32.0</td>\n",
              "      <td>32</td>\n",
              "      <td>64</td>\n",
              "      <td>64</td>\n",
              "      <td>48.0</td>\n",
              "      <td>48.0</td>\n",
              "      <td>38.4</td>\n",
              "      <td>96.0</td>\n",
              "      <td>96</td>\n",
              "      <td>3.0</td>\n",
              "      <td>-1</td>\n",
              "      <td>3.0</td>\n",
              "      <td>48</td>\n",
              "      <td>53</td>\n",
              "    </tr>\n",
              "    <tr>\n",
              "      <th>755661</th>\n",
              "      <td>80</td>\n",
              "      <td>80</td>\n",
              "      <td>66.0</td>\n",
              "      <td>40.0</td>\n",
              "      <td>40.0</td>\n",
              "      <td>40</td>\n",
              "      <td>40</td>\n",
              "      <td>40</td>\n",
              "      <td>72.0</td>\n",
              "      <td>72.0</td>\n",
              "      <td>52.8</td>\n",
              "      <td>144.0</td>\n",
              "      <td>144</td>\n",
              "      <td>3.0</td>\n",
              "      <td>-1</td>\n",
              "      <td>3.0</td>\n",
              "      <td>72</td>\n",
              "      <td>53</td>\n",
              "    </tr>\n",
              "    <tr>\n",
              "      <th>755662</th>\n",
              "      <td>0</td>\n",
              "      <td>0</td>\n",
              "      <td>0.0</td>\n",
              "      <td>0.0</td>\n",
              "      <td>0.0</td>\n",
              "      <td>0</td>\n",
              "      <td>32</td>\n",
              "      <td>32</td>\n",
              "      <td>0.0</td>\n",
              "      <td>0.0</td>\n",
              "      <td>0.0</td>\n",
              "      <td>0.0</td>\n",
              "      <td>0</td>\n",
              "      <td>0.0</td>\n",
              "      <td>357</td>\n",
              "      <td>0.0</td>\n",
              "      <td>0</td>\n",
              "      <td>52400</td>\n",
              "    </tr>\n",
              "  </tbody>\n",
              "</table>\n",
              "<p>755192 rows × 18 columns</p>\n",
              "</div>\n",
              "    <div class=\"colab-df-buttons\">\n",
              "\n",
              "  <div class=\"colab-df-container\">\n",
              "    <button class=\"colab-df-convert\" onclick=\"convertToInteractive('df-9cd0a9a3-e785-4332-9a3b-221801eecfff')\"\n",
              "            title=\"Convert this dataframe to an interactive table.\"\n",
              "            style=\"display:none;\">\n",
              "\n",
              "  <svg xmlns=\"http://www.w3.org/2000/svg\" height=\"24px\" viewBox=\"0 -960 960 960\">\n",
              "    <path d=\"M120-120v-720h720v720H120Zm60-500h600v-160H180v160Zm220 220h160v-160H400v160Zm0 220h160v-160H400v160ZM180-400h160v-160H180v160Zm440 0h160v-160H620v160ZM180-180h160v-160H180v160Zm440 0h160v-160H620v160Z\"/>\n",
              "  </svg>\n",
              "    </button>\n",
              "\n",
              "  <style>\n",
              "    .colab-df-container {\n",
              "      display:flex;\n",
              "      gap: 12px;\n",
              "    }\n",
              "\n",
              "    .colab-df-convert {\n",
              "      background-color: #E8F0FE;\n",
              "      border: none;\n",
              "      border-radius: 50%;\n",
              "      cursor: pointer;\n",
              "      display: none;\n",
              "      fill: #1967D2;\n",
              "      height: 32px;\n",
              "      padding: 0 0 0 0;\n",
              "      width: 32px;\n",
              "    }\n",
              "\n",
              "    .colab-df-convert:hover {\n",
              "      background-color: #E2EBFA;\n",
              "      box-shadow: 0px 1px 2px rgba(60, 64, 67, 0.3), 0px 1px 3px 1px rgba(60, 64, 67, 0.15);\n",
              "      fill: #174EA6;\n",
              "    }\n",
              "\n",
              "    .colab-df-buttons div {\n",
              "      margin-bottom: 4px;\n",
              "    }\n",
              "\n",
              "    [theme=dark] .colab-df-convert {\n",
              "      background-color: #3B4455;\n",
              "      fill: #D2E3FC;\n",
              "    }\n",
              "\n",
              "    [theme=dark] .colab-df-convert:hover {\n",
              "      background-color: #434B5C;\n",
              "      box-shadow: 0px 1px 3px 1px rgba(0, 0, 0, 0.15);\n",
              "      filter: drop-shadow(0px 1px 2px rgba(0, 0, 0, 0.3));\n",
              "      fill: #FFFFFF;\n",
              "    }\n",
              "  </style>\n",
              "\n",
              "    <script>\n",
              "      const buttonEl =\n",
              "        document.querySelector('#df-9cd0a9a3-e785-4332-9a3b-221801eecfff button.colab-df-convert');\n",
              "      buttonEl.style.display =\n",
              "        google.colab.kernel.accessAllowed ? 'block' : 'none';\n",
              "\n",
              "      async function convertToInteractive(key) {\n",
              "        const element = document.querySelector('#df-9cd0a9a3-e785-4332-9a3b-221801eecfff');\n",
              "        const dataTable =\n",
              "          await google.colab.kernel.invokeFunction('convertToInteractive',\n",
              "                                                    [key], {});\n",
              "        if (!dataTable) return;\n",
              "\n",
              "        const docLinkHtml = 'Like what you see? Visit the ' +\n",
              "          '<a target=\"_blank\" href=https://colab.research.google.com/notebooks/data_table.ipynb>data table notebook</a>'\n",
              "          + ' to learn more about interactive tables.';\n",
              "        element.innerHTML = '';\n",
              "        dataTable['output_type'] = 'display_data';\n",
              "        await google.colab.output.renderOutput(dataTable, element);\n",
              "        const docLink = document.createElement('div');\n",
              "        docLink.innerHTML = docLinkHtml;\n",
              "        element.appendChild(docLink);\n",
              "      }\n",
              "    </script>\n",
              "  </div>\n",
              "\n",
              "\n",
              "<div id=\"df-9db43cba-ab4f-4706-8e08-36dda7464f58\">\n",
              "  <button class=\"colab-df-quickchart\" onclick=\"quickchart('df-9db43cba-ab4f-4706-8e08-36dda7464f58')\"\n",
              "            title=\"Suggest charts\"\n",
              "            style=\"display:none;\">\n",
              "\n",
              "<svg xmlns=\"http://www.w3.org/2000/svg\" height=\"24px\"viewBox=\"0 0 24 24\"\n",
              "     width=\"24px\">\n",
              "    <g>\n",
              "        <path d=\"M19 3H5c-1.1 0-2 .9-2 2v14c0 1.1.9 2 2 2h14c1.1 0 2-.9 2-2V5c0-1.1-.9-2-2-2zM9 17H7v-7h2v7zm4 0h-2V7h2v10zm4 0h-2v-4h2v4z\"/>\n",
              "    </g>\n",
              "</svg>\n",
              "  </button>\n",
              "\n",
              "<style>\n",
              "  .colab-df-quickchart {\n",
              "      --bg-color: #E8F0FE;\n",
              "      --fill-color: #1967D2;\n",
              "      --hover-bg-color: #E2EBFA;\n",
              "      --hover-fill-color: #174EA6;\n",
              "      --disabled-fill-color: #AAA;\n",
              "      --disabled-bg-color: #DDD;\n",
              "  }\n",
              "\n",
              "  [theme=dark] .colab-df-quickchart {\n",
              "      --bg-color: #3B4455;\n",
              "      --fill-color: #D2E3FC;\n",
              "      --hover-bg-color: #434B5C;\n",
              "      --hover-fill-color: #FFFFFF;\n",
              "      --disabled-bg-color: #3B4455;\n",
              "      --disabled-fill-color: #666;\n",
              "  }\n",
              "\n",
              "  .colab-df-quickchart {\n",
              "    background-color: var(--bg-color);\n",
              "    border: none;\n",
              "    border-radius: 50%;\n",
              "    cursor: pointer;\n",
              "    display: none;\n",
              "    fill: var(--fill-color);\n",
              "    height: 32px;\n",
              "    padding: 0;\n",
              "    width: 32px;\n",
              "  }\n",
              "\n",
              "  .colab-df-quickchart:hover {\n",
              "    background-color: var(--hover-bg-color);\n",
              "    box-shadow: 0 1px 2px rgba(60, 64, 67, 0.3), 0 1px 3px 1px rgba(60, 64, 67, 0.15);\n",
              "    fill: var(--button-hover-fill-color);\n",
              "  }\n",
              "\n",
              "  .colab-df-quickchart-complete:disabled,\n",
              "  .colab-df-quickchart-complete:disabled:hover {\n",
              "    background-color: var(--disabled-bg-color);\n",
              "    fill: var(--disabled-fill-color);\n",
              "    box-shadow: none;\n",
              "  }\n",
              "\n",
              "  .colab-df-spinner {\n",
              "    border: 2px solid var(--fill-color);\n",
              "    border-color: transparent;\n",
              "    border-bottom-color: var(--fill-color);\n",
              "    animation:\n",
              "      spin 1s steps(1) infinite;\n",
              "  }\n",
              "\n",
              "  @keyframes spin {\n",
              "    0% {\n",
              "      border-color: transparent;\n",
              "      border-bottom-color: var(--fill-color);\n",
              "      border-left-color: var(--fill-color);\n",
              "    }\n",
              "    20% {\n",
              "      border-color: transparent;\n",
              "      border-left-color: var(--fill-color);\n",
              "      border-top-color: var(--fill-color);\n",
              "    }\n",
              "    30% {\n",
              "      border-color: transparent;\n",
              "      border-left-color: var(--fill-color);\n",
              "      border-top-color: var(--fill-color);\n",
              "      border-right-color: var(--fill-color);\n",
              "    }\n",
              "    40% {\n",
              "      border-color: transparent;\n",
              "      border-right-color: var(--fill-color);\n",
              "      border-top-color: var(--fill-color);\n",
              "    }\n",
              "    60% {\n",
              "      border-color: transparent;\n",
              "      border-right-color: var(--fill-color);\n",
              "    }\n",
              "    80% {\n",
              "      border-color: transparent;\n",
              "      border-right-color: var(--fill-color);\n",
              "      border-bottom-color: var(--fill-color);\n",
              "    }\n",
              "    90% {\n",
              "      border-color: transparent;\n",
              "      border-bottom-color: var(--fill-color);\n",
              "    }\n",
              "  }\n",
              "</style>\n",
              "\n",
              "  <script>\n",
              "    async function quickchart(key) {\n",
              "      const quickchartButtonEl =\n",
              "        document.querySelector('#' + key + ' button');\n",
              "      quickchartButtonEl.disabled = true;  // To prevent multiple clicks.\n",
              "      quickchartButtonEl.classList.add('colab-df-spinner');\n",
              "      try {\n",
              "        const charts = await google.colab.kernel.invokeFunction(\n",
              "            'suggestCharts', [key], {});\n",
              "      } catch (error) {\n",
              "        console.error('Error during call to suggestCharts:', error);\n",
              "      }\n",
              "      quickchartButtonEl.classList.remove('colab-df-spinner');\n",
              "      quickchartButtonEl.classList.add('colab-df-quickchart-complete');\n",
              "    }\n",
              "    (() => {\n",
              "      let quickchartButtonEl =\n",
              "        document.querySelector('#df-9db43cba-ab4f-4706-8e08-36dda7464f58 button');\n",
              "      quickchartButtonEl.style.display =\n",
              "        google.colab.kernel.accessAllowed ? 'block' : 'none';\n",
              "    })();\n",
              "  </script>\n",
              "</div>\n",
              "\n",
              "  <div id=\"id_695d0330-bb30-486f-b668-18162b993eec\">\n",
              "    <style>\n",
              "      .colab-df-generate {\n",
              "        background-color: #E8F0FE;\n",
              "        border: none;\n",
              "        border-radius: 50%;\n",
              "        cursor: pointer;\n",
              "        display: none;\n",
              "        fill: #1967D2;\n",
              "        height: 32px;\n",
              "        padding: 0 0 0 0;\n",
              "        width: 32px;\n",
              "      }\n",
              "\n",
              "      .colab-df-generate:hover {\n",
              "        background-color: #E2EBFA;\n",
              "        box-shadow: 0px 1px 2px rgba(60, 64, 67, 0.3), 0px 1px 3px 1px rgba(60, 64, 67, 0.15);\n",
              "        fill: #174EA6;\n",
              "      }\n",
              "\n",
              "      [theme=dark] .colab-df-generate {\n",
              "        background-color: #3B4455;\n",
              "        fill: #D2E3FC;\n",
              "      }\n",
              "\n",
              "      [theme=dark] .colab-df-generate:hover {\n",
              "        background-color: #434B5C;\n",
              "        box-shadow: 0px 1px 3px 1px rgba(0, 0, 0, 0.15);\n",
              "        filter: drop-shadow(0px 1px 2px rgba(0, 0, 0, 0.3));\n",
              "        fill: #FFFFFF;\n",
              "      }\n",
              "    </style>\n",
              "    <button class=\"colab-df-generate\" onclick=\"generateWithVariable('X_Selected')\"\n",
              "            title=\"Generate code using this dataframe.\"\n",
              "            style=\"display:none;\">\n",
              "\n",
              "  <svg xmlns=\"http://www.w3.org/2000/svg\" height=\"24px\"viewBox=\"0 0 24 24\"\n",
              "       width=\"24px\">\n",
              "    <path d=\"M7,19H8.4L18.45,9,17,7.55,7,17.6ZM5,21V16.75L18.45,3.32a2,2,0,0,1,2.83,0l1.4,1.43a1.91,1.91,0,0,1,.58,1.4,1.91,1.91,0,0,1-.58,1.4L9.25,21ZM18.45,9,17,7.55Zm-12,3A5.31,5.31,0,0,0,4.9,8.1,5.31,5.31,0,0,0,1,6.5,5.31,5.31,0,0,0,4.9,4.9,5.31,5.31,0,0,0,6.5,1,5.31,5.31,0,0,0,8.1,4.9,5.31,5.31,0,0,0,12,6.5,5.46,5.46,0,0,0,6.5,12Z\"/>\n",
              "  </svg>\n",
              "    </button>\n",
              "    <script>\n",
              "      (() => {\n",
              "      const buttonEl =\n",
              "        document.querySelector('#id_695d0330-bb30-486f-b668-18162b993eec button.colab-df-generate');\n",
              "      buttonEl.style.display =\n",
              "        google.colab.kernel.accessAllowed ? 'block' : 'none';\n",
              "\n",
              "      buttonEl.onclick = () => {\n",
              "        google.colab.notebook.generateWithVariable('X_Selected');\n",
              "      }\n",
              "      })();\n",
              "    </script>\n",
              "  </div>\n",
              "\n",
              "    </div>\n",
              "  </div>\n"
            ],
            "application/vnd.google.colaboratory.intrinsic+json": {
              "type": "dataframe",
              "variable_name": "X_Selected"
            }
          },
          "metadata": {},
          "execution_count": 35
        }
      ],
      "source": [
        "X_Selected"
      ]
    },
    {
      "cell_type": "markdown",
      "source": [
        "## Random Forest Model"
      ],
      "metadata": {
        "id": "K0CCFzyu06fI"
      },
      "id": "K0CCFzyu06fI"
    },
    {
      "cell_type": "code",
      "execution_count": 69,
      "id": "dc0ef208-4d4e-47df-92c9-9fcc50e1f578",
      "metadata": {
        "id": "dc0ef208-4d4e-47df-92c9-9fcc50e1f578"
      },
      "outputs": [],
      "source": [
        "from sklearn.model_selection import train_test_split, cross_val_score\n",
        "from sklearn.ensemble import RandomForestClassifier\n",
        "from sklearn.metrics import accuracy_score"
      ]
    },
    {
      "cell_type": "code",
      "execution_count": null,
      "id": "50d53ec8-5114-4ed3-9425-3dcca9cdea92",
      "metadata": {
        "id": "50d53ec8-5114-4ed3-9425-3dcca9cdea92"
      },
      "outputs": [],
      "source": [
        "from sklearn.metrics import mean_absolute_error"
      ]
    },
    {
      "cell_type": "code",
      "execution_count": null,
      "id": "523db6a7-b6ec-42bd-bdfd-ad95f0ed76ea",
      "metadata": {
        "id": "523db6a7-b6ec-42bd-bdfd-ad95f0ed76ea"
      },
      "outputs": [],
      "source": [
        "X_train, X_test, y_train, y_test = train_test_split(X_Selected, final_clean[' Label'] , test_size = 0.3, random_state=42)"
      ]
    },
    {
      "cell_type": "code",
      "execution_count": null,
      "id": "8cde16c1-92b2-4320-96cb-ab0899970a0c",
      "metadata": {
        "id": "8cde16c1-92b2-4320-96cb-ab0899970a0c"
      },
      "outputs": [],
      "source": [
        "import time"
      ]
    },
    {
      "cell_type": "code",
      "execution_count": 70,
      "id": "7e0f164f-2552-45e4-84ce-8d70fb7ffdca",
      "metadata": {
        "id": "7e0f164f-2552-45e4-84ce-8d70fb7ffdca"
      },
      "outputs": [],
      "source": [
        "rf = RandomForestClassifier(n_estimators = 100, random_state=42)\n",
        "s_t = time.time()\n",
        "rf.fit(X_train, y_train)\n",
        "e_t = time.time()\n",
        "\n",
        "total = e_t - s_t\n"
      ]
    },
    {
      "cell_type": "code",
      "execution_count": 71,
      "id": "4dad38a3-aea2-4b4d-a62e-37504055b109",
      "metadata": {
        "id": "4dad38a3-aea2-4b4d-a62e-37504055b109",
        "outputId": "50f58cea-7874-452e-ac00-5201730a2539",
        "colab": {
          "base_uri": "https://localhost:8080/"
        }
      },
      "outputs": [
        {
          "output_type": "execute_result",
          "data": {
            "text/plain": [
              "79.05096912384033"
            ]
          },
          "metadata": {},
          "execution_count": 71
        }
      ],
      "source": [
        "total"
      ]
    },
    {
      "cell_type": "code",
      "execution_count": 72,
      "id": "932dce86-f030-469f-8820-ec435ebf2108",
      "metadata": {
        "id": "932dce86-f030-469f-8820-ec435ebf2108",
        "outputId": "44ec765f-67a0-41b4-84ab-963811949b88",
        "colab": {
          "base_uri": "https://localhost:8080/"
        }
      },
      "outputs": [
        {
          "output_type": "execute_result",
          "data": {
            "text/plain": [
              "226558"
            ]
          },
          "metadata": {},
          "execution_count": 72
        }
      ],
      "source": [
        "len(X_test)"
      ]
    },
    {
      "cell_type": "code",
      "execution_count": 73,
      "id": "56cebd20-ad30-4fbc-ba8b-aea22d595122",
      "metadata": {
        "id": "56cebd20-ad30-4fbc-ba8b-aea22d595122"
      },
      "outputs": [],
      "source": [
        "y_pred = rf.predict(X_test)"
      ]
    },
    {
      "cell_type": "code",
      "execution_count": 74,
      "id": "3b1492e0-314c-4a59-8607-90f1a5619a7d",
      "metadata": {
        "id": "3b1492e0-314c-4a59-8607-90f1a5619a7d"
      },
      "outputs": [],
      "source": [
        "accuracy = accuracy_score(y_test, y_pred)"
      ]
    },
    {
      "cell_type": "code",
      "execution_count": 75,
      "id": "fa1a636f-c5dc-4488-9a10-3abf35ded17a",
      "metadata": {
        "id": "fa1a636f-c5dc-4488-9a10-3abf35ded17a",
        "outputId": "098a65b2-a412-4fe1-e421-a44b2baca4e6",
        "colab": {
          "base_uri": "https://localhost:8080/"
        }
      },
      "outputs": [
        {
          "output_type": "execute_result",
          "data": {
            "text/plain": [
              "0.9999249640268717"
            ]
          },
          "metadata": {},
          "execution_count": 75
        }
      ],
      "source": [
        "accuracy"
      ]
    },
    {
      "cell_type": "code",
      "execution_count": 76,
      "id": "c29eab6d-11e8-4aa5-a473-a3930dcd3efd",
      "metadata": {
        "id": "c29eab6d-11e8-4aa5-a473-a3930dcd3efd",
        "outputId": "ba001dad-9cad-49c2-929d-4017041bfb38",
        "colab": {
          "base_uri": "https://localhost:8080/"
        }
      },
      "outputs": [
        {
          "output_type": "execute_result",
          "data": {
            "text/plain": [
              "7.503597312829386e-05"
            ]
          },
          "metadata": {},
          "execution_count": 76
        }
      ],
      "source": [
        "mae_error_rf = mean_absolute_error(y_test, y_pred)\n",
        "mae_error_rf"
      ]
    },
    {
      "cell_type": "code",
      "execution_count": 77,
      "id": "ad55f722-e989-4426-a145-c826423052f6",
      "metadata": {
        "id": "ad55f722-e989-4426-a145-c826423052f6"
      },
      "outputs": [],
      "source": [
        "from sklearn.metrics import confusion_matrix"
      ]
    },
    {
      "cell_type": "code",
      "execution_count": 78,
      "id": "b5aa1a5c-2a5e-40d8-b2f3-49cf73d0ef56",
      "metadata": {
        "id": "b5aa1a5c-2a5e-40d8-b2f3-49cf73d0ef56"
      },
      "outputs": [],
      "source": [
        "mae_error_rf = mean_absolute_error(y_test, y_pred)\n"
      ]
    },
    {
      "cell_type": "code",
      "source": [
        "from sklearn.metrics import classification_report\n",
        "\n",
        "report = classification_report(y_test, y_pred, output_dict=True)\n",
        "report"
      ],
      "metadata": {
        "colab": {
          "base_uri": "https://localhost:8080/"
        },
        "id": "YJoLlFBkYzge",
        "outputId": "5f15ba4b-37c3-4ce9-9233-9976642b306d"
      },
      "id": "YJoLlFBkYzge",
      "execution_count": 79,
      "outputs": [
        {
          "output_type": "execute_result",
          "data": {
            "text/plain": [
              "{'0': {'precision': 0.9999149876732126,\n",
              "  'recall': 0.9999946863060794,\n",
              "  'f1-score': 0.9999548354016062,\n",
              "  'support': 188193.0},\n",
              " '1': {'precision': 0.9999739243807041,\n",
              "  'recall': 0.9995829532125635,\n",
              "  'f1-score': 0.9997784005735515,\n",
              "  'support': 38365.0},\n",
              " 'accuracy': 0.9999249640268717,\n",
              " 'macro avg': {'precision': 0.9999444560269584,\n",
              "  'recall': 0.9997888197593214,\n",
              "  'f1-score': 0.9998666179875788,\n",
              "  'support': 226558.0},\n",
              " 'weighted avg': {'precision': 0.9999249679289658,\n",
              "  'recall': 0.9999249640268717,\n",
              "  'f1-score': 0.9999249581861545,\n",
              "  'support': 226558.0}}"
            ]
          },
          "metadata": {},
          "execution_count": 79
        }
      ]
    },
    {
      "cell_type": "code",
      "execution_count": 91,
      "id": "6745efa0-cf38-4bde-8271-571eb34ec78c",
      "metadata": {
        "id": "6745efa0-cf38-4bde-8271-571eb34ec78c",
        "colab": {
          "base_uri": "https://localhost:8080/"
        },
        "outputId": "03357250-d2d9-4ab5-b213-c31255e8c952"
      },
      "outputs": [
        {
          "output_type": "stream",
          "name": "stdout",
          "text": [
            "The size of the Random Forest model is:  1.5206995010375977 MB\n"
          ]
        }
      ],
      "source": [
        "import joblib, os\n",
        "joblib.dump(rf, '/content/drive/MyDrive/rf_ids.pkl')\n",
        "size = os.path.getsize('/content/drive/MyDrive/rf_ids.pkl')\n",
        "print(\"The size of the Random Forest model is: \", size/(1024**2), \"MB\")"
      ]
    },
    {
      "cell_type": "markdown",
      "source": [
        "##Decision Trees"
      ],
      "metadata": {
        "id": "HTlILYZ5Z5oT"
      },
      "id": "HTlILYZ5Z5oT"
    },
    {
      "cell_type": "code",
      "source": [
        "from sklearn.tree import DecisionTreeClassifier\n",
        "from sklearn.metrics import mean_squared_error"
      ],
      "metadata": {
        "id": "WHGyLtguZ1h3"
      },
      "id": "WHGyLtguZ1h3",
      "execution_count": 59,
      "outputs": []
    },
    {
      "cell_type": "code",
      "source": [
        "dt = DecisionTreeClassifier(random_state=42)\n",
        "s_t = time.time()\n",
        "dt.fit(X_train, y_train)\n",
        "e_t = time.time()"
      ],
      "metadata": {
        "id": "AIG8-2IsZ1kM"
      },
      "id": "AIG8-2IsZ1kM",
      "execution_count": 60,
      "outputs": []
    },
    {
      "cell_type": "code",
      "source": [
        "total = e_t - s_t\n",
        "total"
      ],
      "metadata": {
        "colab": {
          "base_uri": "https://localhost:8080/"
        },
        "id": "PjXXey9xZ1ml",
        "outputId": "3a41532f-a3d4-4fc0-ff0b-83034089c749"
      },
      "id": "PjXXey9xZ1ml",
      "execution_count": 61,
      "outputs": [
        {
          "output_type": "execute_result",
          "data": {
            "text/plain": [
              "5.1448657512664795"
            ]
          },
          "metadata": {},
          "execution_count": 61
        }
      ]
    },
    {
      "cell_type": "code",
      "source": [
        "y_prediction_dt = dt.predict(X_test)"
      ],
      "metadata": {
        "id": "srCHXTZSZ1pH"
      },
      "id": "srCHXTZSZ1pH",
      "execution_count": 62,
      "outputs": []
    },
    {
      "cell_type": "code",
      "source": [
        "acc_dt = accuracy_score(y_test, y_prediction_dt)"
      ],
      "metadata": {
        "id": "llU7ek_AZ1ra"
      },
      "id": "llU7ek_AZ1ra",
      "execution_count": 63,
      "outputs": []
    },
    {
      "cell_type": "code",
      "source": [
        "acc_dt"
      ],
      "metadata": {
        "colab": {
          "base_uri": "https://localhost:8080/"
        },
        "id": "6YUcd2TeZ1tw",
        "outputId": "4627dcab-821c-4ad4-bf84-2e89d52a0e34"
      },
      "id": "6YUcd2TeZ1tw",
      "execution_count": 64,
      "outputs": [
        {
          "output_type": "execute_result",
          "data": {
            "text/plain": [
              "0.9998852390999214"
            ]
          },
          "metadata": {},
          "execution_count": 64
        }
      ]
    },
    {
      "cell_type": "code",
      "source": [
        "from sklearn.metrics import classification_report\n",
        "\n",
        "report = classification_report(y_test, y_prediction_dt, output_dict=True)"
      ],
      "metadata": {
        "id": "xu24Vx-PZ1wK"
      },
      "id": "xu24Vx-PZ1wK",
      "execution_count": 65,
      "outputs": []
    },
    {
      "cell_type": "code",
      "source": [
        "report"
      ],
      "metadata": {
        "colab": {
          "base_uri": "https://localhost:8080/"
        },
        "id": "4Rhhjxv9Z1yk",
        "outputId": "ed21780e-b547-42f0-9208-d59ab3b90474"
      },
      "id": "4Rhhjxv9Z1yk",
      "execution_count": 66,
      "outputs": [
        {
          "output_type": "execute_result",
          "data": {
            "text/plain": [
              "{'0': {'precision': 0.9999043585915208,\n",
              "  'recall': 0.9999574904486351,\n",
              "  'f1-score': 0.9999309238142807,\n",
              "  'support': 188193.0},\n",
              " '1': {'precision': 0.9997914222396037,\n",
              "  'recall': 0.9995308223641339,\n",
              "  'f1-score': 0.9996611053180396,\n",
              "  'support': 38365.0},\n",
              " 'accuracy': 0.9998852390999214,\n",
              " 'macro avg': {'precision': 0.9998478904155623,\n",
              "  'recall': 0.9997441564063845,\n",
              "  'f1-score': 0.9997960145661602,\n",
              "  'support': 226558.0},\n",
              " 'weighted avg': {'precision': 0.9998852341150455,\n",
              "  'recall': 0.9998852390999214,\n",
              "  'f1-score': 0.9998852331451881,\n",
              "  'support': 226558.0}}"
            ]
          },
          "metadata": {},
          "execution_count": 66
        }
      ]
    },
    {
      "cell_type": "code",
      "source": [
        "mae_error_dt = mean_absolute_error(y_test, y_prediction_dt)\n",
        "mae_error_dt"
      ],
      "metadata": {
        "colab": {
          "base_uri": "https://localhost:8080/"
        },
        "id": "e4avwJZdZ11M",
        "outputId": "d3bc613f-9cb4-4a5f-ca79-8769a95452c6"
      },
      "id": "e4avwJZdZ11M",
      "execution_count": 67,
      "outputs": [
        {
          "output_type": "execute_result",
          "data": {
            "text/plain": [
              "0.00011476090007856708"
            ]
          },
          "metadata": {},
          "execution_count": 67
        }
      ]
    },
    {
      "cell_type": "code",
      "source": [
        "import joblib, os\n",
        "joblib.dump(dt, '/content/drive/MyDrive/dt_ids.pkl')\n",
        "size = os.path.getsize('/content/drive/MyDrive/dt_ids.pkl')\n",
        "print(\"The size of the decision trees model is: \", size/(1024**2), \"MB\")"
      ],
      "metadata": {
        "id": "v7fg91tnZ13l",
        "colab": {
          "base_uri": "https://localhost:8080/"
        },
        "outputId": "83c6613e-2a3a-42d1-948e-d34026298f8b"
      },
      "id": "v7fg91tnZ13l",
      "execution_count": 92,
      "outputs": [
        {
          "output_type": "stream",
          "name": "stdout",
          "text": [
            "The size of the decision trees model is:  0.015648841857910156 MB\n"
          ]
        }
      ]
    },
    {
      "cell_type": "markdown",
      "source": [
        "##XGBoost"
      ],
      "metadata": {
        "id": "70zmZ1YCaHOv"
      },
      "id": "70zmZ1YCaHOv"
    },
    {
      "cell_type": "code",
      "source": [
        "import xgboost\n",
        "import time"
      ],
      "metadata": {
        "id": "GPpfxeHkZ16R"
      },
      "id": "GPpfxeHkZ16R",
      "execution_count": null,
      "outputs": []
    },
    {
      "cell_type": "code",
      "source": [
        "xg = xgboost.XGBClassifier(objective='binary:logistic')\n",
        "\n",
        "s_t = time.time()\n",
        "xg.fit(X_train, y_train)\n",
        "e_t = time.time()"
      ],
      "metadata": {
        "id": "-m1S8H3xZ18q"
      },
      "id": "-m1S8H3xZ18q",
      "execution_count": null,
      "outputs": []
    },
    {
      "cell_type": "code",
      "source": [
        "total = e_t - s_t\n",
        "total"
      ],
      "metadata": {
        "colab": {
          "base_uri": "https://localhost:8080/"
        },
        "id": "elhv9Q_OZ1_I",
        "outputId": "a411cbeb-1c73-43ba-9786-00e586a338a8"
      },
      "id": "elhv9Q_OZ1_I",
      "execution_count": null,
      "outputs": [
        {
          "output_type": "execute_result",
          "data": {
            "text/plain": [
              "5.965520858764648"
            ]
          },
          "metadata": {},
          "execution_count": 46
        }
      ]
    },
    {
      "cell_type": "code",
      "source": [
        "y_pred_xg = xg.predict(X_test)"
      ],
      "metadata": {
        "id": "fnIEeXMJZ2Bs"
      },
      "id": "fnIEeXMJZ2Bs",
      "execution_count": null,
      "outputs": []
    },
    {
      "cell_type": "code",
      "source": [
        "acc_xg = accuracy_score(y_test, y_pred_xg)"
      ],
      "metadata": {
        "id": "vIAmJqSoaWto"
      },
      "id": "vIAmJqSoaWto",
      "execution_count": null,
      "outputs": []
    },
    {
      "cell_type": "code",
      "source": [
        "acc_xg"
      ],
      "metadata": {
        "colab": {
          "base_uri": "https://localhost:8080/"
        },
        "id": "wi5zEeG1aWv5",
        "outputId": "b253167b-c45f-46f6-ebbd-62fee3e31fe2"
      },
      "id": "wi5zEeG1aWv5",
      "execution_count": null,
      "outputs": [
        {
          "output_type": "execute_result",
          "data": {
            "text/plain": [
              "0.9999249640268717"
            ]
          },
          "metadata": {},
          "execution_count": 49
        }
      ]
    },
    {
      "cell_type": "code",
      "source": [
        "mae_error_xg = mean_absolute_error(y_test, y_pred_xg)\n",
        "mae_error_xg"
      ],
      "metadata": {
        "colab": {
          "base_uri": "https://localhost:8080/"
        },
        "id": "QsYp0qVvaWyB",
        "outputId": "0d9c7126-45fe-4a2c-89d2-1d175729f2c2"
      },
      "id": "QsYp0qVvaWyB",
      "execution_count": null,
      "outputs": [
        {
          "output_type": "execute_result",
          "data": {
            "text/plain": [
              "7.503597312829386e-05"
            ]
          },
          "metadata": {},
          "execution_count": 50
        }
      ]
    },
    {
      "cell_type": "code",
      "source": [
        "from sklearn.metrics import classification_report\n",
        "\n",
        "report = classification_report(y_test, y_pred_xg, output_dict=True)\n",
        "report"
      ],
      "metadata": {
        "colab": {
          "base_uri": "https://localhost:8080/"
        },
        "id": "3puzsmKSaW0c",
        "outputId": "6e85d886-4045-49e4-ae9e-4e358fb1edef"
      },
      "id": "3puzsmKSaW0c",
      "execution_count": null,
      "outputs": [
        {
          "output_type": "execute_result",
          "data": {
            "text/plain": [
              "{'0': {'precision': 0.9999203000967025,\n",
              "  'recall': 0.9999893726121588,\n",
              "  'f1-score': 0.9999548351616238,\n",
              "  'support': 188193.0},\n",
              " '1': {'precision': 0.999947851481018,\n",
              "  'recall': 0.9996090186367783,\n",
              "  'f1-score': 0.9997784063506133,\n",
              "  'support': 38365.0},\n",
              " 'accuracy': 0.9999249640268717,\n",
              " 'macro avg': {'precision': 0.9999340757888602,\n",
              "  'recall': 0.9997991956244685,\n",
              "  'f1-score': 0.9998666207561185,\n",
              "  'support': 226558.0},\n",
              " 'weighted avg': {'precision': 0.9999249656077825,\n",
              "  'recall': 0.9999249640268717,\n",
              "  'f1-score': 0.9999249589650895,\n",
              "  'support': 226558.0}}"
            ]
          },
          "metadata": {},
          "execution_count": 52
        }
      ]
    },
    {
      "cell_type": "code",
      "source": [
        "xg.get_booster().get_score(importance_type = 'weight')"
      ],
      "metadata": {
        "colab": {
          "base_uri": "https://localhost:8080/"
        },
        "id": "dOxBqWYr7Ual",
        "outputId": "2b8cc6d0-bdfc-4148-979c-33cfc9435b41"
      },
      "id": "dOxBqWYr7Ual",
      "execution_count": null,
      "outputs": [
        {
          "output_type": "execute_result",
          "data": {
            "text/plain": [
              "{' Subflow Fwd Bytes': 65.0,\n",
              " ' Average Packet Size': 123.0,\n",
              " ' Fwd Packet Length Mean': 23.0,\n",
              " ' Fwd Packet Length Max': 32.0,\n",
              " ' Fwd Header Length.1': 54.0,\n",
              " ' Avg Bwd Segment Size': 45.0,\n",
              " ' Packet Length Mean': 20.0,\n",
              " ' Total Length of Bwd Packets': 56.0,\n",
              " 'Fwd IAT Total': 173.0,\n",
              " 'Init_Win_bytes_forward': 199.0,\n",
              " ' Fwd IAT Max': 170.0,\n",
              " 'Bwd Packet Length Max': 9.0,\n",
              " ' Destination Port': 105.0}"
            ]
          },
          "metadata": {},
          "execution_count": 53
        }
      ]
    },
    {
      "cell_type": "code",
      "source": [
        "from sklearn.metrics import confusion_matrix\n",
        "confusion_matrix_xg = confusion_matrix(y_test, y_pred_xg)"
      ],
      "metadata": {
        "id": "YZ4wBkl7yZ6v"
      },
      "id": "YZ4wBkl7yZ6v",
      "execution_count": null,
      "outputs": []
    },
    {
      "cell_type": "code",
      "source": [
        "import numpy as np"
      ],
      "metadata": {
        "id": "k7n5yv9uyaBJ"
      },
      "id": "k7n5yv9uyaBJ",
      "execution_count": null,
      "outputs": []
    },
    {
      "cell_type": "code",
      "source": [
        "total_value = np.sum(confusion_matrix_xg)\n",
        "confusion_matrix_xg = (confusion_matrix_xg/total_value)*100"
      ],
      "metadata": {
        "id": "O4s8EN2MyaD_"
      },
      "id": "O4s8EN2MyaD_",
      "execution_count": null,
      "outputs": []
    },
    {
      "cell_type": "code",
      "source": [
        "import matplotlib.pyplot as plt\n",
        "import seaborn\n",
        "plt.figure(figsize=(2,2))\n",
        "seaborn.heatmap(confusion_matrix_xg, annot=True, cmap=\"Reds\", xticklabels=['1', '0'], yticklabels=['1', '0'])\n",
        "plt.show()"
      ],
      "metadata": {
        "colab": {
          "base_uri": "https://localhost:8080/",
          "height": 214
        },
        "id": "sPofQdtRyaHH",
        "outputId": "a7921c86-868c-4b97-deac-c464b8e3d56e"
      },
      "id": "sPofQdtRyaHH",
      "execution_count": null,
      "outputs": [
        {
          "output_type": "display_data",
          "data": {
            "text/plain": [
              "<Figure size 200x200 with 2 Axes>"
            ],
            "image/png": "[encoded data removed]"
          },
          "metadata": {}
        }
      ]
    },
    {
      "cell_type": "code",
      "source": [
        "import joblib, os\n",
        "joblib.dump(xg, '/content/drive/MyDrive/xg_ids.pkl')\n",
        "size = os.path.getsize('/content/drive/MyDrive/xg_ids.pkl')\n",
        "print(\"The size of the XGBoost model is: \", size/(1024**2), \"MB\")"
      ],
      "metadata": {
        "id": "vomHsQlpyaYI",
        "colab": {
          "base_uri": "https://localhost:8080/"
        },
        "outputId": "53fd1e37-7515-4efd-cb1b-355de04f294d"
      },
      "id": "vomHsQlpyaYI",
      "execution_count": 93,
      "outputs": [
        {
          "output_type": "stream",
          "name": "stdout",
          "text": [
            "The size of the XGBoost model is:  0.1402454376220703 MB\n"
          ]
        }
      ]
    },
    {
      "cell_type": "markdown",
      "source": [
        "##Linear SVC"
      ],
      "metadata": {
        "id": "VE9-PWOpahTS"
      },
      "id": "VE9-PWOpahTS"
    },
    {
      "cell_type": "code",
      "source": [
        "from sklearn.svm import LinearSVC"
      ],
      "metadata": {
        "id": "9-ciM3udaW5P"
      },
      "id": "9-ciM3udaW5P",
      "execution_count": 81,
      "outputs": []
    },
    {
      "cell_type": "code",
      "source": [
        "lsvm = LinearSVC(random_state = 42)\n",
        "s_t = time.time()\n",
        "lsvm.fit(X_train, y_train)\n",
        "e_t = time.time()\n",
        "\n",
        "total = e_t - s_t"
      ],
      "metadata": {
        "id": "5FLmwZRDak0H"
      },
      "id": "5FLmwZRDak0H",
      "execution_count": 82,
      "outputs": []
    },
    {
      "cell_type": "code",
      "source": [
        "total"
      ],
      "metadata": {
        "colab": {
          "base_uri": "https://localhost:8080/"
        },
        "id": "MvP4Ha8Jak2f",
        "outputId": "4933b735-c374-4b54-85ba-05df25e7afd6"
      },
      "id": "MvP4Ha8Jak2f",
      "execution_count": 83,
      "outputs": [
        {
          "output_type": "execute_result",
          "data": {
            "text/plain": [
              "429.6790506839752"
            ]
          },
          "metadata": {},
          "execution_count": 83
        }
      ]
    },
    {
      "cell_type": "code",
      "source": [
        "y_prediction_lsvm = lsvm.predict(X_test)"
      ],
      "metadata": {
        "id": "2jVFoeIEak4v"
      },
      "id": "2jVFoeIEak4v",
      "execution_count": 84,
      "outputs": []
    },
    {
      "cell_type": "code",
      "source": [
        "acc_lsvm = accuracy_score(y_test, y_prediction_lsvm)"
      ],
      "metadata": {
        "id": "rYmK0lpRak63"
      },
      "id": "rYmK0lpRak63",
      "execution_count": 85,
      "outputs": []
    },
    {
      "cell_type": "code",
      "source": [
        "acc_lsvm"
      ],
      "metadata": {
        "colab": {
          "base_uri": "https://localhost:8080/"
        },
        "id": "Gnh1WDpPak9S",
        "outputId": "0a667539-2a0f-4219-c818-2f5ee759f25d"
      },
      "id": "Gnh1WDpPak9S",
      "execution_count": 86,
      "outputs": [
        {
          "output_type": "execute_result",
          "data": {
            "text/plain": [
              "0.693451566486286"
            ]
          },
          "metadata": {},
          "execution_count": 86
        }
      ]
    },
    {
      "cell_type": "code",
      "source": [
        "mae_error_l = mean_absolute_error(y_test, y_prediction_lsvm)\n",
        "mae_error_l"
      ],
      "metadata": {
        "colab": {
          "base_uri": "https://localhost:8080/"
        },
        "id": "yDAxhS9sak_Z",
        "outputId": "94cf0979-75f4-46a9-eda2-34b9543e3601"
      },
      "id": "yDAxhS9sak_Z",
      "execution_count": 87,
      "outputs": [
        {
          "output_type": "execute_result",
          "data": {
            "text/plain": [
              "0.3065484335137139"
            ]
          },
          "metadata": {},
          "execution_count": 87
        }
      ]
    },
    {
      "cell_type": "code",
      "source": [
        "from sklearn.metrics import classification_report\n",
        "\n",
        "report = classification_report(y_test, y_prediction_lsvm, output_dict=True)\n",
        "report"
      ],
      "metadata": {
        "colab": {
          "base_uri": "https://localhost:8080/"
        },
        "id": "xmo6ZLxLalBx",
        "outputId": "c04436b2-8f1a-4790-9faf-eadded220949"
      },
      "id": "xmo6ZLxLalBx",
      "execution_count": 88,
      "outputs": [
        {
          "output_type": "execute_result",
          "data": {
            "text/plain": [
              "{'0': {'precision': 0.9049421618377258,\n",
              "  'recall': 0.705015595691657,\n",
              "  'f1-score': 0.7925653133577651,\n",
              "  'support': 188193.0},\n",
              " '1': {'precision': 0.30557153936604037,\n",
              "  'recall': 0.6367261827186238,\n",
              "  'f1-score': 0.4129595036641957,\n",
              "  'support': 38365.0},\n",
              " 'accuracy': 0.693451566486286,\n",
              " 'macro avg': {'precision': 0.6052568506018831,\n",
              "  'recall': 0.6708708892051404,\n",
              "  'f1-score': 0.6027624085109804,\n",
              "  'support': 226558.0},\n",
              " 'weighted avg': {'precision': 0.8034456182103712,\n",
              "  'recall': 0.693451566486286,\n",
              "  'f1-score': 0.7282834213526549,\n",
              "  'support': 226558.0}}"
            ]
          },
          "metadata": {},
          "execution_count": 88
        }
      ]
    },
    {
      "cell_type": "code",
      "source": [
        "import joblib, os\n",
        "joblib.dump(lsvm, '/content/drive/MyDrive/LSVM_ids.pkl')\n",
        "size = os.path.getsize('/content/drive/MyDrive/LSVM_ids.pkl')\n",
        "print(\"The size of the Linear SVC model is: \", size/(1024**2), \"MB\")"
      ],
      "metadata": {
        "colab": {
          "base_uri": "https://localhost:8080/"
        },
        "id": "I9pOPvWCOojN",
        "outputId": "0e6eb289-3513-48da-d3be-6df708a9b9e1"
      },
      "id": "I9pOPvWCOojN",
      "execution_count": 94,
      "outputs": [
        {
          "output_type": "stream",
          "name": "stdout",
          "text": [
            "The size of the Linear SVC model is:  0.001583099365234375 MB\n"
          ]
        }
      ]
    }
  ],
  "metadata": {
    "colab": {
      "provenance": []
    },
    "kernelspec": {
      "display_name": "Python 3 (ipykernel)",
      "language": "python",
      "name": "python3"
    },
    "language_info": {
      "codemirror_mode": {
        "name": "ipython",
        "version": 3
      },
      "file_extension": ".py",
      "mimetype": "text/x-python",
      "name": "python",
      "nbconvert_exporter": "python",
      "pygments_lexer": "ipython3",
      "version": "3.10.5"
    }
  },
  "nbformat": 4,
  "nbformat_minor": 5
}