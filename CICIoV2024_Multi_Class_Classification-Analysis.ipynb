{
  "nbformat": 4,
  "nbformat_minor": 0,
  "metadata": {
    "colab": {
      "provenance": []
    },
    "kernelspec": {
      "name": "python3",
      "display_name": "Python 3"
    },
    "language_info": {
      "name": "python"
    }
  },
  "cells": [
    {
      "cell_type": "markdown",
      "source": [
        "# Loading the CICIoV2024 Dataset"
      ],
      "metadata": {
        "id": "Rcjkf-531QON"
      }
    },
    {
      "cell_type": "code",
      "source": [
        "import pandas as pd\n",
        "\n",
        "benign_file = pd.read_csv(\"/content/drive/MyDrive/IoV/decimal_benign.csv\")\n",
        "dos_file = pd.read_csv(\"/content/drive/MyDrive/IoV/decimal_DoS.csv\")\n",
        "gas_file = pd.read_csv(\"/content/drive/MyDrive/IoV/decimal_spoofing-GAS.csv\")\n",
        "rpm_file = pd.read_csv(\"/content/drive/MyDrive/IoV/decimal_spoofing-RPM.csv\")\n",
        "speed_file = pd.read_csv(\"/content/drive/MyDrive/IoV/decimal_spoofing-SPEED.csv\")\n",
        "steering_file = pd.read_csv(\"/content/drive/MyDrive/IoV/decimal_spoofing-STEERING_WHEEL.csv\")\n"
      ],
      "metadata": {
        "id": "7T7ujaiQ1VH0"
      },
      "execution_count": null,
      "outputs": []
    },
    {
      "cell_type": "code",
      "source": [
        "benign_file.drop(\"label\", axis=1, inplace=True)\n",
        "benign_file.drop(\"category\", axis=1, inplace=True)\n",
        "benign_file.replace('BENIGN', 0, inplace=True)"
      ],
      "metadata": {
        "colab": {
          "base_uri": "https://localhost:8080/"
        },
        "id": "T1iEtUjO9usg",
        "outputId": "d6c08afb-3bb3-402a-832f-33f0aca9e6e1"
      },
      "execution_count": null,
      "outputs": [
        {
          "output_type": "stream",
          "name": "stderr",
          "text": [
            "<ipython-input-2-41e99065da18>:3: FutureWarning: Downcasting behavior in `replace` is deprecated and will be removed in a future version. To retain the old behavior, explicitly call `result.infer_objects(copy=False)`. To opt-in to the future behavior, set `pd.set_option('future.no_silent_downcasting', True)`\n",
            "  benign_file.replace('BENIGN', 0, inplace=True)\n"
          ]
        }
      ]
    },
    {
      "cell_type": "code",
      "source": [
        "dos_file.drop(\"label\", axis=1, inplace=True)\n",
        "dos_file.drop(\"category\", axis=1, inplace=True)\n",
        "dos_file.replace('DoS', 1, inplace=True)"
      ],
      "metadata": {
        "colab": {
          "base_uri": "https://localhost:8080/"
        },
        "id": "IqCBeg6f9uyt",
        "outputId": "3d3b2c4e-3402-4814-ab24-715d194f20c1"
      },
      "execution_count": null,
      "outputs": [
        {
          "output_type": "stream",
          "name": "stderr",
          "text": [
            "<ipython-input-3-7867c73f155c>:3: FutureWarning: Downcasting behavior in `replace` is deprecated and will be removed in a future version. To retain the old behavior, explicitly call `result.infer_objects(copy=False)`. To opt-in to the future behavior, set `pd.set_option('future.no_silent_downcasting', True)`\n",
            "  dos_file.replace('DoS', 1, inplace=True)\n"
          ]
        }
      ]
    },
    {
      "cell_type": "code",
      "source": [
        "gas_file.drop(\"label\", axis=1, inplace=True)\n",
        "gas_file.drop(\"category\", axis=1, inplace=True)\n",
        "gas_file.replace('GAS', 2, inplace=True)"
      ],
      "metadata": {
        "colab": {
          "base_uri": "https://localhost:8080/"
        },
        "id": "nXqwJGv79u0_",
        "outputId": "7bf46cfd-01ba-4c22-90dd-789c75072692"
      },
      "execution_count": null,
      "outputs": [
        {
          "output_type": "stream",
          "name": "stderr",
          "text": [
            "<ipython-input-4-c813575376d7>:3: FutureWarning: Downcasting behavior in `replace` is deprecated and will be removed in a future version. To retain the old behavior, explicitly call `result.infer_objects(copy=False)`. To opt-in to the future behavior, set `pd.set_option('future.no_silent_downcasting', True)`\n",
            "  gas_file.replace('GAS', 2, inplace=True)\n"
          ]
        }
      ]
    },
    {
      "cell_type": "code",
      "source": [
        "rpm_file.drop(\"label\", axis=1, inplace=True)\n",
        "rpm_file.drop(\"category\", axis=1, inplace=True)\n",
        "rpm_file.replace('RPM', 3, inplace=True)"
      ],
      "metadata": {
        "colab": {
          "base_uri": "https://localhost:8080/"
        },
        "id": "oDcMYOCJ9u3V",
        "outputId": "a4a840b3-762d-45a6-ca43-1607e0e95a48"
      },
      "execution_count": null,
      "outputs": [
        {
          "output_type": "stream",
          "name": "stderr",
          "text": [
            "<ipython-input-5-5887527b1e09>:3: FutureWarning: Downcasting behavior in `replace` is deprecated and will be removed in a future version. To retain the old behavior, explicitly call `result.infer_objects(copy=False)`. To opt-in to the future behavior, set `pd.set_option('future.no_silent_downcasting', True)`\n",
            "  rpm_file.replace('RPM', 3, inplace=True)\n"
          ]
        }
      ]
    },
    {
      "cell_type": "code",
      "source": [
        "speed_file.drop(\"label\", axis=1, inplace=True)\n",
        "speed_file.drop(\"category\", axis=1, inplace=True)\n",
        "speed_file.replace('SPEED', 4, inplace=True)"
      ],
      "metadata": {
        "colab": {
          "base_uri": "https://localhost:8080/"
        },
        "id": "7Xe0xj869u5m",
        "outputId": "12800848-d343-4349-a7b8-cf8cc8199fec"
      },
      "execution_count": null,
      "outputs": [
        {
          "output_type": "stream",
          "name": "stderr",
          "text": [
            "<ipython-input-6-8b542b2d0030>:3: FutureWarning: Downcasting behavior in `replace` is deprecated and will be removed in a future version. To retain the old behavior, explicitly call `result.infer_objects(copy=False)`. To opt-in to the future behavior, set `pd.set_option('future.no_silent_downcasting', True)`\n",
            "  speed_file.replace('SPEED', 4, inplace=True)\n"
          ]
        }
      ]
    },
    {
      "cell_type": "code",
      "source": [],
      "metadata": {
        "id": "V-1ZWIfG-snp"
      },
      "execution_count": null,
      "outputs": []
    },
    {
      "cell_type": "code",
      "source": [
        "steering_file.drop(\"label\", axis=1, inplace=True)\n",
        "steering_file.drop(\"category\", axis=1, inplace=True)\n",
        "steering_file.replace('STEERING_WHEEL', 5, inplace=True)"
      ],
      "metadata": {
        "colab": {
          "base_uri": "https://localhost:8080/"
        },
        "id": "diMG-rL5-W0W",
        "outputId": "8cb3b603-a26e-4db7-9991-1045eef87a6a"
      },
      "execution_count": null,
      "outputs": [
        {
          "output_type": "stream",
          "name": "stderr",
          "text": [
            "<ipython-input-7-44d4bb767c5c>:3: FutureWarning: Downcasting behavior in `replace` is deprecated and will be removed in a future version. To retain the old behavior, explicitly call `result.infer_objects(copy=False)`. To opt-in to the future behavior, set `pd.set_option('future.no_silent_downcasting', True)`\n",
            "  steering_file.replace('STEERING_WHEEL', 5, inplace=True)\n"
          ]
        }
      ]
    },
    {
      "cell_type": "code",
      "source": [
        "benign_file.rename(columns={'specific_class':'Label'}, inplace=True)\n",
        "dos_file.rename(columns={'specific_class':'Label'}, inplace=True)\n",
        "gas_file.rename(columns={'specific_class':'Label'}, inplace=True)\n",
        "rpm_file.rename(columns={'specific_class':'Label'}, inplace=True)\n",
        "speed_file.rename(columns={'specific_class':'Label'}, inplace=True)\n",
        "steering_file.rename(columns={'specific_class':'Label'}, inplace=True)"
      ],
      "metadata": {
        "id": "cAW6SVL4_N3D"
      },
      "execution_count": null,
      "outputs": []
    },
    {
      "cell_type": "code",
      "source": [
        "from sklearn.model_selection import train_test_split"
      ],
      "metadata": {
        "id": "4XQYgBCW-W2t"
      },
      "execution_count": null,
      "outputs": []
    },
    {
      "cell_type": "code",
      "source": [
        "X_train_1, X_test_1, y_train_1, y_test_1 = train_test_split(benign_file, benign_file['Label'] , test_size = 0.3, random_state=42)\n",
        "X_train_2, X_test_2, y_train_2, y_test_2 = train_test_split(dos_file, dos_file['Label'] , test_size = 0.3, random_state=42)\n",
        "X_train_3, X_test_3, y_train_3, y_test_3 = train_test_split(gas_file, gas_file['Label'] , test_size = 0.3, random_state=42)\n",
        "X_train_4, X_test_4, y_train_4, y_test_4 = train_test_split(rpm_file, rpm_file['Label'] , test_size = 0.3, random_state=42)\n",
        "X_train_5, X_test_5, y_train_5, y_test_5 = train_test_split(speed_file, speed_file['Label'] , test_size = 0.3, random_state=42)\n",
        "X_train_6, X_test_6, y_train_6, y_test_6 = train_test_split(steering_file, steering_file['Label'] , test_size = 0.3, random_state=42)"
      ],
      "metadata": {
        "id": "FQCc6aHv-W5M"
      },
      "execution_count": null,
      "outputs": []
    },
    {
      "cell_type": "code",
      "source": [
        "inter = pd.concat([y_train_1, y_train_2, y_train_3, y_train_4, y_train_5, y_train_6], ignore_index=True)"
      ],
      "metadata": {
        "id": "Y_3OQiMEw5lt"
      },
      "execution_count": null,
      "outputs": []
    },
    {
      "cell_type": "code",
      "source": [
        "values = inter.value_counts()\n",
        "import matplotlib.pyplot as plt\n",
        "plt.figure(figsize=(3,3))\n",
        "plt.pie(values, labels = ['Benign', 'Dos', 'GAS', 'RPM', 'SPEED', 'STEERING_WHEEL'], autopct='%3.1f%%')\n",
        "plt.axis('equal')\n",
        "plt.title('CICIoV2024')\n",
        "plt.show()"
      ],
      "metadata": {
        "colab": {
          "base_uri": "https://localhost:8080/",
          "height": 290
        },
        "id": "s2dJIrU1xEDV",
        "outputId": "a1ed65f0-e5bc-44c7-b73e-ba3d563c1e63"
      },
      "execution_count": null,
      "outputs": [
        {
          "output_type": "display_data",
          "data": {
            "text/plain": [
              "<Figure size 300x300 with 1 Axes>"
            ],
            "image/png": "[encoded data removed]"
          },
          "metadata": {}
        }
      ]
    },
    {
      "cell_type": "code",
      "source": [
        "X_train_1.drop(\"Label\", axis=1, inplace=True)\n",
        "X_test_1.drop(\"Label\", axis=1, inplace=True)\n",
        "\n",
        "X_train_2.drop(\"Label\", axis=1, inplace=True)\n",
        "X_test_2.drop(\"Label\", axis=1, inplace=True)\n",
        "\n",
        "X_train_3.drop(\"Label\", axis=1, inplace=True)\n",
        "X_test_3.drop(\"Label\", axis=1, inplace=True)\n",
        "\n",
        "X_train_4.drop(\"Label\", axis=1, inplace=True)\n",
        "X_test_4.drop(\"Label\", axis=1, inplace=True)\n",
        "\n",
        "X_train_5.drop(\"Label\", axis=1, inplace=True)\n",
        "X_test_5.drop(\"Label\", axis=1, inplace=True)\n",
        "\n",
        "X_train_6.drop(\"Label\", axis=1, inplace=True)\n",
        "X_test_6.drop(\"Label\", axis=1, inplace=True)"
      ],
      "metadata": {
        "id": "E2QhzC0P-W7X"
      },
      "execution_count": null,
      "outputs": []
    },
    {
      "cell_type": "code",
      "source": [
        "X_train = pd.concat([X_train_1, X_train_2, X_train_3, X_train_4, X_train_5, X_train_6], ignore_index=True)"
      ],
      "metadata": {
        "id": "FHOU-6H44wzF"
      },
      "execution_count": null,
      "outputs": []
    },
    {
      "cell_type": "code",
      "source": [
        "X_test = pd.concat([X_test_1, X_test_2, X_test_3, X_test_4, X_test_5, X_test_6], ignore_index=True)"
      ],
      "metadata": {
        "id": "AdvvSlA9CAwg"
      },
      "execution_count": null,
      "outputs": []
    },
    {
      "cell_type": "code",
      "source": [
        "y_train = pd.concat([y_train_1, y_train_2, y_train_3, y_train_4, y_train_5, y_train_6], ignore_index=True)"
      ],
      "metadata": {
        "id": "Jf1RThhtCJy5"
      },
      "execution_count": null,
      "outputs": []
    },
    {
      "cell_type": "code",
      "source": [
        "y_test = pd.concat([y_test_1, y_test_2, y_test_3, y_test_4, y_test_5, y_test_6], ignore_index=True)"
      ],
      "metadata": {
        "id": "VTg3MMzxCSy3"
      },
      "execution_count": null,
      "outputs": []
    },
    {
      "cell_type": "markdown",
      "source": [
        "# Standard Scaling"
      ],
      "metadata": {
        "id": "qWN89gW81flf"
      }
    },
    {
      "cell_type": "code",
      "source": [
        "from sklearn.preprocessing import StandardScaler\n",
        "\n",
        "standard_scaler_scaling = StandardScaler()\n",
        "scaled_data = standard_scaler_scaling.fit_transform(X_train)\n",
        "\n",
        "for i in range(len(scaled_data[0])):\n",
        "    print(scaled_data[0][i], \" \", X_train.columns[i])"
      ],
      "metadata": {
        "colab": {
          "base_uri": "https://localhost:8080/"
        },
        "id": "GP0Xz0BS4xBb",
        "outputId": "26d7df57-80d1-41ca-aa70-1ae15e9a81f3"
      },
      "execution_count": null,
      "outputs": [
        {
          "output_type": "stream",
          "name": "stdout",
          "text": [
            "-0.06519661295724609   ID\n",
            "1.3595080729622733   DATA_0\n",
            "-0.7318027357535891   DATA_1\n",
            "0.9617769976060168   DATA_2\n",
            "-0.6367937270755483   DATA_3\n",
            "-0.7025960872001471   DATA_4\n",
            "-0.5719481905814927   DATA_5\n",
            "-0.7059998408573048   DATA_6\n",
            "-0.6034188415606849   DATA_7\n"
          ]
        }
      ]
    },
    {
      "cell_type": "code",
      "source": [
        "X_train = pd.DataFrame(scaled_data, columns = X_train.columns)"
      ],
      "metadata": {
        "id": "51FIP9Lr4xDk"
      },
      "execution_count": null,
      "outputs": []
    },
    {
      "cell_type": "code",
      "source": [
        "X_train"
      ],
      "metadata": {
        "colab": {
          "base_uri": "https://localhost:8080/",
          "height": 424
        },
        "id": "froQ_buUC1lW",
        "outputId": "f8cdd216-ff1f-40b2-ecb8-672f9deec156"
      },
      "execution_count": null,
      "outputs": [
        {
          "output_type": "execute_result",
          "data": {
            "text/plain": [
              "              ID    DATA_0    DATA_1    DATA_2    DATA_3    DATA_4    DATA_5  \\\n",
              "0      -0.065197  1.359508 -0.731803  0.961777 -0.636794 -0.702596 -0.571948   \n",
              "1      -0.521152 -0.618904  0.397982 -0.756264 -0.636794 -0.702596 -0.571948   \n",
              "2       2.056392  2.067690 -0.731803  1.003010 -0.636794  1.282837 -0.571948   \n",
              "3       1.674879 -0.349121 -0.397052 -0.687543 -0.415468 -0.702596 -0.232957   \n",
              "4       0.071280 -0.798760 -0.417974 -0.756264 -0.636794 -0.407883 -0.571948   \n",
              "...          ...       ...       ...       ...       ...       ...       ...   \n",
              "985745 -1.268671  1.381990 -0.721342 -0.728776 -0.249474 -0.330327 -0.518981   \n",
              "985746 -1.268671  1.381990 -0.721342 -0.728776 -0.249474 -0.330327 -0.518981   \n",
              "985747 -1.268671  1.381990 -0.721342 -0.728776 -0.249474 -0.330327 -0.518981   \n",
              "985748 -1.268671  0.685049 -0.700420 -0.728776 -0.249474 -0.330327 -0.518981   \n",
              "985749 -1.268671  0.685049 -0.700420 -0.728776 -0.249474 -0.330327 -0.518981   \n",
              "\n",
              "          DATA_6    DATA_7  \n",
              "0      -0.706000 -0.603419  \n",
              "1      -0.706000 -0.603419  \n",
              "2      -0.312796  1.816359  \n",
              "3      -0.302966 -0.603419  \n",
              "4      -0.706000 -0.603419  \n",
              "...          ...       ...  \n",
              "985745  0.650554 -0.263450  \n",
              "985746  0.650554 -0.263450  \n",
              "985747  0.650554 -0.263450  \n",
              "985748  0.650554 -0.263450  \n",
              "985749  0.650554 -0.263450  \n",
              "\n",
              "[985750 rows x 9 columns]"
            ],
            "text/html": [
              "\n",
              "  <div id=\"df-af9b38ef-c596-46c8-a647-9acd09365837\" class=\"colab-df-container\">\n",
              "    <div>\n",
              "<style scoped>\n",
              "    .dataframe tbody tr th:only-of-type {\n",
              "        vertical-align: middle;\n",
              "    }\n",
              "\n",
              "    .dataframe tbody tr th {\n",
              "        vertical-align: top;\n",
              "    }\n",
              "\n",
              "    .dataframe thead th {\n",
              "        text-align: right;\n",
              "    }\n",
              "</style>\n",
              "<table border=\"1\" class=\"dataframe\">\n",
              "  <thead>\n",
              "    <tr style=\"text-align: right;\">\n",
              "      <th></th>\n",
              "      <th>ID</th>\n",
              "      <th>DATA_0</th>\n",
              "      <th>DATA_1</th>\n",
              "      <th>DATA_2</th>\n",
              "      <th>DATA_3</th>\n",
              "      <th>DATA_4</th>\n",
              "      <th>DATA_5</th>\n",
              "      <th>DATA_6</th>\n",
              "      <th>DATA_7</th>\n",
              "    </tr>\n",
              "  </thead>\n",
              "  <tbody>\n",
              "    <tr>\n",
              "      <th>0</th>\n",
              "      <td>-0.065197</td>\n",
              "      <td>1.359508</td>\n",
              "      <td>-0.731803</td>\n",
              "      <td>0.961777</td>\n",
              "      <td>-0.636794</td>\n",
              "      <td>-0.702596</td>\n",
              "      <td>-0.571948</td>\n",
              "      <td>-0.706000</td>\n",
              "      <td>-0.603419</td>\n",
              "    </tr>\n",
              "    <tr>\n",
              "      <th>1</th>\n",
              "      <td>-0.521152</td>\n",
              "      <td>-0.618904</td>\n",
              "      <td>0.397982</td>\n",
              "      <td>-0.756264</td>\n",
              "      <td>-0.636794</td>\n",
              "      <td>-0.702596</td>\n",
              "      <td>-0.571948</td>\n",
              "      <td>-0.706000</td>\n",
              "      <td>-0.603419</td>\n",
              "    </tr>\n",
              "    <tr>\n",
              "      <th>2</th>\n",
              "      <td>2.056392</td>\n",
              "      <td>2.067690</td>\n",
              "      <td>-0.731803</td>\n",
              "      <td>1.003010</td>\n",
              "      <td>-0.636794</td>\n",
              "      <td>1.282837</td>\n",
              "      <td>-0.571948</td>\n",
              "      <td>-0.312796</td>\n",
              "      <td>1.816359</td>\n",
              "    </tr>\n",
              "    <tr>\n",
              "      <th>3</th>\n",
              "      <td>1.674879</td>\n",
              "      <td>-0.349121</td>\n",
              "      <td>-0.397052</td>\n",
              "      <td>-0.687543</td>\n",
              "      <td>-0.415468</td>\n",
              "      <td>-0.702596</td>\n",
              "      <td>-0.232957</td>\n",
              "      <td>-0.302966</td>\n",
              "      <td>-0.603419</td>\n",
              "    </tr>\n",
              "    <tr>\n",
              "      <th>4</th>\n",
              "      <td>0.071280</td>\n",
              "      <td>-0.798760</td>\n",
              "      <td>-0.417974</td>\n",
              "      <td>-0.756264</td>\n",
              "      <td>-0.636794</td>\n",
              "      <td>-0.407883</td>\n",
              "      <td>-0.571948</td>\n",
              "      <td>-0.706000</td>\n",
              "      <td>-0.603419</td>\n",
              "    </tr>\n",
              "    <tr>\n",
              "      <th>...</th>\n",
              "      <td>...</td>\n",
              "      <td>...</td>\n",
              "      <td>...</td>\n",
              "      <td>...</td>\n",
              "      <td>...</td>\n",
              "      <td>...</td>\n",
              "      <td>...</td>\n",
              "      <td>...</td>\n",
              "      <td>...</td>\n",
              "    </tr>\n",
              "    <tr>\n",
              "      <th>985745</th>\n",
              "      <td>-1.268671</td>\n",
              "      <td>1.381990</td>\n",
              "      <td>-0.721342</td>\n",
              "      <td>-0.728776</td>\n",
              "      <td>-0.249474</td>\n",
              "      <td>-0.330327</td>\n",
              "      <td>-0.518981</td>\n",
              "      <td>0.650554</td>\n",
              "      <td>-0.263450</td>\n",
              "    </tr>\n",
              "    <tr>\n",
              "      <th>985746</th>\n",
              "      <td>-1.268671</td>\n",
              "      <td>1.381990</td>\n",
              "      <td>-0.721342</td>\n",
              "      <td>-0.728776</td>\n",
              "      <td>-0.249474</td>\n",
              "      <td>-0.330327</td>\n",
              "      <td>-0.518981</td>\n",
              "      <td>0.650554</td>\n",
              "      <td>-0.263450</td>\n",
              "    </tr>\n",
              "    <tr>\n",
              "      <th>985747</th>\n",
              "      <td>-1.268671</td>\n",
              "      <td>1.381990</td>\n",
              "      <td>-0.721342</td>\n",
              "      <td>-0.728776</td>\n",
              "      <td>-0.249474</td>\n",
              "      <td>-0.330327</td>\n",
              "      <td>-0.518981</td>\n",
              "      <td>0.650554</td>\n",
              "      <td>-0.263450</td>\n",
              "    </tr>\n",
              "    <tr>\n",
              "      <th>985748</th>\n",
              "      <td>-1.268671</td>\n",
              "      <td>0.685049</td>\n",
              "      <td>-0.700420</td>\n",
              "      <td>-0.728776</td>\n",
              "      <td>-0.249474</td>\n",
              "      <td>-0.330327</td>\n",
              "      <td>-0.518981</td>\n",
              "      <td>0.650554</td>\n",
              "      <td>-0.263450</td>\n",
              "    </tr>\n",
              "    <tr>\n",
              "      <th>985749</th>\n",
              "      <td>-1.268671</td>\n",
              "      <td>0.685049</td>\n",
              "      <td>-0.700420</td>\n",
              "      <td>-0.728776</td>\n",
              "      <td>-0.249474</td>\n",
              "      <td>-0.330327</td>\n",
              "      <td>-0.518981</td>\n",
              "      <td>0.650554</td>\n",
              "      <td>-0.263450</td>\n",
              "    </tr>\n",
              "  </tbody>\n",
              "</table>\n",
              "<p>985750 rows × 9 columns</p>\n",
              "</div>\n",
              "    <div class=\"colab-df-buttons\">\n",
              "\n",
              "  <div class=\"colab-df-container\">\n",
              "    <button class=\"colab-df-convert\" onclick=\"convertToInteractive('df-af9b38ef-c596-46c8-a647-9acd09365837')\"\n",
              "            title=\"Convert this dataframe to an interactive table.\"\n",
              "            style=\"display:none;\">\n",
              "\n",
              "  <svg xmlns=\"http://www.w3.org/2000/svg\" height=\"24px\" viewBox=\"0 -960 960 960\">\n",
              "    <path d=\"M120-120v-720h720v720H120Zm60-500h600v-160H180v160Zm220 220h160v-160H400v160Zm0 220h160v-160H400v160ZM180-400h160v-160H180v160Zm440 0h160v-160H620v160ZM180-180h160v-160H180v160Zm440 0h160v-160H620v160Z\"/>\n",
              "  </svg>\n",
              "    </button>\n",
              "\n",
              "  <style>\n",
              "    .colab-df-container {\n",
              "      display:flex;\n",
              "      gap: 12px;\n",
              "    }\n",
              "\n",
              "    .colab-df-convert {\n",
              "      background-color: #E8F0FE;\n",
              "      border: none;\n",
              "      border-radius: 50%;\n",
              "      cursor: pointer;\n",
              "      display: none;\n",
              "      fill: #1967D2;\n",
              "      height: 32px;\n",
              "      padding: 0 0 0 0;\n",
              "      width: 32px;\n",
              "    }\n",
              "\n",
              "    .colab-df-convert:hover {\n",
              "      background-color: #E2EBFA;\n",
              "      box-shadow: 0px 1px 2px rgba(60, 64, 67, 0.3), 0px 1px 3px 1px rgba(60, 64, 67, 0.15);\n",
              "      fill: #174EA6;\n",
              "    }\n",
              "\n",
              "    .colab-df-buttons div {\n",
              "      margin-bottom: 4px;\n",
              "    }\n",
              "\n",
              "    [theme=dark] .colab-df-convert {\n",
              "      background-color: #3B4455;\n",
              "      fill: #D2E3FC;\n",
              "    }\n",
              "\n",
              "    [theme=dark] .colab-df-convert:hover {\n",
              "      background-color: #434B5C;\n",
              "      box-shadow: 0px 1px 3px 1px rgba(0, 0, 0, 0.15);\n",
              "      filter: drop-shadow(0px 1px 2px rgba(0, 0, 0, 0.3));\n",
              "      fill: #FFFFFF;\n",
              "    }\n",
              "  </style>\n",
              "\n",
              "    <script>\n",
              "      const buttonEl =\n",
              "        document.querySelector('#df-af9b38ef-c596-46c8-a647-9acd09365837 button.colab-df-convert');\n",
              "      buttonEl.style.display =\n",
              "        google.colab.kernel.accessAllowed ? 'block' : 'none';\n",
              "\n",
              "      async function convertToInteractive(key) {\n",
              "        const element = document.querySelector('#df-af9b38ef-c596-46c8-a647-9acd09365837');\n",
              "        const dataTable =\n",
              "          await google.colab.kernel.invokeFunction('convertToInteractive',\n",
              "                                                    [key], {});\n",
              "        if (!dataTable) return;\n",
              "\n",
              "        const docLinkHtml = 'Like what you see? Visit the ' +\n",
              "          '<a target=\"_blank\" href=https://colab.research.google.com/notebooks/data_table.ipynb>data table notebook</a>'\n",
              "          + ' to learn more about interactive tables.';\n",
              "        element.innerHTML = '';\n",
              "        dataTable['output_type'] = 'display_data';\n",
              "        await google.colab.output.renderOutput(dataTable, element);\n",
              "        const docLink = document.createElement('div');\n",
              "        docLink.innerHTML = docLinkHtml;\n",
              "        element.appendChild(docLink);\n",
              "      }\n",
              "    </script>\n",
              "  </div>\n",
              "\n",
              "\n",
              "<div id=\"df-13e8ee72-f707-4422-8843-d9c6668a7566\">\n",
              "  <button class=\"colab-df-quickchart\" onclick=\"quickchart('df-13e8ee72-f707-4422-8843-d9c6668a7566')\"\n",
              "            title=\"Suggest charts\"\n",
              "            style=\"display:none;\">\n",
              "\n",
              "<svg xmlns=\"http://www.w3.org/2000/svg\" height=\"24px\"viewBox=\"0 0 24 24\"\n",
              "     width=\"24px\">\n",
              "    <g>\n",
              "        <path d=\"M19 3H5c-1.1 0-2 .9-2 2v14c0 1.1.9 2 2 2h14c1.1 0 2-.9 2-2V5c0-1.1-.9-2-2-2zM9 17H7v-7h2v7zm4 0h-2V7h2v10zm4 0h-2v-4h2v4z\"/>\n",
              "    </g>\n",
              "</svg>\n",
              "  </button>\n",
              "\n",
              "<style>\n",
              "  .colab-df-quickchart {\n",
              "      --bg-color: #E8F0FE;\n",
              "      --fill-color: #1967D2;\n",
              "      --hover-bg-color: #E2EBFA;\n",
              "      --hover-fill-color: #174EA6;\n",
              "      --disabled-fill-color: #AAA;\n",
              "      --disabled-bg-color: #DDD;\n",
              "  }\n",
              "\n",
              "  [theme=dark] .colab-df-quickchart {\n",
              "      --bg-color: #3B4455;\n",
              "      --fill-color: #D2E3FC;\n",
              "      --hover-bg-color: #434B5C;\n",
              "      --hover-fill-color: #FFFFFF;\n",
              "      --disabled-bg-color: #3B4455;\n",
              "      --disabled-fill-color: #666;\n",
              "  }\n",
              "\n",
              "  .colab-df-quickchart {\n",
              "    background-color: var(--bg-color);\n",
              "    border: none;\n",
              "    border-radius: 50%;\n",
              "    cursor: pointer;\n",
              "    display: none;\n",
              "    fill: var(--fill-color);\n",
              "    height: 32px;\n",
              "    padding: 0;\n",
              "    width: 32px;\n",
              "  }\n",
              "\n",
              "  .colab-df-quickchart:hover {\n",
              "    background-color: var(--hover-bg-color);\n",
              "    box-shadow: 0 1px 2px rgba(60, 64, 67, 0.3), 0 1px 3px 1px rgba(60, 64, 67, 0.15);\n",
              "    fill: var(--button-hover-fill-color);\n",
              "  }\n",
              "\n",
              "  .colab-df-quickchart-complete:disabled,\n",
              "  .colab-df-quickchart-complete:disabled:hover {\n",
              "    background-color: var(--disabled-bg-color);\n",
              "    fill: var(--disabled-fill-color);\n",
              "    box-shadow: none;\n",
              "  }\n",
              "\n",
              "  .colab-df-spinner {\n",
              "    border: 2px solid var(--fill-color);\n",
              "    border-color: transparent;\n",
              "    border-bottom-color: var(--fill-color);\n",
              "    animation:\n",
              "      spin 1s steps(1) infinite;\n",
              "  }\n",
              "\n",
              "  @keyframes spin {\n",
              "    0% {\n",
              "      border-color: transparent;\n",
              "      border-bottom-color: var(--fill-color);\n",
              "      border-left-color: var(--fill-color);\n",
              "    }\n",
              "    20% {\n",
              "      border-color: transparent;\n",
              "      border-left-color: var(--fill-color);\n",
              "      border-top-color: var(--fill-color);\n",
              "    }\n",
              "    30% {\n",
              "      border-color: transparent;\n",
              "      border-left-color: var(--fill-color);\n",
              "      border-top-color: var(--fill-color);\n",
              "      border-right-color: var(--fill-color);\n",
              "    }\n",
              "    40% {\n",
              "      border-color: transparent;\n",
              "      border-right-color: var(--fill-color);\n",
              "      border-top-color: var(--fill-color);\n",
              "    }\n",
              "    60% {\n",
              "      border-color: transparent;\n",
              "      border-right-color: var(--fill-color);\n",
              "    }\n",
              "    80% {\n",
              "      border-color: transparent;\n",
              "      border-right-color: var(--fill-color);\n",
              "      border-bottom-color: var(--fill-color);\n",
              "    }\n",
              "    90% {\n",
              "      border-color: transparent;\n",
              "      border-bottom-color: var(--fill-color);\n",
              "    }\n",
              "  }\n",
              "</style>\n",
              "\n",
              "  <script>\n",
              "    async function quickchart(key) {\n",
              "      const quickchartButtonEl =\n",
              "        document.querySelector('#' + key + ' button');\n",
              "      quickchartButtonEl.disabled = true;  // To prevent multiple clicks.\n",
              "      quickchartButtonEl.classList.add('colab-df-spinner');\n",
              "      try {\n",
              "        const charts = await google.colab.kernel.invokeFunction(\n",
              "            'suggestCharts', [key], {});\n",
              "      } catch (error) {\n",
              "        console.error('Error during call to suggestCharts:', error);\n",
              "      }\n",
              "      quickchartButtonEl.classList.remove('colab-df-spinner');\n",
              "      quickchartButtonEl.classList.add('colab-df-quickchart-complete');\n",
              "    }\n",
              "    (() => {\n",
              "      let quickchartButtonEl =\n",
              "        document.querySelector('#df-13e8ee72-f707-4422-8843-d9c6668a7566 button');\n",
              "      quickchartButtonEl.style.display =\n",
              "        google.colab.kernel.accessAllowed ? 'block' : 'none';\n",
              "    })();\n",
              "  </script>\n",
              "</div>\n",
              "\n",
              "  <div id=\"id_a660b3aa-0cdc-4871-af62-75e5b656afba\">\n",
              "    <style>\n",
              "      .colab-df-generate {\n",
              "        background-color: #E8F0FE;\n",
              "        border: none;\n",
              "        border-radius: 50%;\n",
              "        cursor: pointer;\n",
              "        display: none;\n",
              "        fill: #1967D2;\n",
              "        height: 32px;\n",
              "        padding: 0 0 0 0;\n",
              "        width: 32px;\n",
              "      }\n",
              "\n",
              "      .colab-df-generate:hover {\n",
              "        background-color: #E2EBFA;\n",
              "        box-shadow: 0px 1px 2px rgba(60, 64, 67, 0.3), 0px 1px 3px 1px rgba(60, 64, 67, 0.15);\n",
              "        fill: #174EA6;\n",
              "      }\n",
              "\n",
              "      [theme=dark] .colab-df-generate {\n",
              "        background-color: #3B4455;\n",
              "        fill: #D2E3FC;\n",
              "      }\n",
              "\n",
              "      [theme=dark] .colab-df-generate:hover {\n",
              "        background-color: #434B5C;\n",
              "        box-shadow: 0px 1px 3px 1px rgba(0, 0, 0, 0.15);\n",
              "        filter: drop-shadow(0px 1px 2px rgba(0, 0, 0, 0.3));\n",
              "        fill: #FFFFFF;\n",
              "      }\n",
              "    </style>\n",
              "    <button class=\"colab-df-generate\" onclick=\"generateWithVariable('X_train')\"\n",
              "            title=\"Generate code using this dataframe.\"\n",
              "            style=\"display:none;\">\n",
              "\n",
              "  <svg xmlns=\"http://www.w3.org/2000/svg\" height=\"24px\"viewBox=\"0 0 24 24\"\n",
              "       width=\"24px\">\n",
              "    <path d=\"M7,19H8.4L18.45,9,17,7.55,7,17.6ZM5,21V16.75L18.45,3.32a2,2,0,0,1,2.83,0l1.4,1.43a1.91,1.91,0,0,1,.58,1.4,1.91,1.91,0,0,1-.58,1.4L9.25,21ZM18.45,9,17,7.55Zm-12,3A5.31,5.31,0,0,0,4.9,8.1,5.31,5.31,0,0,0,1,6.5,5.31,5.31,0,0,0,4.9,4.9,5.31,5.31,0,0,0,6.5,1,5.31,5.31,0,0,0,8.1,4.9,5.31,5.31,0,0,0,12,6.5,5.46,5.46,0,0,0,6.5,12Z\"/>\n",
              "  </svg>\n",
              "    </button>\n",
              "    <script>\n",
              "      (() => {\n",
              "      const buttonEl =\n",
              "        document.querySelector('#id_a660b3aa-0cdc-4871-af62-75e5b656afba button.colab-df-generate');\n",
              "      buttonEl.style.display =\n",
              "        google.colab.kernel.accessAllowed ? 'block' : 'none';\n",
              "\n",
              "      buttonEl.onclick = () => {\n",
              "        google.colab.notebook.generateWithVariable('X_train');\n",
              "      }\n",
              "      })();\n",
              "    </script>\n",
              "  </div>\n",
              "\n",
              "    </div>\n",
              "  </div>\n"
            ],
            "application/vnd.google.colaboratory.intrinsic+json": {
              "type": "dataframe",
              "variable_name": "X_train"
            }
          },
          "metadata": {},
          "execution_count": 20
        }
      ]
    },
    {
      "cell_type": "code",
      "source": [
        "standard_scaler_scaling = StandardScaler()\n",
        "scaled_data = standard_scaler_scaling.fit_transform(X_test)\n",
        "\n",
        "for i in range(len(scaled_data[0])):\n",
        "    print(scaled_data[0][i], \" \", X_test.columns[i])"
      ],
      "metadata": {
        "colab": {
          "base_uri": "https://localhost:8080/"
        },
        "id": "_Entp9L0C1tI",
        "outputId": "7747f082-682e-4246-bf4d-6c4c2754aec0"
      },
      "execution_count": null,
      "outputs": [
        {
          "output_type": "stream",
          "name": "stdout",
          "text": [
            "-0.5598603207162843   ID\n",
            "-0.6195881283660838   DATA_0\n",
            "-0.05303372969923542   DATA_1\n",
            "-0.7553984457290916   DATA_2\n",
            "-0.6345046113431914   DATA_3\n",
            "-0.7024409969785192   DATA_4\n",
            "-0.5693778774607681   DATA_5\n",
            "-0.7046246994014792   DATA_6\n",
            "-0.6018765664891745   DATA_7\n"
          ]
        }
      ]
    },
    {
      "cell_type": "code",
      "source": [
        "X_test = pd.DataFrame(scaled_data, columns = X_test.columns)"
      ],
      "metadata": {
        "id": "v9iKsqk1C_ul"
      },
      "execution_count": null,
      "outputs": []
    },
    {
      "cell_type": "code",
      "source": [
        "X_test"
      ],
      "metadata": {
        "colab": {
          "base_uri": "https://localhost:8080/",
          "height": 424
        },
        "id": "vAAAgLb8C_wp",
        "outputId": "79c26b4f-0d8c-4b58-c9b4-87bf35a28425"
      },
      "execution_count": null,
      "outputs": [
        {
          "output_type": "execute_result",
          "data": {
            "text/plain": [
              "              ID    DATA_0    DATA_1    DATA_2    DATA_3    DATA_4    DATA_5  \\\n",
              "0      -0.559860 -0.619588 -0.053034 -0.755398 -0.634505 -0.702441 -0.569378   \n",
              "1       1.572375 -0.799330 -0.733227 -0.425663  2.125472 -0.469638  2.137874   \n",
              "2      -0.497877 -0.788096  1.642218 -0.645487 -0.634505  1.563511 -0.526911   \n",
              "3      -1.297465  2.065304  1.935225 -0.549314  2.191978  1.268626  2.137874   \n",
              "4      -1.300564 -0.102831  0.606231  0.151373  0.784279 -0.469638  2.137874   \n",
              "...          ...       ...       ...       ...       ...       ...       ...   \n",
              "422464 -1.269572  0.683540 -0.701834 -0.727921 -0.246556 -0.329956 -0.516295   \n",
              "422465 -1.269572  1.380039 -0.722763 -0.727921 -0.246556 -0.329956 -0.516295   \n",
              "422466 -1.269572  0.683540 -0.701834 -0.727921 -0.246556 -0.329956 -0.516295   \n",
              "422467 -1.269572  1.380039 -0.722763 -0.727921 -0.246556 -0.329956 -0.516295   \n",
              "422468 -1.269572  0.683540 -0.701834 -0.727921 -0.246556 -0.329956 -0.516295   \n",
              "\n",
              "          DATA_6    DATA_7  \n",
              "0      -0.704625 -0.601877  \n",
              "1      -0.556973  1.951619  \n",
              "2      -0.704625 -0.601877  \n",
              "3       1.805447  1.951619  \n",
              "4      -0.704625 -0.601877  \n",
              "...          ...       ...  \n",
              "422464  0.653767 -0.261410  \n",
              "422465  0.653767 -0.261410  \n",
              "422466  0.653767 -0.261410  \n",
              "422467  0.653767 -0.261410  \n",
              "422468  0.653767 -0.261410  \n",
              "\n",
              "[422469 rows x 9 columns]"
            ],
            "text/html": [
              "\n",
              "  <div id=\"df-443cb696-3528-4264-8129-529559139fbc\" class=\"colab-df-container\">\n",
              "    <div>\n",
              "<style scoped>\n",
              "    .dataframe tbody tr th:only-of-type {\n",
              "        vertical-align: middle;\n",
              "    }\n",
              "\n",
              "    .dataframe tbody tr th {\n",
              "        vertical-align: top;\n",
              "    }\n",
              "\n",
              "    .dataframe thead th {\n",
              "        text-align: right;\n",
              "    }\n",
              "</style>\n",
              "<table border=\"1\" class=\"dataframe\">\n",
              "  <thead>\n",
              "    <tr style=\"text-align: right;\">\n",
              "      <th></th>\n",
              "      <th>ID</th>\n",
              "      <th>DATA_0</th>\n",
              "      <th>DATA_1</th>\n",
              "      <th>DATA_2</th>\n",
              "      <th>DATA_3</th>\n",
              "      <th>DATA_4</th>\n",
              "      <th>DATA_5</th>\n",
              "      <th>DATA_6</th>\n",
              "      <th>DATA_7</th>\n",
              "    </tr>\n",
              "  </thead>\n",
              "  <tbody>\n",
              "    <tr>\n",
              "      <th>0</th>\n",
              "      <td>-0.559860</td>\n",
              "      <td>-0.619588</td>\n",
              "      <td>-0.053034</td>\n",
              "      <td>-0.755398</td>\n",
              "      <td>-0.634505</td>\n",
              "      <td>-0.702441</td>\n",
              "      <td>-0.569378</td>\n",
              "      <td>-0.704625</td>\n",
              "      <td>-0.601877</td>\n",
              "    </tr>\n",
              "    <tr>\n",
              "      <th>1</th>\n",
              "      <td>1.572375</td>\n",
              "      <td>-0.799330</td>\n",
              "      <td>-0.733227</td>\n",
              "      <td>-0.425663</td>\n",
              "      <td>2.125472</td>\n",
              "      <td>-0.469638</td>\n",
              "      <td>2.137874</td>\n",
              "      <td>-0.556973</td>\n",
              "      <td>1.951619</td>\n",
              "    </tr>\n",
              "    <tr>\n",
              "      <th>2</th>\n",
              "      <td>-0.497877</td>\n",
              "      <td>-0.788096</td>\n",
              "      <td>1.642218</td>\n",
              "      <td>-0.645487</td>\n",
              "      <td>-0.634505</td>\n",
              "      <td>1.563511</td>\n",
              "      <td>-0.526911</td>\n",
              "      <td>-0.704625</td>\n",
              "      <td>-0.601877</td>\n",
              "    </tr>\n",
              "    <tr>\n",
              "      <th>3</th>\n",
              "      <td>-1.297465</td>\n",
              "      <td>2.065304</td>\n",
              "      <td>1.935225</td>\n",
              "      <td>-0.549314</td>\n",
              "      <td>2.191978</td>\n",
              "      <td>1.268626</td>\n",
              "      <td>2.137874</td>\n",
              "      <td>1.805447</td>\n",
              "      <td>1.951619</td>\n",
              "    </tr>\n",
              "    <tr>\n",
              "      <th>4</th>\n",
              "      <td>-1.300564</td>\n",
              "      <td>-0.102831</td>\n",
              "      <td>0.606231</td>\n",
              "      <td>0.151373</td>\n",
              "      <td>0.784279</td>\n",
              "      <td>-0.469638</td>\n",
              "      <td>2.137874</td>\n",
              "      <td>-0.704625</td>\n",
              "      <td>-0.601877</td>\n",
              "    </tr>\n",
              "    <tr>\n",
              "      <th>...</th>\n",
              "      <td>...</td>\n",
              "      <td>...</td>\n",
              "      <td>...</td>\n",
              "      <td>...</td>\n",
              "      <td>...</td>\n",
              "      <td>...</td>\n",
              "      <td>...</td>\n",
              "      <td>...</td>\n",
              "      <td>...</td>\n",
              "    </tr>\n",
              "    <tr>\n",
              "      <th>422464</th>\n",
              "      <td>-1.269572</td>\n",
              "      <td>0.683540</td>\n",
              "      <td>-0.701834</td>\n",
              "      <td>-0.727921</td>\n",
              "      <td>-0.246556</td>\n",
              "      <td>-0.329956</td>\n",
              "      <td>-0.516295</td>\n",
              "      <td>0.653767</td>\n",
              "      <td>-0.261410</td>\n",
              "    </tr>\n",
              "    <tr>\n",
              "      <th>422465</th>\n",
              "      <td>-1.269572</td>\n",
              "      <td>1.380039</td>\n",
              "      <td>-0.722763</td>\n",
              "      <td>-0.727921</td>\n",
              "      <td>-0.246556</td>\n",
              "      <td>-0.329956</td>\n",
              "      <td>-0.516295</td>\n",
              "      <td>0.653767</td>\n",
              "      <td>-0.261410</td>\n",
              "    </tr>\n",
              "    <tr>\n",
              "      <th>422466</th>\n",
              "      <td>-1.269572</td>\n",
              "      <td>0.683540</td>\n",
              "      <td>-0.701834</td>\n",
              "      <td>-0.727921</td>\n",
              "      <td>-0.246556</td>\n",
              "      <td>-0.329956</td>\n",
              "      <td>-0.516295</td>\n",
              "      <td>0.653767</td>\n",
              "      <td>-0.261410</td>\n",
              "    </tr>\n",
              "    <tr>\n",
              "      <th>422467</th>\n",
              "      <td>-1.269572</td>\n",
              "      <td>1.380039</td>\n",
              "      <td>-0.722763</td>\n",
              "      <td>-0.727921</td>\n",
              "      <td>-0.246556</td>\n",
              "      <td>-0.329956</td>\n",
              "      <td>-0.516295</td>\n",
              "      <td>0.653767</td>\n",
              "      <td>-0.261410</td>\n",
              "    </tr>\n",
              "    <tr>\n",
              "      <th>422468</th>\n",
              "      <td>-1.269572</td>\n",
              "      <td>0.683540</td>\n",
              "      <td>-0.701834</td>\n",
              "      <td>-0.727921</td>\n",
              "      <td>-0.246556</td>\n",
              "      <td>-0.329956</td>\n",
              "      <td>-0.516295</td>\n",
              "      <td>0.653767</td>\n",
              "      <td>-0.261410</td>\n",
              "    </tr>\n",
              "  </tbody>\n",
              "</table>\n",
              "<p>422469 rows × 9 columns</p>\n",
              "</div>\n",
              "    <div class=\"colab-df-buttons\">\n",
              "\n",
              "  <div class=\"colab-df-container\">\n",
              "    <button class=\"colab-df-convert\" onclick=\"convertToInteractive('df-443cb696-3528-4264-8129-529559139fbc')\"\n",
              "            title=\"Convert this dataframe to an interactive table.\"\n",
              "            style=\"display:none;\">\n",
              "\n",
              "  <svg xmlns=\"http://www.w3.org/2000/svg\" height=\"24px\" viewBox=\"0 -960 960 960\">\n",
              "    <path d=\"M120-120v-720h720v720H120Zm60-500h600v-160H180v160Zm220 220h160v-160H400v160Zm0 220h160v-160H400v160ZM180-400h160v-160H180v160Zm440 0h160v-160H620v160ZM180-180h160v-160H180v160Zm440 0h160v-160H620v160Z\"/>\n",
              "  </svg>\n",
              "    </button>\n",
              "\n",
              "  <style>\n",
              "    .colab-df-container {\n",
              "      display:flex;\n",
              "      gap: 12px;\n",
              "    }\n",
              "\n",
              "    .colab-df-convert {\n",
              "      background-color: #E8F0FE;\n",
              "      border: none;\n",
              "      border-radius: 50%;\n",
              "      cursor: pointer;\n",
              "      display: none;\n",
              "      fill: #1967D2;\n",
              "      height: 32px;\n",
              "      padding: 0 0 0 0;\n",
              "      width: 32px;\n",
              "    }\n",
              "\n",
              "    .colab-df-convert:hover {\n",
              "      background-color: #E2EBFA;\n",
              "      box-shadow: 0px 1px 2px rgba(60, 64, 67, 0.3), 0px 1px 3px 1px rgba(60, 64, 67, 0.15);\n",
              "      fill: #174EA6;\n",
              "    }\n",
              "\n",
              "    .colab-df-buttons div {\n",
              "      margin-bottom: 4px;\n",
              "    }\n",
              "\n",
              "    [theme=dark] .colab-df-convert {\n",
              "      background-color: #3B4455;\n",
              "      fill: #D2E3FC;\n",
              "    }\n",
              "\n",
              "    [theme=dark] .colab-df-convert:hover {\n",
              "      background-color: #434B5C;\n",
              "      box-shadow: 0px 1px 3px 1px rgba(0, 0, 0, 0.15);\n",
              "      filter: drop-shadow(0px 1px 2px rgba(0, 0, 0, 0.3));\n",
              "      fill: #FFFFFF;\n",
              "    }\n",
              "  </style>\n",
              "\n",
              "    <script>\n",
              "      const buttonEl =\n",
              "        document.querySelector('#df-443cb696-3528-4264-8129-529559139fbc button.colab-df-convert');\n",
              "      buttonEl.style.display =\n",
              "        google.colab.kernel.accessAllowed ? 'block' : 'none';\n",
              "\n",
              "      async function convertToInteractive(key) {\n",
              "        const element = document.querySelector('#df-443cb696-3528-4264-8129-529559139fbc');\n",
              "        const dataTable =\n",
              "          await google.colab.kernel.invokeFunction('convertToInteractive',\n",
              "                                                    [key], {});\n",
              "        if (!dataTable) return;\n",
              "\n",
              "        const docLinkHtml = 'Like what you see? Visit the ' +\n",
              "          '<a target=\"_blank\" href=https://colab.research.google.com/notebooks/data_table.ipynb>data table notebook</a>'\n",
              "          + ' to learn more about interactive tables.';\n",
              "        element.innerHTML = '';\n",
              "        dataTable['output_type'] = 'display_data';\n",
              "        await google.colab.output.renderOutput(dataTable, element);\n",
              "        const docLink = document.createElement('div');\n",
              "        docLink.innerHTML = docLinkHtml;\n",
              "        element.appendChild(docLink);\n",
              "      }\n",
              "    </script>\n",
              "  </div>\n",
              "\n",
              "\n",
              "<div id=\"df-77058926-b7b0-4b7a-a9c7-aa80cb407af3\">\n",
              "  <button class=\"colab-df-quickchart\" onclick=\"quickchart('df-77058926-b7b0-4b7a-a9c7-aa80cb407af3')\"\n",
              "            title=\"Suggest charts\"\n",
              "            style=\"display:none;\">\n",
              "\n",
              "<svg xmlns=\"http://www.w3.org/2000/svg\" height=\"24px\"viewBox=\"0 0 24 24\"\n",
              "     width=\"24px\">\n",
              "    <g>\n",
              "        <path d=\"M19 3H5c-1.1 0-2 .9-2 2v14c0 1.1.9 2 2 2h14c1.1 0 2-.9 2-2V5c0-1.1-.9-2-2-2zM9 17H7v-7h2v7zm4 0h-2V7h2v10zm4 0h-2v-4h2v4z\"/>\n",
              "    </g>\n",
              "</svg>\n",
              "  </button>\n",
              "\n",
              "<style>\n",
              "  .colab-df-quickchart {\n",
              "      --bg-color: #E8F0FE;\n",
              "      --fill-color: #1967D2;\n",
              "      --hover-bg-color: #E2EBFA;\n",
              "      --hover-fill-color: #174EA6;\n",
              "      --disabled-fill-color: #AAA;\n",
              "      --disabled-bg-color: #DDD;\n",
              "  }\n",
              "\n",
              "  [theme=dark] .colab-df-quickchart {\n",
              "      --bg-color: #3B4455;\n",
              "      --fill-color: #D2E3FC;\n",
              "      --hover-bg-color: #434B5C;\n",
              "      --hover-fill-color: #FFFFFF;\n",
              "      --disabled-bg-color: #3B4455;\n",
              "      --disabled-fill-color: #666;\n",
              "  }\n",
              "\n",
              "  .colab-df-quickchart {\n",
              "    background-color: var(--bg-color);\n",
              "    border: none;\n",
              "    border-radius: 50%;\n",
              "    cursor: pointer;\n",
              "    display: none;\n",
              "    fill: var(--fill-color);\n",
              "    height: 32px;\n",
              "    padding: 0;\n",
              "    width: 32px;\n",
              "  }\n",
              "\n",
              "  .colab-df-quickchart:hover {\n",
              "    background-color: var(--hover-bg-color);\n",
              "    box-shadow: 0 1px 2px rgba(60, 64, 67, 0.3), 0 1px 3px 1px rgba(60, 64, 67, 0.15);\n",
              "    fill: var(--button-hover-fill-color);\n",
              "  }\n",
              "\n",
              "  .colab-df-quickchart-complete:disabled,\n",
              "  .colab-df-quickchart-complete:disabled:hover {\n",
              "    background-color: var(--disabled-bg-color);\n",
              "    fill: var(--disabled-fill-color);\n",
              "    box-shadow: none;\n",
              "  }\n",
              "\n",
              "  .colab-df-spinner {\n",
              "    border: 2px solid var(--fill-color);\n",
              "    border-color: transparent;\n",
              "    border-bottom-color: var(--fill-color);\n",
              "    animation:\n",
              "      spin 1s steps(1) infinite;\n",
              "  }\n",
              "\n",
              "  @keyframes spin {\n",
              "    0% {\n",
              "      border-color: transparent;\n",
              "      border-bottom-color: var(--fill-color);\n",
              "      border-left-color: var(--fill-color);\n",
              "    }\n",
              "    20% {\n",
              "      border-color: transparent;\n",
              "      border-left-color: var(--fill-color);\n",
              "      border-top-color: var(--fill-color);\n",
              "    }\n",
              "    30% {\n",
              "      border-color: transparent;\n",
              "      border-left-color: var(--fill-color);\n",
              "      border-top-color: var(--fill-color);\n",
              "      border-right-color: var(--fill-color);\n",
              "    }\n",
              "    40% {\n",
              "      border-color: transparent;\n",
              "      border-right-color: var(--fill-color);\n",
              "      border-top-color: var(--fill-color);\n",
              "    }\n",
              "    60% {\n",
              "      border-color: transparent;\n",
              "      border-right-color: var(--fill-color);\n",
              "    }\n",
              "    80% {\n",
              "      border-color: transparent;\n",
              "      border-right-color: var(--fill-color);\n",
              "      border-bottom-color: var(--fill-color);\n",
              "    }\n",
              "    90% {\n",
              "      border-color: transparent;\n",
              "      border-bottom-color: var(--fill-color);\n",
              "    }\n",
              "  }\n",
              "</style>\n",
              "\n",
              "  <script>\n",
              "    async function quickchart(key) {\n",
              "      const quickchartButtonEl =\n",
              "        document.querySelector('#' + key + ' button');\n",
              "      quickchartButtonEl.disabled = true;  // To prevent multiple clicks.\n",
              "      quickchartButtonEl.classList.add('colab-df-spinner');\n",
              "      try {\n",
              "        const charts = await google.colab.kernel.invokeFunction(\n",
              "            'suggestCharts', [key], {});\n",
              "      } catch (error) {\n",
              "        console.error('Error during call to suggestCharts:', error);\n",
              "      }\n",
              "      quickchartButtonEl.classList.remove('colab-df-spinner');\n",
              "      quickchartButtonEl.classList.add('colab-df-quickchart-complete');\n",
              "    }\n",
              "    (() => {\n",
              "      let quickchartButtonEl =\n",
              "        document.querySelector('#df-77058926-b7b0-4b7a-a9c7-aa80cb407af3 button');\n",
              "      quickchartButtonEl.style.display =\n",
              "        google.colab.kernel.accessAllowed ? 'block' : 'none';\n",
              "    })();\n",
              "  </script>\n",
              "</div>\n",
              "\n",
              "  <div id=\"id_72bdd20c-940b-4125-996b-162fe54cfd9f\">\n",
              "    <style>\n",
              "      .colab-df-generate {\n",
              "        background-color: #E8F0FE;\n",
              "        border: none;\n",
              "        border-radius: 50%;\n",
              "        cursor: pointer;\n",
              "        display: none;\n",
              "        fill: #1967D2;\n",
              "        height: 32px;\n",
              "        padding: 0 0 0 0;\n",
              "        width: 32px;\n",
              "      }\n",
              "\n",
              "      .colab-df-generate:hover {\n",
              "        background-color: #E2EBFA;\n",
              "        box-shadow: 0px 1px 2px rgba(60, 64, 67, 0.3), 0px 1px 3px 1px rgba(60, 64, 67, 0.15);\n",
              "        fill: #174EA6;\n",
              "      }\n",
              "\n",
              "      [theme=dark] .colab-df-generate {\n",
              "        background-color: #3B4455;\n",
              "        fill: #D2E3FC;\n",
              "      }\n",
              "\n",
              "      [theme=dark] .colab-df-generate:hover {\n",
              "        background-color: #434B5C;\n",
              "        box-shadow: 0px 1px 3px 1px rgba(0, 0, 0, 0.15);\n",
              "        filter: drop-shadow(0px 1px 2px rgba(0, 0, 0, 0.3));\n",
              "        fill: #FFFFFF;\n",
              "      }\n",
              "    </style>\n",
              "    <button class=\"colab-df-generate\" onclick=\"generateWithVariable('X_test')\"\n",
              "            title=\"Generate code using this dataframe.\"\n",
              "            style=\"display:none;\">\n",
              "\n",
              "  <svg xmlns=\"http://www.w3.org/2000/svg\" height=\"24px\"viewBox=\"0 0 24 24\"\n",
              "       width=\"24px\">\n",
              "    <path d=\"M7,19H8.4L18.45,9,17,7.55,7,17.6ZM5,21V16.75L18.45,3.32a2,2,0,0,1,2.83,0l1.4,1.43a1.91,1.91,0,0,1,.58,1.4,1.91,1.91,0,0,1-.58,1.4L9.25,21ZM18.45,9,17,7.55Zm-12,3A5.31,5.31,0,0,0,4.9,8.1,5.31,5.31,0,0,0,1,6.5,5.31,5.31,0,0,0,4.9,4.9,5.31,5.31,0,0,0,6.5,1,5.31,5.31,0,0,0,8.1,4.9,5.31,5.31,0,0,0,12,6.5,5.46,5.46,0,0,0,6.5,12Z\"/>\n",
              "  </svg>\n",
              "    </button>\n",
              "    <script>\n",
              "      (() => {\n",
              "      const buttonEl =\n",
              "        document.querySelector('#id_72bdd20c-940b-4125-996b-162fe54cfd9f button.colab-df-generate');\n",
              "      buttonEl.style.display =\n",
              "        google.colab.kernel.accessAllowed ? 'block' : 'none';\n",
              "\n",
              "      buttonEl.onclick = () => {\n",
              "        google.colab.notebook.generateWithVariable('X_test');\n",
              "      }\n",
              "      })();\n",
              "    </script>\n",
              "  </div>\n",
              "\n",
              "    </div>\n",
              "  </div>\n"
            ],
            "application/vnd.google.colaboratory.intrinsic+json": {
              "type": "dataframe",
              "variable_name": "X_test"
            }
          },
          "metadata": {},
          "execution_count": 23
        }
      ]
    },
    {
      "cell_type": "code",
      "source": [
        "import math"
      ],
      "metadata": {
        "id": "Ji7vMn_jDKtB"
      },
      "execution_count": null,
      "outputs": []
    },
    {
      "cell_type": "code",
      "source": [
        "data_scaled_frame = pd.concat([X_train, y_train], axis=1)"
      ],
      "metadata": {
        "id": "mcqQxxX7DnS2"
      },
      "execution_count": null,
      "outputs": []
    },
    {
      "cell_type": "code",
      "source": [
        "data_scaled_frame"
      ],
      "metadata": {
        "colab": {
          "base_uri": "https://localhost:8080/",
          "height": 424
        },
        "id": "s-x7VolWDtKp",
        "outputId": "ca74e8cb-7758-43e4-a196-4b31cb5f9e17"
      },
      "execution_count": null,
      "outputs": [
        {
          "output_type": "execute_result",
          "data": {
            "text/plain": [
              "              ID    DATA_0    DATA_1    DATA_2    DATA_3    DATA_4    DATA_5  \\\n",
              "0      -0.065197  1.359508 -0.731803  0.961777 -0.636794 -0.702596 -0.571948   \n",
              "1      -0.521152 -0.618904  0.397982 -0.756264 -0.636794 -0.702596 -0.571948   \n",
              "2       2.056392  2.067690 -0.731803  1.003010 -0.636794  1.282837 -0.571948   \n",
              "3       1.674879 -0.349121 -0.397052 -0.687543 -0.415468 -0.702596 -0.232957   \n",
              "4       0.071280 -0.798760 -0.417974 -0.756264 -0.636794 -0.407883 -0.571948   \n",
              "...          ...       ...       ...       ...       ...       ...       ...   \n",
              "985745 -1.268671  1.381990 -0.721342 -0.728776 -0.249474 -0.330327 -0.518981   \n",
              "985746 -1.268671  1.381990 -0.721342 -0.728776 -0.249474 -0.330327 -0.518981   \n",
              "985747 -1.268671  1.381990 -0.721342 -0.728776 -0.249474 -0.330327 -0.518981   \n",
              "985748 -1.268671  0.685049 -0.700420 -0.728776 -0.249474 -0.330327 -0.518981   \n",
              "985749 -1.268671  0.685049 -0.700420 -0.728776 -0.249474 -0.330327 -0.518981   \n",
              "\n",
              "          DATA_6    DATA_7  Label  \n",
              "0      -0.706000 -0.603419      0  \n",
              "1      -0.706000 -0.603419      0  \n",
              "2      -0.312796  1.816359      0  \n",
              "3      -0.302966 -0.603419      0  \n",
              "4      -0.706000 -0.603419      0  \n",
              "...          ...       ...    ...  \n",
              "985745  0.650554 -0.263450      5  \n",
              "985746  0.650554 -0.263450      5  \n",
              "985747  0.650554 -0.263450      5  \n",
              "985748  0.650554 -0.263450      5  \n",
              "985749  0.650554 -0.263450      5  \n",
              "\n",
              "[985750 rows x 10 columns]"
            ],
            "text/html": [
              "\n",
              "  <div id=\"df-8811656b-300b-42ca-914e-ce67909287b9\" class=\"colab-df-container\">\n",
              "    <div>\n",
              "<style scoped>\n",
              "    .dataframe tbody tr th:only-of-type {\n",
              "        vertical-align: middle;\n",
              "    }\n",
              "\n",
              "    .dataframe tbody tr th {\n",
              "        vertical-align: top;\n",
              "    }\n",
              "\n",
              "    .dataframe thead th {\n",
              "        text-align: right;\n",
              "    }\n",
              "</style>\n",
              "<table border=\"1\" class=\"dataframe\">\n",
              "  <thead>\n",
              "    <tr style=\"text-align: right;\">\n",
              "      <th></th>\n",
              "      <th>ID</th>\n",
              "      <th>DATA_0</th>\n",
              "      <th>DATA_1</th>\n",
              "      <th>DATA_2</th>\n",
              "      <th>DATA_3</th>\n",
              "      <th>DATA_4</th>\n",
              "      <th>DATA_5</th>\n",
              "      <th>DATA_6</th>\n",
              "      <th>DATA_7</th>\n",
              "      <th>Label</th>\n",
              "    </tr>\n",
              "  </thead>\n",
              "  <tbody>\n",
              "    <tr>\n",
              "      <th>0</th>\n",
              "      <td>-0.065197</td>\n",
              "      <td>1.359508</td>\n",
              "      <td>-0.731803</td>\n",
              "      <td>0.961777</td>\n",
              "      <td>-0.636794</td>\n",
              "      <td>-0.702596</td>\n",
              "      <td>-0.571948</td>\n",
              "      <td>-0.706000</td>\n",
              "      <td>-0.603419</td>\n",
              "      <td>0</td>\n",
              "    </tr>\n",
              "    <tr>\n",
              "      <th>1</th>\n",
              "      <td>-0.521152</td>\n",
              "      <td>-0.618904</td>\n",
              "      <td>0.397982</td>\n",
              "      <td>-0.756264</td>\n",
              "      <td>-0.636794</td>\n",
              "      <td>-0.702596</td>\n",
              "      <td>-0.571948</td>\n",
              "      <td>-0.706000</td>\n",
              "      <td>-0.603419</td>\n",
              "      <td>0</td>\n",
              "    </tr>\n",
              "    <tr>\n",
              "      <th>2</th>\n",
              "      <td>2.056392</td>\n",
              "      <td>2.067690</td>\n",
              "      <td>-0.731803</td>\n",
              "      <td>1.003010</td>\n",
              "      <td>-0.636794</td>\n",
              "      <td>1.282837</td>\n",
              "      <td>-0.571948</td>\n",
              "      <td>-0.312796</td>\n",
              "      <td>1.816359</td>\n",
              "      <td>0</td>\n",
              "    </tr>\n",
              "    <tr>\n",
              "      <th>3</th>\n",
              "      <td>1.674879</td>\n",
              "      <td>-0.349121</td>\n",
              "      <td>-0.397052</td>\n",
              "      <td>-0.687543</td>\n",
              "      <td>-0.415468</td>\n",
              "      <td>-0.702596</td>\n",
              "      <td>-0.232957</td>\n",
              "      <td>-0.302966</td>\n",
              "      <td>-0.603419</td>\n",
              "      <td>0</td>\n",
              "    </tr>\n",
              "    <tr>\n",
              "      <th>4</th>\n",
              "      <td>0.071280</td>\n",
              "      <td>-0.798760</td>\n",
              "      <td>-0.417974</td>\n",
              "      <td>-0.756264</td>\n",
              "      <td>-0.636794</td>\n",
              "      <td>-0.407883</td>\n",
              "      <td>-0.571948</td>\n",
              "      <td>-0.706000</td>\n",
              "      <td>-0.603419</td>\n",
              "      <td>0</td>\n",
              "    </tr>\n",
              "    <tr>\n",
              "      <th>...</th>\n",
              "      <td>...</td>\n",
              "      <td>...</td>\n",
              "      <td>...</td>\n",
              "      <td>...</td>\n",
              "      <td>...</td>\n",
              "      <td>...</td>\n",
              "      <td>...</td>\n",
              "      <td>...</td>\n",
              "      <td>...</td>\n",
              "      <td>...</td>\n",
              "    </tr>\n",
              "    <tr>\n",
              "      <th>985745</th>\n",
              "      <td>-1.268671</td>\n",
              "      <td>1.381990</td>\n",
              "      <td>-0.721342</td>\n",
              "      <td>-0.728776</td>\n",
              "      <td>-0.249474</td>\n",
              "      <td>-0.330327</td>\n",
              "      <td>-0.518981</td>\n",
              "      <td>0.650554</td>\n",
              "      <td>-0.263450</td>\n",
              "      <td>5</td>\n",
              "    </tr>\n",
              "    <tr>\n",
              "      <th>985746</th>\n",
              "      <td>-1.268671</td>\n",
              "      <td>1.381990</td>\n",
              "      <td>-0.721342</td>\n",
              "      <td>-0.728776</td>\n",
              "      <td>-0.249474</td>\n",
              "      <td>-0.330327</td>\n",
              "      <td>-0.518981</td>\n",
              "      <td>0.650554</td>\n",
              "      <td>-0.263450</td>\n",
              "      <td>5</td>\n",
              "    </tr>\n",
              "    <tr>\n",
              "      <th>985747</th>\n",
              "      <td>-1.268671</td>\n",
              "      <td>1.381990</td>\n",
              "      <td>-0.721342</td>\n",
              "      <td>-0.728776</td>\n",
              "      <td>-0.249474</td>\n",
              "      <td>-0.330327</td>\n",
              "      <td>-0.518981</td>\n",
              "      <td>0.650554</td>\n",
              "      <td>-0.263450</td>\n",
              "      <td>5</td>\n",
              "    </tr>\n",
              "    <tr>\n",
              "      <th>985748</th>\n",
              "      <td>-1.268671</td>\n",
              "      <td>0.685049</td>\n",
              "      <td>-0.700420</td>\n",
              "      <td>-0.728776</td>\n",
              "      <td>-0.249474</td>\n",
              "      <td>-0.330327</td>\n",
              "      <td>-0.518981</td>\n",
              "      <td>0.650554</td>\n",
              "      <td>-0.263450</td>\n",
              "      <td>5</td>\n",
              "    </tr>\n",
              "    <tr>\n",
              "      <th>985749</th>\n",
              "      <td>-1.268671</td>\n",
              "      <td>0.685049</td>\n",
              "      <td>-0.700420</td>\n",
              "      <td>-0.728776</td>\n",
              "      <td>-0.249474</td>\n",
              "      <td>-0.330327</td>\n",
              "      <td>-0.518981</td>\n",
              "      <td>0.650554</td>\n",
              "      <td>-0.263450</td>\n",
              "      <td>5</td>\n",
              "    </tr>\n",
              "  </tbody>\n",
              "</table>\n",
              "<p>985750 rows × 10 columns</p>\n",
              "</div>\n",
              "    <div class=\"colab-df-buttons\">\n",
              "\n",
              "  <div class=\"colab-df-container\">\n",
              "    <button class=\"colab-df-convert\" onclick=\"convertToInteractive('df-8811656b-300b-42ca-914e-ce67909287b9')\"\n",
              "            title=\"Convert this dataframe to an interactive table.\"\n",
              "            style=\"display:none;\">\n",
              "\n",
              "  <svg xmlns=\"http://www.w3.org/2000/svg\" height=\"24px\" viewBox=\"0 -960 960 960\">\n",
              "    <path d=\"M120-120v-720h720v720H120Zm60-500h600v-160H180v160Zm220 220h160v-160H400v160Zm0 220h160v-160H400v160ZM180-400h160v-160H180v160Zm440 0h160v-160H620v160ZM180-180h160v-160H180v160Zm440 0h160v-160H620v160Z\"/>\n",
              "  </svg>\n",
              "    </button>\n",
              "\n",
              "  <style>\n",
              "    .colab-df-container {\n",
              "      display:flex;\n",
              "      gap: 12px;\n",
              "    }\n",
              "\n",
              "    .colab-df-convert {\n",
              "      background-color: #E8F0FE;\n",
              "      border: none;\n",
              "      border-radius: 50%;\n",
              "      cursor: pointer;\n",
              "      display: none;\n",
              "      fill: #1967D2;\n",
              "      height: 32px;\n",
              "      padding: 0 0 0 0;\n",
              "      width: 32px;\n",
              "    }\n",
              "\n",
              "    .colab-df-convert:hover {\n",
              "      background-color: #E2EBFA;\n",
              "      box-shadow: 0px 1px 2px rgba(60, 64, 67, 0.3), 0px 1px 3px 1px rgba(60, 64, 67, 0.15);\n",
              "      fill: #174EA6;\n",
              "    }\n",
              "\n",
              "    .colab-df-buttons div {\n",
              "      margin-bottom: 4px;\n",
              "    }\n",
              "\n",
              "    [theme=dark] .colab-df-convert {\n",
              "      background-color: #3B4455;\n",
              "      fill: #D2E3FC;\n",
              "    }\n",
              "\n",
              "    [theme=dark] .colab-df-convert:hover {\n",
              "      background-color: #434B5C;\n",
              "      box-shadow: 0px 1px 3px 1px rgba(0, 0, 0, 0.15);\n",
              "      filter: drop-shadow(0px 1px 2px rgba(0, 0, 0, 0.3));\n",
              "      fill: #FFFFFF;\n",
              "    }\n",
              "  </style>\n",
              "\n",
              "    <script>\n",
              "      const buttonEl =\n",
              "        document.querySelector('#df-8811656b-300b-42ca-914e-ce67909287b9 button.colab-df-convert');\n",
              "      buttonEl.style.display =\n",
              "        google.colab.kernel.accessAllowed ? 'block' : 'none';\n",
              "\n",
              "      async function convertToInteractive(key) {\n",
              "        const element = document.querySelector('#df-8811656b-300b-42ca-914e-ce67909287b9');\n",
              "        const dataTable =\n",
              "          await google.colab.kernel.invokeFunction('convertToInteractive',\n",
              "                                                    [key], {});\n",
              "        if (!dataTable) return;\n",
              "\n",
              "        const docLinkHtml = 'Like what you see? Visit the ' +\n",
              "          '<a target=\"_blank\" href=https://colab.research.google.com/notebooks/data_table.ipynb>data table notebook</a>'\n",
              "          + ' to learn more about interactive tables.';\n",
              "        element.innerHTML = '';\n",
              "        dataTable['output_type'] = 'display_data';\n",
              "        await google.colab.output.renderOutput(dataTable, element);\n",
              "        const docLink = document.createElement('div');\n",
              "        docLink.innerHTML = docLinkHtml;\n",
              "        element.appendChild(docLink);\n",
              "      }\n",
              "    </script>\n",
              "  </div>\n",
              "\n",
              "\n",
              "<div id=\"df-cf43eb29-ebed-4637-a5b5-a78026e2e97b\">\n",
              "  <button class=\"colab-df-quickchart\" onclick=\"quickchart('df-cf43eb29-ebed-4637-a5b5-a78026e2e97b')\"\n",
              "            title=\"Suggest charts\"\n",
              "            style=\"display:none;\">\n",
              "\n",
              "<svg xmlns=\"http://www.w3.org/2000/svg\" height=\"24px\"viewBox=\"0 0 24 24\"\n",
              "     width=\"24px\">\n",
              "    <g>\n",
              "        <path d=\"M19 3H5c-1.1 0-2 .9-2 2v14c0 1.1.9 2 2 2h14c1.1 0 2-.9 2-2V5c0-1.1-.9-2-2-2zM9 17H7v-7h2v7zm4 0h-2V7h2v10zm4 0h-2v-4h2v4z\"/>\n",
              "    </g>\n",
              "</svg>\n",
              "  </button>\n",
              "\n",
              "<style>\n",
              "  .colab-df-quickchart {\n",
              "      --bg-color: #E8F0FE;\n",
              "      --fill-color: #1967D2;\n",
              "      --hover-bg-color: #E2EBFA;\n",
              "      --hover-fill-color: #174EA6;\n",
              "      --disabled-fill-color: #AAA;\n",
              "      --disabled-bg-color: #DDD;\n",
              "  }\n",
              "\n",
              "  [theme=dark] .colab-df-quickchart {\n",
              "      --bg-color: #3B4455;\n",
              "      --fill-color: #D2E3FC;\n",
              "      --hover-bg-color: #434B5C;\n",
              "      --hover-fill-color: #FFFFFF;\n",
              "      --disabled-bg-color: #3B4455;\n",
              "      --disabled-fill-color: #666;\n",
              "  }\n",
              "\n",
              "  .colab-df-quickchart {\n",
              "    background-color: var(--bg-color);\n",
              "    border: none;\n",
              "    border-radius: 50%;\n",
              "    cursor: pointer;\n",
              "    display: none;\n",
              "    fill: var(--fill-color);\n",
              "    height: 32px;\n",
              "    padding: 0;\n",
              "    width: 32px;\n",
              "  }\n",
              "\n",
              "  .colab-df-quickchart:hover {\n",
              "    background-color: var(--hover-bg-color);\n",
              "    box-shadow: 0 1px 2px rgba(60, 64, 67, 0.3), 0 1px 3px 1px rgba(60, 64, 67, 0.15);\n",
              "    fill: var(--button-hover-fill-color);\n",
              "  }\n",
              "\n",
              "  .colab-df-quickchart-complete:disabled,\n",
              "  .colab-df-quickchart-complete:disabled:hover {\n",
              "    background-color: var(--disabled-bg-color);\n",
              "    fill: var(--disabled-fill-color);\n",
              "    box-shadow: none;\n",
              "  }\n",
              "\n",
              "  .colab-df-spinner {\n",
              "    border: 2px solid var(--fill-color);\n",
              "    border-color: transparent;\n",
              "    border-bottom-color: var(--fill-color);\n",
              "    animation:\n",
              "      spin 1s steps(1) infinite;\n",
              "  }\n",
              "\n",
              "  @keyframes spin {\n",
              "    0% {\n",
              "      border-color: transparent;\n",
              "      border-bottom-color: var(--fill-color);\n",
              "      border-left-color: var(--fill-color);\n",
              "    }\n",
              "    20% {\n",
              "      border-color: transparent;\n",
              "      border-left-color: var(--fill-color);\n",
              "      border-top-color: var(--fill-color);\n",
              "    }\n",
              "    30% {\n",
              "      border-color: transparent;\n",
              "      border-left-color: var(--fill-color);\n",
              "      border-top-color: var(--fill-color);\n",
              "      border-right-color: var(--fill-color);\n",
              "    }\n",
              "    40% {\n",
              "      border-color: transparent;\n",
              "      border-right-color: var(--fill-color);\n",
              "      border-top-color: var(--fill-color);\n",
              "    }\n",
              "    60% {\n",
              "      border-color: transparent;\n",
              "      border-right-color: var(--fill-color);\n",
              "    }\n",
              "    80% {\n",
              "      border-color: transparent;\n",
              "      border-right-color: var(--fill-color);\n",
              "      border-bottom-color: var(--fill-color);\n",
              "    }\n",
              "    90% {\n",
              "      border-color: transparent;\n",
              "      border-bottom-color: var(--fill-color);\n",
              "    }\n",
              "  }\n",
              "</style>\n",
              "\n",
              "  <script>\n",
              "    async function quickchart(key) {\n",
              "      const quickchartButtonEl =\n",
              "        document.querySelector('#' + key + ' button');\n",
              "      quickchartButtonEl.disabled = true;  // To prevent multiple clicks.\n",
              "      quickchartButtonEl.classList.add('colab-df-spinner');\n",
              "      try {\n",
              "        const charts = await google.colab.kernel.invokeFunction(\n",
              "            'suggestCharts', [key], {});\n",
              "      } catch (error) {\n",
              "        console.error('Error during call to suggestCharts:', error);\n",
              "      }\n",
              "      quickchartButtonEl.classList.remove('colab-df-spinner');\n",
              "      quickchartButtonEl.classList.add('colab-df-quickchart-complete');\n",
              "    }\n",
              "    (() => {\n",
              "      let quickchartButtonEl =\n",
              "        document.querySelector('#df-cf43eb29-ebed-4637-a5b5-a78026e2e97b button');\n",
              "      quickchartButtonEl.style.display =\n",
              "        google.colab.kernel.accessAllowed ? 'block' : 'none';\n",
              "    })();\n",
              "  </script>\n",
              "</div>\n",
              "\n",
              "  <div id=\"id_0b8a6e1b-b386-4bbb-b73b-459f6f4f7323\">\n",
              "    <style>\n",
              "      .colab-df-generate {\n",
              "        background-color: #E8F0FE;\n",
              "        border: none;\n",
              "        border-radius: 50%;\n",
              "        cursor: pointer;\n",
              "        display: none;\n",
              "        fill: #1967D2;\n",
              "        height: 32px;\n",
              "        padding: 0 0 0 0;\n",
              "        width: 32px;\n",
              "      }\n",
              "\n",
              "      .colab-df-generate:hover {\n",
              "        background-color: #E2EBFA;\n",
              "        box-shadow: 0px 1px 2px rgba(60, 64, 67, 0.3), 0px 1px 3px 1px rgba(60, 64, 67, 0.15);\n",
              "        fill: #174EA6;\n",
              "      }\n",
              "\n",
              "      [theme=dark] .colab-df-generate {\n",
              "        background-color: #3B4455;\n",
              "        fill: #D2E3FC;\n",
              "      }\n",
              "\n",
              "      [theme=dark] .colab-df-generate:hover {\n",
              "        background-color: #434B5C;\n",
              "        box-shadow: 0px 1px 3px 1px rgba(0, 0, 0, 0.15);\n",
              "        filter: drop-shadow(0px 1px 2px rgba(0, 0, 0, 0.3));\n",
              "        fill: #FFFFFF;\n",
              "      }\n",
              "    </style>\n",
              "    <button class=\"colab-df-generate\" onclick=\"generateWithVariable('data_scaled_frame')\"\n",
              "            title=\"Generate code using this dataframe.\"\n",
              "            style=\"display:none;\">\n",
              "\n",
              "  <svg xmlns=\"http://www.w3.org/2000/svg\" height=\"24px\"viewBox=\"0 0 24 24\"\n",
              "       width=\"24px\">\n",
              "    <path d=\"M7,19H8.4L18.45,9,17,7.55,7,17.6ZM5,21V16.75L18.45,3.32a2,2,0,0,1,2.83,0l1.4,1.43a1.91,1.91,0,0,1,.58,1.4,1.91,1.91,0,0,1-.58,1.4L9.25,21ZM18.45,9,17,7.55Zm-12,3A5.31,5.31,0,0,0,4.9,8.1,5.31,5.31,0,0,0,1,6.5,5.31,5.31,0,0,0,4.9,4.9,5.31,5.31,0,0,0,6.5,1,5.31,5.31,0,0,0,8.1,4.9,5.31,5.31,0,0,0,12,6.5,5.46,5.46,0,0,0,6.5,12Z\"/>\n",
              "  </svg>\n",
              "    </button>\n",
              "    <script>\n",
              "      (() => {\n",
              "      const buttonEl =\n",
              "        document.querySelector('#id_0b8a6e1b-b386-4bbb-b73b-459f6f4f7323 button.colab-df-generate');\n",
              "      buttonEl.style.display =\n",
              "        google.colab.kernel.accessAllowed ? 'block' : 'none';\n",
              "\n",
              "      buttonEl.onclick = () => {\n",
              "        google.colab.notebook.generateWithVariable('data_scaled_frame');\n",
              "      }\n",
              "      })();\n",
              "    </script>\n",
              "  </div>\n",
              "\n",
              "    </div>\n",
              "  </div>\n"
            ],
            "application/vnd.google.colaboratory.intrinsic+json": {
              "type": "dataframe",
              "variable_name": "data_scaled_frame"
            }
          },
          "metadata": {},
          "execution_count": 26
        }
      ]
    },
    {
      "cell_type": "markdown",
      "source": [
        "# Feature Selection Algorithm"
      ],
      "metadata": {
        "id": "8ZUTdbDZ1lVR"
      }
    },
    {
      "cell_type": "markdown",
      "source": [
        "## Stage 1 Correlation Values and their log base 10 values found\n",
        "  - Find the pearson correlation between each feature and the output label and store it in a list named `pearson_values`\n",
        "  - Find the Spearman correlation between each feature and the output label and store it in a list named `s_values`\n",
        "  - Find the Kendall Tau correlation between each feature and the output label and store it in a list named `k_values`"
      ],
      "metadata": {
        "id": "_TWAMsM01p9y"
      }
    },
    {
      "cell_type": "code",
      "source": [
        "\n",
        "\n",
        "correlation_matrix_ids = data_scaled_frame.corr() # correaltion of different features with the median_house_value\n",
        "nan_features = []\n",
        "linear_features = []\n",
        "non_linear_features = []\n",
        "\n",
        "sample_dataframe = data_scaled_frame.copy(deep=True)\n",
        "\n",
        "l = correlation_matrix_ids[\"Label\"].sort_values(ascending=False)\n",
        "pearson_values = []\n",
        "for _, score in l.items():\n",
        "    if (score!=1 and score>0):\n",
        "      pearson_values.append(math.log10(score))\n",
        "    elif score < 0:\n",
        "      pearson_values.append(score)"
      ],
      "metadata": {
        "id": "FXTzE0bUC_y-"
      },
      "execution_count": null,
      "outputs": []
    },
    {
      "cell_type": "code",
      "source": [
        "from scipy.stats import spearmanr, kendalltau\n",
        "\n",
        "spearman_values = data_scaled_frame.corr(method='spearman')[\"Label\"].sort_values(ascending=False)\n",
        "kendall_values = data_scaled_frame.corr(method='kendall')[\"Label\"].sort_values(ascending=False)\n",
        "\n"
      ],
      "metadata": {
        "id": "Mck9xRkjC_1G"
      },
      "execution_count": null,
      "outputs": []
    },
    {
      "cell_type": "code",
      "source": [
        "import math\n",
        "s_values = []\n",
        "k_values = []\n",
        "\n",
        "for name,score in spearman_values.items():\n",
        "    if (score!=1 and score>0):\n",
        "      s_values.append(math.log10(score))\n",
        "    elif score < 0:\n",
        "        s_values.append(score)\n",
        "\n",
        "for name,score in kendall_values.items():\n",
        "    if (score!=1 and score>0):\n",
        "      k_values.append(math.log10(score))\n",
        "    elif score < 0:\n",
        "      k_values.append(score)\n",
        "\n",
        "col_headings = ['Pearson', 'Spearman', 'Kendall']\n",
        "combined_lists = [pearson_values, s_values, k_values]\n"
      ],
      "metadata": {
        "id": "_jlAjXF9C_3P"
      },
      "execution_count": null,
      "outputs": []
    },
    {
      "cell_type": "code",
      "source": [
        "combined_lists"
      ],
      "metadata": {
        "colab": {
          "base_uri": "https://localhost:8080/"
        },
        "id": "4fIvCcIeC_5m",
        "outputId": "6f07df9d-8d14-4b64-dd8e-f7ff447a033c"
      },
      "execution_count": 93,
      "outputs": [
        {
          "output_type": "execute_result",
          "data": {
            "text/plain": [
              "[[-0.053456807010250955,\n",
              "  -0.07527368286445722,\n",
              "  -0.08000071795254325,\n",
              "  -0.11007931847403998,\n",
              "  -0.11331636885243568,\n",
              "  -0.11786661121857978,\n",
              "  -0.1450067214688871,\n",
              "  -0.18712745542832465,\n",
              "  -0.18743405967994006],\n",
              " [-0.8428685603726831,\n",
              "  -0.8890995682412077,\n",
              "  -1.3837915261954672,\n",
              "  -1.5311755011900654,\n",
              "  -0.026346608034188163,\n",
              "  -0.029447102771695342,\n",
              "  -0.038815214806712725,\n",
              "  -0.07365375196840698,\n",
              "  -0.2880673116547031],\n",
              " [-0.8724021931582364,\n",
              "  -0.904939433591742,\n",
              "  -1.4424469666046666,\n",
              "  -1.555449730072771,\n",
              "  -0.02191931414819543,\n",
              "  -0.02261525320248107,\n",
              "  -0.035830659127395775,\n",
              "  -0.0651993301430398,\n",
              "  -0.2314483719580409]]"
            ]
          },
          "metadata": {},
          "execution_count": 93
        }
      ]
    },
    {
      "cell_type": "markdown",
      "source": [
        "## Stage 2 - Composition of Correlation Functions\n",
        "  - The three types of correlation coefficients values found will be used to create a new dataframe, with 3 columns: Pearson, Spearman, and Kendall.\n",
        "  - Now, the shape of this dataframe is `number_of_features * 3`.\n",
        "  - Now, 3 values are found: Pearson correlation between Spearman and Kendall columns, Spearman correlation between Pearson and Kendall columns, and Kendall correlation between Pearson and Spearman columns."
      ],
      "metadata": {
        "id": "nKhPgppJ1ufH"
      }
    },
    {
      "cell_type": "code",
      "source": [
        "frame_final = pd.DataFrame(combined_lists).T\n",
        "frame_final.columns = col_headings\n",
        "\n",
        "correlation_matrix_ids = frame_final.corr() # correaltion of different features with the median_house_value\n",
        "l = correlation_matrix_ids[\"Kendall\"].sort_values(ascending=False)\n",
        "spearman_values_second = frame_final.corr(method='spearman')[\"Kendall\"].sort_values(ascending=False)\n",
        "kendall_values_second = frame_final.corr(method='kendall')[\"Pearson\"].sort_values(ascending=False)\n",
        "\n",
        "final_values = []\n",
        "\n",
        "count = 0\n",
        "for _, score1 in l.items():\n",
        "    if count == 0:\n",
        "        final_values.append(score1)\n",
        "    count+=1\n",
        "\n",
        "count = 0\n",
        "\n",
        "for _, score2 in spearman_values_second.items():\n",
        "    if count == 0:\n",
        "        final_values.append(score2)\n",
        "    count+=1\n",
        "count = 0\n",
        "\n",
        "for _, score3 in kendall_values_second.items():\n",
        "    if count == 1:\n",
        "        final_values.append(score3)\n",
        "    count+=1\n",
        "\n",
        "threshold1 = sum(final_values)/len(final_values)"
      ],
      "metadata": {
        "id": "SEdSnnaDC_7n"
      },
      "execution_count": null,
      "outputs": []
    },
    {
      "cell_type": "code",
      "source": [
        "threshold1"
      ],
      "metadata": {
        "colab": {
          "base_uri": "https://localhost:8080/"
        },
        "id": "EQIlyXtmC_97",
        "outputId": "0adf0b56-9713-4f7b-f420-e260148f7ed5"
      },
      "execution_count": null,
      "outputs": [
        {
          "output_type": "execute_result",
          "data": {
            "text/plain": [
              "0.6296296296296297"
            ]
          },
          "metadata": {},
          "execution_count": 32
        }
      ]
    },
    {
      "cell_type": "code",
      "source": [
        "threshold1 = abs(min(min(final_values), threshold1))\n",
        "threshold1"
      ],
      "metadata": {
        "colab": {
          "base_uri": "https://localhost:8080/"
        },
        "id": "rjBOF4ZZEBkE",
        "outputId": "54c0dc03-61c8-437e-9622-ca7fc9ee6ea5"
      },
      "execution_count": null,
      "outputs": [
        {
          "output_type": "execute_result",
          "data": {
            "text/plain": [
              "0.1111111111111111"
            ]
          },
          "metadata": {},
          "execution_count": 33
        }
      ]
    },
    {
      "cell_type": "code",
      "source": [
        "threshold1 = min(threshold1, 1-threshold1)\n",
        "threshold1"
      ],
      "metadata": {
        "colab": {
          "base_uri": "https://localhost:8080/"
        },
        "id": "O2LWj55YEBmf",
        "outputId": "6342636e-984a-4ef2-b048-0281b2c4b229"
      },
      "execution_count": null,
      "outputs": [
        {
          "output_type": "execute_result",
          "data": {
            "text/plain": [
              "0.1111111111111111"
            ]
          },
          "metadata": {},
          "execution_count": 34
        }
      ]
    },
    {
      "cell_type": "markdown",
      "source": [
        "## Stage 3: Performing Mutual Information Gain on the dataset."
      ],
      "metadata": {
        "id": "cYcGCvkm10Zi"
      }
    },
    {
      "cell_type": "code",
      "source": [
        "from sklearn.feature_selection import mutual_info_classif\n",
        "\n",
        "info_gain = mutual_info_classif(X_train, y_train)"
      ],
      "metadata": {
        "id": "dpKURK3yEBo2"
      },
      "execution_count": null,
      "outputs": []
    },
    {
      "cell_type": "code",
      "source": [
        "scores = pd.DataFrame({'feature':X_train.columns, 'score':info_gain})\n",
        "\n",
        "scores = scores.sort_values(by = 'score', ascending=False)"
      ],
      "metadata": {
        "id": "qvW78ioMEBrA"
      },
      "execution_count": null,
      "outputs": []
    },
    {
      "cell_type": "code",
      "source": [
        "scores"
      ],
      "metadata": {
        "colab": {
          "base_uri": "https://localhost:8080/",
          "height": 332
        },
        "id": "CPRqr9U8EBtI",
        "outputId": "dc0ab9b6-c26a-4a44-a90e-f553e2503208"
      },
      "execution_count": null,
      "outputs": [
        {
          "output_type": "execute_result",
          "data": {
            "text/plain": [
              "  feature     score\n",
              "0      ID  0.551988\n",
              "4  DATA_3  0.531824\n",
              "2  DATA_1  0.474310\n",
              "1  DATA_0  0.474160\n",
              "8  DATA_7  0.447146\n",
              "7  DATA_6  0.420137\n",
              "5  DATA_4  0.416239\n",
              "3  DATA_2  0.386053\n",
              "6  DATA_5  0.371859"
            ],
            "text/html": [
              "\n",
              "  <div id=\"df-d3ea22cd-195f-4195-b4b4-b74e9a24437b\" class=\"colab-df-container\">\n",
              "    <div>\n",
              "<style scoped>\n",
              "    .dataframe tbody tr th:only-of-type {\n",
              "        vertical-align: middle;\n",
              "    }\n",
              "\n",
              "    .dataframe tbody tr th {\n",
              "        vertical-align: top;\n",
              "    }\n",
              "\n",
              "    .dataframe thead th {\n",
              "        text-align: right;\n",
              "    }\n",
              "</style>\n",
              "<table border=\"1\" class=\"dataframe\">\n",
              "  <thead>\n",
              "    <tr style=\"text-align: right;\">\n",
              "      <th></th>\n",
              "      <th>feature</th>\n",
              "      <th>score</th>\n",
              "    </tr>\n",
              "  </thead>\n",
              "  <tbody>\n",
              "    <tr>\n",
              "      <th>0</th>\n",
              "      <td>ID</td>\n",
              "      <td>0.551988</td>\n",
              "    </tr>\n",
              "    <tr>\n",
              "      <th>4</th>\n",
              "      <td>DATA_3</td>\n",
              "      <td>0.531824</td>\n",
              "    </tr>\n",
              "    <tr>\n",
              "      <th>2</th>\n",
              "      <td>DATA_1</td>\n",
              "      <td>0.474310</td>\n",
              "    </tr>\n",
              "    <tr>\n",
              "      <th>1</th>\n",
              "      <td>DATA_0</td>\n",
              "      <td>0.474160</td>\n",
              "    </tr>\n",
              "    <tr>\n",
              "      <th>8</th>\n",
              "      <td>DATA_7</td>\n",
              "      <td>0.447146</td>\n",
              "    </tr>\n",
              "    <tr>\n",
              "      <th>7</th>\n",
              "      <td>DATA_6</td>\n",
              "      <td>0.420137</td>\n",
              "    </tr>\n",
              "    <tr>\n",
              "      <th>5</th>\n",
              "      <td>DATA_4</td>\n",
              "      <td>0.416239</td>\n",
              "    </tr>\n",
              "    <tr>\n",
              "      <th>3</th>\n",
              "      <td>DATA_2</td>\n",
              "      <td>0.386053</td>\n",
              "    </tr>\n",
              "    <tr>\n",
              "      <th>6</th>\n",
              "      <td>DATA_5</td>\n",
              "      <td>0.371859</td>\n",
              "    </tr>\n",
              "  </tbody>\n",
              "</table>\n",
              "</div>\n",
              "    <div class=\"colab-df-buttons\">\n",
              "\n",
              "  <div class=\"colab-df-container\">\n",
              "    <button class=\"colab-df-convert\" onclick=\"convertToInteractive('df-d3ea22cd-195f-4195-b4b4-b74e9a24437b')\"\n",
              "            title=\"Convert this dataframe to an interactive table.\"\n",
              "            style=\"display:none;\">\n",
              "\n",
              "  <svg xmlns=\"http://www.w3.org/2000/svg\" height=\"24px\" viewBox=\"0 -960 960 960\">\n",
              "    <path d=\"M120-120v-720h720v720H120Zm60-500h600v-160H180v160Zm220 220h160v-160H400v160Zm0 220h160v-160H400v160ZM180-400h160v-160H180v160Zm440 0h160v-160H620v160ZM180-180h160v-160H180v160Zm440 0h160v-160H620v160Z\"/>\n",
              "  </svg>\n",
              "    </button>\n",
              "\n",
              "  <style>\n",
              "    .colab-df-container {\n",
              "      display:flex;\n",
              "      gap: 12px;\n",
              "    }\n",
              "\n",
              "    .colab-df-convert {\n",
              "      background-color: #E8F0FE;\n",
              "      border: none;\n",
              "      border-radius: 50%;\n",
              "      cursor: pointer;\n",
              "      display: none;\n",
              "      fill: #1967D2;\n",
              "      height: 32px;\n",
              "      padding: 0 0 0 0;\n",
              "      width: 32px;\n",
              "    }\n",
              "\n",
              "    .colab-df-convert:hover {\n",
              "      background-color: #E2EBFA;\n",
              "      box-shadow: 0px 1px 2px rgba(60, 64, 67, 0.3), 0px 1px 3px 1px rgba(60, 64, 67, 0.15);\n",
              "      fill: #174EA6;\n",
              "    }\n",
              "\n",
              "    .colab-df-buttons div {\n",
              "      margin-bottom: 4px;\n",
              "    }\n",
              "\n",
              "    [theme=dark] .colab-df-convert {\n",
              "      background-color: #3B4455;\n",
              "      fill: #D2E3FC;\n",
              "    }\n",
              "\n",
              "    [theme=dark] .colab-df-convert:hover {\n",
              "      background-color: #434B5C;\n",
              "      box-shadow: 0px 1px 3px 1px rgba(0, 0, 0, 0.15);\n",
              "      filter: drop-shadow(0px 1px 2px rgba(0, 0, 0, 0.3));\n",
              "      fill: #FFFFFF;\n",
              "    }\n",
              "  </style>\n",
              "\n",
              "    <script>\n",
              "      const buttonEl =\n",
              "        document.querySelector('#df-d3ea22cd-195f-4195-b4b4-b74e9a24437b button.colab-df-convert');\n",
              "      buttonEl.style.display =\n",
              "        google.colab.kernel.accessAllowed ? 'block' : 'none';\n",
              "\n",
              "      async function convertToInteractive(key) {\n",
              "        const element = document.querySelector('#df-d3ea22cd-195f-4195-b4b4-b74e9a24437b');\n",
              "        const dataTable =\n",
              "          await google.colab.kernel.invokeFunction('convertToInteractive',\n",
              "                                                    [key], {});\n",
              "        if (!dataTable) return;\n",
              "\n",
              "        const docLinkHtml = 'Like what you see? Visit the ' +\n",
              "          '<a target=\"_blank\" href=https://colab.research.google.com/notebooks/data_table.ipynb>data table notebook</a>'\n",
              "          + ' to learn more about interactive tables.';\n",
              "        element.innerHTML = '';\n",
              "        dataTable['output_type'] = 'display_data';\n",
              "        await google.colab.output.renderOutput(dataTable, element);\n",
              "        const docLink = document.createElement('div');\n",
              "        docLink.innerHTML = docLinkHtml;\n",
              "        element.appendChild(docLink);\n",
              "      }\n",
              "    </script>\n",
              "  </div>\n",
              "\n",
              "\n",
              "<div id=\"df-2cbe93cc-080e-4069-941d-c19ace1cb904\">\n",
              "  <button class=\"colab-df-quickchart\" onclick=\"quickchart('df-2cbe93cc-080e-4069-941d-c19ace1cb904')\"\n",
              "            title=\"Suggest charts\"\n",
              "            style=\"display:none;\">\n",
              "\n",
              "<svg xmlns=\"http://www.w3.org/2000/svg\" height=\"24px\"viewBox=\"0 0 24 24\"\n",
              "     width=\"24px\">\n",
              "    <g>\n",
              "        <path d=\"M19 3H5c-1.1 0-2 .9-2 2v14c0 1.1.9 2 2 2h14c1.1 0 2-.9 2-2V5c0-1.1-.9-2-2-2zM9 17H7v-7h2v7zm4 0h-2V7h2v10zm4 0h-2v-4h2v4z\"/>\n",
              "    </g>\n",
              "</svg>\n",
              "  </button>\n",
              "\n",
              "<style>\n",
              "  .colab-df-quickchart {\n",
              "      --bg-color: #E8F0FE;\n",
              "      --fill-color: #1967D2;\n",
              "      --hover-bg-color: #E2EBFA;\n",
              "      --hover-fill-color: #174EA6;\n",
              "      --disabled-fill-color: #AAA;\n",
              "      --disabled-bg-color: #DDD;\n",
              "  }\n",
              "\n",
              "  [theme=dark] .colab-df-quickchart {\n",
              "      --bg-color: #3B4455;\n",
              "      --fill-color: #D2E3FC;\n",
              "      --hover-bg-color: #434B5C;\n",
              "      --hover-fill-color: #FFFFFF;\n",
              "      --disabled-bg-color: #3B4455;\n",
              "      --disabled-fill-color: #666;\n",
              "  }\n",
              "\n",
              "  .colab-df-quickchart {\n",
              "    background-color: var(--bg-color);\n",
              "    border: none;\n",
              "    border-radius: 50%;\n",
              "    cursor: pointer;\n",
              "    display: none;\n",
              "    fill: var(--fill-color);\n",
              "    height: 32px;\n",
              "    padding: 0;\n",
              "    width: 32px;\n",
              "  }\n",
              "\n",
              "  .colab-df-quickchart:hover {\n",
              "    background-color: var(--hover-bg-color);\n",
              "    box-shadow: 0 1px 2px rgba(60, 64, 67, 0.3), 0 1px 3px 1px rgba(60, 64, 67, 0.15);\n",
              "    fill: var(--button-hover-fill-color);\n",
              "  }\n",
              "\n",
              "  .colab-df-quickchart-complete:disabled,\n",
              "  .colab-df-quickchart-complete:disabled:hover {\n",
              "    background-color: var(--disabled-bg-color);\n",
              "    fill: var(--disabled-fill-color);\n",
              "    box-shadow: none;\n",
              "  }\n",
              "\n",
              "  .colab-df-spinner {\n",
              "    border: 2px solid var(--fill-color);\n",
              "    border-color: transparent;\n",
              "    border-bottom-color: var(--fill-color);\n",
              "    animation:\n",
              "      spin 1s steps(1) infinite;\n",
              "  }\n",
              "\n",
              "  @keyframes spin {\n",
              "    0% {\n",
              "      border-color: transparent;\n",
              "      border-bottom-color: var(--fill-color);\n",
              "      border-left-color: var(--fill-color);\n",
              "    }\n",
              "    20% {\n",
              "      border-color: transparent;\n",
              "      border-left-color: var(--fill-color);\n",
              "      border-top-color: var(--fill-color);\n",
              "    }\n",
              "    30% {\n",
              "      border-color: transparent;\n",
              "      border-left-color: var(--fill-color);\n",
              "      border-top-color: var(--fill-color);\n",
              "      border-right-color: var(--fill-color);\n",
              "    }\n",
              "    40% {\n",
              "      border-color: transparent;\n",
              "      border-right-color: var(--fill-color);\n",
              "      border-top-color: var(--fill-color);\n",
              "    }\n",
              "    60% {\n",
              "      border-color: transparent;\n",
              "      border-right-color: var(--fill-color);\n",
              "    }\n",
              "    80% {\n",
              "      border-color: transparent;\n",
              "      border-right-color: var(--fill-color);\n",
              "      border-bottom-color: var(--fill-color);\n",
              "    }\n",
              "    90% {\n",
              "      border-color: transparent;\n",
              "      border-bottom-color: var(--fill-color);\n",
              "    }\n",
              "  }\n",
              "</style>\n",
              "\n",
              "  <script>\n",
              "    async function quickchart(key) {\n",
              "      const quickchartButtonEl =\n",
              "        document.querySelector('#' + key + ' button');\n",
              "      quickchartButtonEl.disabled = true;  // To prevent multiple clicks.\n",
              "      quickchartButtonEl.classList.add('colab-df-spinner');\n",
              "      try {\n",
              "        const charts = await google.colab.kernel.invokeFunction(\n",
              "            'suggestCharts', [key], {});\n",
              "      } catch (error) {\n",
              "        console.error('Error during call to suggestCharts:', error);\n",
              "      }\n",
              "      quickchartButtonEl.classList.remove('colab-df-spinner');\n",
              "      quickchartButtonEl.classList.add('colab-df-quickchart-complete');\n",
              "    }\n",
              "    (() => {\n",
              "      let quickchartButtonEl =\n",
              "        document.querySelector('#df-2cbe93cc-080e-4069-941d-c19ace1cb904 button');\n",
              "      quickchartButtonEl.style.display =\n",
              "        google.colab.kernel.accessAllowed ? 'block' : 'none';\n",
              "    })();\n",
              "  </script>\n",
              "</div>\n",
              "\n",
              "  <div id=\"id_928a52da-12b0-4d27-b1ea-b8a24faf26b1\">\n",
              "    <style>\n",
              "      .colab-df-generate {\n",
              "        background-color: #E8F0FE;\n",
              "        border: none;\n",
              "        border-radius: 50%;\n",
              "        cursor: pointer;\n",
              "        display: none;\n",
              "        fill: #1967D2;\n",
              "        height: 32px;\n",
              "        padding: 0 0 0 0;\n",
              "        width: 32px;\n",
              "      }\n",
              "\n",
              "      .colab-df-generate:hover {\n",
              "        background-color: #E2EBFA;\n",
              "        box-shadow: 0px 1px 2px rgba(60, 64, 67, 0.3), 0px 1px 3px 1px rgba(60, 64, 67, 0.15);\n",
              "        fill: #174EA6;\n",
              "      }\n",
              "\n",
              "      [theme=dark] .colab-df-generate {\n",
              "        background-color: #3B4455;\n",
              "        fill: #D2E3FC;\n",
              "      }\n",
              "\n",
              "      [theme=dark] .colab-df-generate:hover {\n",
              "        background-color: #434B5C;\n",
              "        box-shadow: 0px 1px 3px 1px rgba(0, 0, 0, 0.15);\n",
              "        filter: drop-shadow(0px 1px 2px rgba(0, 0, 0, 0.3));\n",
              "        fill: #FFFFFF;\n",
              "      }\n",
              "    </style>\n",
              "    <button class=\"colab-df-generate\" onclick=\"generateWithVariable('scores')\"\n",
              "            title=\"Generate code using this dataframe.\"\n",
              "            style=\"display:none;\">\n",
              "\n",
              "  <svg xmlns=\"http://www.w3.org/2000/svg\" height=\"24px\"viewBox=\"0 0 24 24\"\n",
              "       width=\"24px\">\n",
              "    <path d=\"M7,19H8.4L18.45,9,17,7.55,7,17.6ZM5,21V16.75L18.45,3.32a2,2,0,0,1,2.83,0l1.4,1.43a1.91,1.91,0,0,1,.58,1.4,1.91,1.91,0,0,1-.58,1.4L9.25,21ZM18.45,9,17,7.55Zm-12,3A5.31,5.31,0,0,0,4.9,8.1,5.31,5.31,0,0,0,1,6.5,5.31,5.31,0,0,0,4.9,4.9,5.31,5.31,0,0,0,6.5,1,5.31,5.31,0,0,0,8.1,4.9,5.31,5.31,0,0,0,12,6.5,5.46,5.46,0,0,0,6.5,12Z\"/>\n",
              "  </svg>\n",
              "    </button>\n",
              "    <script>\n",
              "      (() => {\n",
              "      const buttonEl =\n",
              "        document.querySelector('#id_928a52da-12b0-4d27-b1ea-b8a24faf26b1 button.colab-df-generate');\n",
              "      buttonEl.style.display =\n",
              "        google.colab.kernel.accessAllowed ? 'block' : 'none';\n",
              "\n",
              "      buttonEl.onclick = () => {\n",
              "        google.colab.notebook.generateWithVariable('scores');\n",
              "      }\n",
              "      })();\n",
              "    </script>\n",
              "  </div>\n",
              "\n",
              "    </div>\n",
              "  </div>\n"
            ],
            "application/vnd.google.colaboratory.intrinsic+json": {
              "type": "dataframe",
              "variable_name": "scores",
              "summary": "{\n  \"name\": \"scores\",\n  \"rows\": 9,\n  \"fields\": [\n    {\n      \"column\": \"feature\",\n      \"properties\": {\n        \"dtype\": \"string\",\n        \"num_unique_values\": 9,\n        \"samples\": [\n          \"DATA_2\",\n          \"DATA_3\",\n          \"DATA_6\"\n        ],\n        \"semantic_type\": \"\",\n        \"description\": \"\"\n      }\n    },\n    {\n      \"column\": \"score\",\n      \"properties\": {\n        \"dtype\": \"number\",\n        \"std\": 0.06168870970191591,\n        \"min\": 0.3718593413910025,\n        \"max\": 0.5519881165607943,\n        \"num_unique_values\": 9,\n        \"samples\": [\n          0.3860525110341819,\n          0.5318243404858997,\n          0.4201373274510496\n        ],\n        \"semantic_type\": \"\",\n        \"description\": \"\"\n      }\n    }\n  ]\n}"
            }
          },
          "metadata": {},
          "execution_count": 37
        }
      ]
    },
    {
      "cell_type": "markdown",
      "source": [
        "## Selecting only the features above the threshold value `threshold1`"
      ],
      "metadata": {
        "id": "jTAwqAcV1_Zk"
      }
    },
    {
      "cell_type": "code",
      "source": [
        "final_info_gain = []\n",
        "for i in range(len(list(scores['feature']))):\n",
        "    if i!=0:\n",
        "        if list(scores['score'])[i] > threshold1:\n",
        "            final_info_gain.append(list(scores['feature'])[i])\n",
        "print(final_info_gain)\n",
        "print(len(final_info_gain))"
      ],
      "metadata": {
        "colab": {
          "base_uri": "https://localhost:8080/"
        },
        "id": "leRWwOEaEBvi",
        "outputId": "e966e744-f2f5-41ae-feb3-bb0e398f86f0"
      },
      "execution_count": null,
      "outputs": [
        {
          "output_type": "stream",
          "name": "stdout",
          "text": [
            "['DATA_3', 'DATA_1', 'DATA_0', 'DATA_7', 'DATA_6', 'DATA_4', 'DATA_2', 'DATA_5']\n",
            "8\n"
          ]
        }
      ]
    },
    {
      "cell_type": "code",
      "source": [
        "sub = final_info_gain"
      ],
      "metadata": {
        "id": "83hm7njaDAAO"
      },
      "execution_count": null,
      "outputs": []
    },
    {
      "cell_type": "markdown",
      "source": [
        "# Training Models"
      ],
      "metadata": {
        "id": "Cfq69QHV2EG9"
      }
    },
    {
      "cell_type": "code",
      "source": [
        "X_train_old = X_train\n",
        "X_test_old = X_test"
      ],
      "metadata": {
        "id": "Xb67g32aEa8e"
      },
      "execution_count": null,
      "outputs": []
    },
    {
      "cell_type": "code",
      "source": [
        "X_train = X_train[sub]\n",
        "X_test = X_test[sub]"
      ],
      "metadata": {
        "id": "XuqycNz-ERkN"
      },
      "execution_count": null,
      "outputs": []
    },
    {
      "cell_type": "code",
      "source": [
        "from sklearn.model_selection import train_test_split, cross_val_score\n",
        "from sklearn.ensemble import RandomForestClassifier\n",
        "from sklearn.metrics import accuracy_score\n",
        "from sklearn.metrics import mean_absolute_error\n",
        "import xgboost, time"
      ],
      "metadata": {
        "id": "OBP9OQ2aERmj"
      },
      "execution_count": null,
      "outputs": []
    },
    {
      "cell_type": "code",
      "source": [
        "y_train.value_counts()"
      ],
      "metadata": {
        "colab": {
          "base_uri": "https://localhost:8080/",
          "height": 304
        },
        "id": "7nELO38pFVVS",
        "outputId": "f9c7bc49-235f-4ae5-d204-00c371b4b1dd"
      },
      "execution_count": null,
      "outputs": [
        {
          "output_type": "execute_result",
          "data": {
            "text/plain": [
              "Label\n",
              "0    856615\n",
              "1     52264\n",
              "3     38430\n",
              "4     17465\n",
              "5     13983\n",
              "2      6993\n",
              "Name: count, dtype: int64"
            ],
            "text/html": [
              "<div>\n",
              "<style scoped>\n",
              "    .dataframe tbody tr th:only-of-type {\n",
              "        vertical-align: middle;\n",
              "    }\n",
              "\n",
              "    .dataframe tbody tr th {\n",
              "        vertical-align: top;\n",
              "    }\n",
              "\n",
              "    .dataframe thead th {\n",
              "        text-align: right;\n",
              "    }\n",
              "</style>\n",
              "<table border=\"1\" class=\"dataframe\">\n",
              "  <thead>\n",
              "    <tr style=\"text-align: right;\">\n",
              "      <th></th>\n",
              "      <th>count</th>\n",
              "    </tr>\n",
              "    <tr>\n",
              "      <th>Label</th>\n",
              "      <th></th>\n",
              "    </tr>\n",
              "  </thead>\n",
              "  <tbody>\n",
              "    <tr>\n",
              "      <th>0</th>\n",
              "      <td>856615</td>\n",
              "    </tr>\n",
              "    <tr>\n",
              "      <th>1</th>\n",
              "      <td>52264</td>\n",
              "    </tr>\n",
              "    <tr>\n",
              "      <th>3</th>\n",
              "      <td>38430</td>\n",
              "    </tr>\n",
              "    <tr>\n",
              "      <th>4</th>\n",
              "      <td>17465</td>\n",
              "    </tr>\n",
              "    <tr>\n",
              "      <th>5</th>\n",
              "      <td>13983</td>\n",
              "    </tr>\n",
              "    <tr>\n",
              "      <th>2</th>\n",
              "      <td>6993</td>\n",
              "    </tr>\n",
              "  </tbody>\n",
              "</table>\n",
              "</div><br><label><b>dtype:</b> int64</label>"
            ]
          },
          "metadata": {},
          "execution_count": 43
        }
      ]
    },
    {
      "cell_type": "markdown",
      "source": [
        "## XGBoost Model"
      ],
      "metadata": {
        "id": "l7QxyDwf2Hbx"
      }
    },
    {
      "cell_type": "code",
      "source": [
        "xg = xgboost.XGBClassifier(objective='multi:softmax')\n",
        "\n",
        "s_t = time.time()\n",
        "xg.fit(X_train, y_train)\n",
        "e_t = time.time()"
      ],
      "metadata": {
        "id": "-Ufd4DPbERoz"
      },
      "execution_count": null,
      "outputs": []
    },
    {
      "cell_type": "code",
      "source": [
        "total = e_t - s_t\n",
        "total"
      ],
      "metadata": {
        "colab": {
          "base_uri": "https://localhost:8080/"
        },
        "id": "RFEW0pjCERrQ",
        "outputId": "703ef74a-880d-419c-f14f-bba21c339ebb"
      },
      "execution_count": null,
      "outputs": [
        {
          "output_type": "execute_result",
          "data": {
            "text/plain": [
              "45.89305377006531"
            ]
          },
          "metadata": {},
          "execution_count": 45
        }
      ]
    },
    {
      "cell_type": "code",
      "source": [
        "y_pred_xg = xg.predict(X_test)"
      ],
      "metadata": {
        "id": "Uv7ZhUmTERtQ"
      },
      "execution_count": null,
      "outputs": []
    },
    {
      "cell_type": "code",
      "source": [
        "acc_xg = accuracy_score(y_test, y_pred_xg)"
      ],
      "metadata": {
        "id": "-lKqRlcHERvl"
      },
      "execution_count": null,
      "outputs": []
    },
    {
      "cell_type": "code",
      "source": [
        "acc_xg"
      ],
      "metadata": {
        "colab": {
          "base_uri": "https://localhost:8080/"
        },
        "id": "9d8SCfDEERxY",
        "outputId": "1fb3542c-44f3-46ed-e063-37572aeb8a5e"
      },
      "execution_count": null,
      "outputs": [
        {
          "output_type": "execute_result",
          "data": {
            "text/plain": [
              "0.9964896832667012"
            ]
          },
          "metadata": {},
          "execution_count": 48
        }
      ]
    },
    {
      "cell_type": "code",
      "source": [
        "mae_error_xg = mean_absolute_error(y_test, y_pred_xg)\n",
        "mae_error_xg"
      ],
      "metadata": {
        "colab": {
          "base_uri": "https://localhost:8080/"
        },
        "id": "GRaN3pSzG9Jh",
        "outputId": "8cae708f-6774-465c-9384-cf01e7d2bb5c"
      },
      "execution_count": null,
      "outputs": [
        {
          "output_type": "execute_result",
          "data": {
            "text/plain": [
              "0.0035339871091133314"
            ]
          },
          "metadata": {},
          "execution_count": 49
        }
      ]
    },
    {
      "cell_type": "code",
      "source": [
        "from sklearn.metrics import classification_report\n",
        "\n",
        "report = classification_report(y_test, y_pred_xg, output_dict=True)"
      ],
      "metadata": {
        "id": "CgK1XHxNG9MC"
      },
      "execution_count": null,
      "outputs": []
    },
    {
      "cell_type": "code",
      "source": [
        "report"
      ],
      "metadata": {
        "colab": {
          "base_uri": "https://localhost:8080/"
        },
        "id": "O6Nh_o1hG9Oa",
        "outputId": "556cec37-75ec-48ca-b77e-6615e06c63b3"
      },
      "execution_count": null,
      "outputs": [
        {
          "output_type": "execute_result",
          "data": {
            "text/plain": [
              "{'0': {'precision': 0.9999918283963227,\n",
              "  'recall': 1.0,\n",
              "  'f1-score': 0.9999959141814675,\n",
              "  'support': 367122.0},\n",
              " '1': {'precision': 1.0, 'recall': 1.0, 'f1-score': 1.0, 'support': 22399.0},\n",
              " '2': {'precision': 1.0, 'recall': 1.0, 'f1-score': 1.0, 'support': 2998.0},\n",
              " '3': {'precision': 1.0,\n",
              "  'recall': 0.9100789313904069,\n",
              "  'f1-score': 0.9529228519660511,\n",
              "  'support': 16470.0},\n",
              " '4': {'precision': 0.8349319652018737,\n",
              "  'recall': 1.0,\n",
              "  'f1-score': 0.9100413323608072,\n",
              "  'support': 7486.0},\n",
              " '5': {'precision': 1.0,\n",
              "  'recall': 0.9996663329996663,\n",
              "  'f1-score': 0.999833138661772,\n",
              "  'support': 5994.0},\n",
              " 'accuracy': 0.9964896832667012,\n",
              " 'macro avg': {'precision': 0.9724872989330328,\n",
              "  'recall': 0.9849575440650122,\n",
              "  'f1-score': 0.9771322061950164,\n",
              "  'support': 422469.0},\n",
              " 'weighted avg': {'precision': 0.9970679522426877,\n",
              "  'recall': 0.9964896832667012,\n",
              "  'f1-score': 0.9965647387742087,\n",
              "  'support': 422469.0}}"
            ]
          },
          "metadata": {},
          "execution_count": 51
        }
      ]
    },
    {
      "cell_type": "code",
      "source": [
        "import joblib, os\n",
        "joblib.dump(xg, '/content/drive/MyDrive/xg_iov.pkl')\n",
        "size = os.path.getsize('/content/drive/MyDrive/xg_iov.pkl')\n",
        "print(\"The size of the XGBoost model is: \", size/(1024**2), \"MB\")"
      ],
      "metadata": {
        "id": "lmz5OV2fG9Qz",
        "colab": {
          "base_uri": "https://localhost:8080/"
        },
        "outputId": "fc8649e6-f90e-424c-9cf8-06e1fa8431d0"
      },
      "execution_count": 104,
      "outputs": [
        {
          "output_type": "stream",
          "name": "stdout",
          "text": [
            "The size of the XGBoost model is:  0.5557641983032227 MB\n"
          ]
        }
      ]
    },
    {
      "cell_type": "markdown",
      "source": [
        "##Random Forest"
      ],
      "metadata": {
        "id": "u_0HbUhdHIEe"
      }
    },
    {
      "cell_type": "code",
      "source": [
        "rf = RandomForestClassifier(n_estimators = 100, random_state=42)\n",
        "s_t = time.time()\n",
        "rf.fit(X_train, y_train)\n",
        "e_t = time.time()\n",
        "\n",
        "total = e_t - s_t"
      ],
      "metadata": {
        "id": "RsDh1-t2G9TO"
      },
      "execution_count": null,
      "outputs": []
    },
    {
      "cell_type": "code",
      "source": [
        "total"
      ],
      "metadata": {
        "colab": {
          "base_uri": "https://localhost:8080/"
        },
        "id": "6ZwHVh6ZG9Vo",
        "outputId": "dd5dba98-7e3a-4412-b1b0-f79270f5b7ed"
      },
      "execution_count": null,
      "outputs": [
        {
          "output_type": "execute_result",
          "data": {
            "text/plain": [
              "42.35908651351929"
            ]
          },
          "metadata": {},
          "execution_count": 53
        }
      ]
    },
    {
      "cell_type": "code",
      "source": [
        "y_pred = rf.predict(X_test)"
      ],
      "metadata": {
        "id": "KNMh8O8nHj8I"
      },
      "execution_count": null,
      "outputs": []
    },
    {
      "cell_type": "code",
      "source": [
        "accuracy = accuracy_score(y_test, y_pred)"
      ],
      "metadata": {
        "id": "AZiv7ZP1Hj-R"
      },
      "execution_count": null,
      "outputs": []
    },
    {
      "cell_type": "code",
      "source": [
        "accuracy"
      ],
      "metadata": {
        "colab": {
          "base_uri": "https://localhost:8080/"
        },
        "id": "Ye-qk6rKHkAm",
        "outputId": "59be99c4-3721-4108-cac6-2c633a955936"
      },
      "execution_count": null,
      "outputs": [
        {
          "output_type": "execute_result",
          "data": {
            "text/plain": [
              "0.9964967843794456"
            ]
          },
          "metadata": {},
          "execution_count": 56
        }
      ]
    },
    {
      "cell_type": "code",
      "source": [
        "mae_error_rf = mean_absolute_error(y_test, y_pred)\n",
        "mae_error_rf"
      ],
      "metadata": {
        "colab": {
          "base_uri": "https://localhost:8080/"
        },
        "id": "HBZQFPsCHkDC",
        "outputId": "a8903db2-3836-4661-a038-c656fa96bfc0"
      },
      "execution_count": null,
      "outputs": [
        {
          "output_type": "execute_result",
          "data": {
            "text/plain": [
              "0.0035268859963689643"
            ]
          },
          "metadata": {},
          "execution_count": 57
        }
      ]
    },
    {
      "cell_type": "code",
      "source": [
        "from sklearn.metrics import classification_report\n",
        "\n",
        "report = classification_report(y_test, y_pred, output_dict=True)\n",
        "report"
      ],
      "metadata": {
        "colab": {
          "base_uri": "https://localhost:8080/"
        },
        "id": "krGpqcY-HkFC",
        "outputId": "910c2a37-8dc3-477b-8152-9db0f795d24b"
      },
      "execution_count": null,
      "outputs": [
        {
          "output_type": "execute_result",
          "data": {
            "text/plain": [
              "{'0': {'precision': 0.9999918283963227,\n",
              "  'recall': 1.0,\n",
              "  'f1-score': 0.9999959141814675,\n",
              "  'support': 367122.0},\n",
              " '1': {'precision': 1.0, 'recall': 1.0, 'f1-score': 1.0, 'support': 22399.0},\n",
              " '2': {'precision': 1.0, 'recall': 1.0, 'f1-score': 1.0, 'support': 2998.0},\n",
              " '3': {'precision': 0.9176975370556113,\n",
              "  'recall': 0.9999392835458409,\n",
              "  'f1-score': 0.9570548582054859,\n",
              "  'support': 16470.0},\n",
              " '4': {'precision': 1.0,\n",
              "  'recall': 0.8026983702912103,\n",
              "  'f1-score': 0.8905520563171545,\n",
              "  'support': 7486.0},\n",
              " '5': {'precision': 1.0,\n",
              "  'recall': 0.9996663329996663,\n",
              "  'f1-score': 0.999833138661772,\n",
              "  'support': 5994.0},\n",
              " 'accuracy': 0.9964967843794456,\n",
              " 'macro avg': {'precision': 0.9862815609086556,\n",
              "  'recall': 0.9670506644727862,\n",
              "  'f1-score': 0.9745726612276467,\n",
              "  'support': 422469.0},\n",
              " 'weighted avg': {'precision': 0.9967843284591786,\n",
              "  'recall': 0.9964967843794456,\n",
              "  'f1-score': 0.9963804824673571,\n",
              "  'support': 422469.0}}"
            ]
          },
          "metadata": {},
          "execution_count": 58
        }
      ]
    },
    {
      "cell_type": "code",
      "source": [
        "import joblib, os\n",
        "joblib.dump(rf, '/content/drive/MyDrive/rf_iov.pkl')\n",
        "size = os.path.getsize('/content/drive/MyDrive/rf_iov.pkl')\n",
        "print(\"The size of the Random Forest model is: \", size/(1024**2), \"MB\")"
      ],
      "metadata": {
        "colab": {
          "base_uri": "https://localhost:8080/"
        },
        "id": "xIU-J0zuM1Ze",
        "outputId": "0c8aaca5-b7fb-41ad-cf74-a9a0d24886c8"
      },
      "execution_count": 103,
      "outputs": [
        {
          "output_type": "stream",
          "name": "stdout",
          "text": [
            "The size of the Random Forest model is:  0.7131128311157227 MB\n"
          ]
        }
      ]
    },
    {
      "cell_type": "markdown",
      "source": [
        "##Decision Trees"
      ],
      "metadata": {
        "id": "pJmuFZhPH5Mq"
      }
    },
    {
      "cell_type": "code",
      "source": [
        "from sklearn.tree import DecisionTreeClassifier\n",
        "from sklearn.metrics import mean_squared_error"
      ],
      "metadata": {
        "id": "_Q1AbP8vHkJo"
      },
      "execution_count": null,
      "outputs": []
    },
    {
      "cell_type": "code",
      "source": [
        "dt = DecisionTreeClassifier(random_state=42)\n",
        "s_t = time.time()\n",
        "dt.fit(X_train, y_train)\n",
        "e_t = time.time()"
      ],
      "metadata": {
        "id": "pdfa51txHkLs"
      },
      "execution_count": null,
      "outputs": []
    },
    {
      "cell_type": "code",
      "source": [
        "total = e_t - s_t\n",
        "total"
      ],
      "metadata": {
        "colab": {
          "base_uri": "https://localhost:8080/"
        },
        "id": "2vXNPokgHkOA",
        "outputId": "5bfb7d9f-057d-4f8e-f2ba-6bbdca75ae4f"
      },
      "execution_count": null,
      "outputs": [
        {
          "output_type": "execute_result",
          "data": {
            "text/plain": [
              "1.0243961811065674"
            ]
          },
          "metadata": {},
          "execution_count": 61
        }
      ]
    },
    {
      "cell_type": "code",
      "source": [
        "y_prediction_dt = dt.predict(X_test)"
      ],
      "metadata": {
        "id": "cXVUzXg6HkQQ"
      },
      "execution_count": null,
      "outputs": []
    },
    {
      "cell_type": "code",
      "source": [
        "acc_dt = accuracy_score(y_test, y_prediction_dt)"
      ],
      "metadata": {
        "id": "woBfX-klHkSh"
      },
      "execution_count": null,
      "outputs": []
    },
    {
      "cell_type": "code",
      "source": [
        "acc_dt"
      ],
      "metadata": {
        "colab": {
          "base_uri": "https://localhost:8080/"
        },
        "id": "eLAhqNN2HkU-",
        "outputId": "c7e4e561-cfed-40f5-8ac6-4e412a7dc5c7"
      },
      "execution_count": null,
      "outputs": [
        {
          "output_type": "execute_result",
          "data": {
            "text/plain": [
              "0.9964896832667012"
            ]
          },
          "metadata": {},
          "execution_count": 64
        }
      ]
    },
    {
      "cell_type": "code",
      "source": [
        "list(X_train.columns)"
      ],
      "metadata": {
        "colab": {
          "base_uri": "https://localhost:8080/"
        },
        "id": "TgQHlAxZGwbh",
        "outputId": "a17e6a8d-9c5c-4f8c-f1a6-df8aa00176a6"
      },
      "execution_count": null,
      "outputs": [
        {
          "output_type": "execute_result",
          "data": {
            "text/plain": [
              "['DATA_3',\n",
              " 'DATA_1',\n",
              " 'DATA_0',\n",
              " 'DATA_7',\n",
              " 'DATA_6',\n",
              " 'DATA_4',\n",
              " 'DATA_2',\n",
              " 'DATA_5']"
            ]
          },
          "metadata": {},
          "execution_count": 65
        }
      ]
    },
    {
      "cell_type": "code",
      "source": [
        "important_features = dt.feature_importances_\n",
        "important_features"
      ],
      "metadata": {
        "colab": {
          "base_uri": "https://localhost:8080/"
        },
        "id": "j6uNEFOrGMwW",
        "outputId": "8556d578-ebae-4426-85b0-3d767371212e"
      },
      "execution_count": null,
      "outputs": [
        {
          "output_type": "execute_result",
          "data": {
            "text/plain": [
              "array([3.52764162e-01, 1.39381186e-01, 4.22566204e-02, 3.31595999e-02,\n",
              "       1.34336088e-01, 1.60855928e-08, 2.54335348e-01, 4.37669793e-02])"
            ]
          },
          "metadata": {},
          "execution_count": 66
        }
      ]
    },
    {
      "cell_type": "code",
      "source": [
        "important_features.argsort()[::-1]"
      ],
      "metadata": {
        "colab": {
          "base_uri": "https://localhost:8080/"
        },
        "id": "2LR0J5daGMyt",
        "outputId": "15e33efb-4154-4e03-89cb-a936d20054d6"
      },
      "execution_count": null,
      "outputs": [
        {
          "output_type": "execute_result",
          "data": {
            "text/plain": [
              "array([0, 6, 1, 4, 7, 2, 3, 5])"
            ]
          },
          "metadata": {},
          "execution_count": 67
        }
      ]
    },
    {
      "cell_type": "code",
      "source": [
        "# Top 4 important features are: DATA_3, DATA_2, DATA_1, DATA_7"
      ],
      "metadata": {
        "id": "9_j1ZJQGGfKd"
      },
      "execution_count": null,
      "outputs": []
    },
    {
      "cell_type": "code",
      "source": [
        "from sklearn.metrics import classification_report\n",
        "\n",
        "report = classification_report(y_test, y_prediction_dt, output_dict=True)\n",
        "report"
      ],
      "metadata": {
        "colab": {
          "base_uri": "https://localhost:8080/"
        },
        "id": "NRf2QWBXIDk1",
        "outputId": "845503a9-634d-46f1-8362-17bbad31cfda"
      },
      "execution_count": null,
      "outputs": [
        {
          "output_type": "execute_result",
          "data": {
            "text/plain": [
              "{'0': {'precision': 0.9999918283963227,\n",
              "  'recall': 1.0,\n",
              "  'f1-score': 0.9999959141814675,\n",
              "  'support': 367122.0},\n",
              " '1': {'precision': 1.0, 'recall': 1.0, 'f1-score': 1.0, 'support': 22399.0},\n",
              " '2': {'precision': 1.0, 'recall': 1.0, 'f1-score': 1.0, 'support': 2998.0},\n",
              " '3': {'precision': 1.0,\n",
              "  'recall': 0.9100789313904069,\n",
              "  'f1-score': 0.9529228519660511,\n",
              "  'support': 16470.0},\n",
              " '4': {'precision': 0.8349319652018737,\n",
              "  'recall': 1.0,\n",
              "  'f1-score': 0.9100413323608072,\n",
              "  'support': 7486.0},\n",
              " '5': {'precision': 1.0,\n",
              "  'recall': 0.9996663329996663,\n",
              "  'f1-score': 0.999833138661772,\n",
              "  'support': 5994.0},\n",
              " 'accuracy': 0.9964896832667012,\n",
              " 'macro avg': {'precision': 0.9724872989330328,\n",
              "  'recall': 0.9849575440650122,\n",
              "  'f1-score': 0.9771322061950164,\n",
              "  'support': 422469.0},\n",
              " 'weighted avg': {'precision': 0.9970679522426877,\n",
              "  'recall': 0.9964896832667012,\n",
              "  'f1-score': 0.9965647387742087,\n",
              "  'support': 422469.0}}"
            ]
          },
          "metadata": {},
          "execution_count": 69
        }
      ]
    },
    {
      "cell_type": "code",
      "source": [
        "mae_error_dt = mean_absolute_error(y_test, y_prediction_dt)\n",
        "mae_error_dt"
      ],
      "metadata": {
        "id": "K81nM-pyIDnV",
        "colab": {
          "base_uri": "https://localhost:8080/"
        },
        "outputId": "5bafc6f3-c3a7-4808-a0b4-0074018a1206"
      },
      "execution_count": null,
      "outputs": [
        {
          "output_type": "execute_result",
          "data": {
            "text/plain": [
              "0.0035339871091133314"
            ]
          },
          "metadata": {},
          "execution_count": 70
        }
      ]
    },
    {
      "cell_type": "code",
      "source": [
        "from sklearn.metrics import confusion_matrix\n",
        "confusion_matrix_dt = confusion_matrix(y_test, y_prediction_dt)"
      ],
      "metadata": {
        "id": "vARtttvuIDp_"
      },
      "execution_count": null,
      "outputs": []
    },
    {
      "cell_type": "code",
      "source": [
        "import numpy as np"
      ],
      "metadata": {
        "id": "n-EAWJyNuUnF"
      },
      "execution_count": null,
      "outputs": []
    },
    {
      "cell_type": "code",
      "source": [
        "total_value = np.sum(confusion_matrix_dt)\n",
        "confusion_matrix_dt = (confusion_matrix_dt/total_value)*100"
      ],
      "metadata": {
        "id": "jDQaoRUkuUpe"
      },
      "execution_count": null,
      "outputs": []
    },
    {
      "cell_type": "code",
      "source": [
        "import matplotlib.pyplot as plt\n",
        "import seaborn\n",
        "plt.figure(figsize=(4,4))\n",
        "seaborn.heatmap(confusion_matrix_dt, annot=True, cmap=\"Reds\", xticklabels=['1', '0'], yticklabels=['1', '0'])\n",
        "plt.show()"
      ],
      "metadata": {
        "colab": {
          "base_uri": "https://localhost:8080/",
          "height": 368
        },
        "id": "Taj4WYsguUsJ",
        "outputId": "5cd0ef1f-3955-4461-8018-243885172e14"
      },
      "execution_count": null,
      "outputs": [
        {
          "output_type": "display_data",
          "data": {
            "text/plain": [
              "<Figure size 400x400 with 2 Axes>"
            ],
            "image/png": "[encoded data removed]"
          },
          "metadata": {}
        }
      ]
    },
    {
      "cell_type": "code",
      "source": [
        "import joblib, os\n",
        "joblib.dump(dt, '/content/drive/MyDrive/dt.pkl')\n",
        "size = os.path.getsize('/content/drive/MyDrive/dt.pkl')\n",
        "print(\"The size of the Decision trees model is: \", size/(1024**2), \"MB\")"
      ],
      "metadata": {
        "id": "B9RoQzyEuUub",
        "colab": {
          "base_uri": "https://localhost:8080/"
        },
        "outputId": "82eaff7f-b164-493e-9b10-d66b2fe4759c"
      },
      "execution_count": 105,
      "outputs": [
        {
          "output_type": "stream",
          "name": "stdout",
          "text": [
            "The size of the Decision trees model is:  0.006676673889160156 MB\n"
          ]
        }
      ]
    },
    {
      "cell_type": "code",
      "source": [],
      "metadata": {
        "id": "ppLPfXSWLR5f"
      },
      "execution_count": null,
      "outputs": []
    },
    {
      "cell_type": "code",
      "source": [],
      "metadata": {
        "id": "E7_QJ7smLR7W"
      },
      "execution_count": null,
      "outputs": []
    },
    {
      "cell_type": "markdown",
      "source": [
        "## Linear SVC"
      ],
      "metadata": {
        "id": "_OcWalAHIc50"
      }
    },
    {
      "cell_type": "code",
      "source": [
        "from sklearn.svm import LinearSVC"
      ],
      "metadata": {
        "id": "Zi_EQLhOIDsr"
      },
      "execution_count": null,
      "outputs": []
    },
    {
      "cell_type": "code",
      "source": [
        "lsvm = LinearSVC(random_state = 42)\n",
        "s_t = time.time()\n",
        "lsvm.fit(X_train, y_train)\n",
        "e_t = time.time()\n",
        "\n",
        "total = e_t - s_t"
      ],
      "metadata": {
        "id": "lDsH5xUzIDvd"
      },
      "execution_count": null,
      "outputs": []
    },
    {
      "cell_type": "code",
      "source": [
        "total"
      ],
      "metadata": {
        "id": "ampcYNBsIDyH",
        "colab": {
          "base_uri": "https://localhost:8080/"
        },
        "outputId": "c9c2c84a-9213-46c4-a143-8db8b8e8be5d"
      },
      "execution_count": null,
      "outputs": [
        {
          "output_type": "execute_result",
          "data": {
            "text/plain": [
              "37.90122437477112"
            ]
          },
          "metadata": {},
          "execution_count": 73
        }
      ]
    },
    {
      "cell_type": "code",
      "source": [
        "y_prediction_lsvm = lsvm.predict(X_test)"
      ],
      "metadata": {
        "id": "6N7SeHOyID0n"
      },
      "execution_count": null,
      "outputs": []
    },
    {
      "cell_type": "code",
      "source": [
        "acc_lsvm = accuracy_score(y_test, y_prediction_lsvm)"
      ],
      "metadata": {
        "id": "8fEiI_pEIkWe"
      },
      "execution_count": null,
      "outputs": []
    },
    {
      "cell_type": "code",
      "source": [
        "acc_lsvm"
      ],
      "metadata": {
        "colab": {
          "base_uri": "https://localhost:8080/"
        },
        "id": "0vFaTqRxIkYs",
        "outputId": "bf924ebe-4c34-4981-8f11-3b86f864c219"
      },
      "execution_count": null,
      "outputs": [
        {
          "output_type": "execute_result",
          "data": {
            "text/plain": [
              "0.8945011349945203"
            ]
          },
          "metadata": {},
          "execution_count": 76
        }
      ]
    },
    {
      "cell_type": "code",
      "source": [
        "mae_error_l = mean_absolute_error(y_test, y_prediction_lsvm)\n",
        "mae_error_l"
      ],
      "metadata": {
        "colab": {
          "base_uri": "https://localhost:8080/"
        },
        "id": "QBZ_5mNqIka9",
        "outputId": "bde5d210-0432-4cb1-c1d6-d0883e77c384"
      },
      "execution_count": null,
      "outputs": [
        {
          "output_type": "execute_result",
          "data": {
            "text/plain": [
              "0.22970442801720362"
            ]
          },
          "metadata": {},
          "execution_count": 77
        }
      ]
    },
    {
      "cell_type": "code",
      "source": [
        "from sklearn.metrics import classification_report\n",
        "\n",
        "report = classification_report(y_test, y_prediction_lsvm, output_dict=True)\n",
        "report"
      ],
      "metadata": {
        "colab": {
          "base_uri": "https://localhost:8080/"
        },
        "id": "R4uw8vFEIkdS",
        "outputId": "c2f2ce0b-4a79-4152-8267-2977540e0907"
      },
      "execution_count": null,
      "outputs": [
        {
          "output_type": "stream",
          "name": "stderr",
          "text": [
            "/usr/local/lib/python3.10/dist-packages/sklearn/metrics/_classification.py:1565: UndefinedMetricWarning: Precision is ill-defined and being set to 0.0 in labels with no predicted samples. Use `zero_division` parameter to control this behavior.\n",
            "  _warn_prf(average, modifier, f\"{metric.capitalize()} is\", len(result))\n",
            "/usr/local/lib/python3.10/dist-packages/sklearn/metrics/_classification.py:1565: UndefinedMetricWarning: Precision is ill-defined and being set to 0.0 in labels with no predicted samples. Use `zero_division` parameter to control this behavior.\n",
            "  _warn_prf(average, modifier, f\"{metric.capitalize()} is\", len(result))\n",
            "/usr/local/lib/python3.10/dist-packages/sklearn/metrics/_classification.py:1565: UndefinedMetricWarning: Precision is ill-defined and being set to 0.0 in labels with no predicted samples. Use `zero_division` parameter to control this behavior.\n",
            "  _warn_prf(average, modifier, f\"{metric.capitalize()} is\", len(result))\n"
          ]
        },
        {
          "output_type": "execute_result",
          "data": {
            "text/plain": [
              "{'0': {'precision': 0.8939884008970495,\n",
              "  'recall': 0.9967994290726243,\n",
              "  'f1-score': 0.942598755383379,\n",
              "  'support': 367122.0},\n",
              " '1': {'precision': 0.0, 'recall': 0.0, 'f1-score': 0.0, 'support': 22399.0},\n",
              " '2': {'precision': 1.0, 'recall': 1.0, 'f1-score': 1.0, 'support': 2998.0},\n",
              " '3': {'precision': 0.8239221140472879,\n",
              "  'recall': 0.1798421372191864,\n",
              "  'f1-score': 0.2952404684774483,\n",
              "  'support': 16470.0},\n",
              " '4': {'precision': 0.0, 'recall': 0.0, 'f1-score': 0.0, 'support': 7486.0},\n",
              " '5': {'precision': 0.9837465112461008,\n",
              "  'recall': 0.9996663329996663,\n",
              "  'f1-score': 0.9916425320645428,\n",
              "  'support': 5994.0},\n",
              " 'accuracy': 0.8945011349945203,\n",
              " 'macro avg': {'precision': 0.6169428376984064,\n",
              "  'recall': 0.5293846498819129,\n",
              "  'f1-score': 0.5382469593208951,\n",
              "  'support': 422469.0},\n",
              " 'weighted avg': {'precision': 0.8300428753846899,\n",
              "  'recall': 0.8945011349945203,\n",
              "  'f1-score': 0.8517861810615105,\n",
              "  'support': 422469.0}}"
            ]
          },
          "metadata": {},
          "execution_count": 78
        }
      ]
    },
    {
      "cell_type": "code",
      "source": [
        "import joblib, os\n",
        "joblib.dump(lsvm, '/content/drive/MyDrive/lsvm_iov.pkl')\n",
        "size = os.path.getsize('/content/drive/MyDrive/lsvm_iov.pkl')\n",
        "print(\"The size of the Linear SVC model is: \", size/(1024**2), \"MB\")"
      ],
      "metadata": {
        "id": "IMqWX6pWIkfm",
        "colab": {
          "base_uri": "https://localhost:8080/"
        },
        "outputId": "ee927588-993c-41f1-fcdb-7e4da8fbd5d2"
      },
      "execution_count": 106,
      "outputs": [
        {
          "output_type": "stream",
          "name": "stdout",
          "text": [
            "The size of the Linear SVC model is:  0.0015134811401367188 MB\n"
          ]
        }
      ]
    },
    {
      "cell_type": "markdown",
      "source": [
        "##K-Nearest Neighbors"
      ],
      "metadata": {
        "id": "sAaHk95_Iu8M"
      }
    },
    {
      "cell_type": "code",
      "source": [
        "from sklearn.neighbors import KNeighborsClassifier\n",
        "kn = KNeighborsClassifier(n_neighbors = 5)"
      ],
      "metadata": {
        "id": "V872w3RPIkh1"
      },
      "execution_count": null,
      "outputs": []
    },
    {
      "cell_type": "code",
      "source": [
        "s_t = time.time()\n",
        "kn.fit(X_train, y_train)\n",
        "e_t = time.time()\n",
        "total = e_t - s_t"
      ],
      "metadata": {
        "id": "1V0aPxmuIxvh"
      },
      "execution_count": null,
      "outputs": []
    },
    {
      "cell_type": "code",
      "source": [
        "total"
      ],
      "metadata": {
        "colab": {
          "base_uri": "https://localhost:8080/"
        },
        "id": "s_oCNyPlIxx-",
        "outputId": "44a0c64a-c96e-4208-ee6a-7c5afae56ad5"
      },
      "execution_count": null,
      "outputs": [
        {
          "output_type": "execute_result",
          "data": {
            "text/plain": [
              "2.8015708923339844"
            ]
          },
          "metadata": {},
          "execution_count": 81
        }
      ]
    },
    {
      "cell_type": "code",
      "source": [
        "s_t = time.time()\n",
        "y_predictions_kn = kn.predict(X_test)\n",
        "e_t = time.time()\n",
        "total = e_t - s_t"
      ],
      "metadata": {
        "id": "3e1vbd-UIx0R"
      },
      "execution_count": null,
      "outputs": []
    },
    {
      "cell_type": "code",
      "source": [
        "total"
      ],
      "metadata": {
        "colab": {
          "base_uri": "https://localhost:8080/"
        },
        "id": "3R3ox0XCIx2d",
        "outputId": "6c495964-b085-44c0-bc92-c5792fa39488"
      },
      "execution_count": null,
      "outputs": [
        {
          "output_type": "execute_result",
          "data": {
            "text/plain": [
              "845.8092219829559"
            ]
          },
          "metadata": {},
          "execution_count": 83
        }
      ]
    },
    {
      "cell_type": "code",
      "source": [
        "acc_kn = accuracy_score(y_test, y_predictions_kn)"
      ],
      "metadata": {
        "id": "o49u0sRrIx43"
      },
      "execution_count": null,
      "outputs": []
    },
    {
      "cell_type": "code",
      "source": [
        "acc_kn"
      ],
      "metadata": {
        "colab": {
          "base_uri": "https://localhost:8080/"
        },
        "id": "4gZY4y-LIx7H",
        "outputId": "3306435e-5348-4d1c-e156-f02c2de860fc"
      },
      "execution_count": null,
      "outputs": [
        {
          "output_type": "execute_result",
          "data": {
            "text/plain": [
              "0.9801358206164239"
            ]
          },
          "metadata": {},
          "execution_count": 85
        }
      ]
    },
    {
      "cell_type": "code",
      "source": [
        "from sklearn.metrics import classification_report\n",
        "\n",
        "report = classification_report(y_test, y_predictions_kn, output_dict=True)\n",
        "report"
      ],
      "metadata": {
        "colab": {
          "base_uri": "https://localhost:8080/"
        },
        "id": "4C5nLvaeIx9c",
        "outputId": "9a7669c6-a6d3-4e21-a7e1-4b6b3e2acb72"
      },
      "execution_count": null,
      "outputs": [
        {
          "output_type": "execute_result",
          "data": {
            "text/plain": [
              "{'0': {'precision': 1.0,\n",
              "  'recall': 0.9811779190568802,\n",
              "  'f1-score': 0.9904995504128777,\n",
              "  'support': 367122.0},\n",
              " '1': {'precision': 1.0, 'recall': 1.0, 'f1-score': 1.0, 'support': 22399.0},\n",
              " '2': {'precision': 1.0, 'recall': 1.0, 'f1-score': 1.0, 'support': 2998.0},\n",
              " '3': {'precision': 0.6844123824308282,\n",
              "  'recall': 0.9101396478445659,\n",
              "  'f1-score': 0.7812988637548213,\n",
              "  'support': 16470.0},\n",
              " '4': {'precision': 0.8349319652018737,\n",
              "  'recall': 1.0,\n",
              "  'f1-score': 0.9100413323608072,\n",
              "  'support': 7486.0},\n",
              " '5': {'precision': 1.0,\n",
              "  'recall': 0.9996663329996663,\n",
              "  'f1-score': 0.999833138661772,\n",
              "  'support': 5994.0},\n",
              " 'accuracy': 0.9801358206164239,\n",
              " 'macro avg': {'precision': 0.9198907246054504,\n",
              "  'recall': 0.9818306499835187,\n",
              "  'f1-score': 0.9469454808650463,\n",
              "  'support': 422469.0},\n",
              " 'weighted avg': {'precision': 0.9847718356379687,\n",
              "  'recall': 0.9801358206164239,\n",
              "  'f1-score': 0.9816216988226594,\n",
              "  'support': 422469.0}}"
            ]
          },
          "metadata": {},
          "execution_count": 86
        }
      ]
    },
    {
      "cell_type": "code",
      "source": [
        "mae_error_l = mean_absolute_error(y_test, y_predictions_kn)\n",
        "mae_error_l"
      ],
      "metadata": {
        "colab": {
          "base_uri": "https://localhost:8080/"
        },
        "id": "k5cWowiQIx_2",
        "outputId": "dc999082-a2fa-4608-bd0f-098038713101"
      },
      "execution_count": null,
      "outputs": [
        {
          "output_type": "execute_result",
          "data": {
            "text/plain": [
              "0.05258137283445649"
            ]
          },
          "metadata": {},
          "execution_count": 87
        }
      ]
    },
    {
      "cell_type": "code",
      "source": [],
      "metadata": {
        "id": "WnQytrEgIyCN"
      },
      "execution_count": null,
      "outputs": []
    },
    {
      "cell_type": "code",
      "source": [],
      "metadata": {
        "id": "oBImM5fNIkkK"
      },
      "execution_count": null,
      "outputs": []
    }
  ]
}