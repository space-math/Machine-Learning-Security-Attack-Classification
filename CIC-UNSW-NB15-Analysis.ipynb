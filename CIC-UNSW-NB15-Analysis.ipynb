{
  "nbformat": 4,
  "nbformat_minor": 0,
  "metadata": {
    "colab": {
      "provenance": []
    },
    "kernelspec": {
      "name": "python3",
      "display_name": "Python 3"
    },
    "language_info": {
      "name": "python"
    }
  },
  "cells": [
    {
      "cell_type": "markdown",
      "source": [
        "#Loading the CIC-UNSW-NB15 Dataset"
      ],
      "metadata": {
        "id": "vNeUImJIwWdx"
      }
    },
    {
      "cell_type": "code",
      "source": [
        "from google.colab import drive\n",
        "drive.mount('/content/drive')"
      ],
      "metadata": {
        "colab": {
          "base_uri": "https://localhost:8080/"
        },
        "id": "8UgaxsUmvF9S",
        "outputId": "1acb2429-7526-4b46-d031-160a228b8f42"
      },
      "execution_count": 1,
      "outputs": [
        {
          "output_type": "stream",
          "name": "stdout",
          "text": [
            "Drive already mounted at /content/drive; to attempt to forcibly remount, call drive.mount(\"/content/drive\", force_remount=True).\n"
          ]
        }
      ]
    },
    {
      "cell_type": "code",
      "source": [
        "import pandas as pd\n",
        "\n",
        "data_file = pd.read_csv(\"/content/drive/MyDrive/Data-unsw.csv\")\n",
        "label_file = pd.read_csv(\"/content/drive/MyDrive/Label-unsw.csv\")"
      ],
      "metadata": {
        "id": "ibqRMKKiwZ9D"
      },
      "execution_count": 2,
      "outputs": []
    },
    {
      "cell_type": "code",
      "source": [
        "new_data = pd.concat([data_file, label_file], axis=1)"
      ],
      "metadata": {
        "id": "qdJ129JPKmN5"
      },
      "execution_count": 3,
      "outputs": []
    },
    {
      "cell_type": "code",
      "source": [
        "new_data"
      ],
      "metadata": {
        "colab": {
          "base_uri": "https://localhost:8080/",
          "height": 496
        },
        "id": "scdmNwEfKmVO",
        "outputId": "99b1a883-e70b-4f1f-8052-937d693937bb"
      },
      "execution_count": 4,
      "outputs": [
        {
          "output_type": "execute_result",
          "data": {
            "text/plain": [
              "        Flow Duration  Total Fwd Packet  Total Bwd packets  \\\n",
              "0              214392                 9                 21   \n",
              "1             2376792                 9                  3   \n",
              "2              131350                10                  3   \n",
              "3              164796                 6                  3   \n",
              "4              163418                 6                  3   \n",
              "...               ...               ...                ...   \n",
              "447910            348                 1                  2   \n",
              "447911           1639                 4                  4   \n",
              "447912            312                 1                  2   \n",
              "447913            358                 1                  2   \n",
              "447914            311                 1                  2   \n",
              "\n",
              "        Total Length of Fwd Packet  Total Length of Bwd Packet  \\\n",
              "0                            388.0                     24564.0   \n",
              "1                            752.0                         0.0   \n",
              "2                           7564.0                         0.0   \n",
              "3                            770.0                         0.0   \n",
              "4                            400.0                         0.0   \n",
              "...                            ...                         ...   \n",
              "447910                         0.0                         0.0   \n",
              "447911                       408.0                       192.0   \n",
              "447912                         0.0                         0.0   \n",
              "447913                         0.0                         0.0   \n",
              "447914                         0.0                         0.0   \n",
              "\n",
              "        Fwd Packet Length Max  Fwd Packet Length Min  Fwd Packet Length Mean  \\\n",
              "0                       194.0                    0.0               43.111111   \n",
              "1                       188.0                    0.0               83.555556   \n",
              "2                      1460.0                    0.0              756.400000   \n",
              "3                       385.0                    0.0              128.333333   \n",
              "4                       200.0                    0.0               66.666667   \n",
              "...                       ...                    ...                     ...   \n",
              "447910                    0.0                    0.0                0.000000   \n",
              "447911                  116.0                   88.0              102.000000   \n",
              "447912                    0.0                    0.0                0.000000   \n",
              "447913                    0.0                    0.0                0.000000   \n",
              "447914                    0.0                    0.0                0.000000   \n",
              "\n",
              "        Fwd Packet Length Std  Bwd Packet Length Max  ...  Fwd Seg Size Min  \\\n",
              "0                   85.545959                 1460.0  ...                20   \n",
              "1                   99.084700                    0.0  ...                20   \n",
              "2                  690.497277                    0.0  ...                20   \n",
              "3                  198.813145                    0.0  ...                20   \n",
              "4                  103.279556                    0.0  ...                20   \n",
              "...                       ...                    ...  ...               ...   \n",
              "447910               0.000000                    0.0  ...                32   \n",
              "447911              16.165808                   72.0  ...                 8   \n",
              "447912               0.000000                    0.0  ...                32   \n",
              "447913               0.000000                    0.0  ...                32   \n",
              "447914               0.000000                    0.0  ...                32   \n",
              "\n",
              "        Active Mean  Active Std  Active Max  Active Min  Idle Mean  Idle Std  \\\n",
              "0               0.0         0.0         0.0         0.0        0.0       0.0   \n",
              "1               0.0         0.0         0.0         0.0        0.0       0.0   \n",
              "2               0.0         0.0         0.0         0.0        0.0       0.0   \n",
              "3               0.0         0.0         0.0         0.0        0.0       0.0   \n",
              "4               0.0         0.0         0.0         0.0        0.0       0.0   \n",
              "...             ...         ...         ...         ...        ...       ...   \n",
              "447910          0.0         0.0         0.0         0.0        0.0       0.0   \n",
              "447911          0.0         0.0         0.0         0.0        0.0       0.0   \n",
              "447912          0.0         0.0         0.0         0.0        0.0       0.0   \n",
              "447913          0.0         0.0         0.0         0.0        0.0       0.0   \n",
              "447914          0.0         0.0         0.0         0.0        0.0       0.0   \n",
              "\n",
              "        Idle Max  Idle Min  Label  \n",
              "0            0.0       0.0      4  \n",
              "1            0.0       0.0      7  \n",
              "2            0.0       0.0      4  \n",
              "3            0.0       0.0      3  \n",
              "4            0.0       0.0      6  \n",
              "...          ...       ...    ...  \n",
              "447910       0.0       0.0      0  \n",
              "447911       0.0       0.0      0  \n",
              "447912       0.0       0.0      0  \n",
              "447913       0.0       0.0      0  \n",
              "447914       0.0       0.0      0  \n",
              "\n",
              "[447915 rows x 77 columns]"
            ],
            "text/html": [
              "\n",
              "  <div id=\"df-a60de236-06f2-4ecb-b560-f664d8a9ac48\" class=\"colab-df-container\">\n",
              "    <div>\n",
              "<style scoped>\n",
              "    .dataframe tbody tr th:only-of-type {\n",
              "        vertical-align: middle;\n",
              "    }\n",
              "\n",
              "    .dataframe tbody tr th {\n",
              "        vertical-align: top;\n",
              "    }\n",
              "\n",
              "    .dataframe thead th {\n",
              "        text-align: right;\n",
              "    }\n",
              "</style>\n",
              "<table border=\"1\" class=\"dataframe\">\n",
              "  <thead>\n",
              "    <tr style=\"text-align: right;\">\n",
              "      <th></th>\n",
              "      <th>Flow Duration</th>\n",
              "      <th>Total Fwd Packet</th>\n",
              "      <th>Total Bwd packets</th>\n",
              "      <th>Total Length of Fwd Packet</th>\n",
              "      <th>Total Length of Bwd Packet</th>\n",
              "      <th>Fwd Packet Length Max</th>\n",
              "      <th>Fwd Packet Length Min</th>\n",
              "      <th>Fwd Packet Length Mean</th>\n",
              "      <th>Fwd Packet Length Std</th>\n",
              "      <th>Bwd Packet Length Max</th>\n",
              "      <th>...</th>\n",
              "      <th>Fwd Seg Size Min</th>\n",
              "      <th>Active Mean</th>\n",
              "      <th>Active Std</th>\n",
              "      <th>Active Max</th>\n",
              "      <th>Active Min</th>\n",
              "      <th>Idle Mean</th>\n",
              "      <th>Idle Std</th>\n",
              "      <th>Idle Max</th>\n",
              "      <th>Idle Min</th>\n",
              "      <th>Label</th>\n",
              "    </tr>\n",
              "  </thead>\n",
              "  <tbody>\n",
              "    <tr>\n",
              "      <th>0</th>\n",
              "      <td>214392</td>\n",
              "      <td>9</td>\n",
              "      <td>21</td>\n",
              "      <td>388.0</td>\n",
              "      <td>24564.0</td>\n",
              "      <td>194.0</td>\n",
              "      <td>0.0</td>\n",
              "      <td>43.111111</td>\n",
              "      <td>85.545959</td>\n",
              "      <td>1460.0</td>\n",
              "      <td>...</td>\n",
              "      <td>20</td>\n",
              "      <td>0.0</td>\n",
              "      <td>0.0</td>\n",
              "      <td>0.0</td>\n",
              "      <td>0.0</td>\n",
              "      <td>0.0</td>\n",
              "      <td>0.0</td>\n",
              "      <td>0.0</td>\n",
              "      <td>0.0</td>\n",
              "      <td>4</td>\n",
              "    </tr>\n",
              "    <tr>\n",
              "      <th>1</th>\n",
              "      <td>2376792</td>\n",
              "      <td>9</td>\n",
              "      <td>3</td>\n",
              "      <td>752.0</td>\n",
              "      <td>0.0</td>\n",
              "      <td>188.0</td>\n",
              "      <td>0.0</td>\n",
              "      <td>83.555556</td>\n",
              "      <td>99.084700</td>\n",
              "      <td>0.0</td>\n",
              "      <td>...</td>\n",
              "      <td>20</td>\n",
              "      <td>0.0</td>\n",
              "      <td>0.0</td>\n",
              "      <td>0.0</td>\n",
              "      <td>0.0</td>\n",
              "      <td>0.0</td>\n",
              "      <td>0.0</td>\n",
              "      <td>0.0</td>\n",
              "      <td>0.0</td>\n",
              "      <td>7</td>\n",
              "    </tr>\n",
              "    <tr>\n",
              "      <th>2</th>\n",
              "      <td>131350</td>\n",
              "      <td>10</td>\n",
              "      <td>3</td>\n",
              "      <td>7564.0</td>\n",
              "      <td>0.0</td>\n",
              "      <td>1460.0</td>\n",
              "      <td>0.0</td>\n",
              "      <td>756.400000</td>\n",
              "      <td>690.497277</td>\n",
              "      <td>0.0</td>\n",
              "      <td>...</td>\n",
              "      <td>20</td>\n",
              "      <td>0.0</td>\n",
              "      <td>0.0</td>\n",
              "      <td>0.0</td>\n",
              "      <td>0.0</td>\n",
              "      <td>0.0</td>\n",
              "      <td>0.0</td>\n",
              "      <td>0.0</td>\n",
              "      <td>0.0</td>\n",
              "      <td>4</td>\n",
              "    </tr>\n",
              "    <tr>\n",
              "      <th>3</th>\n",
              "      <td>164796</td>\n",
              "      <td>6</td>\n",
              "      <td>3</td>\n",
              "      <td>770.0</td>\n",
              "      <td>0.0</td>\n",
              "      <td>385.0</td>\n",
              "      <td>0.0</td>\n",
              "      <td>128.333333</td>\n",
              "      <td>198.813145</td>\n",
              "      <td>0.0</td>\n",
              "      <td>...</td>\n",
              "      <td>20</td>\n",
              "      <td>0.0</td>\n",
              "      <td>0.0</td>\n",
              "      <td>0.0</td>\n",
              "      <td>0.0</td>\n",
              "      <td>0.0</td>\n",
              "      <td>0.0</td>\n",
              "      <td>0.0</td>\n",
              "      <td>0.0</td>\n",
              "      <td>3</td>\n",
              "    </tr>\n",
              "    <tr>\n",
              "      <th>4</th>\n",
              "      <td>163418</td>\n",
              "      <td>6</td>\n",
              "      <td>3</td>\n",
              "      <td>400.0</td>\n",
              "      <td>0.0</td>\n",
              "      <td>200.0</td>\n",
              "      <td>0.0</td>\n",
              "      <td>66.666667</td>\n",
              "      <td>103.279556</td>\n",
              "      <td>0.0</td>\n",
              "      <td>...</td>\n",
              "      <td>20</td>\n",
              "      <td>0.0</td>\n",
              "      <td>0.0</td>\n",
              "      <td>0.0</td>\n",
              "      <td>0.0</td>\n",
              "      <td>0.0</td>\n",
              "      <td>0.0</td>\n",
              "      <td>0.0</td>\n",
              "      <td>0.0</td>\n",
              "      <td>6</td>\n",
              "    </tr>\n",
              "    <tr>\n",
              "      <th>...</th>\n",
              "      <td>...</td>\n",
              "      <td>...</td>\n",
              "      <td>...</td>\n",
              "      <td>...</td>\n",
              "      <td>...</td>\n",
              "      <td>...</td>\n",
              "      <td>...</td>\n",
              "      <td>...</td>\n",
              "      <td>...</td>\n",
              "      <td>...</td>\n",
              "      <td>...</td>\n",
              "      <td>...</td>\n",
              "      <td>...</td>\n",
              "      <td>...</td>\n",
              "      <td>...</td>\n",
              "      <td>...</td>\n",
              "      <td>...</td>\n",
              "      <td>...</td>\n",
              "      <td>...</td>\n",
              "      <td>...</td>\n",
              "      <td>...</td>\n",
              "    </tr>\n",
              "    <tr>\n",
              "      <th>447910</th>\n",
              "      <td>348</td>\n",
              "      <td>1</td>\n",
              "      <td>2</td>\n",
              "      <td>0.0</td>\n",
              "      <td>0.0</td>\n",
              "      <td>0.0</td>\n",
              "      <td>0.0</td>\n",
              "      <td>0.000000</td>\n",
              "      <td>0.000000</td>\n",
              "      <td>0.0</td>\n",
              "      <td>...</td>\n",
              "      <td>32</td>\n",
              "      <td>0.0</td>\n",
              "      <td>0.0</td>\n",
              "      <td>0.0</td>\n",
              "      <td>0.0</td>\n",
              "      <td>0.0</td>\n",
              "      <td>0.0</td>\n",
              "      <td>0.0</td>\n",
              "      <td>0.0</td>\n",
              "      <td>0</td>\n",
              "    </tr>\n",
              "    <tr>\n",
              "      <th>447911</th>\n",
              "      <td>1639</td>\n",
              "      <td>4</td>\n",
              "      <td>4</td>\n",
              "      <td>408.0</td>\n",
              "      <td>192.0</td>\n",
              "      <td>116.0</td>\n",
              "      <td>88.0</td>\n",
              "      <td>102.000000</td>\n",
              "      <td>16.165808</td>\n",
              "      <td>72.0</td>\n",
              "      <td>...</td>\n",
              "      <td>8</td>\n",
              "      <td>0.0</td>\n",
              "      <td>0.0</td>\n",
              "      <td>0.0</td>\n",
              "      <td>0.0</td>\n",
              "      <td>0.0</td>\n",
              "      <td>0.0</td>\n",
              "      <td>0.0</td>\n",
              "      <td>0.0</td>\n",
              "      <td>0</td>\n",
              "    </tr>\n",
              "    <tr>\n",
              "      <th>447912</th>\n",
              "      <td>312</td>\n",
              "      <td>1</td>\n",
              "      <td>2</td>\n",
              "      <td>0.0</td>\n",
              "      <td>0.0</td>\n",
              "      <td>0.0</td>\n",
              "      <td>0.0</td>\n",
              "      <td>0.000000</td>\n",
              "      <td>0.000000</td>\n",
              "      <td>0.0</td>\n",
              "      <td>...</td>\n",
              "      <td>32</td>\n",
              "      <td>0.0</td>\n",
              "      <td>0.0</td>\n",
              "      <td>0.0</td>\n",
              "      <td>0.0</td>\n",
              "      <td>0.0</td>\n",
              "      <td>0.0</td>\n",
              "      <td>0.0</td>\n",
              "      <td>0.0</td>\n",
              "      <td>0</td>\n",
              "    </tr>\n",
              "    <tr>\n",
              "      <th>447913</th>\n",
              "      <td>358</td>\n",
              "      <td>1</td>\n",
              "      <td>2</td>\n",
              "      <td>0.0</td>\n",
              "      <td>0.0</td>\n",
              "      <td>0.0</td>\n",
              "      <td>0.0</td>\n",
              "      <td>0.000000</td>\n",
              "      <td>0.000000</td>\n",
              "      <td>0.0</td>\n",
              "      <td>...</td>\n",
              "      <td>32</td>\n",
              "      <td>0.0</td>\n",
              "      <td>0.0</td>\n",
              "      <td>0.0</td>\n",
              "      <td>0.0</td>\n",
              "      <td>0.0</td>\n",
              "      <td>0.0</td>\n",
              "      <td>0.0</td>\n",
              "      <td>0.0</td>\n",
              "      <td>0</td>\n",
              "    </tr>\n",
              "    <tr>\n",
              "      <th>447914</th>\n",
              "      <td>311</td>\n",
              "      <td>1</td>\n",
              "      <td>2</td>\n",
              "      <td>0.0</td>\n",
              "      <td>0.0</td>\n",
              "      <td>0.0</td>\n",
              "      <td>0.0</td>\n",
              "      <td>0.000000</td>\n",
              "      <td>0.000000</td>\n",
              "      <td>0.0</td>\n",
              "      <td>...</td>\n",
              "      <td>32</td>\n",
              "      <td>0.0</td>\n",
              "      <td>0.0</td>\n",
              "      <td>0.0</td>\n",
              "      <td>0.0</td>\n",
              "      <td>0.0</td>\n",
              "      <td>0.0</td>\n",
              "      <td>0.0</td>\n",
              "      <td>0.0</td>\n",
              "      <td>0</td>\n",
              "    </tr>\n",
              "  </tbody>\n",
              "</table>\n",
              "<p>447915 rows × 77 columns</p>\n",
              "</div>\n",
              "    <div class=\"colab-df-buttons\">\n",
              "\n",
              "  <div class=\"colab-df-container\">\n",
              "    <button class=\"colab-df-convert\" onclick=\"convertToInteractive('df-a60de236-06f2-4ecb-b560-f664d8a9ac48')\"\n",
              "            title=\"Convert this dataframe to an interactive table.\"\n",
              "            style=\"display:none;\">\n",
              "\n",
              "  <svg xmlns=\"http://www.w3.org/2000/svg\" height=\"24px\" viewBox=\"0 -960 960 960\">\n",
              "    <path d=\"M120-120v-720h720v720H120Zm60-500h600v-160H180v160Zm220 220h160v-160H400v160Zm0 220h160v-160H400v160ZM180-400h160v-160H180v160Zm440 0h160v-160H620v160ZM180-180h160v-160H180v160Zm440 0h160v-160H620v160Z\"/>\n",
              "  </svg>\n",
              "    </button>\n",
              "\n",
              "  <style>\n",
              "    .colab-df-container {\n",
              "      display:flex;\n",
              "      gap: 12px;\n",
              "    }\n",
              "\n",
              "    .colab-df-convert {\n",
              "      background-color: #E8F0FE;\n",
              "      border: none;\n",
              "      border-radius: 50%;\n",
              "      cursor: pointer;\n",
              "      display: none;\n",
              "      fill: #1967D2;\n",
              "      height: 32px;\n",
              "      padding: 0 0 0 0;\n",
              "      width: 32px;\n",
              "    }\n",
              "\n",
              "    .colab-df-convert:hover {\n",
              "      background-color: #E2EBFA;\n",
              "      box-shadow: 0px 1px 2px rgba(60, 64, 67, 0.3), 0px 1px 3px 1px rgba(60, 64, 67, 0.15);\n",
              "      fill: #174EA6;\n",
              "    }\n",
              "\n",
              "    .colab-df-buttons div {\n",
              "      margin-bottom: 4px;\n",
              "    }\n",
              "\n",
              "    [theme=dark] .colab-df-convert {\n",
              "      background-color: #3B4455;\n",
              "      fill: #D2E3FC;\n",
              "    }\n",
              "\n",
              "    [theme=dark] .colab-df-convert:hover {\n",
              "      background-color: #434B5C;\n",
              "      box-shadow: 0px 1px 3px 1px rgba(0, 0, 0, 0.15);\n",
              "      filter: drop-shadow(0px 1px 2px rgba(0, 0, 0, 0.3));\n",
              "      fill: #FFFFFF;\n",
              "    }\n",
              "  </style>\n",
              "\n",
              "    <script>\n",
              "      const buttonEl =\n",
              "        document.querySelector('#df-a60de236-06f2-4ecb-b560-f664d8a9ac48 button.colab-df-convert');\n",
              "      buttonEl.style.display =\n",
              "        google.colab.kernel.accessAllowed ? 'block' : 'none';\n",
              "\n",
              "      async function convertToInteractive(key) {\n",
              "        const element = document.querySelector('#df-a60de236-06f2-4ecb-b560-f664d8a9ac48');\n",
              "        const dataTable =\n",
              "          await google.colab.kernel.invokeFunction('convertToInteractive',\n",
              "                                                    [key], {});\n",
              "        if (!dataTable) return;\n",
              "\n",
              "        const docLinkHtml = 'Like what you see? Visit the ' +\n",
              "          '<a target=\"_blank\" href=https://colab.research.google.com/notebooks/data_table.ipynb>data table notebook</a>'\n",
              "          + ' to learn more about interactive tables.';\n",
              "        element.innerHTML = '';\n",
              "        dataTable['output_type'] = 'display_data';\n",
              "        await google.colab.output.renderOutput(dataTable, element);\n",
              "        const docLink = document.createElement('div');\n",
              "        docLink.innerHTML = docLinkHtml;\n",
              "        element.appendChild(docLink);\n",
              "      }\n",
              "    </script>\n",
              "  </div>\n",
              "\n",
              "\n",
              "<div id=\"df-75241ebb-a23b-454e-b5b1-963c1c53d1cb\">\n",
              "  <button class=\"colab-df-quickchart\" onclick=\"quickchart('df-75241ebb-a23b-454e-b5b1-963c1c53d1cb')\"\n",
              "            title=\"Suggest charts\"\n",
              "            style=\"display:none;\">\n",
              "\n",
              "<svg xmlns=\"http://www.w3.org/2000/svg\" height=\"24px\"viewBox=\"0 0 24 24\"\n",
              "     width=\"24px\">\n",
              "    <g>\n",
              "        <path d=\"M19 3H5c-1.1 0-2 .9-2 2v14c0 1.1.9 2 2 2h14c1.1 0 2-.9 2-2V5c0-1.1-.9-2-2-2zM9 17H7v-7h2v7zm4 0h-2V7h2v10zm4 0h-2v-4h2v4z\"/>\n",
              "    </g>\n",
              "</svg>\n",
              "  </button>\n",
              "\n",
              "<style>\n",
              "  .colab-df-quickchart {\n",
              "      --bg-color: #E8F0FE;\n",
              "      --fill-color: #1967D2;\n",
              "      --hover-bg-color: #E2EBFA;\n",
              "      --hover-fill-color: #174EA6;\n",
              "      --disabled-fill-color: #AAA;\n",
              "      --disabled-bg-color: #DDD;\n",
              "  }\n",
              "\n",
              "  [theme=dark] .colab-df-quickchart {\n",
              "      --bg-color: #3B4455;\n",
              "      --fill-color: #D2E3FC;\n",
              "      --hover-bg-color: #434B5C;\n",
              "      --hover-fill-color: #FFFFFF;\n",
              "      --disabled-bg-color: #3B4455;\n",
              "      --disabled-fill-color: #666;\n",
              "  }\n",
              "\n",
              "  .colab-df-quickchart {\n",
              "    background-color: var(--bg-color);\n",
              "    border: none;\n",
              "    border-radius: 50%;\n",
              "    cursor: pointer;\n",
              "    display: none;\n",
              "    fill: var(--fill-color);\n",
              "    height: 32px;\n",
              "    padding: 0;\n",
              "    width: 32px;\n",
              "  }\n",
              "\n",
              "  .colab-df-quickchart:hover {\n",
              "    background-color: var(--hover-bg-color);\n",
              "    box-shadow: 0 1px 2px rgba(60, 64, 67, 0.3), 0 1px 3px 1px rgba(60, 64, 67, 0.15);\n",
              "    fill: var(--button-hover-fill-color);\n",
              "  }\n",
              "\n",
              "  .colab-df-quickchart-complete:disabled,\n",
              "  .colab-df-quickchart-complete:disabled:hover {\n",
              "    background-color: var(--disabled-bg-color);\n",
              "    fill: var(--disabled-fill-color);\n",
              "    box-shadow: none;\n",
              "  }\n",
              "\n",
              "  .colab-df-spinner {\n",
              "    border: 2px solid var(--fill-color);\n",
              "    border-color: transparent;\n",
              "    border-bottom-color: var(--fill-color);\n",
              "    animation:\n",
              "      spin 1s steps(1) infinite;\n",
              "  }\n",
              "\n",
              "  @keyframes spin {\n",
              "    0% {\n",
              "      border-color: transparent;\n",
              "      border-bottom-color: var(--fill-color);\n",
              "      border-left-color: var(--fill-color);\n",
              "    }\n",
              "    20% {\n",
              "      border-color: transparent;\n",
              "      border-left-color: var(--fill-color);\n",
              "      border-top-color: var(--fill-color);\n",
              "    }\n",
              "    30% {\n",
              "      border-color: transparent;\n",
              "      border-left-color: var(--fill-color);\n",
              "      border-top-color: var(--fill-color);\n",
              "      border-right-color: var(--fill-color);\n",
              "    }\n",
              "    40% {\n",
              "      border-color: transparent;\n",
              "      border-right-color: var(--fill-color);\n",
              "      border-top-color: var(--fill-color);\n",
              "    }\n",
              "    60% {\n",
              "      border-color: transparent;\n",
              "      border-right-color: var(--fill-color);\n",
              "    }\n",
              "    80% {\n",
              "      border-color: transparent;\n",
              "      border-right-color: var(--fill-color);\n",
              "      border-bottom-color: var(--fill-color);\n",
              "    }\n",
              "    90% {\n",
              "      border-color: transparent;\n",
              "      border-bottom-color: var(--fill-color);\n",
              "    }\n",
              "  }\n",
              "</style>\n",
              "\n",
              "  <script>\n",
              "    async function quickchart(key) {\n",
              "      const quickchartButtonEl =\n",
              "        document.querySelector('#' + key + ' button');\n",
              "      quickchartButtonEl.disabled = true;  // To prevent multiple clicks.\n",
              "      quickchartButtonEl.classList.add('colab-df-spinner');\n",
              "      try {\n",
              "        const charts = await google.colab.kernel.invokeFunction(\n",
              "            'suggestCharts', [key], {});\n",
              "      } catch (error) {\n",
              "        console.error('Error during call to suggestCharts:', error);\n",
              "      }\n",
              "      quickchartButtonEl.classList.remove('colab-df-spinner');\n",
              "      quickchartButtonEl.classList.add('colab-df-quickchart-complete');\n",
              "    }\n",
              "    (() => {\n",
              "      let quickchartButtonEl =\n",
              "        document.querySelector('#df-75241ebb-a23b-454e-b5b1-963c1c53d1cb button');\n",
              "      quickchartButtonEl.style.display =\n",
              "        google.colab.kernel.accessAllowed ? 'block' : 'none';\n",
              "    })();\n",
              "  </script>\n",
              "</div>\n",
              "\n",
              "  <div id=\"id_f35c34a1-1a9f-41a8-94fc-a918aead0147\">\n",
              "    <style>\n",
              "      .colab-df-generate {\n",
              "        background-color: #E8F0FE;\n",
              "        border: none;\n",
              "        border-radius: 50%;\n",
              "        cursor: pointer;\n",
              "        display: none;\n",
              "        fill: #1967D2;\n",
              "        height: 32px;\n",
              "        padding: 0 0 0 0;\n",
              "        width: 32px;\n",
              "      }\n",
              "\n",
              "      .colab-df-generate:hover {\n",
              "        background-color: #E2EBFA;\n",
              "        box-shadow: 0px 1px 2px rgba(60, 64, 67, 0.3), 0px 1px 3px 1px rgba(60, 64, 67, 0.15);\n",
              "        fill: #174EA6;\n",
              "      }\n",
              "\n",
              "      [theme=dark] .colab-df-generate {\n",
              "        background-color: #3B4455;\n",
              "        fill: #D2E3FC;\n",
              "      }\n",
              "\n",
              "      [theme=dark] .colab-df-generate:hover {\n",
              "        background-color: #434B5C;\n",
              "        box-shadow: 0px 1px 3px 1px rgba(0, 0, 0, 0.15);\n",
              "        filter: drop-shadow(0px 1px 2px rgba(0, 0, 0, 0.3));\n",
              "        fill: #FFFFFF;\n",
              "      }\n",
              "    </style>\n",
              "    <button class=\"colab-df-generate\" onclick=\"generateWithVariable('new_data')\"\n",
              "            title=\"Generate code using this dataframe.\"\n",
              "            style=\"display:none;\">\n",
              "\n",
              "  <svg xmlns=\"http://www.w3.org/2000/svg\" height=\"24px\"viewBox=\"0 0 24 24\"\n",
              "       width=\"24px\">\n",
              "    <path d=\"M7,19H8.4L18.45,9,17,7.55,7,17.6ZM5,21V16.75L18.45,3.32a2,2,0,0,1,2.83,0l1.4,1.43a1.91,1.91,0,0,1,.58,1.4,1.91,1.91,0,0,1-.58,1.4L9.25,21ZM18.45,9,17,7.55Zm-12,3A5.31,5.31,0,0,0,4.9,8.1,5.31,5.31,0,0,0,1,6.5,5.31,5.31,0,0,0,4.9,4.9,5.31,5.31,0,0,0,6.5,1,5.31,5.31,0,0,0,8.1,4.9,5.31,5.31,0,0,0,12,6.5,5.46,5.46,0,0,0,6.5,12Z\"/>\n",
              "  </svg>\n",
              "    </button>\n",
              "    <script>\n",
              "      (() => {\n",
              "      const buttonEl =\n",
              "        document.querySelector('#id_f35c34a1-1a9f-41a8-94fc-a918aead0147 button.colab-df-generate');\n",
              "      buttonEl.style.display =\n",
              "        google.colab.kernel.accessAllowed ? 'block' : 'none';\n",
              "\n",
              "      buttonEl.onclick = () => {\n",
              "        google.colab.notebook.generateWithVariable('new_data');\n",
              "      }\n",
              "      })();\n",
              "    </script>\n",
              "  </div>\n",
              "\n",
              "    </div>\n",
              "  </div>\n"
            ],
            "application/vnd.google.colaboratory.intrinsic+json": {
              "type": "dataframe",
              "variable_name": "new_data"
            }
          },
          "metadata": {},
          "execution_count": 4
        }
      ]
    },
    {
      "cell_type": "markdown",
      "source": [
        "#Data Preprocessing"
      ],
      "metadata": {
        "id": "61l_RpSqwpvP"
      }
    },
    {
      "cell_type": "code",
      "source": [
        "# Changing the last column - labels - such that if the value is other than 0, it becomes 1. Otherwise, it remains 0.\n",
        "new_data.iloc[:, -1] = new_data.iloc[:, -1].apply(lambda x: 0 if x == 0 else 1)"
      ],
      "metadata": {
        "id": "XyLZgukOKmZ0"
      },
      "execution_count": 5,
      "outputs": []
    },
    {
      "cell_type": "code",
      "source": [
        "new_data"
      ],
      "metadata": {
        "colab": {
          "base_uri": "https://localhost:8080/",
          "height": 496
        },
        "id": "jqGlDroyKmcs",
        "outputId": "c1b6d943-568b-4f50-d461-8a771d7bb676"
      },
      "execution_count": 6,
      "outputs": [
        {
          "output_type": "execute_result",
          "data": {
            "text/plain": [
              "        Flow Duration  Total Fwd Packet  Total Bwd packets  \\\n",
              "0              214392                 9                 21   \n",
              "1             2376792                 9                  3   \n",
              "2              131350                10                  3   \n",
              "3              164796                 6                  3   \n",
              "4              163418                 6                  3   \n",
              "...               ...               ...                ...   \n",
              "447910            348                 1                  2   \n",
              "447911           1639                 4                  4   \n",
              "447912            312                 1                  2   \n",
              "447913            358                 1                  2   \n",
              "447914            311                 1                  2   \n",
              "\n",
              "        Total Length of Fwd Packet  Total Length of Bwd Packet  \\\n",
              "0                            388.0                     24564.0   \n",
              "1                            752.0                         0.0   \n",
              "2                           7564.0                         0.0   \n",
              "3                            770.0                         0.0   \n",
              "4                            400.0                         0.0   \n",
              "...                            ...                         ...   \n",
              "447910                         0.0                         0.0   \n",
              "447911                       408.0                       192.0   \n",
              "447912                         0.0                         0.0   \n",
              "447913                         0.0                         0.0   \n",
              "447914                         0.0                         0.0   \n",
              "\n",
              "        Fwd Packet Length Max  Fwd Packet Length Min  Fwd Packet Length Mean  \\\n",
              "0                       194.0                    0.0               43.111111   \n",
              "1                       188.0                    0.0               83.555556   \n",
              "2                      1460.0                    0.0              756.400000   \n",
              "3                       385.0                    0.0              128.333333   \n",
              "4                       200.0                    0.0               66.666667   \n",
              "...                       ...                    ...                     ...   \n",
              "447910                    0.0                    0.0                0.000000   \n",
              "447911                  116.0                   88.0              102.000000   \n",
              "447912                    0.0                    0.0                0.000000   \n",
              "447913                    0.0                    0.0                0.000000   \n",
              "447914                    0.0                    0.0                0.000000   \n",
              "\n",
              "        Fwd Packet Length Std  Bwd Packet Length Max  ...  Fwd Seg Size Min  \\\n",
              "0                   85.545959                 1460.0  ...                20   \n",
              "1                   99.084700                    0.0  ...                20   \n",
              "2                  690.497277                    0.0  ...                20   \n",
              "3                  198.813145                    0.0  ...                20   \n",
              "4                  103.279556                    0.0  ...                20   \n",
              "...                       ...                    ...  ...               ...   \n",
              "447910               0.000000                    0.0  ...                32   \n",
              "447911              16.165808                   72.0  ...                 8   \n",
              "447912               0.000000                    0.0  ...                32   \n",
              "447913               0.000000                    0.0  ...                32   \n",
              "447914               0.000000                    0.0  ...                32   \n",
              "\n",
              "        Active Mean  Active Std  Active Max  Active Min  Idle Mean  Idle Std  \\\n",
              "0               0.0         0.0         0.0         0.0        0.0       0.0   \n",
              "1               0.0         0.0         0.0         0.0        0.0       0.0   \n",
              "2               0.0         0.0         0.0         0.0        0.0       0.0   \n",
              "3               0.0         0.0         0.0         0.0        0.0       0.0   \n",
              "4               0.0         0.0         0.0         0.0        0.0       0.0   \n",
              "...             ...         ...         ...         ...        ...       ...   \n",
              "447910          0.0         0.0         0.0         0.0        0.0       0.0   \n",
              "447911          0.0         0.0         0.0         0.0        0.0       0.0   \n",
              "447912          0.0         0.0         0.0         0.0        0.0       0.0   \n",
              "447913          0.0         0.0         0.0         0.0        0.0       0.0   \n",
              "447914          0.0         0.0         0.0         0.0        0.0       0.0   \n",
              "\n",
              "        Idle Max  Idle Min  Label  \n",
              "0            0.0       0.0      1  \n",
              "1            0.0       0.0      1  \n",
              "2            0.0       0.0      1  \n",
              "3            0.0       0.0      1  \n",
              "4            0.0       0.0      1  \n",
              "...          ...       ...    ...  \n",
              "447910       0.0       0.0      0  \n",
              "447911       0.0       0.0      0  \n",
              "447912       0.0       0.0      0  \n",
              "447913       0.0       0.0      0  \n",
              "447914       0.0       0.0      0  \n",
              "\n",
              "[447915 rows x 77 columns]"
            ],
            "text/html": [
              "\n",
              "  <div id=\"df-b6f70424-3fbd-4afe-90bd-d3214795df12\" class=\"colab-df-container\">\n",
              "    <div>\n",
              "<style scoped>\n",
              "    .dataframe tbody tr th:only-of-type {\n",
              "        vertical-align: middle;\n",
              "    }\n",
              "\n",
              "    .dataframe tbody tr th {\n",
              "        vertical-align: top;\n",
              "    }\n",
              "\n",
              "    .dataframe thead th {\n",
              "        text-align: right;\n",
              "    }\n",
              "</style>\n",
              "<table border=\"1\" class=\"dataframe\">\n",
              "  <thead>\n",
              "    <tr style=\"text-align: right;\">\n",
              "      <th></th>\n",
              "      <th>Flow Duration</th>\n",
              "      <th>Total Fwd Packet</th>\n",
              "      <th>Total Bwd packets</th>\n",
              "      <th>Total Length of Fwd Packet</th>\n",
              "      <th>Total Length of Bwd Packet</th>\n",
              "      <th>Fwd Packet Length Max</th>\n",
              "      <th>Fwd Packet Length Min</th>\n",
              "      <th>Fwd Packet Length Mean</th>\n",
              "      <th>Fwd Packet Length Std</th>\n",
              "      <th>Bwd Packet Length Max</th>\n",
              "      <th>...</th>\n",
              "      <th>Fwd Seg Size Min</th>\n",
              "      <th>Active Mean</th>\n",
              "      <th>Active Std</th>\n",
              "      <th>Active Max</th>\n",
              "      <th>Active Min</th>\n",
              "      <th>Idle Mean</th>\n",
              "      <th>Idle Std</th>\n",
              "      <th>Idle Max</th>\n",
              "      <th>Idle Min</th>\n",
              "      <th>Label</th>\n",
              "    </tr>\n",
              "  </thead>\n",
              "  <tbody>\n",
              "    <tr>\n",
              "      <th>0</th>\n",
              "      <td>214392</td>\n",
              "      <td>9</td>\n",
              "      <td>21</td>\n",
              "      <td>388.0</td>\n",
              "      <td>24564.0</td>\n",
              "      <td>194.0</td>\n",
              "      <td>0.0</td>\n",
              "      <td>43.111111</td>\n",
              "      <td>85.545959</td>\n",
              "      <td>1460.0</td>\n",
              "      <td>...</td>\n",
              "      <td>20</td>\n",
              "      <td>0.0</td>\n",
              "      <td>0.0</td>\n",
              "      <td>0.0</td>\n",
              "      <td>0.0</td>\n",
              "      <td>0.0</td>\n",
              "      <td>0.0</td>\n",
              "      <td>0.0</td>\n",
              "      <td>0.0</td>\n",
              "      <td>1</td>\n",
              "    </tr>\n",
              "    <tr>\n",
              "      <th>1</th>\n",
              "      <td>2376792</td>\n",
              "      <td>9</td>\n",
              "      <td>3</td>\n",
              "      <td>752.0</td>\n",
              "      <td>0.0</td>\n",
              "      <td>188.0</td>\n",
              "      <td>0.0</td>\n",
              "      <td>83.555556</td>\n",
              "      <td>99.084700</td>\n",
              "      <td>0.0</td>\n",
              "      <td>...</td>\n",
              "      <td>20</td>\n",
              "      <td>0.0</td>\n",
              "      <td>0.0</td>\n",
              "      <td>0.0</td>\n",
              "      <td>0.0</td>\n",
              "      <td>0.0</td>\n",
              "      <td>0.0</td>\n",
              "      <td>0.0</td>\n",
              "      <td>0.0</td>\n",
              "      <td>1</td>\n",
              "    </tr>\n",
              "    <tr>\n",
              "      <th>2</th>\n",
              "      <td>131350</td>\n",
              "      <td>10</td>\n",
              "      <td>3</td>\n",
              "      <td>7564.0</td>\n",
              "      <td>0.0</td>\n",
              "      <td>1460.0</td>\n",
              "      <td>0.0</td>\n",
              "      <td>756.400000</td>\n",
              "      <td>690.497277</td>\n",
              "      <td>0.0</td>\n",
              "      <td>...</td>\n",
              "      <td>20</td>\n",
              "      <td>0.0</td>\n",
              "      <td>0.0</td>\n",
              "      <td>0.0</td>\n",
              "      <td>0.0</td>\n",
              "      <td>0.0</td>\n",
              "      <td>0.0</td>\n",
              "      <td>0.0</td>\n",
              "      <td>0.0</td>\n",
              "      <td>1</td>\n",
              "    </tr>\n",
              "    <tr>\n",
              "      <th>3</th>\n",
              "      <td>164796</td>\n",
              "      <td>6</td>\n",
              "      <td>3</td>\n",
              "      <td>770.0</td>\n",
              "      <td>0.0</td>\n",
              "      <td>385.0</td>\n",
              "      <td>0.0</td>\n",
              "      <td>128.333333</td>\n",
              "      <td>198.813145</td>\n",
              "      <td>0.0</td>\n",
              "      <td>...</td>\n",
              "      <td>20</td>\n",
              "      <td>0.0</td>\n",
              "      <td>0.0</td>\n",
              "      <td>0.0</td>\n",
              "      <td>0.0</td>\n",
              "      <td>0.0</td>\n",
              "      <td>0.0</td>\n",
              "      <td>0.0</td>\n",
              "      <td>0.0</td>\n",
              "      <td>1</td>\n",
              "    </tr>\n",
              "    <tr>\n",
              "      <th>4</th>\n",
              "      <td>163418</td>\n",
              "      <td>6</td>\n",
              "      <td>3</td>\n",
              "      <td>400.0</td>\n",
              "      <td>0.0</td>\n",
              "      <td>200.0</td>\n",
              "      <td>0.0</td>\n",
              "      <td>66.666667</td>\n",
              "      <td>103.279556</td>\n",
              "      <td>0.0</td>\n",
              "      <td>...</td>\n",
              "      <td>20</td>\n",
              "      <td>0.0</td>\n",
              "      <td>0.0</td>\n",
              "      <td>0.0</td>\n",
              "      <td>0.0</td>\n",
              "      <td>0.0</td>\n",
              "      <td>0.0</td>\n",
              "      <td>0.0</td>\n",
              "      <td>0.0</td>\n",
              "      <td>1</td>\n",
              "    </tr>\n",
              "    <tr>\n",
              "      <th>...</th>\n",
              "      <td>...</td>\n",
              "      <td>...</td>\n",
              "      <td>...</td>\n",
              "      <td>...</td>\n",
              "      <td>...</td>\n",
              "      <td>...</td>\n",
              "      <td>...</td>\n",
              "      <td>...</td>\n",
              "      <td>...</td>\n",
              "      <td>...</td>\n",
              "      <td>...</td>\n",
              "      <td>...</td>\n",
              "      <td>...</td>\n",
              "      <td>...</td>\n",
              "      <td>...</td>\n",
              "      <td>...</td>\n",
              "      <td>...</td>\n",
              "      <td>...</td>\n",
              "      <td>...</td>\n",
              "      <td>...</td>\n",
              "      <td>...</td>\n",
              "    </tr>\n",
              "    <tr>\n",
              "      <th>447910</th>\n",
              "      <td>348</td>\n",
              "      <td>1</td>\n",
              "      <td>2</td>\n",
              "      <td>0.0</td>\n",
              "      <td>0.0</td>\n",
              "      <td>0.0</td>\n",
              "      <td>0.0</td>\n",
              "      <td>0.000000</td>\n",
              "      <td>0.000000</td>\n",
              "      <td>0.0</td>\n",
              "      <td>...</td>\n",
              "      <td>32</td>\n",
              "      <td>0.0</td>\n",
              "      <td>0.0</td>\n",
              "      <td>0.0</td>\n",
              "      <td>0.0</td>\n",
              "      <td>0.0</td>\n",
              "      <td>0.0</td>\n",
              "      <td>0.0</td>\n",
              "      <td>0.0</td>\n",
              "      <td>0</td>\n",
              "    </tr>\n",
              "    <tr>\n",
              "      <th>447911</th>\n",
              "      <td>1639</td>\n",
              "      <td>4</td>\n",
              "      <td>4</td>\n",
              "      <td>408.0</td>\n",
              "      <td>192.0</td>\n",
              "      <td>116.0</td>\n",
              "      <td>88.0</td>\n",
              "      <td>102.000000</td>\n",
              "      <td>16.165808</td>\n",
              "      <td>72.0</td>\n",
              "      <td>...</td>\n",
              "      <td>8</td>\n",
              "      <td>0.0</td>\n",
              "      <td>0.0</td>\n",
              "      <td>0.0</td>\n",
              "      <td>0.0</td>\n",
              "      <td>0.0</td>\n",
              "      <td>0.0</td>\n",
              "      <td>0.0</td>\n",
              "      <td>0.0</td>\n",
              "      <td>0</td>\n",
              "    </tr>\n",
              "    <tr>\n",
              "      <th>447912</th>\n",
              "      <td>312</td>\n",
              "      <td>1</td>\n",
              "      <td>2</td>\n",
              "      <td>0.0</td>\n",
              "      <td>0.0</td>\n",
              "      <td>0.0</td>\n",
              "      <td>0.0</td>\n",
              "      <td>0.000000</td>\n",
              "      <td>0.000000</td>\n",
              "      <td>0.0</td>\n",
              "      <td>...</td>\n",
              "      <td>32</td>\n",
              "      <td>0.0</td>\n",
              "      <td>0.0</td>\n",
              "      <td>0.0</td>\n",
              "      <td>0.0</td>\n",
              "      <td>0.0</td>\n",
              "      <td>0.0</td>\n",
              "      <td>0.0</td>\n",
              "      <td>0.0</td>\n",
              "      <td>0</td>\n",
              "    </tr>\n",
              "    <tr>\n",
              "      <th>447913</th>\n",
              "      <td>358</td>\n",
              "      <td>1</td>\n",
              "      <td>2</td>\n",
              "      <td>0.0</td>\n",
              "      <td>0.0</td>\n",
              "      <td>0.0</td>\n",
              "      <td>0.0</td>\n",
              "      <td>0.000000</td>\n",
              "      <td>0.000000</td>\n",
              "      <td>0.0</td>\n",
              "      <td>...</td>\n",
              "      <td>32</td>\n",
              "      <td>0.0</td>\n",
              "      <td>0.0</td>\n",
              "      <td>0.0</td>\n",
              "      <td>0.0</td>\n",
              "      <td>0.0</td>\n",
              "      <td>0.0</td>\n",
              "      <td>0.0</td>\n",
              "      <td>0.0</td>\n",
              "      <td>0</td>\n",
              "    </tr>\n",
              "    <tr>\n",
              "      <th>447914</th>\n",
              "      <td>311</td>\n",
              "      <td>1</td>\n",
              "      <td>2</td>\n",
              "      <td>0.0</td>\n",
              "      <td>0.0</td>\n",
              "      <td>0.0</td>\n",
              "      <td>0.0</td>\n",
              "      <td>0.000000</td>\n",
              "      <td>0.000000</td>\n",
              "      <td>0.0</td>\n",
              "      <td>...</td>\n",
              "      <td>32</td>\n",
              "      <td>0.0</td>\n",
              "      <td>0.0</td>\n",
              "      <td>0.0</td>\n",
              "      <td>0.0</td>\n",
              "      <td>0.0</td>\n",
              "      <td>0.0</td>\n",
              "      <td>0.0</td>\n",
              "      <td>0.0</td>\n",
              "      <td>0</td>\n",
              "    </tr>\n",
              "  </tbody>\n",
              "</table>\n",
              "<p>447915 rows × 77 columns</p>\n",
              "</div>\n",
              "    <div class=\"colab-df-buttons\">\n",
              "\n",
              "  <div class=\"colab-df-container\">\n",
              "    <button class=\"colab-df-convert\" onclick=\"convertToInteractive('df-b6f70424-3fbd-4afe-90bd-d3214795df12')\"\n",
              "            title=\"Convert this dataframe to an interactive table.\"\n",
              "            style=\"display:none;\">\n",
              "\n",
              "  <svg xmlns=\"http://www.w3.org/2000/svg\" height=\"24px\" viewBox=\"0 -960 960 960\">\n",
              "    <path d=\"M120-120v-720h720v720H120Zm60-500h600v-160H180v160Zm220 220h160v-160H400v160Zm0 220h160v-160H400v160ZM180-400h160v-160H180v160Zm440 0h160v-160H620v160ZM180-180h160v-160H180v160Zm440 0h160v-160H620v160Z\"/>\n",
              "  </svg>\n",
              "    </button>\n",
              "\n",
              "  <style>\n",
              "    .colab-df-container {\n",
              "      display:flex;\n",
              "      gap: 12px;\n",
              "    }\n",
              "\n",
              "    .colab-df-convert {\n",
              "      background-color: #E8F0FE;\n",
              "      border: none;\n",
              "      border-radius: 50%;\n",
              "      cursor: pointer;\n",
              "      display: none;\n",
              "      fill: #1967D2;\n",
              "      height: 32px;\n",
              "      padding: 0 0 0 0;\n",
              "      width: 32px;\n",
              "    }\n",
              "\n",
              "    .colab-df-convert:hover {\n",
              "      background-color: #E2EBFA;\n",
              "      box-shadow: 0px 1px 2px rgba(60, 64, 67, 0.3), 0px 1px 3px 1px rgba(60, 64, 67, 0.15);\n",
              "      fill: #174EA6;\n",
              "    }\n",
              "\n",
              "    .colab-df-buttons div {\n",
              "      margin-bottom: 4px;\n",
              "    }\n",
              "\n",
              "    [theme=dark] .colab-df-convert {\n",
              "      background-color: #3B4455;\n",
              "      fill: #D2E3FC;\n",
              "    }\n",
              "\n",
              "    [theme=dark] .colab-df-convert:hover {\n",
              "      background-color: #434B5C;\n",
              "      box-shadow: 0px 1px 3px 1px rgba(0, 0, 0, 0.15);\n",
              "      filter: drop-shadow(0px 1px 2px rgba(0, 0, 0, 0.3));\n",
              "      fill: #FFFFFF;\n",
              "    }\n",
              "  </style>\n",
              "\n",
              "    <script>\n",
              "      const buttonEl =\n",
              "        document.querySelector('#df-b6f70424-3fbd-4afe-90bd-d3214795df12 button.colab-df-convert');\n",
              "      buttonEl.style.display =\n",
              "        google.colab.kernel.accessAllowed ? 'block' : 'none';\n",
              "\n",
              "      async function convertToInteractive(key) {\n",
              "        const element = document.querySelector('#df-b6f70424-3fbd-4afe-90bd-d3214795df12');\n",
              "        const dataTable =\n",
              "          await google.colab.kernel.invokeFunction('convertToInteractive',\n",
              "                                                    [key], {});\n",
              "        if (!dataTable) return;\n",
              "\n",
              "        const docLinkHtml = 'Like what you see? Visit the ' +\n",
              "          '<a target=\"_blank\" href=https://colab.research.google.com/notebooks/data_table.ipynb>data table notebook</a>'\n",
              "          + ' to learn more about interactive tables.';\n",
              "        element.innerHTML = '';\n",
              "        dataTable['output_type'] = 'display_data';\n",
              "        await google.colab.output.renderOutput(dataTable, element);\n",
              "        const docLink = document.createElement('div');\n",
              "        docLink.innerHTML = docLinkHtml;\n",
              "        element.appendChild(docLink);\n",
              "      }\n",
              "    </script>\n",
              "  </div>\n",
              "\n",
              "\n",
              "<div id=\"df-ddfb08ab-3af4-466f-9669-b3c4d01d5165\">\n",
              "  <button class=\"colab-df-quickchart\" onclick=\"quickchart('df-ddfb08ab-3af4-466f-9669-b3c4d01d5165')\"\n",
              "            title=\"Suggest charts\"\n",
              "            style=\"display:none;\">\n",
              "\n",
              "<svg xmlns=\"http://www.w3.org/2000/svg\" height=\"24px\"viewBox=\"0 0 24 24\"\n",
              "     width=\"24px\">\n",
              "    <g>\n",
              "        <path d=\"M19 3H5c-1.1 0-2 .9-2 2v14c0 1.1.9 2 2 2h14c1.1 0 2-.9 2-2V5c0-1.1-.9-2-2-2zM9 17H7v-7h2v7zm4 0h-2V7h2v10zm4 0h-2v-4h2v4z\"/>\n",
              "    </g>\n",
              "</svg>\n",
              "  </button>\n",
              "\n",
              "<style>\n",
              "  .colab-df-quickchart {\n",
              "      --bg-color: #E8F0FE;\n",
              "      --fill-color: #1967D2;\n",
              "      --hover-bg-color: #E2EBFA;\n",
              "      --hover-fill-color: #174EA6;\n",
              "      --disabled-fill-color: #AAA;\n",
              "      --disabled-bg-color: #DDD;\n",
              "  }\n",
              "\n",
              "  [theme=dark] .colab-df-quickchart {\n",
              "      --bg-color: #3B4455;\n",
              "      --fill-color: #D2E3FC;\n",
              "      --hover-bg-color: #434B5C;\n",
              "      --hover-fill-color: #FFFFFF;\n",
              "      --disabled-bg-color: #3B4455;\n",
              "      --disabled-fill-color: #666;\n",
              "  }\n",
              "\n",
              "  .colab-df-quickchart {\n",
              "    background-color: var(--bg-color);\n",
              "    border: none;\n",
              "    border-radius: 50%;\n",
              "    cursor: pointer;\n",
              "    display: none;\n",
              "    fill: var(--fill-color);\n",
              "    height: 32px;\n",
              "    padding: 0;\n",
              "    width: 32px;\n",
              "  }\n",
              "\n",
              "  .colab-df-quickchart:hover {\n",
              "    background-color: var(--hover-bg-color);\n",
              "    box-shadow: 0 1px 2px rgba(60, 64, 67, 0.3), 0 1px 3px 1px rgba(60, 64, 67, 0.15);\n",
              "    fill: var(--button-hover-fill-color);\n",
              "  }\n",
              "\n",
              "  .colab-df-quickchart-complete:disabled,\n",
              "  .colab-df-quickchart-complete:disabled:hover {\n",
              "    background-color: var(--disabled-bg-color);\n",
              "    fill: var(--disabled-fill-color);\n",
              "    box-shadow: none;\n",
              "  }\n",
              "\n",
              "  .colab-df-spinner {\n",
              "    border: 2px solid var(--fill-color);\n",
              "    border-color: transparent;\n",
              "    border-bottom-color: var(--fill-color);\n",
              "    animation:\n",
              "      spin 1s steps(1) infinite;\n",
              "  }\n",
              "\n",
              "  @keyframes spin {\n",
              "    0% {\n",
              "      border-color: transparent;\n",
              "      border-bottom-color: var(--fill-color);\n",
              "      border-left-color: var(--fill-color);\n",
              "    }\n",
              "    20% {\n",
              "      border-color: transparent;\n",
              "      border-left-color: var(--fill-color);\n",
              "      border-top-color: var(--fill-color);\n",
              "    }\n",
              "    30% {\n",
              "      border-color: transparent;\n",
              "      border-left-color: var(--fill-color);\n",
              "      border-top-color: var(--fill-color);\n",
              "      border-right-color: var(--fill-color);\n",
              "    }\n",
              "    40% {\n",
              "      border-color: transparent;\n",
              "      border-right-color: var(--fill-color);\n",
              "      border-top-color: var(--fill-color);\n",
              "    }\n",
              "    60% {\n",
              "      border-color: transparent;\n",
              "      border-right-color: var(--fill-color);\n",
              "    }\n",
              "    80% {\n",
              "      border-color: transparent;\n",
              "      border-right-color: var(--fill-color);\n",
              "      border-bottom-color: var(--fill-color);\n",
              "    }\n",
              "    90% {\n",
              "      border-color: transparent;\n",
              "      border-bottom-color: var(--fill-color);\n",
              "    }\n",
              "  }\n",
              "</style>\n",
              "\n",
              "  <script>\n",
              "    async function quickchart(key) {\n",
              "      const quickchartButtonEl =\n",
              "        document.querySelector('#' + key + ' button');\n",
              "      quickchartButtonEl.disabled = true;  // To prevent multiple clicks.\n",
              "      quickchartButtonEl.classList.add('colab-df-spinner');\n",
              "      try {\n",
              "        const charts = await google.colab.kernel.invokeFunction(\n",
              "            'suggestCharts', [key], {});\n",
              "      } catch (error) {\n",
              "        console.error('Error during call to suggestCharts:', error);\n",
              "      }\n",
              "      quickchartButtonEl.classList.remove('colab-df-spinner');\n",
              "      quickchartButtonEl.classList.add('colab-df-quickchart-complete');\n",
              "    }\n",
              "    (() => {\n",
              "      let quickchartButtonEl =\n",
              "        document.querySelector('#df-ddfb08ab-3af4-466f-9669-b3c4d01d5165 button');\n",
              "      quickchartButtonEl.style.display =\n",
              "        google.colab.kernel.accessAllowed ? 'block' : 'none';\n",
              "    })();\n",
              "  </script>\n",
              "</div>\n",
              "\n",
              "  <div id=\"id_59444cea-e9ea-4d01-bcfa-5dff452a3392\">\n",
              "    <style>\n",
              "      .colab-df-generate {\n",
              "        background-color: #E8F0FE;\n",
              "        border: none;\n",
              "        border-radius: 50%;\n",
              "        cursor: pointer;\n",
              "        display: none;\n",
              "        fill: #1967D2;\n",
              "        height: 32px;\n",
              "        padding: 0 0 0 0;\n",
              "        width: 32px;\n",
              "      }\n",
              "\n",
              "      .colab-df-generate:hover {\n",
              "        background-color: #E2EBFA;\n",
              "        box-shadow: 0px 1px 2px rgba(60, 64, 67, 0.3), 0px 1px 3px 1px rgba(60, 64, 67, 0.15);\n",
              "        fill: #174EA6;\n",
              "      }\n",
              "\n",
              "      [theme=dark] .colab-df-generate {\n",
              "        background-color: #3B4455;\n",
              "        fill: #D2E3FC;\n",
              "      }\n",
              "\n",
              "      [theme=dark] .colab-df-generate:hover {\n",
              "        background-color: #434B5C;\n",
              "        box-shadow: 0px 1px 3px 1px rgba(0, 0, 0, 0.15);\n",
              "        filter: drop-shadow(0px 1px 2px rgba(0, 0, 0, 0.3));\n",
              "        fill: #FFFFFF;\n",
              "      }\n",
              "    </style>\n",
              "    <button class=\"colab-df-generate\" onclick=\"generateWithVariable('new_data')\"\n",
              "            title=\"Generate code using this dataframe.\"\n",
              "            style=\"display:none;\">\n",
              "\n",
              "  <svg xmlns=\"http://www.w3.org/2000/svg\" height=\"24px\"viewBox=\"0 0 24 24\"\n",
              "       width=\"24px\">\n",
              "    <path d=\"M7,19H8.4L18.45,9,17,7.55,7,17.6ZM5,21V16.75L18.45,3.32a2,2,0,0,1,2.83,0l1.4,1.43a1.91,1.91,0,0,1,.58,1.4,1.91,1.91,0,0,1-.58,1.4L9.25,21ZM18.45,9,17,7.55Zm-12,3A5.31,5.31,0,0,0,4.9,8.1,5.31,5.31,0,0,0,1,6.5,5.31,5.31,0,0,0,4.9,4.9,5.31,5.31,0,0,0,6.5,1,5.31,5.31,0,0,0,8.1,4.9,5.31,5.31,0,0,0,12,6.5,5.46,5.46,0,0,0,6.5,12Z\"/>\n",
              "  </svg>\n",
              "    </button>\n",
              "    <script>\n",
              "      (() => {\n",
              "      const buttonEl =\n",
              "        document.querySelector('#id_59444cea-e9ea-4d01-bcfa-5dff452a3392 button.colab-df-generate');\n",
              "      buttonEl.style.display =\n",
              "        google.colab.kernel.accessAllowed ? 'block' : 'none';\n",
              "\n",
              "      buttonEl.onclick = () => {\n",
              "        google.colab.notebook.generateWithVariable('new_data');\n",
              "      }\n",
              "      })();\n",
              "    </script>\n",
              "  </div>\n",
              "\n",
              "    </div>\n",
              "  </div>\n"
            ],
            "application/vnd.google.colaboratory.intrinsic+json": {
              "type": "dataframe",
              "variable_name": "new_data"
            }
          },
          "metadata": {},
          "execution_count": 6
        }
      ]
    },
    {
      "cell_type": "code",
      "source": [
        "new_data['Label'].value_counts()"
      ],
      "metadata": {
        "colab": {
          "base_uri": "https://localhost:8080/",
          "height": 178
        },
        "id": "V7K-qxtiz0H6",
        "outputId": "0403948d-d646-42c1-81e1-6c5d57aa2549"
      },
      "execution_count": 7,
      "outputs": [
        {
          "output_type": "execute_result",
          "data": {
            "text/plain": [
              "Label\n",
              "0    358332\n",
              "1     89583\n",
              "Name: count, dtype: int64"
            ],
            "text/html": [
              "<div>\n",
              "<style scoped>\n",
              "    .dataframe tbody tr th:only-of-type {\n",
              "        vertical-align: middle;\n",
              "    }\n",
              "\n",
              "    .dataframe tbody tr th {\n",
              "        vertical-align: top;\n",
              "    }\n",
              "\n",
              "    .dataframe thead th {\n",
              "        text-align: right;\n",
              "    }\n",
              "</style>\n",
              "<table border=\"1\" class=\"dataframe\">\n",
              "  <thead>\n",
              "    <tr style=\"text-align: right;\">\n",
              "      <th></th>\n",
              "      <th>count</th>\n",
              "    </tr>\n",
              "    <tr>\n",
              "      <th>Label</th>\n",
              "      <th></th>\n",
              "    </tr>\n",
              "  </thead>\n",
              "  <tbody>\n",
              "    <tr>\n",
              "      <th>0</th>\n",
              "      <td>358332</td>\n",
              "    </tr>\n",
              "    <tr>\n",
              "      <th>1</th>\n",
              "      <td>89583</td>\n",
              "    </tr>\n",
              "  </tbody>\n",
              "</table>\n",
              "</div><br><label><b>dtype:</b> int64</label>"
            ]
          },
          "metadata": {},
          "execution_count": 7
        }
      ]
    },
    {
      "cell_type": "code",
      "source": [
        "values = new_data['Label'].value_counts()\n",
        "import matplotlib.pyplot as plt\n",
        "plt.figure(figsize=(3,3))\n",
        "plt.pie(values, labels = ['Benign', 'Attack'], autopct='%3.1f%%')\n",
        "plt.axis('equal')\n",
        "plt.title('CIC-UNSW-NB15')\n",
        "plt.show()"
      ],
      "metadata": {
        "colab": {
          "base_uri": "https://localhost:8080/",
          "height": 290
        },
        "id": "ZR0YPEZSxp0Q",
        "outputId": "2b5e3369-2e48-4e71-fd49-b63bb61eafa7"
      },
      "execution_count": 8,
      "outputs": [
        {
          "output_type": "display_data",
          "data": {
            "text/plain": [
              "<Figure size 300x300 with 1 Axes>"
            ],
            "image/png": "[encoded data removed]"
          },
          "metadata": {}
        }
      ]
    },
    {
      "cell_type": "markdown",
      "source": [
        "#Standard Scaling"
      ],
      "metadata": {
        "id": "cvRkn-Zlw89s"
      }
    },
    {
      "cell_type": "code",
      "source": [
        "from sklearn.preprocessing import StandardScaler\n",
        "\n",
        "standard_scaler_scaling = StandardScaler()\n",
        "output_label = new_data['Label']\n",
        "new_data.drop('Label', axis=1, inplace=True)\n",
        "scaled_data = standard_scaler_scaling.fit_transform(new_data)\n",
        "\n",
        "for i in range(len(scaled_data[0])):\n",
        "    print(scaled_data[0][i], \" \", new_data.columns[i])"
      ],
      "metadata": {
        "colab": {
          "base_uri": "https://localhost:8080/"
        },
        "id": "yBJaGUlvKmfx",
        "outputId": "c4522113-314b-41f8-ea67-2a9b6133df7c"
      },
      "execution_count": 9,
      "outputs": [
        {
          "output_type": "stream",
          "name": "stdout",
          "text": [
            "-0.07868954230639205   Flow Duration\n",
            "-0.10624868337186719   Total Fwd Packet\n",
            "-0.05348571543522381   Total Bwd packets\n",
            "-0.028911653900391097   Total Length of Fwd Packet\n",
            "0.019368066136324788   Total Length of Bwd Packet\n",
            "0.05610014385701434   Fwd Packet Length Max\n",
            "-0.2084428797841449   Fwd Packet Length Min\n",
            "-0.15253811833884806   Fwd Packet Length Mean\n",
            "0.13776763632562092   Fwd Packet Length Std\n",
            "1.970087113535673   Bwd Packet Length Max\n",
            "-0.3303714367330441   Bwd Packet Length Min\n",
            "3.22521750639938   Bwd Packet Length Mean\n",
            "1.6247258009613204   Bwd Packet Length Std\n",
            "-0.09398401291749098   Flow Bytes/s\n",
            "-0.1726097895891519   Flow Packets/s\n",
            "-0.041122821123709165   Flow IAT Mean\n",
            "-0.04476136458273397   Flow IAT Std\n",
            "-0.07149419647792235   Flow IAT Max\n",
            "-0.003707832124414519   Flow IAT Min\n",
            "-0.07398274900847028   Fwd IAT Total\n",
            "-0.016940835907947167   Fwd IAT Mean\n",
            "-0.03815926649357055   Fwd IAT Std\n",
            "-0.061279502232245125   Fwd IAT Max\n",
            "-0.0036724039583183408   Fwd IAT Min\n",
            "-0.0797615561637363   Bwd IAT Total\n",
            "-0.06450708005821643   Bwd IAT Mean\n",
            "-0.03500354902431175   Bwd IAT Std\n",
            "-0.021349695141226883   Bwd IAT Max\n",
            "-0.002756403557980834   Bwd IAT Min\n",
            "-0.02606072037800593   Fwd PSH Flags\n",
            "0.0   Bwd PSH Flags\n",
            "0.0   Fwd URG Flags\n",
            "0.0   Bwd URG Flags\n",
            "-0.15956756647606418   Fwd Header Length\n",
            "-0.12130509718718245   Bwd Header Length\n",
            "-0.1442759159081205   Fwd Packets/s\n",
            "-0.81341465087654   Bwd Packets/s\n",
            "-0.17818575322803523   Packet Length Min\n",
            "1.6564814946479487   Packet Length Max\n",
            "3.09535445816401   Packet Length Mean\n",
            "2.0920319963494833   Packet Length Std\n",
            "2.5498151396100632   Packet Length Variance\n",
            "2.097375044249913   FIN Flag Count\n",
            "1.1040637422363788   SYN Flag Count\n",
            "-0.01045981475131951   RST Flag Count\n",
            "-0.2997375147773337   PSH Flag Count\n",
            "-0.09560423758542251   ACK Flag Count\n",
            "0.0   URG Flag Count\n",
            "0.0   CWR Flag Count\n",
            "0.0   ECE Flag Count\n",
            "0.5093112914235961   Down/Up Ratio\n",
            "2.9969494533796683   Average Packet Size\n",
            "-0.15253811833884787   Fwd Segment Size Avg\n",
            "3.22521750639938   Bwd Segment Size Avg\n",
            "0.0   Fwd Bytes/Bulk Avg\n",
            "0.0   Fwd Packet/Bulk Avg\n",
            "0.0   Fwd Bulk Rate Avg\n",
            "0.014867528305029496   Bwd Bytes/Bulk Avg\n",
            "-0.036146060723923276   Bwd Packet/Bulk Avg\n",
            "-0.018160790160380504   Bwd Bulk Rate Avg\n",
            "-0.043620186639187396   Subflow Fwd Packets\n",
            "-0.010903309274196754   Subflow Fwd Bytes\n",
            "-0.06681766561777015   Subflow Bwd Packets\n",
            "-0.061731684643145324   Subflow Bwd Bytes\n",
            "0.2154735689193533   FWD Init Win Bytes\n",
            "0.22861874367763704   Bwd Init Win Bytes\n",
            "-0.05585998858458983   Fwd Act Data Pkts\n",
            "-0.657229668601276   Fwd Seg Size Min\n",
            "-0.02495553177757005   Active Mean\n",
            "-0.017986696870503822   Active Std\n",
            "-0.026613999179330872   Active Max\n",
            "-0.019570980000658808   Active Min\n",
            "-0.04435517385662243   Idle Mean\n",
            "-0.015177800966388221   Idle Std\n",
            "-0.045388536674850974   Idle Max\n",
            "-0.04339565995195514   Idle Min\n"
          ]
        }
      ]
    },
    {
      "cell_type": "code",
      "source": [
        "data_scaled_frame = pd.DataFrame(scaled_data, columns = new_data.columns)\n",
        "\n",
        "data_scaled_frame = data_scaled_frame.assign(Label = output_label)\n",
        "\n",
        "print(data_scaled_frame)"
      ],
      "metadata": {
        "colab": {
          "base_uri": "https://localhost:8080/"
        },
        "id": "79vvVC2GMjBu",
        "outputId": "927af6df-6446-4004-e24d-9e2bf7acdb2b"
      },
      "execution_count": 10,
      "outputs": [
        {
          "output_type": "stream",
          "name": "stdout",
          "text": [
            "        Flow Duration  Total Fwd Packet  Total Bwd packets  \\\n",
            "0           -0.078690         -0.106249          -0.053486   \n",
            "1            0.364537         -0.106249          -0.207808   \n",
            "2           -0.095711         -0.098435          -0.207808   \n",
            "3           -0.088855         -0.129689          -0.207808   \n",
            "4           -0.089138         -0.129689          -0.207808   \n",
            "...               ...               ...                ...   \n",
            "447910      -0.122562         -0.168755          -0.216382   \n",
            "447911      -0.122297         -0.145315          -0.199235   \n",
            "447912      -0.122569         -0.168755          -0.216382   \n",
            "447913      -0.122560         -0.168755          -0.216382   \n",
            "447914      -0.122570         -0.168755          -0.216382   \n",
            "\n",
            "        Total Length of Fwd Packet  Total Length of Bwd Packet  \\\n",
            "0                        -0.028912                    0.019368   \n",
            "1                        -0.026515                   -0.146894   \n",
            "2                         0.018344                   -0.146894   \n",
            "3                        -0.026396                   -0.146894   \n",
            "4                        -0.028833                   -0.146894   \n",
            "...                            ...                         ...   \n",
            "447910                   -0.031467                   -0.146894   \n",
            "447911                   -0.028780                   -0.145594   \n",
            "447912                   -0.031467                   -0.146894   \n",
            "447913                   -0.031467                   -0.146894   \n",
            "447914                   -0.031467                   -0.146894   \n",
            "\n",
            "        Fwd Packet Length Max  Fwd Packet Length Min  Fwd Packet Length Mean  \\\n",
            "0                    0.056100              -0.208443               -0.152538   \n",
            "1                    0.039063              -0.208443                0.066596   \n",
            "2                    3.650944              -0.208443                3.712163   \n",
            "3                    0.598450              -0.208443                0.309208   \n",
            "4                    0.073137              -0.208443               -0.024911   \n",
            "...                       ...                    ...                     ...   \n",
            "447910              -0.494769              -0.208443               -0.386120   \n",
            "447911              -0.165383               1.021114                0.166530   \n",
            "447912              -0.494769              -0.208443               -0.386120   \n",
            "447913              -0.494769              -0.208443               -0.386120   \n",
            "447914              -0.494769              -0.208443               -0.386120   \n",
            "\n",
            "        Fwd Packet Length Std  Bwd Packet Length Max  ...  Fwd Seg Size Min  \\\n",
            "0                    0.137768               1.970087  ...         -0.657230   \n",
            "1                    0.224340              -0.656720  ...         -0.657230   \n",
            "2                    4.006060              -0.656720  ...         -0.657230   \n",
            "3                    0.862042              -0.656720  ...         -0.657230   \n",
            "4                    0.251163              -0.656720  ...         -0.657230   \n",
            "...                       ...                    ...  ...               ...   \n",
            "447910              -0.409246              -0.656720  ...          0.673498   \n",
            "447911              -0.305876              -0.527179  ...         -1.987957   \n",
            "447912              -0.409246              -0.656720  ...          0.673498   \n",
            "447913              -0.409246              -0.656720  ...          0.673498   \n",
            "447914              -0.409246              -0.656720  ...          0.673498   \n",
            "\n",
            "        Active Mean  Active Std  Active Max  Active Min  Idle Mean  Idle Std  \\\n",
            "0         -0.024956   -0.017987   -0.026614   -0.019571  -0.044355 -0.015178   \n",
            "1         -0.024956   -0.017987   -0.026614   -0.019571  -0.044355 -0.015178   \n",
            "2         -0.024956   -0.017987   -0.026614   -0.019571  -0.044355 -0.015178   \n",
            "3         -0.024956   -0.017987   -0.026614   -0.019571  -0.044355 -0.015178   \n",
            "4         -0.024956   -0.017987   -0.026614   -0.019571  -0.044355 -0.015178   \n",
            "...             ...         ...         ...         ...        ...       ...   \n",
            "447910    -0.024956   -0.017987   -0.026614   -0.019571  -0.044355 -0.015178   \n",
            "447911    -0.024956   -0.017987   -0.026614   -0.019571  -0.044355 -0.015178   \n",
            "447912    -0.024956   -0.017987   -0.026614   -0.019571  -0.044355 -0.015178   \n",
            "447913    -0.024956   -0.017987   -0.026614   -0.019571  -0.044355 -0.015178   \n",
            "447914    -0.024956   -0.017987   -0.026614   -0.019571  -0.044355 -0.015178   \n",
            "\n",
            "        Idle Max  Idle Min  Label  \n",
            "0      -0.045389 -0.043396      1  \n",
            "1      -0.045389 -0.043396      1  \n",
            "2      -0.045389 -0.043396      1  \n",
            "3      -0.045389 -0.043396      1  \n",
            "4      -0.045389 -0.043396      1  \n",
            "...          ...       ...    ...  \n",
            "447910 -0.045389 -0.043396      0  \n",
            "447911 -0.045389 -0.043396      0  \n",
            "447912 -0.045389 -0.043396      0  \n",
            "447913 -0.045389 -0.043396      0  \n",
            "447914 -0.045389 -0.043396      0  \n",
            "\n",
            "[447915 rows x 77 columns]\n"
          ]
        }
      ]
    },
    {
      "cell_type": "code",
      "source": [
        "data_scaled_frame[data_scaled_frame['Label'] == 0].shape"
      ],
      "metadata": {
        "colab": {
          "base_uri": "https://localhost:8080/"
        },
        "id": "56Y8WCNTMjED",
        "outputId": "4af0d2f9-225a-432e-b008-8528e7b61a6d"
      },
      "execution_count": 11,
      "outputs": [
        {
          "output_type": "execute_result",
          "data": {
            "text/plain": [
              "(358332, 77)"
            ]
          },
          "metadata": {},
          "execution_count": 11
        }
      ]
    },
    {
      "cell_type": "code",
      "source": [
        "data_scaled_frame[data_scaled_frame['Label'] == 1].shape"
      ],
      "metadata": {
        "colab": {
          "base_uri": "https://localhost:8080/"
        },
        "id": "NIMbBgGkMjGu",
        "outputId": "1fbd2144-f96c-4097-b2fb-be95a04f587f"
      },
      "execution_count": 12,
      "outputs": [
        {
          "output_type": "execute_result",
          "data": {
            "text/plain": [
              "(89583, 77)"
            ]
          },
          "metadata": {},
          "execution_count": 12
        }
      ]
    },
    {
      "cell_type": "markdown",
      "source": [
        "#Feature Selection Algorithm"
      ],
      "metadata": {
        "id": "3xqPMOcOxDFz"
      }
    },
    {
      "cell_type": "code",
      "source": [
        "import math"
      ],
      "metadata": {
        "id": "3-lAVIDuM8H8"
      },
      "execution_count": 13,
      "outputs": []
    },
    {
      "cell_type": "markdown",
      "source": [
        "## Stage 1 Correlation Values and their log base 10 values found\n",
        "  - Find the pearson correlation between each feature and the output label and store it in a list named `pearson_values`\n",
        "  - Find the Spearman correlation between each feature and the output label and store it in a list named `s_values`\n",
        "  - Find the Kendall Tau correlation between each feature and the output label and store it in a list named `k_values`"
      ],
      "metadata": {
        "id": "QD2gtJrJxGy9"
      }
    },
    {
      "cell_type": "code",
      "source": [
        "incomplete_rows = new_data[new_data.isnull().any(axis=1)]\n",
        "\n",
        "correlation_matrix_ids = data_scaled_frame.corr()\n",
        "\n",
        "sample_dataframe = data_scaled_frame.copy(deep=True)\n",
        "\n",
        "l = correlation_matrix_ids[\"Label\"].sort_values(ascending=False)\n",
        "pearson_values = []\n",
        "for _, score in l.items():\n",
        "    if (score!=1 and score>0):\n",
        "      pearson_values.append(math.log10(score))\n",
        "    elif score < 0:\n",
        "      pearson_values.append(score)"
      ],
      "metadata": {
        "id": "rANtxuHnMjJN"
      },
      "execution_count": 14,
      "outputs": []
    },
    {
      "cell_type": "code",
      "source": [
        "from scipy.stats import spearmanr, kendalltau\n",
        "\n",
        "spearman_values = data_scaled_frame.corr(method='spearman')[\"Label\"].sort_values(ascending=False)\n",
        "kendall_values = data_scaled_frame.corr(method='kendall')[\"Label\"].sort_values(ascending=False)"
      ],
      "metadata": {
        "id": "ojutbBL5MjLw"
      },
      "execution_count": 15,
      "outputs": []
    },
    {
      "cell_type": "code",
      "source": [
        "s_values = []\n",
        "k_values = []\n",
        "\n",
        "for name,score in spearman_values.items():\n",
        "    if (score!=1 and score>0):\n",
        "      s_values.append(math.log10(score))\n",
        "    elif score < 0:\n",
        "        s_values.append(score)\n",
        "\n",
        "for name,score in kendall_values.items():\n",
        "    if (score!=1 and score>0):\n",
        "      k_values.append(math.log10(score))\n",
        "    elif score < 0:\n",
        "      k_values.append(score)\n",
        "\n",
        "col_headings = ['Pearson', 'Spearman', 'Kendall']\n",
        "combined_lists = [pearson_values, s_values, k_values]\n"
      ],
      "metadata": {
        "id": "8NKBdkBzMjOI"
      },
      "execution_count": 16,
      "outputs": []
    },
    {
      "cell_type": "markdown",
      "source": [
        "## Stage 2 - Composition of Correlation Functions\n",
        "  - The three types of correlation coefficients values found will be used to create a new dataframe, with 3 columns: Pearson, Spearman, and Kendall.\n",
        "  - Now, the shape of this dataframe is `number_of_features * 3`.\n",
        "  - Now, 3 values are found: Pearson correlation between Spearman and Kendall columns, Spearman correlation between Pearson and Kendall columns, and Kendall correlation between Pearson and Spearman columns."
      ],
      "metadata": {
        "id": "oQKKrIX5yKbG"
      }
    },
    {
      "cell_type": "code",
      "source": [
        "frame_final = pd.DataFrame(combined_lists).T\n",
        "frame_final.columns = col_headings\n",
        "\n",
        "correlation_matrix_ids = frame_final.corr() # correaltion of different features with the median_house_value\n",
        "l = correlation_matrix_ids[\"Kendall\"].sort_values(ascending=False)\n",
        "spearman_values_second = frame_final.corr(method='spearman')[\"Kendall\"].sort_values(ascending=False)\n",
        "kendall_values_second = frame_final.corr(method='kendall')[\"Pearson\"].sort_values(ascending=False)\n",
        "\n",
        "final_values = []\n",
        "\n",
        "count = 0\n",
        "for _, score1 in l.items():\n",
        "    if count == 0:\n",
        "        final_values.append(score1)\n",
        "    count+=1\n",
        "\n",
        "count = 0\n",
        "\n",
        "for _, score2 in spearman_values_second.items():\n",
        "    if count == 0:\n",
        "        final_values.append(score2)\n",
        "    count+=1\n",
        "count = 0\n",
        "\n",
        "for _, score3 in kendall_values_second.items():\n",
        "    if count == 1:\n",
        "        final_values.append(score3)\n",
        "    count+=1\n",
        "\n",
        "threshold1 = sum(final_values)/len(final_values)"
      ],
      "metadata": {
        "id": "vqR56y8dNCTD"
      },
      "execution_count": 17,
      "outputs": []
    },
    {
      "cell_type": "code",
      "source": [
        "threshold1"
      ],
      "metadata": {
        "colab": {
          "base_uri": "https://localhost:8080/"
        },
        "id": "_bPpwaYqNCVh",
        "outputId": "8db0c135-4874-4eed-942d-19b4fc85bf53"
      },
      "execution_count": 18,
      "outputs": [
        {
          "output_type": "execute_result",
          "data": {
            "text/plain": [
              "0.9354741444293685"
            ]
          },
          "metadata": {},
          "execution_count": 18
        }
      ]
    },
    {
      "cell_type": "code",
      "source": [
        "final_values"
      ],
      "metadata": {
        "colab": {
          "base_uri": "https://localhost:8080/"
        },
        "id": "gjFjzDVcNCYL",
        "outputId": "594cd7c7-61de-4448-8290-c844749f3653"
      },
      "execution_count": 19,
      "outputs": [
        {
          "output_type": "execute_result",
          "data": {
            "text/plain": [
              "[1.0, 1.0, 0.8064224332881051]"
            ]
          },
          "metadata": {},
          "execution_count": 19
        }
      ]
    },
    {
      "cell_type": "code",
      "source": [
        "threshold1 = abs(min(min(final_values), threshold1))\n",
        "threshold1"
      ],
      "metadata": {
        "colab": {
          "base_uri": "https://localhost:8080/"
        },
        "id": "pHydaXOxNCaq",
        "outputId": "6389edf6-6ffb-4521-ccea-434442e833f1"
      },
      "execution_count": 20,
      "outputs": [
        {
          "output_type": "execute_result",
          "data": {
            "text/plain": [
              "0.8064224332881051"
            ]
          },
          "metadata": {},
          "execution_count": 20
        }
      ]
    },
    {
      "cell_type": "code",
      "source": [
        "threshold1 = min(threshold1, 1-threshold1)"
      ],
      "metadata": {
        "id": "-NexGvIBJnN3"
      },
      "execution_count": 21,
      "outputs": []
    },
    {
      "cell_type": "code",
      "source": [
        "threshold1"
      ],
      "metadata": {
        "colab": {
          "base_uri": "https://localhost:8080/"
        },
        "id": "83z3BU4SlmJI",
        "outputId": "52d5ed12-0709-444c-d27b-e247aa5aabe7"
      },
      "execution_count": 22,
      "outputs": [
        {
          "output_type": "execute_result",
          "data": {
            "text/plain": [
              "0.19357756671189486"
            ]
          },
          "metadata": {},
          "execution_count": 22
        }
      ]
    },
    {
      "cell_type": "markdown",
      "source": [
        "## Stage 3: Loading the dataset again to perform Mutual Information Gain on it."
      ],
      "metadata": {
        "id": "zd54zFN1zGvW"
      }
    },
    {
      "cell_type": "code",
      "source": [
        "import pandas as pd\n",
        "\n",
        "data_file = pd.read_csv(\"/content/drive/MyDrive/Data-unsw.csv\")\n",
        "label_file = pd.read_csv(\"/content/drive/MyDrive/Label-unsw.csv\")\n",
        "\n",
        "new_data = pd.concat([data_file, label_file], axis=1)\n",
        "new_data.iloc[:, -1] = new_data.iloc[:, -1].apply(lambda x: 0 if x == 0 else 1)"
      ],
      "metadata": {
        "id": "LUKDl0LJNCdI"
      },
      "execution_count": 23,
      "outputs": []
    },
    {
      "cell_type": "code",
      "source": [
        "from sklearn.preprocessing import StandardScaler\n",
        "\n",
        "standard_scaler_scaling = StandardScaler()\n",
        "output_label = new_data['Label']\n",
        "new_data.drop('Label', axis=1, inplace=True)\n",
        "scaled_data = standard_scaler_scaling.fit_transform(new_data)\n",
        "\n",
        "for i in range(len(scaled_data[0])):\n",
        "    print(scaled_data[0][i], \" \", new_data.columns[i])\n",
        "\n",
        "data_scaled_frame = pd.DataFrame(scaled_data, columns = new_data.columns)\n",
        "\n",
        "\n",
        "data_scaled_frame = data_scaled_frame.assign(Label = output_label)\n",
        "\n",
        "print(data_scaled_frame)"
      ],
      "metadata": {
        "colab": {
          "base_uri": "https://localhost:8080/"
        },
        "id": "9hJoXXT1QIrz",
        "outputId": "9542e880-5cb2-4ab2-9973-60553ee8f5ad"
      },
      "execution_count": 24,
      "outputs": [
        {
          "output_type": "stream",
          "name": "stdout",
          "text": [
            "-0.07868954230639205   Flow Duration\n",
            "-0.10624868337186719   Total Fwd Packet\n",
            "-0.05348571543522381   Total Bwd packets\n",
            "-0.028911653900391097   Total Length of Fwd Packet\n",
            "0.019368066136324788   Total Length of Bwd Packet\n",
            "0.05610014385701434   Fwd Packet Length Max\n",
            "-0.2084428797841449   Fwd Packet Length Min\n",
            "-0.15253811833884806   Fwd Packet Length Mean\n",
            "0.13776763632562092   Fwd Packet Length Std\n",
            "1.970087113535673   Bwd Packet Length Max\n",
            "-0.3303714367330441   Bwd Packet Length Min\n",
            "3.22521750639938   Bwd Packet Length Mean\n",
            "1.6247258009613204   Bwd Packet Length Std\n",
            "-0.09398401291749098   Flow Bytes/s\n",
            "-0.1726097895891519   Flow Packets/s\n",
            "-0.041122821123709165   Flow IAT Mean\n",
            "-0.04476136458273397   Flow IAT Std\n",
            "-0.07149419647792235   Flow IAT Max\n",
            "-0.003707832124414519   Flow IAT Min\n",
            "-0.07398274900847028   Fwd IAT Total\n",
            "-0.016940835907947167   Fwd IAT Mean\n",
            "-0.03815926649357055   Fwd IAT Std\n",
            "-0.061279502232245125   Fwd IAT Max\n",
            "-0.0036724039583183408   Fwd IAT Min\n",
            "-0.0797615561637363   Bwd IAT Total\n",
            "-0.06450708005821643   Bwd IAT Mean\n",
            "-0.03500354902431175   Bwd IAT Std\n",
            "-0.021349695141226883   Bwd IAT Max\n",
            "-0.002756403557980834   Bwd IAT Min\n",
            "-0.02606072037800593   Fwd PSH Flags\n",
            "0.0   Bwd PSH Flags\n",
            "0.0   Fwd URG Flags\n",
            "0.0   Bwd URG Flags\n",
            "-0.15956756647606418   Fwd Header Length\n",
            "-0.12130509718718245   Bwd Header Length\n",
            "-0.1442759159081205   Fwd Packets/s\n",
            "-0.81341465087654   Bwd Packets/s\n",
            "-0.17818575322803523   Packet Length Min\n",
            "1.6564814946479487   Packet Length Max\n",
            "3.09535445816401   Packet Length Mean\n",
            "2.0920319963494833   Packet Length Std\n",
            "2.5498151396100632   Packet Length Variance\n",
            "2.097375044249913   FIN Flag Count\n",
            "1.1040637422363788   SYN Flag Count\n",
            "-0.01045981475131951   RST Flag Count\n",
            "-0.2997375147773337   PSH Flag Count\n",
            "-0.09560423758542251   ACK Flag Count\n",
            "0.0   URG Flag Count\n",
            "0.0   CWR Flag Count\n",
            "0.0   ECE Flag Count\n",
            "0.5093112914235961   Down/Up Ratio\n",
            "2.9969494533796683   Average Packet Size\n",
            "-0.15253811833884787   Fwd Segment Size Avg\n",
            "3.22521750639938   Bwd Segment Size Avg\n",
            "0.0   Fwd Bytes/Bulk Avg\n",
            "0.0   Fwd Packet/Bulk Avg\n",
            "0.0   Fwd Bulk Rate Avg\n",
            "0.014867528305029496   Bwd Bytes/Bulk Avg\n",
            "-0.036146060723923276   Bwd Packet/Bulk Avg\n",
            "-0.018160790160380504   Bwd Bulk Rate Avg\n",
            "-0.043620186639187396   Subflow Fwd Packets\n",
            "-0.010903309274196754   Subflow Fwd Bytes\n",
            "-0.06681766561777015   Subflow Bwd Packets\n",
            "-0.061731684643145324   Subflow Bwd Bytes\n",
            "0.2154735689193533   FWD Init Win Bytes\n",
            "0.22861874367763704   Bwd Init Win Bytes\n",
            "-0.05585998858458983   Fwd Act Data Pkts\n",
            "-0.657229668601276   Fwd Seg Size Min\n",
            "-0.02495553177757005   Active Mean\n",
            "-0.017986696870503822   Active Std\n",
            "-0.026613999179330872   Active Max\n",
            "-0.019570980000658808   Active Min\n",
            "-0.04435517385662243   Idle Mean\n",
            "-0.015177800966388221   Idle Std\n",
            "-0.045388536674850974   Idle Max\n",
            "-0.04339565995195514   Idle Min\n",
            "        Flow Duration  Total Fwd Packet  Total Bwd packets  \\\n",
            "0           -0.078690         -0.106249          -0.053486   \n",
            "1            0.364537         -0.106249          -0.207808   \n",
            "2           -0.095711         -0.098435          -0.207808   \n",
            "3           -0.088855         -0.129689          -0.207808   \n",
            "4           -0.089138         -0.129689          -0.207808   \n",
            "...               ...               ...                ...   \n",
            "447910      -0.122562         -0.168755          -0.216382   \n",
            "447911      -0.122297         -0.145315          -0.199235   \n",
            "447912      -0.122569         -0.168755          -0.216382   \n",
            "447913      -0.122560         -0.168755          -0.216382   \n",
            "447914      -0.122570         -0.168755          -0.216382   \n",
            "\n",
            "        Total Length of Fwd Packet  Total Length of Bwd Packet  \\\n",
            "0                        -0.028912                    0.019368   \n",
            "1                        -0.026515                   -0.146894   \n",
            "2                         0.018344                   -0.146894   \n",
            "3                        -0.026396                   -0.146894   \n",
            "4                        -0.028833                   -0.146894   \n",
            "...                            ...                         ...   \n",
            "447910                   -0.031467                   -0.146894   \n",
            "447911                   -0.028780                   -0.145594   \n",
            "447912                   -0.031467                   -0.146894   \n",
            "447913                   -0.031467                   -0.146894   \n",
            "447914                   -0.031467                   -0.146894   \n",
            "\n",
            "        Fwd Packet Length Max  Fwd Packet Length Min  Fwd Packet Length Mean  \\\n",
            "0                    0.056100              -0.208443               -0.152538   \n",
            "1                    0.039063              -0.208443                0.066596   \n",
            "2                    3.650944              -0.208443                3.712163   \n",
            "3                    0.598450              -0.208443                0.309208   \n",
            "4                    0.073137              -0.208443               -0.024911   \n",
            "...                       ...                    ...                     ...   \n",
            "447910              -0.494769              -0.208443               -0.386120   \n",
            "447911              -0.165383               1.021114                0.166530   \n",
            "447912              -0.494769              -0.208443               -0.386120   \n",
            "447913              -0.494769              -0.208443               -0.386120   \n",
            "447914              -0.494769              -0.208443               -0.386120   \n",
            "\n",
            "        Fwd Packet Length Std  Bwd Packet Length Max  ...  Fwd Seg Size Min  \\\n",
            "0                    0.137768               1.970087  ...         -0.657230   \n",
            "1                    0.224340              -0.656720  ...         -0.657230   \n",
            "2                    4.006060              -0.656720  ...         -0.657230   \n",
            "3                    0.862042              -0.656720  ...         -0.657230   \n",
            "4                    0.251163              -0.656720  ...         -0.657230   \n",
            "...                       ...                    ...  ...               ...   \n",
            "447910              -0.409246              -0.656720  ...          0.673498   \n",
            "447911              -0.305876              -0.527179  ...         -1.987957   \n",
            "447912              -0.409246              -0.656720  ...          0.673498   \n",
            "447913              -0.409246              -0.656720  ...          0.673498   \n",
            "447914              -0.409246              -0.656720  ...          0.673498   \n",
            "\n",
            "        Active Mean  Active Std  Active Max  Active Min  Idle Mean  Idle Std  \\\n",
            "0         -0.024956   -0.017987   -0.026614   -0.019571  -0.044355 -0.015178   \n",
            "1         -0.024956   -0.017987   -0.026614   -0.019571  -0.044355 -0.015178   \n",
            "2         -0.024956   -0.017987   -0.026614   -0.019571  -0.044355 -0.015178   \n",
            "3         -0.024956   -0.017987   -0.026614   -0.019571  -0.044355 -0.015178   \n",
            "4         -0.024956   -0.017987   -0.026614   -0.019571  -0.044355 -0.015178   \n",
            "...             ...         ...         ...         ...        ...       ...   \n",
            "447910    -0.024956   -0.017987   -0.026614   -0.019571  -0.044355 -0.015178   \n",
            "447911    -0.024956   -0.017987   -0.026614   -0.019571  -0.044355 -0.015178   \n",
            "447912    -0.024956   -0.017987   -0.026614   -0.019571  -0.044355 -0.015178   \n",
            "447913    -0.024956   -0.017987   -0.026614   -0.019571  -0.044355 -0.015178   \n",
            "447914    -0.024956   -0.017987   -0.026614   -0.019571  -0.044355 -0.015178   \n",
            "\n",
            "        Idle Max  Idle Min  Label  \n",
            "0      -0.045389 -0.043396      1  \n",
            "1      -0.045389 -0.043396      1  \n",
            "2      -0.045389 -0.043396      1  \n",
            "3      -0.045389 -0.043396      1  \n",
            "4      -0.045389 -0.043396      1  \n",
            "...          ...       ...    ...  \n",
            "447910 -0.045389 -0.043396      0  \n",
            "447911 -0.045389 -0.043396      0  \n",
            "447912 -0.045389 -0.043396      0  \n",
            "447913 -0.045389 -0.043396      0  \n",
            "447914 -0.045389 -0.043396      0  \n",
            "\n",
            "[447915 rows x 77 columns]\n"
          ]
        }
      ]
    },
    {
      "cell_type": "code",
      "source": [
        "final_clean = data_scaled_frame"
      ],
      "metadata": {
        "id": "0yyePevZNCf0"
      },
      "execution_count": 25,
      "outputs": []
    },
    {
      "cell_type": "code",
      "source": [
        "from sklearn.feature_selection import mutual_info_classif\n",
        "\n",
        "info_gain = mutual_info_classif(final_clean, final_clean['Label'])"
      ],
      "metadata": {
        "id": "KnB7JX3lNCiT"
      },
      "execution_count": 26,
      "outputs": []
    },
    {
      "cell_type": "code",
      "source": [
        "scores = pd.DataFrame({'feature':final_clean.columns, 'score':info_gain})\n",
        "\n",
        "scores = scores.sort_values(by = 'score', ascending=False)"
      ],
      "metadata": {
        "id": "LWK2AI4xNCkz"
      },
      "execution_count": 27,
      "outputs": []
    },
    {
      "cell_type": "code",
      "source": [
        "scores"
      ],
      "metadata": {
        "colab": {
          "base_uri": "https://localhost:8080/",
          "height": 424
        },
        "id": "nDsay5nyP9KY",
        "outputId": "8dc47193-3a2f-410f-9086-ad6b81b114c0"
      },
      "execution_count": 28,
      "outputs": [
        {
          "output_type": "execute_result",
          "data": {
            "text/plain": [
              "                feature     score\n",
              "76                Label  0.512313\n",
              "34    Bwd Header Length  0.428282\n",
              "67     Fwd Seg Size Min  0.395214\n",
              "33    Fwd Header Length  0.372546\n",
              "64   FWD Init Win Bytes  0.371836\n",
              "..                  ...       ...\n",
              "32        Bwd URG Flags  0.000000\n",
              "55  Fwd Packet/Bulk Avg  0.000000\n",
              "54   Fwd Bytes/Bulk Avg  0.000000\n",
              "47       URG Flag Count  0.000000\n",
              "30        Bwd PSH Flags  0.000000\n",
              "\n",
              "[77 rows x 2 columns]"
            ],
            "text/html": [
              "\n",
              "  <div id=\"df-71c70963-bec1-4637-b8fc-4d51e9e8963c\" class=\"colab-df-container\">\n",
              "    <div>\n",
              "<style scoped>\n",
              "    .dataframe tbody tr th:only-of-type {\n",
              "        vertical-align: middle;\n",
              "    }\n",
              "\n",
              "    .dataframe tbody tr th {\n",
              "        vertical-align: top;\n",
              "    }\n",
              "\n",
              "    .dataframe thead th {\n",
              "        text-align: right;\n",
              "    }\n",
              "</style>\n",
              "<table border=\"1\" class=\"dataframe\">\n",
              "  <thead>\n",
              "    <tr style=\"text-align: right;\">\n",
              "      <th></th>\n",
              "      <th>feature</th>\n",
              "      <th>score</th>\n",
              "    </tr>\n",
              "  </thead>\n",
              "  <tbody>\n",
              "    <tr>\n",
              "      <th>76</th>\n",
              "      <td>Label</td>\n",
              "      <td>0.512313</td>\n",
              "    </tr>\n",
              "    <tr>\n",
              "      <th>34</th>\n",
              "      <td>Bwd Header Length</td>\n",
              "      <td>0.428282</td>\n",
              "    </tr>\n",
              "    <tr>\n",
              "      <th>67</th>\n",
              "      <td>Fwd Seg Size Min</td>\n",
              "      <td>0.395214</td>\n",
              "    </tr>\n",
              "    <tr>\n",
              "      <th>33</th>\n",
              "      <td>Fwd Header Length</td>\n",
              "      <td>0.372546</td>\n",
              "    </tr>\n",
              "    <tr>\n",
              "      <th>64</th>\n",
              "      <td>FWD Init Win Bytes</td>\n",
              "      <td>0.371836</td>\n",
              "    </tr>\n",
              "    <tr>\n",
              "      <th>...</th>\n",
              "      <td>...</td>\n",
              "      <td>...</td>\n",
              "    </tr>\n",
              "    <tr>\n",
              "      <th>32</th>\n",
              "      <td>Bwd URG Flags</td>\n",
              "      <td>0.000000</td>\n",
              "    </tr>\n",
              "    <tr>\n",
              "      <th>55</th>\n",
              "      <td>Fwd Packet/Bulk Avg</td>\n",
              "      <td>0.000000</td>\n",
              "    </tr>\n",
              "    <tr>\n",
              "      <th>54</th>\n",
              "      <td>Fwd Bytes/Bulk Avg</td>\n",
              "      <td>0.000000</td>\n",
              "    </tr>\n",
              "    <tr>\n",
              "      <th>47</th>\n",
              "      <td>URG Flag Count</td>\n",
              "      <td>0.000000</td>\n",
              "    </tr>\n",
              "    <tr>\n",
              "      <th>30</th>\n",
              "      <td>Bwd PSH Flags</td>\n",
              "      <td>0.000000</td>\n",
              "    </tr>\n",
              "  </tbody>\n",
              "</table>\n",
              "<p>77 rows × 2 columns</p>\n",
              "</div>\n",
              "    <div class=\"colab-df-buttons\">\n",
              "\n",
              "  <div class=\"colab-df-container\">\n",
              "    <button class=\"colab-df-convert\" onclick=\"convertToInteractive('df-71c70963-bec1-4637-b8fc-4d51e9e8963c')\"\n",
              "            title=\"Convert this dataframe to an interactive table.\"\n",
              "            style=\"display:none;\">\n",
              "\n",
              "  <svg xmlns=\"http://www.w3.org/2000/svg\" height=\"24px\" viewBox=\"0 -960 960 960\">\n",
              "    <path d=\"M120-120v-720h720v720H120Zm60-500h600v-160H180v160Zm220 220h160v-160H400v160Zm0 220h160v-160H400v160ZM180-400h160v-160H180v160Zm440 0h160v-160H620v160ZM180-180h160v-160H180v160Zm440 0h160v-160H620v160Z\"/>\n",
              "  </svg>\n",
              "    </button>\n",
              "\n",
              "  <style>\n",
              "    .colab-df-container {\n",
              "      display:flex;\n",
              "      gap: 12px;\n",
              "    }\n",
              "\n",
              "    .colab-df-convert {\n",
              "      background-color: #E8F0FE;\n",
              "      border: none;\n",
              "      border-radius: 50%;\n",
              "      cursor: pointer;\n",
              "      display: none;\n",
              "      fill: #1967D2;\n",
              "      height: 32px;\n",
              "      padding: 0 0 0 0;\n",
              "      width: 32px;\n",
              "    }\n",
              "\n",
              "    .colab-df-convert:hover {\n",
              "      background-color: #E2EBFA;\n",
              "      box-shadow: 0px 1px 2px rgba(60, 64, 67, 0.3), 0px 1px 3px 1px rgba(60, 64, 67, 0.15);\n",
              "      fill: #174EA6;\n",
              "    }\n",
              "\n",
              "    .colab-df-buttons div {\n",
              "      margin-bottom: 4px;\n",
              "    }\n",
              "\n",
              "    [theme=dark] .colab-df-convert {\n",
              "      background-color: #3B4455;\n",
              "      fill: #D2E3FC;\n",
              "    }\n",
              "\n",
              "    [theme=dark] .colab-df-convert:hover {\n",
              "      background-color: #434B5C;\n",
              "      box-shadow: 0px 1px 3px 1px rgba(0, 0, 0, 0.15);\n",
              "      filter: drop-shadow(0px 1px 2px rgba(0, 0, 0, 0.3));\n",
              "      fill: #FFFFFF;\n",
              "    }\n",
              "  </style>\n",
              "\n",
              "    <script>\n",
              "      const buttonEl =\n",
              "        document.querySelector('#df-71c70963-bec1-4637-b8fc-4d51e9e8963c button.colab-df-convert');\n",
              "      buttonEl.style.display =\n",
              "        google.colab.kernel.accessAllowed ? 'block' : 'none';\n",
              "\n",
              "      async function convertToInteractive(key) {\n",
              "        const element = document.querySelector('#df-71c70963-bec1-4637-b8fc-4d51e9e8963c');\n",
              "        const dataTable =\n",
              "          await google.colab.kernel.invokeFunction('convertToInteractive',\n",
              "                                                    [key], {});\n",
              "        if (!dataTable) return;\n",
              "\n",
              "        const docLinkHtml = 'Like what you see? Visit the ' +\n",
              "          '<a target=\"_blank\" href=https://colab.research.google.com/notebooks/data_table.ipynb>data table notebook</a>'\n",
              "          + ' to learn more about interactive tables.';\n",
              "        element.innerHTML = '';\n",
              "        dataTable['output_type'] = 'display_data';\n",
              "        await google.colab.output.renderOutput(dataTable, element);\n",
              "        const docLink = document.createElement('div');\n",
              "        docLink.innerHTML = docLinkHtml;\n",
              "        element.appendChild(docLink);\n",
              "      }\n",
              "    </script>\n",
              "  </div>\n",
              "\n",
              "\n",
              "<div id=\"df-4e28fc37-9963-42ac-87b7-62a5a6097008\">\n",
              "  <button class=\"colab-df-quickchart\" onclick=\"quickchart('df-4e28fc37-9963-42ac-87b7-62a5a6097008')\"\n",
              "            title=\"Suggest charts\"\n",
              "            style=\"display:none;\">\n",
              "\n",
              "<svg xmlns=\"http://www.w3.org/2000/svg\" height=\"24px\"viewBox=\"0 0 24 24\"\n",
              "     width=\"24px\">\n",
              "    <g>\n",
              "        <path d=\"M19 3H5c-1.1 0-2 .9-2 2v14c0 1.1.9 2 2 2h14c1.1 0 2-.9 2-2V5c0-1.1-.9-2-2-2zM9 17H7v-7h2v7zm4 0h-2V7h2v10zm4 0h-2v-4h2v4z\"/>\n",
              "    </g>\n",
              "</svg>\n",
              "  </button>\n",
              "\n",
              "<style>\n",
              "  .colab-df-quickchart {\n",
              "      --bg-color: #E8F0FE;\n",
              "      --fill-color: #1967D2;\n",
              "      --hover-bg-color: #E2EBFA;\n",
              "      --hover-fill-color: #174EA6;\n",
              "      --disabled-fill-color: #AAA;\n",
              "      --disabled-bg-color: #DDD;\n",
              "  }\n",
              "\n",
              "  [theme=dark] .colab-df-quickchart {\n",
              "      --bg-color: #3B4455;\n",
              "      --fill-color: #D2E3FC;\n",
              "      --hover-bg-color: #434B5C;\n",
              "      --hover-fill-color: #FFFFFF;\n",
              "      --disabled-bg-color: #3B4455;\n",
              "      --disabled-fill-color: #666;\n",
              "  }\n",
              "\n",
              "  .colab-df-quickchart {\n",
              "    background-color: var(--bg-color);\n",
              "    border: none;\n",
              "    border-radius: 50%;\n",
              "    cursor: pointer;\n",
              "    display: none;\n",
              "    fill: var(--fill-color);\n",
              "    height: 32px;\n",
              "    padding: 0;\n",
              "    width: 32px;\n",
              "  }\n",
              "\n",
              "  .colab-df-quickchart:hover {\n",
              "    background-color: var(--hover-bg-color);\n",
              "    box-shadow: 0 1px 2px rgba(60, 64, 67, 0.3), 0 1px 3px 1px rgba(60, 64, 67, 0.15);\n",
              "    fill: var(--button-hover-fill-color);\n",
              "  }\n",
              "\n",
              "  .colab-df-quickchart-complete:disabled,\n",
              "  .colab-df-quickchart-complete:disabled:hover {\n",
              "    background-color: var(--disabled-bg-color);\n",
              "    fill: var(--disabled-fill-color);\n",
              "    box-shadow: none;\n",
              "  }\n",
              "\n",
              "  .colab-df-spinner {\n",
              "    border: 2px solid var(--fill-color);\n",
              "    border-color: transparent;\n",
              "    border-bottom-color: var(--fill-color);\n",
              "    animation:\n",
              "      spin 1s steps(1) infinite;\n",
              "  }\n",
              "\n",
              "  @keyframes spin {\n",
              "    0% {\n",
              "      border-color: transparent;\n",
              "      border-bottom-color: var(--fill-color);\n",
              "      border-left-color: var(--fill-color);\n",
              "    }\n",
              "    20% {\n",
              "      border-color: transparent;\n",
              "      border-left-color: var(--fill-color);\n",
              "      border-top-color: var(--fill-color);\n",
              "    }\n",
              "    30% {\n",
              "      border-color: transparent;\n",
              "      border-left-color: var(--fill-color);\n",
              "      border-top-color: var(--fill-color);\n",
              "      border-right-color: var(--fill-color);\n",
              "    }\n",
              "    40% {\n",
              "      border-color: transparent;\n",
              "      border-right-color: var(--fill-color);\n",
              "      border-top-color: var(--fill-color);\n",
              "    }\n",
              "    60% {\n",
              "      border-color: transparent;\n",
              "      border-right-color: var(--fill-color);\n",
              "    }\n",
              "    80% {\n",
              "      border-color: transparent;\n",
              "      border-right-color: var(--fill-color);\n",
              "      border-bottom-color: var(--fill-color);\n",
              "    }\n",
              "    90% {\n",
              "      border-color: transparent;\n",
              "      border-bottom-color: var(--fill-color);\n",
              "    }\n",
              "  }\n",
              "</style>\n",
              "\n",
              "  <script>\n",
              "    async function quickchart(key) {\n",
              "      const quickchartButtonEl =\n",
              "        document.querySelector('#' + key + ' button');\n",
              "      quickchartButtonEl.disabled = true;  // To prevent multiple clicks.\n",
              "      quickchartButtonEl.classList.add('colab-df-spinner');\n",
              "      try {\n",
              "        const charts = await google.colab.kernel.invokeFunction(\n",
              "            'suggestCharts', [key], {});\n",
              "      } catch (error) {\n",
              "        console.error('Error during call to suggestCharts:', error);\n",
              "      }\n",
              "      quickchartButtonEl.classList.remove('colab-df-spinner');\n",
              "      quickchartButtonEl.classList.add('colab-df-quickchart-complete');\n",
              "    }\n",
              "    (() => {\n",
              "      let quickchartButtonEl =\n",
              "        document.querySelector('#df-4e28fc37-9963-42ac-87b7-62a5a6097008 button');\n",
              "      quickchartButtonEl.style.display =\n",
              "        google.colab.kernel.accessAllowed ? 'block' : 'none';\n",
              "    })();\n",
              "  </script>\n",
              "</div>\n",
              "\n",
              "  <div id=\"id_c84e1653-201c-4c34-bd59-e8b204cb7a6e\">\n",
              "    <style>\n",
              "      .colab-df-generate {\n",
              "        background-color: #E8F0FE;\n",
              "        border: none;\n",
              "        border-radius: 50%;\n",
              "        cursor: pointer;\n",
              "        display: none;\n",
              "        fill: #1967D2;\n",
              "        height: 32px;\n",
              "        padding: 0 0 0 0;\n",
              "        width: 32px;\n",
              "      }\n",
              "\n",
              "      .colab-df-generate:hover {\n",
              "        background-color: #E2EBFA;\n",
              "        box-shadow: 0px 1px 2px rgba(60, 64, 67, 0.3), 0px 1px 3px 1px rgba(60, 64, 67, 0.15);\n",
              "        fill: #174EA6;\n",
              "      }\n",
              "\n",
              "      [theme=dark] .colab-df-generate {\n",
              "        background-color: #3B4455;\n",
              "        fill: #D2E3FC;\n",
              "      }\n",
              "\n",
              "      [theme=dark] .colab-df-generate:hover {\n",
              "        background-color: #434B5C;\n",
              "        box-shadow: 0px 1px 3px 1px rgba(0, 0, 0, 0.15);\n",
              "        filter: drop-shadow(0px 1px 2px rgba(0, 0, 0, 0.3));\n",
              "        fill: #FFFFFF;\n",
              "      }\n",
              "    </style>\n",
              "    <button class=\"colab-df-generate\" onclick=\"generateWithVariable('scores')\"\n",
              "            title=\"Generate code using this dataframe.\"\n",
              "            style=\"display:none;\">\n",
              "\n",
              "  <svg xmlns=\"http://www.w3.org/2000/svg\" height=\"24px\"viewBox=\"0 0 24 24\"\n",
              "       width=\"24px\">\n",
              "    <path d=\"M7,19H8.4L18.45,9,17,7.55,7,17.6ZM5,21V16.75L18.45,3.32a2,2,0,0,1,2.83,0l1.4,1.43a1.91,1.91,0,0,1,.58,1.4,1.91,1.91,0,0,1-.58,1.4L9.25,21ZM18.45,9,17,7.55Zm-12,3A5.31,5.31,0,0,0,4.9,8.1,5.31,5.31,0,0,0,1,6.5,5.31,5.31,0,0,0,4.9,4.9,5.31,5.31,0,0,0,6.5,1,5.31,5.31,0,0,0,8.1,4.9,5.31,5.31,0,0,0,12,6.5,5.46,5.46,0,0,0,6.5,12Z\"/>\n",
              "  </svg>\n",
              "    </button>\n",
              "    <script>\n",
              "      (() => {\n",
              "      const buttonEl =\n",
              "        document.querySelector('#id_c84e1653-201c-4c34-bd59-e8b204cb7a6e button.colab-df-generate');\n",
              "      buttonEl.style.display =\n",
              "        google.colab.kernel.accessAllowed ? 'block' : 'none';\n",
              "\n",
              "      buttonEl.onclick = () => {\n",
              "        google.colab.notebook.generateWithVariable('scores');\n",
              "      }\n",
              "      })();\n",
              "    </script>\n",
              "  </div>\n",
              "\n",
              "    </div>\n",
              "  </div>\n"
            ],
            "application/vnd.google.colaboratory.intrinsic+json": {
              "type": "dataframe",
              "variable_name": "scores",
              "summary": "{\n  \"name\": \"scores\",\n  \"rows\": 77,\n  \"fields\": [\n    {\n      \"column\": \"feature\",\n      \"properties\": {\n        \"dtype\": \"string\",\n        \"num_unique_values\": 77,\n        \"samples\": [\n          \"FWD Init Win Bytes\",\n          \"Total Bwd packets\",\n          \"Fwd Packets/s\"\n        ],\n        \"semantic_type\": \"\",\n        \"description\": \"\"\n      }\n    },\n    {\n      \"column\": \"score\",\n      \"properties\": {\n        \"dtype\": \"number\",\n        \"std\": 0.13544515117657466,\n        \"min\": 0.0,\n        \"max\": 0.5123133515810323,\n        \"num_unique_values\": 72,\n        \"samples\": [\n          0.37183648404376424,\n          0.004404711055421506,\n          0.28756368570164503\n        ],\n        \"semantic_type\": \"\",\n        \"description\": \"\"\n      }\n    }\n  ]\n}"
            }
          },
          "metadata": {},
          "execution_count": 28
        }
      ]
    },
    {
      "cell_type": "markdown",
      "source": [
        "## Selecting only the features above the threshold value `threshold1`"
      ],
      "metadata": {
        "id": "FhV9RBdlzQO-"
      }
    },
    {
      "cell_type": "code",
      "source": [
        "final_info_gain = []\n",
        "for i in range(len(list(scores['feature']))):\n",
        "    if i!=0:\n",
        "        if list(scores['score'])[i] > threshold1:\n",
        "            final_info_gain.append(list(scores['feature'])[i])\n",
        "print(final_info_gain)\n",
        "print(len(final_info_gain))"
      ],
      "metadata": {
        "colab": {
          "base_uri": "https://localhost:8080/"
        },
        "id": "aJ-tGTSCNCnY",
        "outputId": "07d0e446-779f-4025-992e-bd338b3ccf2a"
      },
      "execution_count": 29,
      "outputs": [
        {
          "output_type": "stream",
          "name": "stdout",
          "text": [
            "['Bwd Header Length', 'Fwd Seg Size Min', 'Fwd Header Length', 'FWD Init Win Bytes', 'Bwd Init Win Bytes', 'Bwd Packets/s', 'Flow IAT Mean', 'Flow Packets/s', 'Packet Length Max', 'Fwd Packets/s', 'Flow IAT Std', 'Total Fwd Packet', 'ACK Flag Count', 'Flow IAT Max', 'Fwd Segment Size Avg', 'Fwd Packet Length Mean', 'Average Packet Size', 'Packet Length Mean', 'Fwd Packet Length Max', 'Total Length of Fwd Packet', 'Fwd IAT Mean', 'Packet Length Std', 'Packet Length Variance', 'Fwd Packet Length Std', 'Fwd IAT Max', 'Flow Duration', 'Down/Up Ratio', 'Bwd IAT Mean', 'Bwd IAT Max', 'Bwd Packet Length Max', 'Fwd IAT Std', 'Flow Bytes/s']\n",
            "32\n"
          ]
        }
      ]
    },
    {
      "cell_type": "code",
      "source": [
        "# Number of features selected.\n",
        "print(len(final_info_gain))"
      ],
      "metadata": {
        "id": "3nWvRCnHVG86",
        "outputId": "555cc177-2cf9-4e80-9b44-d76dff2e8435",
        "colab": {
          "base_uri": "https://localhost:8080/"
        }
      },
      "execution_count": 30,
      "outputs": [
        {
          "output_type": "stream",
          "name": "stdout",
          "text": [
            "32\n"
          ]
        }
      ]
    },
    {
      "cell_type": "code",
      "source": [
        "sub = final_info_gain"
      ],
      "metadata": {
        "id": "0lX6wNBUNCqD"
      },
      "execution_count": 31,
      "outputs": []
    },
    {
      "cell_type": "code",
      "source": [
        "X_Selected = final_clean[sub]"
      ],
      "metadata": {
        "id": "pocFVUrjNiG3"
      },
      "execution_count": 32,
      "outputs": []
    },
    {
      "cell_type": "markdown",
      "source": [
        "# Model Training"
      ],
      "metadata": {
        "id": "7tPdfVZHzb6y"
      }
    },
    {
      "cell_type": "markdown",
      "source": [
        "## XGBoost Model"
      ],
      "metadata": {
        "id": "PoSjzQekzemM"
      }
    },
    {
      "cell_type": "code",
      "source": [
        "from sklearn.model_selection import train_test_split, cross_val_score\n",
        "from sklearn.ensemble import RandomForestClassifier\n",
        "from sklearn.metrics import accuracy_score"
      ],
      "metadata": {
        "id": "K1Bj-kyxNiJb"
      },
      "execution_count": 33,
      "outputs": []
    },
    {
      "cell_type": "code",
      "source": [
        "from sklearn.metrics import mean_absolute_error"
      ],
      "metadata": {
        "id": "Na7nGR-yNiMf"
      },
      "execution_count": 34,
      "outputs": []
    },
    {
      "cell_type": "code",
      "source": [
        "X_train, X_test, y_train, y_test = train_test_split(X_Selected, final_clean['Label'] , test_size = 0.3, random_state=42)"
      ],
      "metadata": {
        "id": "oys_BuFVNiPA"
      },
      "execution_count": 35,
      "outputs": []
    },
    {
      "cell_type": "code",
      "source": [
        "import xgboost\n",
        "import time"
      ],
      "metadata": {
        "id": "flfjn1veNiRs"
      },
      "execution_count": 36,
      "outputs": []
    },
    {
      "cell_type": "code",
      "source": [
        "from sklearn.metrics import mean_absolute_error"
      ],
      "metadata": {
        "id": "n37IkMiG3Tb1"
      },
      "execution_count": 37,
      "outputs": []
    },
    {
      "cell_type": "code",
      "source": [
        "xg = xgboost.XGBClassifier(objective='binary:logistic')\n",
        "\n",
        "s_t = time.time()\n",
        "xg.fit(X_train, y_train)\n",
        "e_t = time.time()"
      ],
      "metadata": {
        "id": "JQL2DBgyNiUW"
      },
      "execution_count": 38,
      "outputs": []
    },
    {
      "cell_type": "code",
      "source": [
        "total = e_t - s_t\n",
        "total"
      ],
      "metadata": {
        "colab": {
          "base_uri": "https://localhost:8080/"
        },
        "id": "PMN05ZoTNii3",
        "outputId": "3b858874-0d55-4ea5-c57f-d10d80be9ffd"
      },
      "execution_count": 39,
      "outputs": [
        {
          "output_type": "execute_result",
          "data": {
            "text/plain": [
              "5.713066101074219"
            ]
          },
          "metadata": {},
          "execution_count": 39
        }
      ]
    },
    {
      "cell_type": "code",
      "source": [
        "y_pred_xg = xg.predict(X_test)"
      ],
      "metadata": {
        "id": "mt6SluILNwri"
      },
      "execution_count": 40,
      "outputs": []
    },
    {
      "cell_type": "code",
      "source": [
        "acc_xg = accuracy_score(y_test, y_pred_xg)"
      ],
      "metadata": {
        "id": "dyZ_PoNgNwuQ"
      },
      "execution_count": 41,
      "outputs": []
    },
    {
      "cell_type": "code",
      "source": [
        "acc_xg"
      ],
      "metadata": {
        "colab": {
          "base_uri": "https://localhost:8080/"
        },
        "id": "kGpFkBWTNwwl",
        "outputId": "55327c68-20e9-4c83-ca43-0c7a0daa98b4"
      },
      "execution_count": 42,
      "outputs": [
        {
          "output_type": "execute_result",
          "data": {
            "text/plain": [
              "0.982786976744186"
            ]
          },
          "metadata": {},
          "execution_count": 42
        }
      ]
    },
    {
      "cell_type": "code",
      "source": [
        "mae_error_xg = mean_absolute_error(y_test, y_pred_xg)\n",
        "mae_error_xg"
      ],
      "metadata": {
        "id": "MtrbYr8YNwzK",
        "colab": {
          "base_uri": "https://localhost:8080/"
        },
        "outputId": "edd5b13e-2566-48cc-f2cb-7b2ff77f219c"
      },
      "execution_count": 43,
      "outputs": [
        {
          "output_type": "execute_result",
          "data": {
            "text/plain": [
              "0.017213023255813954"
            ]
          },
          "metadata": {},
          "execution_count": 43
        }
      ]
    },
    {
      "cell_type": "code",
      "source": [
        "xg.get_booster().get_score(importance_type = 'weight')"
      ],
      "metadata": {
        "colab": {
          "base_uri": "https://localhost:8080/"
        },
        "id": "tOqtMaMFHSSW",
        "outputId": "49cb6de2-e08d-440b-f46c-bb5d0f059499"
      },
      "execution_count": 44,
      "outputs": [
        {
          "output_type": "execute_result",
          "data": {
            "text/plain": [
              "{'Bwd Header Length': 64.0,\n",
              " 'Fwd Seg Size Min': 57.0,\n",
              " 'Fwd Header Length': 42.0,\n",
              " 'FWD Init Win Bytes': 29.0,\n",
              " 'Bwd Init Win Bytes': 14.0,\n",
              " 'Bwd Packets/s': 164.0,\n",
              " 'Flow IAT Mean': 116.0,\n",
              " 'Flow Packets/s': 90.0,\n",
              " 'Packet Length Max': 117.0,\n",
              " 'Fwd Packets/s': 95.0,\n",
              " 'Flow IAT Std': 129.0,\n",
              " 'Total Fwd Packet': 47.0,\n",
              " 'ACK Flag Count': 58.0,\n",
              " 'Flow IAT Max': 155.0,\n",
              " 'Fwd Segment Size Avg': 115.0,\n",
              " 'Average Packet Size': 83.0,\n",
              " 'Packet Length Mean': 78.0,\n",
              " 'Fwd Packet Length Max': 69.0,\n",
              " 'Total Length of Fwd Packet': 105.0,\n",
              " 'Fwd IAT Mean': 167.0,\n",
              " 'Packet Length Std': 86.0,\n",
              " 'Fwd Packet Length Std': 124.0,\n",
              " 'Fwd IAT Max': 208.0,\n",
              " 'Flow Duration': 151.0,\n",
              " 'Down/Up Ratio': 15.0,\n",
              " 'Bwd IAT Mean': 213.0,\n",
              " 'Bwd IAT Max': 102.0,\n",
              " 'Bwd Packet Length Max': 82.0,\n",
              " 'Fwd IAT Std': 158.0,\n",
              " 'Flow Bytes/s': 84.0}"
            ]
          },
          "metadata": {},
          "execution_count": 44
        }
      ]
    },
    {
      "cell_type": "code",
      "source": [
        "from sklearn.metrics import confusion_matrix\n",
        "confusion_matrix_xg = confusion_matrix(y_test, y_pred_xg)"
      ],
      "metadata": {
        "id": "jS3vyTH0HSUk"
      },
      "execution_count": 45,
      "outputs": []
    },
    {
      "cell_type": "code",
      "source": [
        "import numpy as np"
      ],
      "metadata": {
        "id": "MixsnwOb01NA"
      },
      "execution_count": 46,
      "outputs": []
    },
    {
      "cell_type": "code",
      "source": [
        "total_value = np.sum(confusion_matrix_xg)\n",
        "confusion_matrix_xg = (confusion_matrix_xg/total_value)*100\n"
      ],
      "metadata": {
        "id": "4R8cjAPk0tZ4"
      },
      "execution_count": 47,
      "outputs": []
    },
    {
      "cell_type": "code",
      "source": [],
      "metadata": {
        "id": "86d1o1q23wOt"
      },
      "execution_count": null,
      "outputs": []
    },
    {
      "cell_type": "code",
      "source": [
        "import matplotlib.pyplot as plt\n",
        "import seaborn\n",
        "plt.figure(figsize=(2,2))\n",
        "seaborn.heatmap(confusion_matrix_xg, annot=True, cmap=\"Reds\", xticklabels=['1', '0'], yticklabels=['1', '0'])\n",
        "plt.show()"
      ],
      "metadata": {
        "id": "1qzEaQUDHSXK",
        "colab": {
          "base_uri": "https://localhost:8080/",
          "height": 214
        },
        "outputId": "e8fc9463-672c-4909-da95-837cebc73c3c"
      },
      "execution_count": 48,
      "outputs": [
        {
          "output_type": "display_data",
          "data": {
            "text/plain": [
              "<Figure size 200x200 with 2 Axes>"
            ],
            "image/png": "[encoded data removed]"
          },
          "metadata": {}
        }
      ]
    },
    {
      "cell_type": "code",
      "source": [
        "from sklearn.metrics import classification_report\n",
        "\n",
        "report = classification_report(y_test, y_pred_xg, output_dict=True)"
      ],
      "metadata": {
        "id": "7MBL8L9PNw1t"
      },
      "execution_count": 49,
      "outputs": []
    },
    {
      "cell_type": "code",
      "source": [
        "report"
      ],
      "metadata": {
        "id": "u6XNB-GGNw4O",
        "colab": {
          "base_uri": "https://localhost:8080/"
        },
        "outputId": "0cf369d8-ed4d-4008-c008-ed9759c6d66f"
      },
      "execution_count": 50,
      "outputs": [
        {
          "output_type": "execute_result",
          "data": {
            "text/plain": [
              "{'0': {'precision': 0.9970165881475467,\n",
              "  'recall': 0.9814405204460966,\n",
              "  'f1-score': 0.9891672403861015,\n",
              "  'support': 107600.0},\n",
              " '1': {'precision': 0.9298214787742479,\n",
              "  'recall': 0.9881979458450046,\n",
              "  'f1-score': 0.9581213448968876,\n",
              "  'support': 26775.0},\n",
              " 'accuracy': 0.982786976744186,\n",
              " 'macro avg': {'precision': 0.9634190334608973,\n",
              "  'recall': 0.9848192331455506,\n",
              "  'f1-score': 0.9736442926414945,\n",
              "  'support': 134375.0},\n",
              " 'weighted avg': {'precision': 0.9836275719356764,\n",
              "  'recall': 0.982786976744186,\n",
              "  'f1-score': 0.9829811652104834,\n",
              "  'support': 134375.0}}"
            ]
          },
          "metadata": {},
          "execution_count": 50
        }
      ]
    },
    {
      "cell_type": "code",
      "source": [
        "import joblib, os\n",
        "joblib.dump(xg, '/content/drive/MyDrive/xg_unsw.pkl')\n",
        "size = os.path.getsize('/content/drive/MyDrive/xg_unsw.pkl')\n",
        "print(\"The size of the XGBoost model is: \", size/(1024**2), \"MB\")"
      ],
      "metadata": {
        "id": "km1OosCBNw66",
        "colab": {
          "base_uri": "https://localhost:8080/"
        },
        "outputId": "0cbe2a9f-def9-4b3f-ad4d-00b82cc64c1c"
      },
      "execution_count": 52,
      "outputs": [
        {
          "output_type": "stream",
          "name": "stdout",
          "text": [
            "The size of the XGBoost model is:  0.26674938201904297 MB\n"
          ]
        }
      ]
    },
    {
      "cell_type": "markdown",
      "source": [
        "##Random Forest"
      ],
      "metadata": {
        "id": "bk6hLLnI3am1"
      }
    },
    {
      "cell_type": "code",
      "source": [
        "rf = RandomForestClassifier(n_estimators = 100, random_state=42)\n",
        "s_t = time.time()\n",
        "rf.fit(X_train, y_train)\n",
        "e_t = time.time()\n",
        "\n",
        "total = e_t - s_t"
      ],
      "metadata": {
        "id": "A0WstzOYNw9V"
      },
      "execution_count": 53,
      "outputs": []
    },
    {
      "cell_type": "code",
      "source": [
        "total"
      ],
      "metadata": {
        "id": "n5GApuqENw_6",
        "colab": {
          "base_uri": "https://localhost:8080/"
        },
        "outputId": "768b5fa7-d778-4866-dff9-d66e9f61ff0a"
      },
      "execution_count": 54,
      "outputs": [
        {
          "output_type": "execute_result",
          "data": {
            "text/plain": [
              "96.27109050750732"
            ]
          },
          "metadata": {},
          "execution_count": 54
        }
      ]
    },
    {
      "cell_type": "code",
      "source": [
        "y_pred = rf.predict(X_test)"
      ],
      "metadata": {
        "id": "3JHglO3hMjQt"
      },
      "execution_count": 55,
      "outputs": []
    },
    {
      "cell_type": "code",
      "source": [
        "accuracy = accuracy_score(y_test, y_pred)"
      ],
      "metadata": {
        "id": "VmDC1HX33eV7"
      },
      "execution_count": 56,
      "outputs": []
    },
    {
      "cell_type": "code",
      "source": [
        "accuracy"
      ],
      "metadata": {
        "colab": {
          "base_uri": "https://localhost:8080/"
        },
        "id": "_ovmYwDs3eYc",
        "outputId": "79f7263e-a7e9-4e0b-b6fd-88af05ca8179"
      },
      "execution_count": 57,
      "outputs": [
        {
          "output_type": "execute_result",
          "data": {
            "text/plain": [
              "0.9817079069767441"
            ]
          },
          "metadata": {},
          "execution_count": 57
        }
      ]
    },
    {
      "cell_type": "code",
      "source": [
        "mae_error_rf = mean_absolute_error(y_test, y_pred)\n",
        "mae_error_rf"
      ],
      "metadata": {
        "colab": {
          "base_uri": "https://localhost:8080/"
        },
        "id": "4Q1xkqQI3ea0",
        "outputId": "202b5c6d-4c56-43cf-8da7-fd1ba41fae9d"
      },
      "execution_count": 58,
      "outputs": [
        {
          "output_type": "execute_result",
          "data": {
            "text/plain": [
              "0.018292093023255813"
            ]
          },
          "metadata": {},
          "execution_count": 58
        }
      ]
    },
    {
      "cell_type": "code",
      "source": [
        "from sklearn.metrics import confusion_matrix"
      ],
      "metadata": {
        "id": "4kHw0t0q3edS"
      },
      "execution_count": 59,
      "outputs": []
    },
    {
      "cell_type": "code",
      "source": [
        "from sklearn.metrics import classification_report\n",
        "\n",
        "report = classification_report(y_test, y_pred, output_dict=True)"
      ],
      "metadata": {
        "id": "PKBGBeMC3efh"
      },
      "execution_count": 60,
      "outputs": []
    },
    {
      "cell_type": "code",
      "source": [
        "report"
      ],
      "metadata": {
        "colab": {
          "base_uri": "https://localhost:8080/"
        },
        "id": "lTU_pNdz3ehz",
        "outputId": "c73c6837-15f5-4bc8-894a-03b43ff15f7b"
      },
      "execution_count": 61,
      "outputs": [
        {
          "output_type": "execute_result",
          "data": {
            "text/plain": [
              "{'0': {'precision': 0.9952893293889318,\n",
              "  'recall': 0.9818029739776951,\n",
              "  'f1-score': 0.9885001543917433,\n",
              "  'support': 107600.0},\n",
              " '1': {'precision': 0.9306485318598803,\n",
              "  'recall': 0.9813258636788048,\n",
              "  'f1-score': 0.9553155904595695,\n",
              "  'support': 26775.0},\n",
              " 'accuracy': 0.9817079069767441,\n",
              " 'macro avg': {'precision': 0.962968930624406,\n",
              "  'recall': 0.98156441882825,\n",
              "  'f1-score': 0.9719078724256565,\n",
              "  'support': 134375.0},\n",
              " 'weighted avg': {'precision': 0.982409274662678,\n",
              "  'recall': 0.9817079069767441,\n",
              "  'f1-score': 0.9818879370947466,\n",
              "  'support': 134375.0}}"
            ]
          },
          "metadata": {},
          "execution_count": 61
        }
      ]
    },
    {
      "cell_type": "code",
      "source": [
        "confusion_matrix(y_test, y_pred)"
      ],
      "metadata": {
        "id": "z0q2tFOX3ekf",
        "colab": {
          "base_uri": "https://localhost:8080/"
        },
        "outputId": "fe7140f5-cccc-4d68-ecf5-a5e97760b558"
      },
      "execution_count": 62,
      "outputs": [
        {
          "output_type": "execute_result",
          "data": {
            "text/plain": [
              "array([[105642,   1958],\n",
              "       [   500,  26275]])"
            ]
          },
          "metadata": {},
          "execution_count": 62
        }
      ]
    },
    {
      "cell_type": "code",
      "source": [
        "import joblib, os\n",
        "joblib.dump(rf, '/content/drive/MyDrive/rf_unsw.pkl')\n",
        "size = os.path.getsize('/content/drive/MyDrive/rf_unsw.pkl')\n",
        "print(\"The size of the Random Forest model is: \", size/(1024**2), \"MB\")"
      ],
      "metadata": {
        "colab": {
          "base_uri": "https://localhost:8080/"
        },
        "id": "IMtcUwwOSMaA",
        "outputId": "5bae2a3b-7f51-4f0c-c823-a7411f7a6551"
      },
      "execution_count": 63,
      "outputs": [
        {
          "output_type": "stream",
          "name": "stdout",
          "text": [
            "The size of the Random Forest model is:  75.26986026763916 MB\n"
          ]
        }
      ]
    },
    {
      "cell_type": "markdown",
      "source": [
        "##Decision Trees"
      ],
      "metadata": {
        "id": "f2Z8ju1n3xn6"
      }
    },
    {
      "cell_type": "code",
      "source": [
        "from sklearn.tree import DecisionTreeClassifier\n",
        "from sklearn.metrics import mean_squared_error"
      ],
      "metadata": {
        "id": "0oTWyUgnKmjA"
      },
      "execution_count": 64,
      "outputs": []
    },
    {
      "cell_type": "code",
      "source": [
        "dt = DecisionTreeClassifier(random_state=42)\n",
        "s_t = time.time()\n",
        "dt.fit(X_train, y_train)\n",
        "e_t = time.time()"
      ],
      "metadata": {
        "id": "HF9uRith31ff"
      },
      "execution_count": 65,
      "outputs": []
    },
    {
      "cell_type": "code",
      "source": [
        "total = e_t - s_t\n",
        "total"
      ],
      "metadata": {
        "colab": {
          "base_uri": "https://localhost:8080/"
        },
        "id": "FKetoR1S31iQ",
        "outputId": "3b36887c-268e-4cf6-c5a7-d4d2378e0baf"
      },
      "execution_count": 66,
      "outputs": [
        {
          "output_type": "execute_result",
          "data": {
            "text/plain": [
              "8.707650184631348"
            ]
          },
          "metadata": {},
          "execution_count": 66
        }
      ]
    },
    {
      "cell_type": "code",
      "source": [
        "y_prediction_dt = dt.predict(X_test)"
      ],
      "metadata": {
        "id": "FxRVklVu31ky"
      },
      "execution_count": 67,
      "outputs": []
    },
    {
      "cell_type": "code",
      "source": [
        "acc_dt = accuracy_score(y_test, y_prediction_dt)"
      ],
      "metadata": {
        "id": "j3zDzfXg31nO"
      },
      "execution_count": 68,
      "outputs": []
    },
    {
      "cell_type": "code",
      "source": [
        "acc_dt"
      ],
      "metadata": {
        "colab": {
          "base_uri": "https://localhost:8080/"
        },
        "id": "Z2m7Nie431pu",
        "outputId": "ad3ab66f-aa41-4296-958b-af4acef3764c"
      },
      "execution_count": 69,
      "outputs": [
        {
          "output_type": "execute_result",
          "data": {
            "text/plain": [
              "0.9726660465116279"
            ]
          },
          "metadata": {},
          "execution_count": 69
        }
      ]
    },
    {
      "cell_type": "code",
      "source": [
        "from sklearn.metrics import classification_report\n",
        "\n",
        "report = classification_report(y_test, y_prediction_dt, output_dict=True)"
      ],
      "metadata": {
        "id": "edPbPhnn31sU"
      },
      "execution_count": 70,
      "outputs": []
    },
    {
      "cell_type": "code",
      "source": [
        "report"
      ],
      "metadata": {
        "colab": {
          "base_uri": "https://localhost:8080/"
        },
        "id": "oJ0f6CUR31u8",
        "outputId": "37f3f858-31c6-48ea-95d5-50c8a8d26925"
      },
      "execution_count": 71,
      "outputs": [
        {
          "output_type": "execute_result",
          "data": {
            "text/plain": [
              "{'0': {'precision': 0.982766149186618,\n",
              "  'recall': 0.9831040892193309,\n",
              "  'f1-score': 0.9829350901564322,\n",
              "  'support': 107600.0},\n",
              " '1': {'precision': 0.932006881591742,\n",
              "  'recall': 0.930718954248366,\n",
              "  'f1-score': 0.9313624726701923,\n",
              "  'support': 26775.0},\n",
              " 'accuracy': 0.9726660465116279,\n",
              " 'macro avg': {'precision': 0.9573865153891801,\n",
              "  'recall': 0.9569115217338484,\n",
              "  'f1-score': 0.9571487814133123,\n",
              "  'support': 134375.0},\n",
              " 'weighted avg': {'precision': 0.9726520700063179,\n",
              "  'recall': 0.9726660465116279,\n",
              "  'f1-score': 0.9726589462814995,\n",
              "  'support': 134375.0}}"
            ]
          },
          "metadata": {},
          "execution_count": 71
        }
      ]
    },
    {
      "cell_type": "code",
      "source": [
        "mae_error_dt = mean_absolute_error(y_test, y_prediction_dt)\n",
        "mae_error_dt"
      ],
      "metadata": {
        "colab": {
          "base_uri": "https://localhost:8080/"
        },
        "id": "gapAAfpG31xq",
        "outputId": "e6fda0ba-bcae-436b-ff4f-ee8a1f349b66"
      },
      "execution_count": 72,
      "outputs": [
        {
          "output_type": "execute_result",
          "data": {
            "text/plain": [
              "0.027333953488372094"
            ]
          },
          "metadata": {},
          "execution_count": 72
        }
      ]
    },
    {
      "cell_type": "code",
      "source": [
        "confusion_matrix(y_test, y_prediction_dt)"
      ],
      "metadata": {
        "colab": {
          "base_uri": "https://localhost:8080/"
        },
        "id": "I4xqLlBcv_ki",
        "outputId": "c8916d9f-3fb1-49b2-8f27-3ea7bec7d07d"
      },
      "execution_count": 73,
      "outputs": [
        {
          "output_type": "execute_result",
          "data": {
            "text/plain": [
              "array([[105782,   1818],\n",
              "       [  1855,  24920]])"
            ]
          },
          "metadata": {},
          "execution_count": 73
        }
      ]
    },
    {
      "cell_type": "code",
      "source": [
        "import joblib, os\n",
        "joblib.dump(dt, '/content/drive/MyDrive/dt_unsw.pkl')\n",
        "size = os.path.getsize('/content/drive/MyDrive/dt_unsw.pkl')\n",
        "print(\"The size of the Random Forest model is: \", size/(1024**2), \"MB\")"
      ],
      "metadata": {
        "colab": {
          "base_uri": "https://localhost:8080/"
        },
        "id": "JuqufgzXSlH5",
        "outputId": "0dccd3c9-d3b4-4cfe-f2d5-0e45dd1e7fc1"
      },
      "execution_count": 74,
      "outputs": [
        {
          "output_type": "stream",
          "name": "stdout",
          "text": [
            "The size of the Random Forest model is:  0.9286737442016602 MB\n"
          ]
        }
      ]
    },
    {
      "cell_type": "markdown",
      "source": [
        "## Linear SVC"
      ],
      "metadata": {
        "id": "t4OBTuZw4HOR"
      }
    },
    {
      "cell_type": "code",
      "source": [
        "from sklearn.svm import LinearSVC"
      ],
      "metadata": {
        "id": "nMAiwjr84Eoy"
      },
      "execution_count": 75,
      "outputs": []
    },
    {
      "cell_type": "code",
      "source": [
        "lsvm = LinearSVC(random_state = 42)\n",
        "s_t = time.time()\n",
        "lsvm.fit(X_train, y_train)\n",
        "e_t = time.time()\n",
        "\n",
        "total = e_t - s_t"
      ],
      "metadata": {
        "id": "cbTdA0gc4ErQ"
      },
      "execution_count": 76,
      "outputs": []
    },
    {
      "cell_type": "code",
      "source": [
        "total"
      ],
      "metadata": {
        "colab": {
          "base_uri": "https://localhost:8080/"
        },
        "id": "FETinS-D4Ety",
        "outputId": "46076e41-bcc2-4012-a4f1-03bfdd6d73ab"
      },
      "execution_count": 77,
      "outputs": [
        {
          "output_type": "execute_result",
          "data": {
            "text/plain": [
              "42.61231970787048"
            ]
          },
          "metadata": {},
          "execution_count": 77
        }
      ]
    },
    {
      "cell_type": "code",
      "source": [
        "y_prediction_lsvm = lsvm.predict(X_test)"
      ],
      "metadata": {
        "id": "7N8qEfM-4Ewf"
      },
      "execution_count": 78,
      "outputs": []
    },
    {
      "cell_type": "code",
      "source": [
        "acc_lsvm = accuracy_score(y_test, y_prediction_lsvm)"
      ],
      "metadata": {
        "id": "y7hVzGJI4EzE"
      },
      "execution_count": 79,
      "outputs": []
    },
    {
      "cell_type": "code",
      "source": [
        "acc_lsvm"
      ],
      "metadata": {
        "colab": {
          "base_uri": "https://localhost:8080/"
        },
        "id": "-EaUTsTb4aF3",
        "outputId": "0d2b32bf-cb31-4244-f3f8-6c8e728520ef"
      },
      "execution_count": 80,
      "outputs": [
        {
          "output_type": "execute_result",
          "data": {
            "text/plain": [
              "0.9756427906976745"
            ]
          },
          "metadata": {},
          "execution_count": 80
        }
      ]
    },
    {
      "cell_type": "code",
      "source": [
        "mae_error_l = mean_absolute_error(y_test, y_prediction_lsvm)\n",
        "mae_error_l"
      ],
      "metadata": {
        "colab": {
          "base_uri": "https://localhost:8080/"
        },
        "id": "LogcrEO74aIZ",
        "outputId": "80f3299d-0156-48bc-e8a4-32774f622663"
      },
      "execution_count": 81,
      "outputs": [
        {
          "output_type": "execute_result",
          "data": {
            "text/plain": [
              "0.024357209302325582"
            ]
          },
          "metadata": {},
          "execution_count": 81
        }
      ]
    },
    {
      "cell_type": "code",
      "source": [
        "from sklearn.metrics import classification_report\n",
        "\n",
        "report = classification_report(y_test, y_prediction_lsvm, output_dict=True)"
      ],
      "metadata": {
        "id": "Z0nRpecc4aK7"
      },
      "execution_count": 82,
      "outputs": []
    },
    {
      "cell_type": "code",
      "source": [
        "report"
      ],
      "metadata": {
        "colab": {
          "base_uri": "https://localhost:8080/"
        },
        "id": "RocPC19_4aNh",
        "outputId": "472bc99e-5f5e-40f5-85df-04a53242871e"
      },
      "execution_count": 83,
      "outputs": [
        {
          "output_type": "execute_result",
          "data": {
            "text/plain": [
              "{'0': {'precision': 0.9993394916957833,\n",
              "  'recall': 0.9702230483271376,\n",
              "  'f1-score': 0.9845660528611511,\n",
              "  'support': 107600.0},\n",
              " '1': {'precision': 0.8928786359077232,\n",
              "  'recall': 0.997422969187675,\n",
              "  'f1-score': 0.9422598571050542,\n",
              "  'support': 26775.0},\n",
              " 'accuracy': 0.9756427906976745,\n",
              " 'macro avg': {'precision': 0.9461090638017533,\n",
              "  'recall': 0.9838230087574062,\n",
              "  'f1-score': 0.9634129549831026,\n",
              "  'support': 134375.0},\n",
              " 'weighted avg': {'precision': 0.9781265472215483,\n",
              "  'recall': 0.9756427906976745,\n",
              "  'f1-score': 0.9761362973904943,\n",
              "  'support': 134375.0}}"
            ]
          },
          "metadata": {},
          "execution_count": 83
        }
      ]
    },
    {
      "cell_type": "code",
      "source": [
        "confusion_matrix(y_test, y_prediction_lsvm)"
      ],
      "metadata": {
        "id": "-n3E3Jpy4aP8",
        "colab": {
          "base_uri": "https://localhost:8080/"
        },
        "outputId": "0ee61663-0751-4d8d-c83f-e90121af895d"
      },
      "execution_count": 84,
      "outputs": [
        {
          "output_type": "execute_result",
          "data": {
            "text/plain": [
              "array([[104396,   3204],\n",
              "       [    69,  26706]])"
            ]
          },
          "metadata": {},
          "execution_count": 84
        }
      ]
    },
    {
      "cell_type": "code",
      "source": [
        "import joblib, os\n",
        "joblib.dump(lsvm, '/content/drive/MyDrive/lsvm_unsw.pkl')\n",
        "size = os.path.getsize('/content/drive/MyDrive/lsvm_unsw.pkl')\n",
        "print(\"The size of the Random Forest model is: \", size/(1024**2), \"MB\")"
      ],
      "metadata": {
        "colab": {
          "base_uri": "https://localhost:8080/"
        },
        "id": "kcbbXry0Ssfl",
        "outputId": "3169514a-475d-4a8d-a58a-6819c4d6489e"
      },
      "execution_count": 85,
      "outputs": [
        {
          "output_type": "stream",
          "name": "stdout",
          "text": [
            "The size of the Random Forest model is:  0.0019330978393554688 MB\n"
          ]
        }
      ]
    },
    {
      "cell_type": "markdown",
      "source": [
        "##K-Nearest Neighbors"
      ],
      "metadata": {
        "id": "BXAGAwZ64p9S"
      }
    },
    {
      "cell_type": "code",
      "source": [
        "from sklearn.neighbors import KNeighborsClassifier\n",
        "kn = KNeighborsClassifier(n_neighbors = 5)"
      ],
      "metadata": {
        "id": "QkKSyPTd4E1s"
      },
      "execution_count": null,
      "outputs": []
    },
    {
      "cell_type": "code",
      "source": [
        "s_t = time.time()\n",
        "kn.fit(X_train, y_train)\n",
        "e_t = time.time()\n",
        "total = e_t - s_t"
      ],
      "metadata": {
        "id": "rminwUUe4E4H"
      },
      "execution_count": null,
      "outputs": []
    },
    {
      "cell_type": "code",
      "source": [
        "total"
      ],
      "metadata": {
        "colab": {
          "base_uri": "https://localhost:8080/"
        },
        "id": "HbbS32eO7p-L",
        "outputId": "e37255c0-7777-4dba-f194-cfe93366ae2c"
      },
      "execution_count": null,
      "outputs": [
        {
          "output_type": "execute_result",
          "data": {
            "text/plain": [
              "0.0720682144165039"
            ]
          },
          "metadata": {},
          "execution_count": 81
        }
      ]
    },
    {
      "cell_type": "code",
      "source": [
        "s_t = time.time()\n",
        "y_predictions_kn = kn.predict(X_test)\n",
        "e_t = time.time()\n",
        "total = e_t - s_t"
      ],
      "metadata": {
        "id": "T466qruN7qAo"
      },
      "execution_count": null,
      "outputs": []
    },
    {
      "cell_type": "code",
      "source": [
        "total"
      ],
      "metadata": {
        "colab": {
          "base_uri": "https://localhost:8080/"
        },
        "id": "TPEP6dI07qDM",
        "outputId": "7a9285de-8c82-4fff-d844-0121c787156e"
      },
      "execution_count": null,
      "outputs": [
        {
          "output_type": "execute_result",
          "data": {
            "text/plain": [
              "401.65143942832947"
            ]
          },
          "metadata": {},
          "execution_count": 83
        }
      ]
    },
    {
      "cell_type": "code",
      "source": [
        "acc_kn = accuracy_score(y_test, y_predictions_kn)"
      ],
      "metadata": {
        "id": "FU_AIa3e7qFl"
      },
      "execution_count": null,
      "outputs": []
    },
    {
      "cell_type": "code",
      "source": [
        "acc_kn"
      ],
      "metadata": {
        "colab": {
          "base_uri": "https://localhost:8080/"
        },
        "id": "K4Hvkytr7qH9",
        "outputId": "fff56124-108d-4377-87af-6ad83121930d"
      },
      "execution_count": null,
      "outputs": [
        {
          "output_type": "execute_result",
          "data": {
            "text/plain": [
              "0.9800037209302326"
            ]
          },
          "metadata": {},
          "execution_count": 85
        }
      ]
    },
    {
      "cell_type": "code",
      "source": [
        "from sklearn.metrics import classification_report\n",
        "\n",
        "report = classification_report(y_test, y_predictions_kn, output_dict=True)"
      ],
      "metadata": {
        "id": "DxZbZi8_7qKY"
      },
      "execution_count": null,
      "outputs": []
    },
    {
      "cell_type": "code",
      "source": [
        "report"
      ],
      "metadata": {
        "colab": {
          "base_uri": "https://localhost:8080/"
        },
        "id": "aOCicidj7qM2",
        "outputId": "36f405f4-818d-4994-82c7-4968badc05bd"
      },
      "execution_count": null,
      "outputs": [
        {
          "output_type": "execute_result",
          "data": {
            "text/plain": [
              "{'0': {'precision': 0.9942059297362992,\n",
              "  'recall': 0.9807434944237918,\n",
              "  'f1-score': 0.9874288280785803,\n",
              "  'support': 107600.0},\n",
              " '1': {'precision': 0.9266081042788326,\n",
              "  'recall': 0.9770308123249299,\n",
              "  'f1-score': 0.951151671605432,\n",
              "  'support': 26775.0},\n",
              " 'accuracy': 0.9800037209302326,\n",
              " 'macro avg': {'precision': 0.9604070170075658,\n",
              "  'recall': 0.9788871533743608,\n",
              "  'f1-score': 0.9692902498420062,\n",
              "  'support': 134375.0},\n",
              " 'weighted avg': {'precision': 0.9807366700032858,\n",
              "  'recall': 0.9800037209302326,\n",
              "  'f1-score': 0.9802003937376053,\n",
              "  'support': 134375.0}}"
            ]
          },
          "metadata": {},
          "execution_count": 87
        }
      ]
    },
    {
      "cell_type": "code",
      "source": [
        "mae_error_l = mean_absolute_error(y_test, y_predictions_kn)\n",
        "mae_error_l"
      ],
      "metadata": {
        "colab": {
          "base_uri": "https://localhost:8080/"
        },
        "id": "KG4B8adQ7z73",
        "outputId": "ff5f29b8-0574-4c80-a1af-cd172310df91"
      },
      "execution_count": null,
      "outputs": [
        {
          "output_type": "execute_result",
          "data": {
            "text/plain": [
              "0.01999627906976744"
            ]
          },
          "metadata": {},
          "execution_count": 88
        }
      ]
    },
    {
      "cell_type": "code",
      "source": [
        "confusion_matrix(y_test, y_predictions_kn)"
      ],
      "metadata": {
        "id": "s1JTBLgu70Cj",
        "colab": {
          "base_uri": "https://localhost:8080/"
        },
        "outputId": "9998c4a3-3182-4d36-c524-f28600834a61"
      },
      "execution_count": null,
      "outputs": [
        {
          "output_type": "execute_result",
          "data": {
            "text/plain": [
              "array([[105528,   2072],\n",
              "       [   615,  26160]])"
            ]
          },
          "metadata": {},
          "execution_count": 89
        }
      ]
    }
  ]
}